{
  "cells": [
    {
      "attachments": {},
      "cell_type": "markdown",
      "metadata": {
        "id": "6tPMREiliKOV"
      },
      "source": [
        "# Tokenizador BERT\n",
        "Vamos a ver cómo funciona el tokenizado WordPiece que utiliza el modelo BERT. Usamos la librería `transformers`. Se puede instalar en Anaconda con  \n",
        "```\n",
        "conda install -c huggingface transformers\n",
        "```\n"
      ]
    },
    {
      "cell_type": "code",
      "execution_count": 2,
      "metadata": {
        "id": "MUczPxqNiKOW"
      },
      "outputs": [
        {
          "name": "stdout",
          "output_type": "stream",
          "text": [
            "Collecting transformers\n",
            "  Downloading transformers-4.29.2-py3-none-any.whl (7.1 MB)\n",
            "     ---------------------------------------- 7.1/7.1 MB 6.4 MB/s eta 0:00:00\n",
            "Collecting filelock (from transformers)\n",
            "  Downloading filelock-3.12.0-py3-none-any.whl (10 kB)\n",
            "Collecting huggingface-hub<1.0,>=0.14.1 (from transformers)\n",
            "  Downloading huggingface_hub-0.15.1-py3-none-any.whl (236 kB)\n",
            "     -------------------------------------- 236.8/236.8 kB 3.7 MB/s eta 0:00:00\n",
            "Requirement already satisfied: numpy>=1.17 in c:\\users\\franz\\appdata\\local\\packages\\pythonsoftwarefoundation.python.3.10_qbz5n2kfra8p0\\localcache\\local-packages\\python310\\site-packages (from transformers) (1.23.4)\n",
            "Requirement already satisfied: packaging>=20.0 in c:\\users\\franz\\appdata\\local\\packages\\pythonsoftwarefoundation.python.3.10_qbz5n2kfra8p0\\localcache\\local-packages\\python310\\site-packages (from transformers) (21.3)\n",
            "Requirement already satisfied: pyyaml>=5.1 in c:\\users\\franz\\appdata\\local\\packages\\pythonsoftwarefoundation.python.3.10_qbz5n2kfra8p0\\localcache\\local-packages\\python310\\site-packages (from transformers) (6.0)\n",
            "Requirement already satisfied: regex!=2019.12.17 in c:\\users\\franz\\appdata\\local\\packages\\pythonsoftwarefoundation.python.3.10_qbz5n2kfra8p0\\localcache\\local-packages\\python310\\site-packages (from transformers) (2023.5.5)\n",
            "Requirement already satisfied: requests in c:\\users\\franz\\appdata\\local\\packages\\pythonsoftwarefoundation.python.3.10_qbz5n2kfra8p0\\localcache\\local-packages\\python310\\site-packages (from transformers) (2.28.1)\n",
            "Collecting tokenizers!=0.11.3,<0.14,>=0.11.1 (from transformers)\n",
            "  Downloading tokenizers-0.13.3-cp310-cp310-win_amd64.whl (3.5 MB)\n",
            "     ---------------------------------------- 3.5/3.5 MB 6.5 MB/s eta 0:00:00\n",
            "Requirement already satisfied: tqdm>=4.27 in c:\\users\\franz\\appdata\\local\\packages\\pythonsoftwarefoundation.python.3.10_qbz5n2kfra8p0\\localcache\\local-packages\\python310\\site-packages (from transformers) (4.65.0)\n",
            "Collecting fsspec (from huggingface-hub<1.0,>=0.14.1->transformers)\n",
            "  Downloading fsspec-2023.5.0-py3-none-any.whl (160 kB)\n",
            "     -------------------------------------- 160.1/160.1 kB 4.8 MB/s eta 0:00:00\n",
            "Requirement already satisfied: typing-extensions>=3.7.4.3 in c:\\users\\franz\\appdata\\local\\packages\\pythonsoftwarefoundation.python.3.10_qbz5n2kfra8p0\\localcache\\local-packages\\python310\\site-packages (from huggingface-hub<1.0,>=0.14.1->transformers) (4.4.0)\n",
            "Requirement already satisfied: pyparsing!=3.0.5,>=2.0.2 in c:\\users\\franz\\appdata\\local\\packages\\pythonsoftwarefoundation.python.3.10_qbz5n2kfra8p0\\localcache\\local-packages\\python310\\site-packages (from packaging>=20.0->transformers) (3.0.9)\n",
            "Requirement already satisfied: colorama in c:\\users\\franz\\appdata\\local\\packages\\pythonsoftwarefoundation.python.3.10_qbz5n2kfra8p0\\localcache\\local-packages\\python310\\site-packages (from tqdm>=4.27->transformers) (0.4.6)\n",
            "Requirement already satisfied: charset-normalizer<3,>=2 in c:\\users\\franz\\appdata\\local\\packages\\pythonsoftwarefoundation.python.3.10_qbz5n2kfra8p0\\localcache\\local-packages\\python310\\site-packages (from requests->transformers) (2.1.1)\n",
            "Requirement already satisfied: idna<4,>=2.5 in c:\\users\\franz\\appdata\\local\\packages\\pythonsoftwarefoundation.python.3.10_qbz5n2kfra8p0\\localcache\\local-packages\\python310\\site-packages (from requests->transformers) (3.4)\n",
            "Requirement already satisfied: urllib3<1.27,>=1.21.1 in c:\\users\\franz\\appdata\\local\\packages\\pythonsoftwarefoundation.python.3.10_qbz5n2kfra8p0\\localcache\\local-packages\\python310\\site-packages (from requests->transformers) (1.26.12)\n",
            "Requirement already satisfied: certifi>=2017.4.17 in c:\\users\\franz\\appdata\\local\\packages\\pythonsoftwarefoundation.python.3.10_qbz5n2kfra8p0\\localcache\\local-packages\\python310\\site-packages (from requests->transformers) (2022.9.24)\n",
            "Installing collected packages: tokenizers, fsspec, filelock, huggingface-hub, transformers\n",
            "Successfully installed filelock-3.12.0 fsspec-2023.5.0 huggingface-hub-0.15.1 tokenizers-0.13.3 transformers-4.29.2\n"
          ]
        }
      ],
      "source": [
        "#instalamos la librería (Google Colab)\n",
        "!pip install transformers"
      ]
    },
    {
      "cell_type": "code",
      "execution_count": 3,
      "metadata": {
        "id": "tTAB7XKRiKOX"
      },
      "outputs": [
        {
          "name": "stderr",
          "output_type": "stream",
          "text": [
            "C:\\Users\\franz\\AppData\\Local\\Packages\\PythonSoftwareFoundation.Python.3.10_qbz5n2kfra8p0\\LocalCache\\local-packages\\Python310\\site-packages\\tqdm\\auto.py:21: TqdmWarning: IProgress not found. Please update jupyter and ipywidgets. See https://ipywidgets.readthedocs.io/en/stable/user_install.html\n",
            "  from .autonotebook import tqdm as notebook_tqdm\n",
            "None of PyTorch, TensorFlow >= 2.0, or Flax have been found. Models won't be available and only tokenizers, configuration and file/data utilities can be used.\n"
          ]
        }
      ],
      "source": [
        "from transformers import AutoTokenizer"
      ]
    },
    {
      "attachments": {},
      "cell_type": "markdown",
      "metadata": {
        "id": "urRDUxoHiKOY"
      },
      "source": [
        "Exploramos el vocabulario del modelo `bert-base-cased`(inglés)"
      ]
    },
    {
      "cell_type": "code",
      "execution_count": 4,
      "metadata": {
        "id": "tqLbs9kmiKOY"
      },
      "outputs": [
        {
          "name": "stderr",
          "output_type": "stream",
          "text": [
            "Downloading (…)okenizer_config.json: 100%|██████████| 29.0/29.0 [00:00<?, ?B/s]\n",
            "C:\\Users\\franz\\AppData\\Local\\Packages\\PythonSoftwareFoundation.Python.3.10_qbz5n2kfra8p0\\LocalCache\\local-packages\\Python310\\site-packages\\huggingface_hub\\file_download.py:133: UserWarning: `huggingface_hub` cache-system uses symlinks by default to efficiently store duplicated files but your machine does not support them in C:\\Users\\franz\\.cache\\huggingface\\hub. Caching files will still work but in a degraded version that might require more space on your disk. This warning can be disabled by setting the `HF_HUB_DISABLE_SYMLINKS_WARNING` environment variable. For more details, see https://huggingface.co/docs/huggingface_hub/how-to-cache#limitations.\n",
            "To support symlinks on Windows, you either need to activate Developer Mode or to run Python as an administrator. In order to see activate developer mode, see this article: https://docs.microsoft.com/en-us/windows/apps/get-started/enable-your-device-for-development\n",
            "  warnings.warn(message)\n",
            "Downloading (…)lve/main/config.json: 100%|██████████| 570/570 [00:00<00:00, 561kB/s]\n",
            "Downloading (…)solve/main/vocab.txt: 100%|██████████| 213k/213k [00:00<00:00, 977kB/s]\n",
            "Downloading (…)/main/tokenizer.json: 100%|██████████| 436k/436k [00:00<00:00, 1.12MB/s]\n"
          ]
        },
        {
          "data": {
            "text/plain": [
              "28996"
            ]
          },
          "execution_count": 4,
          "metadata": {},
          "output_type": "execute_result"
        }
      ],
      "source": [
        "tokenizer = AutoTokenizer.from_pretrained(\"bert-base-cased\")\n",
        "tokenizer.vocab_size # cuantas palabras tiene el vocabulario/ conoce el modelo"
      ]
    },
    {
      "cell_type": "code",
      "execution_count": 5,
      "metadata": {
        "id": "3I8GXcLbiKOZ"
      },
      "outputs": [
        {
          "data": {
            "text/plain": [
              "array(['Wolfgang', 'Member', '##tles', '##н', 'bowed', 'Idaho',\n",
              "       'quantitative', 'dancer', '239', 'Dora'], dtype='<U18')"
            ]
          },
          "execution_count": 5,
          "metadata": {},
          "output_type": "execute_result"
        }
      ],
      "source": [
        "import numpy as np\n",
        "\n",
        "np.random.choice(list(tokenizer.vocab.keys()), 10)\n",
        "\n",
        "# unas palabras que llevan '##' para indicar que son trozos de palabras"
      ]
    },
    {
      "attachments": {},
      "cell_type": "markdown",
      "metadata": {
        "id": "0gjtmW2DiKOZ"
      },
      "source": [
        "El modelo BERT utiliza un tokenizado subword de tipo *WordPiece*:\n"
      ]
    },
    {
      "cell_type": "code",
      "execution_count": 6,
      "metadata": {
        "id": "gPnGOz-diKOa"
      },
      "outputs": [
        {
          "name": "stdout",
          "output_type": "stream",
          "text": [
            "['the', 'B', '##ER', '##T', 'token', '##izer', 'was', 'created', 'with', 'a', 'Word', '##P', '##ie', '##ce', 'model']\n"
          ]
        }
      ],
      "source": [
        "output = tokenizer.tokenize(\"the BERT tokenizer was created with a WordPiece model\")\n",
        "print(output)\n",
        "\n",
        "# las palabras que no conoce el modelo las divide en trozos que conoce"
      ]
    },
    {
      "cell_type": "code",
      "execution_count": 7,
      "metadata": {
        "id": "cLZduHsSiKOa"
      },
      "outputs": [
        {
          "data": {
            "text/plain": [
              "15"
            ]
          },
          "execution_count": 7,
          "metadata": {},
          "output_type": "execute_result"
        }
      ],
      "source": [
        "len(output) # no nos da el número de palabras, sino el número de trozos"
      ]
    },
    {
      "cell_type": "code",
      "execution_count": 10,
      "metadata": {},
      "outputs": [
        {
          "data": {
            "text/plain": [
              "9"
            ]
          },
          "execution_count": 10,
          "metadata": {},
          "output_type": "execute_result"
        }
      ],
      "source": [
        "# Para contar las palabras: hacer split por espacios\n",
        "len(\"the BERT tokenizer was created with a WordPiece model\".split(' '))"
      ]
    },
    {
      "attachments": {},
      "cell_type": "markdown",
      "metadata": {
        "id": "n4EwggMiiKOa"
      },
      "source": [
        "Para utilizar un documento tokenizado en BERT tenemos que convertirlo en tokens con el método `tokenizer`"
      ]
    },
    {
      "cell_type": "code",
      "execution_count": 11,
      "metadata": {
        "id": "MToPQqFuiKOb"
      },
      "outputs": [],
      "source": [
        "output = tokenizer(\"the BERT tokenizer was created with a WordPiece model\") # la clase tokenizer asigna IDs a las palabras automáticamente\n"
      ]
    },
    {
      "cell_type": "code",
      "execution_count": 12,
      "metadata": {
        "id": "rOPpKqUuiKOb"
      },
      "outputs": [
        {
          "data": {
            "text/plain": [
              "{'input_ids': [101, 1103, 139, 9637, 1942, 22559, 17260, 1108, 1687, 1114, 170, 10683, 2101, 1663, 2093, 2235, 102], 'token_type_ids': [0, 0, 0, 0, 0, 0, 0, 0, 0, 0, 0, 0, 0, 0, 0, 0, 0], 'attention_mask': [1, 1, 1, 1, 1, 1, 1, 1, 1, 1, 1, 1, 1, 1, 1, 1, 1]}"
            ]
          },
          "execution_count": 12,
          "metadata": {},
          "output_type": "execute_result"
        }
      ],
      "source": [
        "output"
      ]
    },
    {
      "cell_type": "code",
      "execution_count": 13,
      "metadata": {
        "id": "zWMoia_5iKOb"
      },
      "outputs": [
        {
          "data": {
            "text/plain": [
              "dict_keys(['input_ids', 'token_type_ids', 'attention_mask'])"
            ]
          },
          "execution_count": 13,
          "metadata": {},
          "output_type": "execute_result"
        }
      ],
      "source": [
        "output.keys()"
      ]
    },
    {
      "cell_type": "code",
      "execution_count": 14,
      "metadata": {
        "id": "yV72c58piKOc"
      },
      "outputs": [
        {
          "data": {
            "text/plain": [
              "17"
            ]
          },
          "execution_count": 14,
          "metadata": {},
          "output_type": "execute_result"
        }
      ],
      "source": [
        "len(output.input_ids) # corresponde a los trozos de palabras y 2 más que son los tokens especiales de inicio y fin de frase (CLS y SEP)"
      ]
    },
    {
      "attachments": {},
      "cell_type": "markdown",
      "metadata": {
        "id": "C0YJahhkiKOc"
      },
      "source": [
        "El tokenizador asigna cada token a su `token_id` correspondiente en el vocabulario"
      ]
    },
    {
      "cell_type": "code",
      "execution_count": 15,
      "metadata": {
        "id": "0r51Y9gniKOc"
      },
      "outputs": [
        {
          "data": {
            "text/html": [
              "<div>\n",
              "<style scoped>\n",
              "    .dataframe tbody tr th:only-of-type {\n",
              "        vertical-align: middle;\n",
              "    }\n",
              "\n",
              "    .dataframe tbody tr th {\n",
              "        vertical-align: top;\n",
              "    }\n",
              "\n",
              "    .dataframe thead th {\n",
              "        text-align: right;\n",
              "    }\n",
              "</style>\n",
              "<table border=\"1\" class=\"dataframe\">\n",
              "  <thead>\n",
              "    <tr style=\"text-align: right;\">\n",
              "      <th></th>\n",
              "      <th>token_id</th>\n",
              "      <th>token</th>\n",
              "    </tr>\n",
              "  </thead>\n",
              "  <tbody>\n",
              "    <tr>\n",
              "      <th>0</th>\n",
              "      <td>101</td>\n",
              "      <td>[CLS]</td>\n",
              "    </tr>\n",
              "    <tr>\n",
              "      <th>1</th>\n",
              "      <td>1103</td>\n",
              "      <td>the</td>\n",
              "    </tr>\n",
              "    <tr>\n",
              "      <th>2</th>\n",
              "      <td>139</td>\n",
              "      <td>B</td>\n",
              "    </tr>\n",
              "    <tr>\n",
              "      <th>3</th>\n",
              "      <td>9637</td>\n",
              "      <td>##ER</td>\n",
              "    </tr>\n",
              "    <tr>\n",
              "      <th>4</th>\n",
              "      <td>1942</td>\n",
              "      <td>##T</td>\n",
              "    </tr>\n",
              "    <tr>\n",
              "      <th>5</th>\n",
              "      <td>22559</td>\n",
              "      <td>token</td>\n",
              "    </tr>\n",
              "    <tr>\n",
              "      <th>6</th>\n",
              "      <td>17260</td>\n",
              "      <td>##izer</td>\n",
              "    </tr>\n",
              "    <tr>\n",
              "      <th>7</th>\n",
              "      <td>1108</td>\n",
              "      <td>was</td>\n",
              "    </tr>\n",
              "    <tr>\n",
              "      <th>8</th>\n",
              "      <td>1687</td>\n",
              "      <td>created</td>\n",
              "    </tr>\n",
              "    <tr>\n",
              "      <th>9</th>\n",
              "      <td>1114</td>\n",
              "      <td>with</td>\n",
              "    </tr>\n",
              "    <tr>\n",
              "      <th>10</th>\n",
              "      <td>170</td>\n",
              "      <td>a</td>\n",
              "    </tr>\n",
              "    <tr>\n",
              "      <th>11</th>\n",
              "      <td>10683</td>\n",
              "      <td>Word</td>\n",
              "    </tr>\n",
              "    <tr>\n",
              "      <th>12</th>\n",
              "      <td>2101</td>\n",
              "      <td>##P</td>\n",
              "    </tr>\n",
              "    <tr>\n",
              "      <th>13</th>\n",
              "      <td>1663</td>\n",
              "      <td>##ie</td>\n",
              "    </tr>\n",
              "    <tr>\n",
              "      <th>14</th>\n",
              "      <td>2093</td>\n",
              "      <td>##ce</td>\n",
              "    </tr>\n",
              "    <tr>\n",
              "      <th>15</th>\n",
              "      <td>2235</td>\n",
              "      <td>model</td>\n",
              "    </tr>\n",
              "    <tr>\n",
              "      <th>16</th>\n",
              "      <td>102</td>\n",
              "      <td>[SEP]</td>\n",
              "    </tr>\n",
              "  </tbody>\n",
              "</table>\n",
              "</div>"
            ],
            "text/plain": [
              "    token_id    token\n",
              "0        101    [CLS]\n",
              "1       1103      the\n",
              "2        139        B\n",
              "3       9637     ##ER\n",
              "4       1942      ##T\n",
              "5      22559    token\n",
              "6      17260   ##izer\n",
              "7       1108      was\n",
              "8       1687  created\n",
              "9       1114     with\n",
              "10       170        a\n",
              "11     10683     Word\n",
              "12      2101      ##P\n",
              "13      1663     ##ie\n",
              "14      2093     ##ce\n",
              "15      2235    model\n",
              "16       102    [SEP]"
            ]
          },
          "execution_count": 15,
          "metadata": {},
          "output_type": "execute_result"
        }
      ],
      "source": [
        "import pandas as pd\n",
        "\n",
        "tokens = map(lambda t: {'token_id': t,\n",
        "                        'token': tokenizer.convert_ids_to_tokens(t)},\n",
        "             output.input_ids)\n",
        "\n",
        "pd.DataFrame(tokens)"
      ]
    },
    {
      "attachments": {},
      "cell_type": "markdown",
      "metadata": {
        "id": "8aII_77tiKOd"
      },
      "source": [
        "El modelo BERT añade unos tokens especiales al inicio y al final de cada documento:"
      ]
    },
    {
      "cell_type": "code",
      "execution_count": 16,
      "metadata": {
        "id": "vroKWKdFiKOe"
      },
      "outputs": [
        {
          "data": {
            "text/plain": [
              "['[PAD]', '[UNK]', '[CLS]', '[SEP]', '[MASK]']"
            ]
          },
          "execution_count": 16,
          "metadata": {},
          "output_type": "execute_result"
        }
      ],
      "source": [
        "#tokens especiales\n",
        "tokenizer.convert_ids_to_tokens([0, 100, 101, 102, 103])\n",
        "\n",
        "# PAD para rellenar las frases que son más cortas que la más larga\n",
        "# UNK para palabras que no conoce el modelo\n",
        "# CLS para inicio de frase\n",
        "# SEP para final de frase\n",
        "# MASK para enmascarar palabras"
      ]
    },
    {
      "attachments": {},
      "cell_type": "markdown",
      "metadata": {
        "id": "T-ibzjsniKOe"
      },
      "source": [
        "Tokenizado de pares de frases (para aplicaciones con dos documentos de entrada, como NLI o QA)"
      ]
    },
    {
      "cell_type": "code",
      "execution_count": 17,
      "metadata": {
        "id": "I3fPwGgliKOe"
      },
      "outputs": [
        {
          "data": {
            "text/plain": [
              "{'input_ids': [[101, 1142, 1110, 1103, 1148, 5650, 102, 1142, 1110, 1103, 1248, 1141, 102]], 'token_type_ids': [[0, 0, 0, 0, 0, 0, 0, 1, 1, 1, 1, 1, 1]], 'attention_mask': [[1, 1, 1, 1, 1, 1, 1, 1, 1, 1, 1, 1, 1]]}"
            ]
          },
          "execution_count": 17,
          "metadata": {},
          "output_type": "execute_result"
        }
      ],
      "source": [
        "# 2 frases como 1 entrada\n",
        "output = tokenizer([[\"this is the first sentence\",\n",
        "    \"this is the second one\"]])\n",
        "output"
      ]
    },
    {
      "cell_type": "code",
      "execution_count": 18,
      "metadata": {
        "id": "k2LM5U79iKOf"
      },
      "outputs": [
        {
          "name": "stdout",
          "output_type": "stream",
          "text": [
            "[CLS] this is the first sentence [SEP] this is the second one [SEP]\n"
          ]
        }
      ],
      "source": [
        "print(tokenizer.decode(output['input_ids'][0]))"
      ]
    },
    {
      "cell_type": "code",
      "execution_count": 19,
      "metadata": {},
      "outputs": [
        {
          "data": {
            "text/plain": [
              "{'input_ids': [[101, 1142, 1110, 1103, 1148, 5650, 102], [101, 1142, 1110, 1103, 1248, 1141, 102]], 'token_type_ids': [[0, 0, 0, 0, 0, 0, 0], [0, 0, 0, 0, 0, 0, 0]], 'attention_mask': [[1, 1, 1, 1, 1, 1, 1], [1, 1, 1, 1, 1, 1, 1]]}"
            ]
          },
          "execution_count": 19,
          "metadata": {},
          "output_type": "execute_result"
        }
      ],
      "source": [
        "# VS: 2 entradas de 1 frase cada una \n",
        "output = tokenizer([\"this is the first sentence\",\n",
        "    \"this is the second one\"])\n",
        "output"
      ]
    },
    {
      "cell_type": "code",
      "execution_count": 24,
      "metadata": {},
      "outputs": [
        {
          "name": "stdout",
          "output_type": "stream",
          "text": [
            "[CLS] this is the first sentence [SEP] | [CLS] this is the second one [SEP]\n"
          ]
        }
      ],
      "source": [
        "print(tokenizer.decode(output['input_ids'][0]) + ' | ' + tokenizer.decode(output['input_ids'][1]))"
      ]
    },
    {
      "attachments": {},
      "cell_type": "markdown",
      "metadata": {
        "id": "3qqMpbm7iKOf"
      },
      "source": [
        "### Tokenizado de un corpus de documentos\n",
        "Cuando se tokeniza más de un documento, es necesario ajustar la longitud de todos al mismo número de tokens (con *padding/truncating*)"
      ]
    },
    {
      "cell_type": "code",
      "execution_count": 25,
      "metadata": {
        "id": "CtHem_q5iKOg"
      },
      "outputs": [
        {
          "name": "stdout",
          "output_type": "stream",
          "text": [
            "**Input IDs**\n",
            "[101, 1188, 2523, 1108, 1632, 106, 102, 0, 0, 0, 0]\n",
            "[101, 146, 5687, 1142, 1815, 117, 5671, 1104, 1159, 106, 102]\n",
            "[101, 17375, 136, 102, 0, 0, 0, 0, 0, 0, 0]\n",
            "**Attention Mask**\n",
            "[1, 1, 1, 1, 1, 1, 1, 0, 0, 0, 0]\n",
            "[1, 1, 1, 1, 1, 1, 1, 1, 1, 1, 1]\n",
            "[1, 1, 1, 1, 0, 0, 0, 0, 0, 0, 0]\n"
          ]
        }
      ],
      "source": [
        "text = [\n",
        "    \"This movie was great!\",\n",
        "    \"I hated this move, waste of time!\",\n",
        "    \"Epic?\"\n",
        "]\n",
        "\n",
        "encoded = tokenizer(text, padding=True, add_special_tokens=True)\n",
        "\n",
        "print(\"**Input IDs**\")\n",
        "for a in encoded.input_ids:\n",
        "    print(a)\n",
        "\n",
        "print(\"**Attention Mask**\")\n",
        "for a in encoded.attention_mask:\n",
        "    print(a)"
      ]
    },
    {
      "attachments": {},
      "cell_type": "markdown",
      "metadata": {
        "id": "i7rVHEdIiKOg"
      },
      "source": [
        "## Análisis del vocabulario\n",
        "El vocabulario contiene palabras completas y partes de palabra (tokens que comienzan por '##')"
      ]
    },
    {
      "cell_type": "code",
      "execution_count": 26,
      "metadata": {
        "id": "RN8oSF2iiKOg"
      },
      "outputs": [],
      "source": [
        "one_chars = []\n",
        "one_chars_hashes = []\n",
        "\n",
        "# recorremos todos los tokens del vocabulario\n",
        "for token in tokenizer.vocab.keys():\n",
        "    \n",
        "    # guardamos los tokens de un solo caracter\n",
        "    if len(token) == 1:\n",
        "        one_chars.append(token)\n",
        "    \n",
        "    # guardamos los tokens de un solo caracter precedidos de ##    \n",
        "    elif len(token) == 3 and token[0:2] == '##':\n",
        "        one_chars_hashes.append(token)"
      ]
    },
    {
      "cell_type": "code",
      "execution_count": 27,
      "metadata": {
        "id": "ioXvQmfYiKOh"
      },
      "outputs": [
        {
          "name": "stdout",
          "output_type": "stream",
          "text": [
            "['ɕ', '「', 'Ε', 'आ', 'ό', 's', 'ṃ', '⁰', 'ʰ', 'ᵘ', '心', ':', 'ắ', '郡', 'ф', '´', 'ج', 'و', 'y', 'ị', 'ナ', '藤', 'ṇ', 'Ś', 'ו', '（', '國', 'э', '文', 'ể', 'ン', '“', '太', 'ъ', '⊆', 'え', '³', 'Δ', '：', '」', 'Ż', 'ј', '石', '!', 'ř', '♭', 'ा', 'Г', 'f', 'ָ', '⟩', '佐', 'г', '₎', 'Ι', 'ব', 'կ', 'ų', 'О', 'ু', '∗', 'З', 'ல', 'أ', 'ط', 'Φ', 'ら', '生', 'L', 'Е', '皇', 'ئ', '¢', 'ὐ', '‖', '野', '河', 'ậ', 'ो', '⁷', 'ہ', 'つ', 'ń', 'ʒ', 'Ο', 'ₐ', 'ı', '₅', '本', 'Ə', 'گ', '<', '«', 'Ț', 'Τ', 'ɣ', 'ு', 'ス', 'ʑ', 'ớ', 'ï', 'Å', 'ན', 'ח', 'ţ', 'て', 'ᵀ', '宀', '்', 'ィ', 'ح', 'r', 'Ḥ', '–', 'ῖ', 'آ', 'グ', 'К', 'я', '子', '¡', 'נ', 'さ', '川', '海', 'ּ', 'ǫ', '~', 'ä', 'ū', '©', 'ɛ', 'ᵣ', 'न', 'ʿ', '₃', 'z', 'শ', 'ி', 'ロ', '三', '陽', 'き', 'ム', 'ع', 'ủ', '龸', '土', 'ས', 'च', 'ß', 'Β', '≈', 'ḩ', 'x', 'द', 'ص', 'ひ', '・', 'ן', 'Y', 'ই', '₀', '夫', 'š', 'エ', 'ذ', 'ǒ', '版', 'đ', 'ᵈ', 'प', '₊', '☆', '門', '∘', '宮', 'ď', 'τ', '®', 'Η', 'α', 'к', '0', 'Ц', 'פ', '⁴', '∧', 'Þ', '№', '木', 'ì', 'υ', '1', 'რ', 'ს', 'জ', 'C', '星', '侍', '≠', 'ε', 'ক', 'ћ', '한', 'ɐ', '3', 'ம', 'р', 'и', '̯', 'ứ', 'ร', 'С', 'ℝ', 'ḍ', '山', 'ồ', 'か', 'ז', 'ὰ', 'ی', 'õ', '│', 'க', '史', '♦', 'ם', 'ɾ', 'ي', 'ッ', 'フ', '●', 'ո', 'س', '原', 'ľ', 'η', 'í', 'Л', '₉', '사', 'ֵ', 'غ', 'ḥ', '॥', 'Ţ', 'デ', 'リ', 'V', 'φ', 'ṭ', 'ǎ', '″', 'ب', 'ュ', 'ִ', '⁵', 'ა', '氏', '♥', 'п', 'М', 'ா', 'Ф', 'َ', '\"', 'ᴬ', '■', 'ա', 'と', 'خ', 'ầ', '`', '二', 'H', '়', 'γ', 'ি', '∂', 'প', '⋅', '江', '囗', 'ŋ', '„', 'ド', 'Á', 'Č', '★', 'ộ', 'J', 'བ', '의', '－', '9', '高', 'Д', '#', '李', 'ₚ', 'ゆ', 'ছ', 'I', 'ƒ', 'ད', 'ֶ', 'ή', '下', 'o', 'た', '×', 'צ', '،', '新', '》', '§', '/', 'আ', '%', 'х', 'П', '人', '‐', 'ŷ', '¶', 'ₘ', 'り', 'の', 'ग', '小', '≡', '‡', '♣', 'Ø', '—', '@', 'د', 'ự', 'ʃ', 'ò', 'ά', 'マ', '犬', 'Σ', '=', '⇒', 'ե', 'श', '^', 'ल', '±', 'ὸ', 'ї', 'ض', 'æ', '北', '上', 'ź', 'a', 'み', 'ỹ', ']', '5', 'ʔ', 'ὁ', 'G', 'ი', 'ɑ', '·', '田', '≤', 'ش', '⁶', 'ク', 'ş', 'δ', '国', 'ル', 'm', 'R', 'Ō', '্', 'ন', 'ō', 'ர', 'Ș', '½', 'Χ', 'ℓ', 'ł', 'コ', '[', 'Œ', 'ⁱ', '£', '明', 'j', '竹', 'ừ', 'ψ', 'シ', '正', 'Í', \"'\", '宿', 'χ', '花', '日', 'ᵐ', 'ジ', 'ụ', 'ί', 'ま', 'O', '白', '金', '女', 'q', '‚', 'В', 'µ', '…', 'し', 'に', '平', '天', 'ウ', 'Ć', '씨', 'ང', '―', 'ध', 'Ç', 'ύ', 'م', 'Т', '食', 'Ä', 'ー', 'ズ', 'ợ', 't', 'ʂ', 'ত', '₍', '神', '馬', 'ю', 'ы', 'Б', 'Ч', '←', 'ᵇ', 'è', 'б', ')', '《', 'ż', 'Ľ', '年', 'ě', 'ս', 'ü', '村', 'à', '！', '同', '口', 'ী', '»', 'ž', 'ш', 'ц', 'ς', '‑', 'ֹ', '(', 'λ', 'Ψ', '京', 'ز', '₹', '}', '社', 'ी', 'テ', '西', 'は', '͡', '美', 'ミ', 'হ', 'ט', '∞', 'κ', 'ʲ', 'ל', 'Ā', 'Đ', '̃', 'Ü', 'ŭ', '書', 'È', 'ظ', 'ᵏ', 'Ħ', 'ð', 'ש', '事', ';', '⅓', 'ğ', 'Հ', 'ấ', 'ག', '2', '⁻', '、', 'ো', 'Ј', '義', '南', '7', 'ت', 'ļ', 'Λ', '¹', 'â', 'e', 'ف', 'ờ', '方', 'پ', 'ġ', '‘', 'g', 'ह', 'ᵤ', 'ɔ', 'ệ', '公', 'ய', 'ª', 'ᵒ', 'त', 'せ', 'མ', 'ₛ', 'থ', '⁄', 'ও', 'n', 'ᴵ', '氵', '÷', 'Х', '?', 'ą', 'ņ', 'c', '¨', 'ё', 'ę', 'É', 'Â', 'ˣ', 'о', 'Ю', '8', '／', '谷', 'ṛ', 'ར', 'ο', 'ė', 'バ', 'や', 'ס', '島', '′', 'ि', 'ɨ', 'ʳ', 'Ö', '‒', '²', '王', '〜', 'ⁿ', '仁', 'Ш', 'স', 'ְ', '辶', '₆', 'ʐ', 'ư', 'ạ', '水', '青', 'ṣ', '*', 'þ', 'ɡ', 'ʁ', '¾', '€', 'ラ', 'ち', 'ᵃ', '₁', 'Š', 'ধ', 'с', 'ē', 'ِ', '{', 'ɪ', '•', 'Ž', '₈', 'ἀ', '$', 'ₒ', '♠', 'І', 'ण', 'ö', 'भ', 'i', 'Æ', 'ى', 'w', 'Ա', 'ד', '尚', 'Ó', '∪', 'Q', '吉', 'А', 'σ', '†', '─', 'У', 'º', 'Α', 'ট', '이', '”', 'ﬂ', 'π', 'দ', 'ɲ', 'Z', 'Μ', 'ú', 'A', 'ÿ', 'ष', 'Ν', 'ˡ', 'ے', 'ʋ', 'ổ', 'ᵗ', 'ं', 'M', 'ʊ', 'য', 'ₑ', '‰', '⁹', '⁺', 'û', 'й', 'ῦ', 'र', 'F', '−', '_', 'ǔ', 'Н', 'Ş', 'у', 'Ł', 'Ж', 'চ', '月', 'ハ', '°', 'ñ', 'ó', 'स', 'v', 'Î', 'ོ', 'ə', 'י', 'ב', '∩', '्', '城', '松', 'ț', 'ن', 'れ', '→', '⇌', '’', 'ٹ', 'ო', '井', 'ж', 'έ', 'Ñ', 'ὶ', '部', '）', '√', 'ق', 'ნ', 'ר', 'ʌ', 'ā', 'д', 'И', 'տ', 'ῆ', 'ʼ', 'ﬁ', '¬', 'ր', '¥', 'ᵢ', 'お', 'ч', 'る', 'ů', '⁸', 'Γ', 'ガ', '一', 'S', 'ე', 'b', '司', '&', 'パ', 'ه', 'া', 'ل', '郎', 'd', 'サ', 'ᵉ', 'ア', '∨', 'щ', 'ế', 'গ', 'ブ', 'ả', 'এ', 'Ω', 'プ', 'ť', 'ེ', '』', 'ọ', 'ᵖ', '་', 'ζ', 'ș', 'ק', 'ה', 'த', 'く', '।', 'ע', 'ἐ', 'ŵ', 'ث', 'े', 'ᵍ', 'U', 'タ', 'ⱼ', '₂', 'č', 'т', 'ப', 'ρ', 'ø', 'む', 'ẩ', 'ô', '道', 'á', 'ć', '∈', 'î', 'з', 'њ', '|', 'う', 'ḳ', 'h', 'p', 'À', 'ダ', '₄', 'W', 'খ', '長', 'מ', 'す', '，', 'क', 'ễ', 'н', 'ê', 'ک', 'å', 'カ', '₇', 'ւ', 'Я', '愛', 'ữ', '『', '和', 'ի', '光', 'ũ', 'Э', '₤', 'B', 'D', 'і', 'Θ', 'K', 'レ', '安', 'ᵥ', 'そ', 'ʾ', 'Ú', 'ն', 'ĩ', 'ₖ', '₱', 'е', 'כ', 'u', '武', 'ī', '省', '⟨', 'வ', 'ξ', 'ő', 'ء', 'ν', '≥', 'ब', 'ű', 'ώ', 'м', '-', 'ᶠ', '4', 'র', 'い', 'é', '¿', 'ₙ', '¼', 'オ', 'ù', 'ǐ', 'Ī', 'ג', 'म', 'Π', 'ে', '林', 'ল', 'ŏ', '大', '戸', 'キ', 'چ', '力', '車', '\\\\', 'イ', 'け', 'ь', 'ི', 'ː', 'ỳ', 'ơ', 'X', 'ₜ', 'ト', 'Ḩ', '⊕', '+', 'ă', 'ལ', 'β', 'ম', '真', 'İ', '東', 'l', '↑', 'ň', '.', ',', '♯', 'ᶜ', '⊂', 'ῶ', '>', 'য়', 'ˈ', 'ố', '亻', 'ʻ', '́', 'ַ', 'ã', 'ज', 'ι', 'մ', 'E', 'P', 'ₓ', '中', 'ħ', '十', 'ة', 'ת', 'ω', 'ₕ', 'ر', 'ṅ', 'こ', '̍', '☉', 'ャ', '士', 'k', 'ا', 'ʀ', 'ử', 'व', 'も', 'ś', 'а', 'Κ', 'إ', '。', 'ु', 'ề', 'ˢ', 'な', 'θ', '↔', 'ニ', '龍', 'T', 'Р', 'א', 'よ', '6', 'ん', '州', 'N', 'ლ', 'ʷ', 'œ', 'ý', 'め', 'ç', 'л', 'ك', 'ë', 'μ', 'в', 'յ', 'ུ', 'य']\n"
          ]
        }
      ],
      "source": [
        "print(one_chars)"
      ]
    },
    {
      "cell_type": "code",
      "execution_count": 28,
      "metadata": {
        "id": "aLUBV6X6iKOh"
      },
      "outputs": [
        {
          "name": "stdout",
          "output_type": "stream",
          "text": [
            "['##হ', '##ᵣ', '##“', '##☉', '##κ', '##ं', '##ľ', '##»', '##三', '##ג', '##ʑ', '##ছ', '##Λ', '##ɔ', '##井', '##は', '##ि', '##州', '##ᵀ', '##্', '##青', '##ז', '##।', '##ς', '##花', '##ₛ', '##т', '##ä', '##с', '##ོ', '##⁺', '##¨', '##ɲ', '##ガ', '##.', '##に', '##À', '##न', '##‑', '##ṣ', '##亻', '##а', '##⁻', '##ט', '##Ա', '##ָ', '##Ч', '##ص', '##コ', '##う', '##ⁱ', '##³', '##ᵇ', '##明', '##+', '##থ', '##Æ', '##ɨ', '##ż', '##ס', '##ض', '##ő', '##島', '##ل', '##月', '##ذ', '##°', '##Θ', '##ე', '##_', '##ď', '##ч', '##力', '##स', '##ʂ', '##李', '##と', '##ে', '##書', '##И', '##й', '##A', '##犬', '##⁶', '##س', '##w', '##-', '##お', '##¢', '##े', '##τ', '##ƒ', '##ུ', '##ս', '##ℓ', '##ʀ', '##谷', '##₂', '##আ', '##₉', '##b', '##エ', '##キ', '##ֶ', '##♣', '##心', '##ι', '##♦', '##ậ', '##è', '##―', '##வ', '##龸', '##武', '##な', '##ℝ', '##け', '##æ', '##ï', '##ེ', '##ḩ', '##C', '##j', '##<', '##ⁿ', '##宿', '##ủ', '##か', '##г', '##ğ', '##ŋ', '##υ', '##È', '##̍', '##フ', '##⟨', '##ᵉ', '##ž', '##ấ', '##子', '##ū', '##क', '##ō', '##ہ', '##ᵏ', '##む', '##و', '##光', '##Л', '##¶', '##g', '##の', '##∈', '##ه', '##ý', '##য়', '##ṃ', '##ą', '##ǒ', '##Е', '##『', '##்', '##ے', '##ề', '##†', '##☆', '##ল', '##η', '##ŷ', '##ע', '##ć', '##ộ', '##ع', '##ὸ', '##グ', \"##'\", '##r', '##⇌', '##ک', '##星', '##郡', '##Д', '##國', '##ₑ', '##॥', '##ỹ', '##ག', '##З', '##ṛ', '##下', '##گ', '##ֹ', '##М', '##Τ', '##ط', '##ᵈ', '##江', '##і', '##ð', '##·', '##ː', '##2', '##正', '##ʼ', '##金', '##Â', '##ũ', '##ो', '##リ', '##„', '##ن', '##ম', '##þ', '##Ḩ', '##‒', '##ロ', '##ি', '##њ', '##№', '##ỳ', '##γ', '##ᵗ', '##²', '##ش', '##方', '##:', '##מ', '##¿', '##կ', '##ά', '##十', '##‰', '##ă', '##ṅ', '##ズ', '##₅', '##「', '##ể', '##ł', '##Α', '##水', '##G', '##ř', '##ợ', '##Œ', '##Б', '##そ', '##皇', '##ш', '##φ', '##ô', '##ی', '##北', '##馬', '##à', '##マ', '##7', '##ḳ', '##ʁ', '##¼', '##Ю', '##ह', '##Ț', '##⊆', '##्', '##ț', '##l', '##Т', '##。', '##₈', '##ű', '##ར', '##ى', '##Č', '##ò', '##ɪ', '##ᵢ', '##≡', '##Ż', '##⋅', '##史', '##ª', '##사', '##œ', '##á', '##ष', '##र', '##₆', '##D', '##ٹ', '##h', '##$', '##‘', '##տ', '##П', '##ɑ', '##侍', '##з', '##車', '##ი', '##平', '##L', '##ε', '##ব', '##み', '##י', '##ж', '##ə', '##s', '##ʷ', '##⇒', '##خ', '##ك', '##₱', '##て', '##∨', '##／', '##∂', '##ր', '##غ', '##尚', '##К', '##£', '##ớ', '##ゆ', '##آ', '##ம', '##đ', '##│', '##氵', '##&', '##る', '##щ', '##大', '##ü', '##⅓', '##ु', '##এ', '##ǐ', '##部', '##ὰ', '##צ', '##̃', '##J', '##》', '##ʐ', '##9', '##ώ', '##Î', '##ᶠ', '##ق', '##º', '##ﬁ', '##한', '##А', '##Í', '##ῖ', '##レ', '##真', '##Ε', '##χ', '##日', '##ₐ', '##高', '##ẩ', '##Η', '##ₒ', '##ú', '##ɾ', '##イ', '##Ц', '##ġ', '##郎', '##́', '##̯', '##স', '##½', '##;', '##〜', '##،', '##¹', '##ர', '##ữ', '##ļ', '##龍', '##ד', '##த', '##→', '##夫', '##ç', '##ּ', '##Ḥ', '##●', '##ल', '##ˡ', '##ʳ', '##₁', '##ウ', '##Δ', '##%', '##Р', '##ᵍ', '##β', '##ज', '##Г', '##囗', '##ệ', '##â', '##ử', '##ế', '##−', '##仁', '##⁸', '##С', '##\\\\', '##ц', '##5', '##√', '##н', '##プ', '##ל', '##ʒ', '##!', '##×', '##ِ', '##よ', '##⁵', '##ト', '##ź', '##Ι', '##え', '##म', '##ف', '##り', '##ֵ', '##吉', '##פ', '##ư', '##”', '##ー', '##ᶜ', '##ó', '##長', '##ち', '##~', '##к', '##国', '##р', '##社', '##ί', '##ﬂ', '##ᵖ', '##₀', '##ר', '##ʊ', '##神', '##ờ', '##V', '##Đ', '##ɕ', '##ơ', '##[', '##য', '##ã', '##石', '##↔', '##ω', '##年', '##ĩ', '##⟩', '##Ī', '##Ś', '##口', '##б', '##ত', '##͡', '##Ħ', '##た', '##µ', '##«', '##÷', '##Ω', '##₇', '##ם', '##ミ', '##Ψ', '##ₚ', '##ń', '##安', '##`', '##二', '##a', '##ւ', '##人', '##M', '##K', '##Γ', '##ǔ', '##ي', '##↑', '##Β', '##★', '##о', '##ر', '##Y', '##ɡ', '##ة', '##ʾ', '##パ', '##î', '##,', '##♭', '##ų', '##シ', '##ニ', '##省', '##ル', '##Ο', '##š', '##』', '##Ć', '##食', '##ラ', '##ப', '##त', '##ী', '##Ш', '##^', '##や', '##ধ', '##ج', '##さ', '##§', '##ῦ', '##土', '##ừ', '##X', '##ב', '##ζ', '##་', '##義', '##ї', '##∘', '##∧', '##ᵐ', '##ッ', '##司', '##x', '##и', '##α', '##ア', '##q', '##이', '##ா', '##P', '##ầ', '##！', '##प', '##∪', '##پ', '##文', '##ы', '##ा', '##ק', '##p', '##ש', '##ù', '##Ä', '##씨', '##/', '##東', '##ま', '##Ş', '##έ', '##ད', '##ュ', '##ᴬ', '##∩', '##陽', '##ἐ', '##Ø', '##く', '##ˣ', '##У', '##ŵ', '##ء', '##村', '##ἀ', '##U', '##ῶ', '##ت', '##ṭ', '##ș', '##ₘ', '##ร', '##ʃ', '##Φ', '##デ', '##ི', '##ё', '##─', '##ण', '##ÿ', '##■', '##ν', '##Ž', '##ַ', '##₊', '##i', '##ן', '##=', '##û', '##ন', '##t', '##）', '##ო', '##|', '##п', '##ό', '##श', '##佐', '##ド', '##’', '##N', '##Ā', '##ˢ', '##海', '##É', '##ю', '##バ', '##同', '##@', '##±', '##原', '##Э', '##Π', '##ん', '##ì', '##শ', '##ο', '##כ', '##本', '##δ', '##མ', '##1', '##ན', '##ţ', '##ɐ', '##₄', '##⁹', '##¬', '##ி', '##€', '##オ', '##ễ', '##Þ', '##ו', '##ρ', '##ン', '##E', '##宮', '##Ж', '##事', '##田', '##Я', '##ʿ', '##王', '##‐', '##إ', '##‖', '##ὶ', '##美', '##₤', '##в', '##カ', '##ো', '##খ', '##ナ', '##ť', '##х', '##つ', '##₍', '##¡', '##v', '##中', '##ग', '##ְ', '##의', '##λ', '##ố', '##ị', '##ћ', '##Ľ', '##城', '##व', '##ら', '##O', '##≥', '##ィ', '##়', '##ъ', '##ক', '##ئ', '##َ', '##ổ', '##চ', '##ح', '##Å', '##Ș', '##ी', '##ʌ', '##Á', '##，', '##ブ', '##ᵒ', '##ա', '##…', '##⁄', '##太', '##‡', '##ę', '##3', '##ظ', '##m', '##版', '##ո', '##ང', '##《', '##ồ', '##小', '##м', '##－', '##y', '##ύ', '##氏', '##ʋ', '##ス', '##女', '##ῆ', '##ু', '##門', '##ᵘ', '##В', '##W', '##和', '##*', '##>', '##′', '##?', '##ジ', '##⁰', '##道', '##ध', '##ŏ', '##ş', '##د', '##Ф', '##Ü', '##宀', '##ث', '##ს', '##6', '##ム', '##θ', '##ḍ', '##Հ', '##©', '##R', '##ই', '##ե', '##す', '###', '##：', '##め', '##¥', '##I', '##ট', '##z', '##S', '##∞', '##´', '##山', '##ả', '##ạ', '##জ', '##辶', '##ф', '##ᵤ', '##ز', '##⁴', '##л', '##・', '##戸', '##נ', '##u', '##8', '##গ', '##新', '##র', '##公', '##♥', '##च', '##F', '##Z', '##ψ', '##ও', '##ı', '##」', '##σ', '##Ј', '##し', '##ₙ', '##⊂', '##ь', '##দ', '##ħ', '##e', '##ǎ', '##竹', '##4', '##k', '##‚', '##0', '##І', '##≤', '##¾', '##প', '##ᵃ', '##ʲ', '##松', '##Σ', '##タ', '##ī', '##Ñ', '##ự', '##西', '##ē', '##京', '##م', '##®', '##上', '##μ', '##ח', '##川', '##ṇ', '##士', '##д', '##ś', '##é', '##Μ', '##İ', '##ʔ', '##བ', '##ა', '##ய', '##π', '##f', '##ས', '##ク', '##э', '##ή', '##ლ', '##Ō', '##B', '##ě', '##ல', '##я', '##ャ', '##č', '##ˈ', '##サ', '##野', '##も', '##河', '##Ö', '##Q', '##ụ', '##Ν', '##Ç', '##ᴵ', '##ß', '##♯', '##Ə', '##Ó', '##⁷', '##ひ', '##е', '##い', '##ê', '##ɛ', '##भ', '##Х', '##द', '##ø', '##ɣ', '##T', '##ལ', '##ḥ', '##d', '##(', '##\"', '##₃', '##ξ', '##れ', '##ʰ', '##ն', '##ا', '##]', '##林', '##ọ', '##白', '##յ', '##木', '##О', '##ὁ', '##ǫ', '##⊕', '##ὐ', '##き', '##ₕ', '##ö', '##í', '##ب', '##Κ', '##ë', '##ắ', '##چ', '##H', '##ה', '##ת', '##藤', '##य', '##ñ', '##愛', '##Χ', '##₹', '##∗', '##א', '##å', '##ᵥ', '##₎', '##}', '##Ł', '##Н', '##生', '##ハ', '##ŭ', '##ņ', '##せ', '##（', '##ₜ', '##Š', '##c', '##ⱼ', '##ₖ', '##ň', '##–', '##ნ', '##♠', '##ʻ', '##•', '##″', '##、', '##テ', '##ė', '##ј', '##რ', '##天', '##Ú', '##ִ', '##こ', '##ダ', '##一', '##া', '##க', '##ի', '##n', '##õ', '##մ', '##≠', '##{', '##ứ', '##أ', '##ů', '##南', '##o', '##Ţ', '##у', '##)', '##ā', '##ₓ', '##ब', '##ு', '##←', '##≈', '##आ', '##—']\n"
          ]
        }
      ],
      "source": [
        "print(one_chars_hashes)"
      ]
    },
    {
      "cell_type": "code",
      "execution_count": 29,
      "metadata": {
        "id": "iRb-jkmwiKOh"
      },
      "outputs": [
        {
          "name": "stdout",
          "output_type": "stream",
          "text": [
            "Longitud de token máxima: 18\n"
          ]
        },
        {
          "data": {
            "image/png": "[encoded data removed]",
            "text/plain": [
              "<Figure size 1000x500 with 1 Axes>"
            ]
          },
          "metadata": {},
          "output_type": "display_data"
        }
      ],
      "source": [
        "import matplotlib.pyplot as plt\n",
        "import seaborn as sns\n",
        "import numpy as np\n",
        "\n",
        "sns.set(style='darkgrid')\n",
        "\n",
        "# Increase the plot size and font size.\n",
        "sns.set(font_scale=1.5)\n",
        "plt.rcParams[\"figure.figsize\"] = (10,5)\n",
        "\n",
        "# Measure the length of every token in the vocab.\n",
        "token_lengths = [len(token) for token in tokenizer.vocab.keys()]\n",
        "\n",
        "# Plot the number of tokens of each length.\n",
        "sns.countplot(x=token_lengths)\n",
        "plt.title('Longitud de los tokens del vocabulario')\n",
        "plt.xlabel('Longitud del token')\n",
        "plt.ylabel('Nº de Tokens')\n",
        "\n",
        "print('Longitud de token máxima:', max(token_lengths))"
      ]
    },
    {
      "attachments": {},
      "cell_type": "markdown",
      "metadata": {
        "id": "-WUXLx-miKOh"
      },
      "source": [
        "Ahora analizamos sólo las subpalabras (tokens que empiezan por `'##'` y no son caracteres únicos)"
      ]
    },
    {
      "cell_type": "code",
      "execution_count": 30,
      "metadata": {
        "id": "76is7k7FiKOi"
      },
      "outputs": [
        {
          "name": "stdout",
          "output_type": "stream",
          "text": [
            "Número de subwords: 6477\n"
          ]
        },
        {
          "data": {
            "image/png": "[encoded data removed]",
            "text/plain": [
              "<Figure size 1000x500 with 1 Axes>"
            ]
          },
          "metadata": {},
          "output_type": "display_data"
        }
      ],
      "source": [
        "num_subwords = 0\n",
        "\n",
        "subword_lengths = []\n",
        "\n",
        "# For each token in the vocabulary...\n",
        "for token in tokenizer.vocab.keys():\n",
        "    \n",
        "    # If it's a subword...\n",
        "    if len(token) >= 2 and token[0:2] == '##':\n",
        "        \n",
        "        # Tally all subwords\n",
        "        num_subwords += 1\n",
        "\n",
        "        # Measure the sub word length (without the hashes)\n",
        "        length = len(token) - 2\n",
        "\n",
        "        # Record the lengths.        \n",
        "        subword_lengths.append(length)\n",
        "\n",
        "sns.countplot(x=subword_lengths)\n",
        "plt.title('Longitud de los subwords del vocabulario (sin \"##\")')\n",
        "plt.xlabel('Longitud subtoken')\n",
        "plt.ylabel('Nº de subwords')\n",
        "\n",
        "print(f\"Número de subwords: {len(subword_lengths)}\")\n"
      ]
    },
    {
      "attachments": {},
      "cell_type": "markdown",
      "metadata": {
        "id": "OkEyzNGoiKOi"
      },
      "source": [
        "## Tokenizado en otros idiomas\n",
        "El modelo BERT en inglés no conoce las palabras del vocabulario español\n",
        "### Ejercicio\n",
        "Convierte en tokens la frase '*El modelo BERT en inglés no conoce el vocabulario español*' con el modelo BERT previamente cargado y con el modelo multilingüe `nlptown/bert-base-multilingual-uncased-sentiment`. Compara las diferencias."
      ]
    },
    {
      "cell_type": "code",
      "execution_count": null,
      "metadata": {
        "id": "1LsIwkvEiKOi"
      },
      "outputs": [],
      "source": [
        "#Modelo BERT inglés\n"
      ]
    },
    {
      "attachments": {},
      "cell_type": "markdown",
      "metadata": {
        "id": "eoSZsV4riKOi"
      },
      "source": [
        "En cambio el mismo texto tokenizado con un modelo BERT multilingüe sí conoce las palabras:"
      ]
    },
    {
      "cell_type": "code",
      "execution_count": null,
      "metadata": {
        "id": "tbmLaNbBiKOj"
      },
      "outputs": [],
      "source": [
        "#Modelo BERT multilingüe"
      ]
    }
  ],
  "metadata": {
    "accelerator": "GPU",
    "colab": {
      "gpuType": "T4",
      "provenance": [],
      "toc_visible": true
    },
    "interpreter": {
      "hash": "f818427314f6e07d80a3b82dd0595cafccc14dc50f870f003aae34cda4c72f85"
    },
    "kernelspec": {
      "display_name": "Python 3",
      "name": "python3"
    },
    "language_info": {
      "codemirror_mode": {
        "name": "ipython",
        "version": 3
      },
      "file_extension": ".py",
      "mimetype": "text/x-python",
      "name": "python",
      "nbconvert_exporter": "python",
      "pygments_lexer": "ipython3",
      "version": "3.10.11"
    },
    "orig_nbformat": 4
  },
  "nbformat": 4,
  "nbformat_minor": 0
}
