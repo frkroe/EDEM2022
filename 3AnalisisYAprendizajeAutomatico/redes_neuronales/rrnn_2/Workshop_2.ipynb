{
  "nbformat": 4,
  "nbformat_minor": 0,
  "metadata": {
    "colab": {
      "provenance": [],
      "toc_visible": true,
      "gpuType": "T4"
    },
    "kernelspec": {
      "name": "python3",
      "display_name": "Python 3"
    },
    "language_info": {
      "name": "python"
    },
    "accelerator": "GPU",
    "gpuClass": "standard"
  },
  "cells": [
    {
      "cell_type": "markdown",
      "source": [
        "# Workshop 2: Handwritten digit classification with PyTorch\n",
        "In this workshop we will learn how to train a neural network with images \n",
        "as input to classify hand-written digits\n",
        "([info of the data](http://yann.lecun.com/exdb/mnist/)). The main blocks of the workshop are:\n",
        "\n",
        "1. Get the data from PyTorch repository and visualize it.\n",
        "2. Pre-process the data.\n",
        "3. Design the network.\n",
        "4. Train the network.\n",
        "5. Evaluate the model."
      ],
      "metadata": {
        "id": "8nDKkFNROcyh"
      }
    },
    {
      "cell_type": "markdown",
      "source": [
        "# 1. Get the data from PyTorch repository and visualize it."
      ],
      "metadata": {
        "id": "zGT8jYviOh_h"
      }
    },
    {
      "cell_type": "code",
      "source": [
        "import torch\n",
        "import torch.nn as nn\n",
        "import torchvision.datasets as datasets\n",
        "import torchvision.transforms as transforms\n",
        "from torch.utils.data import DataLoader\n",
        "from torchsummary import summary\n",
        "\n",
        "import numpy as np\n",
        "import matplotlib.pyplot as plt"
      ],
      "metadata": {
        "id": "XpiiImoMO3px"
      },
      "execution_count": 1,
      "outputs": []
    },
    {
      "cell_type": "code",
      "source": [
        "# set random seed for reproducibility\n",
        "torch.manual_seed(42)"
      ],
      "metadata": {
        "id": "aiNE3lYRO3sV",
        "colab": {
          "base_uri": "https://localhost:8080/"
        },
        "outputId": "a3c40b25-0a46-4fca-e000-04f5dc545d86"
      },
      "execution_count": 2,
      "outputs": [
        {
          "output_type": "execute_result",
          "data": {
            "text/plain": [
              "<torch._C.Generator at 0x7fdccdb14d30>"
            ]
          },
          "metadata": {},
          "execution_count": 2
        }
      ]
    },
    {
      "cell_type": "code",
      "source": [
        "train_dataset = datasets.MNIST(root='./data', train=True, download=True)\n",
        "test_dataset = datasets.MNIST(root='./data', train=False, download=True)"
      ],
      "metadata": {
        "id": "J4hR3DQgO3vC",
        "colab": {
          "base_uri": "https://localhost:8080/"
        },
        "outputId": "6e67155f-5309-40a7-b7e7-e19942893d45"
      },
      "execution_count": 3,
      "outputs": [
        {
          "output_type": "stream",
          "name": "stdout",
          "text": [
            "Downloading http://yann.lecun.com/exdb/mnist/train-images-idx3-ubyte.gz\n",
            "Downloading http://yann.lecun.com/exdb/mnist/train-images-idx3-ubyte.gz to ./data/MNIST/raw/train-images-idx3-ubyte.gz\n"
          ]
        },
        {
          "output_type": "stream",
          "name": "stderr",
          "text": [
            "100%|██████████| 9912422/9912422 [00:00<00:00, 280377052.60it/s]"
          ]
        },
        {
          "output_type": "stream",
          "name": "stdout",
          "text": [
            "Extracting ./data/MNIST/raw/train-images-idx3-ubyte.gz to ./data/MNIST/raw\n"
          ]
        },
        {
          "output_type": "stream",
          "name": "stderr",
          "text": [
            "\n"
          ]
        },
        {
          "output_type": "stream",
          "name": "stdout",
          "text": [
            "\n",
            "Downloading http://yann.lecun.com/exdb/mnist/train-labels-idx1-ubyte.gz\n",
            "Downloading http://yann.lecun.com/exdb/mnist/train-labels-idx1-ubyte.gz to ./data/MNIST/raw/train-labels-idx1-ubyte.gz\n"
          ]
        },
        {
          "output_type": "stream",
          "name": "stderr",
          "text": [
            "100%|██████████| 28881/28881 [00:00<00:00, 112999714.39it/s]\n"
          ]
        },
        {
          "output_type": "stream",
          "name": "stdout",
          "text": [
            "Extracting ./data/MNIST/raw/train-labels-idx1-ubyte.gz to ./data/MNIST/raw\n",
            "\n",
            "Downloading http://yann.lecun.com/exdb/mnist/t10k-images-idx3-ubyte.gz\n",
            "Downloading http://yann.lecun.com/exdb/mnist/t10k-images-idx3-ubyte.gz to ./data/MNIST/raw/t10k-images-idx3-ubyte.gz\n"
          ]
        },
        {
          "output_type": "stream",
          "name": "stderr",
          "text": [
            "100%|██████████| 1648877/1648877 [00:00<00:00, 145929511.24it/s]\n"
          ]
        },
        {
          "output_type": "stream",
          "name": "stdout",
          "text": [
            "Extracting ./data/MNIST/raw/t10k-images-idx3-ubyte.gz to ./data/MNIST/raw\n",
            "\n",
            "Downloading http://yann.lecun.com/exdb/mnist/t10k-labels-idx1-ubyte.gz\n",
            "Downloading http://yann.lecun.com/exdb/mnist/t10k-labels-idx1-ubyte.gz to ./data/MNIST/raw/t10k-labels-idx1-ubyte.gz\n"
          ]
        },
        {
          "output_type": "stream",
          "name": "stderr",
          "text": [
            "100%|██████████| 4542/4542 [00:00<00:00, 21972928.22it/s]"
          ]
        },
        {
          "output_type": "stream",
          "name": "stdout",
          "text": [
            "Extracting ./data/MNIST/raw/t10k-labels-idx1-ubyte.gz to ./data/MNIST/raw\n",
            "\n"
          ]
        },
        {
          "output_type": "stream",
          "name": "stderr",
          "text": [
            "\n"
          ]
        }
      ]
    },
    {
      "cell_type": "code",
      "source": [
        "train_dataset"
      ],
      "metadata": {
        "id": "JMqtEH0FO3xi",
        "colab": {
          "base_uri": "https://localhost:8080/"
        },
        "outputId": "d8072663-1856-4b6e-9458-98c7591a91bf"
      },
      "execution_count": 4,
      "outputs": [
        {
          "output_type": "execute_result",
          "data": {
            "text/plain": [
              "Dataset MNIST\n",
              "    Number of datapoints: 60000\n",
              "    Root location: ./data\n",
              "    Split: Train"
            ]
          },
          "metadata": {},
          "execution_count": 4
        }
      ]
    },
    {
      "cell_type": "code",
      "source": [
        "train_dataset[0]"
      ],
      "metadata": {
        "id": "TJ2memw0PUsN",
        "colab": {
          "base_uri": "https://localhost:8080/"
        },
        "outputId": "a04d5d64-284c-4ad0-eac8-bf46d2cb9f96"
      },
      "execution_count": 5,
      "outputs": [
        {
          "output_type": "execute_result",
          "data": {
            "text/plain": [
              "(<PIL.Image.Image image mode=L size=28x28 at 0x7FDC2DEB0610>, 5)"
            ]
          },
          "metadata": {},
          "execution_count": 5
        }
      ]
    },
    {
      "cell_type": "code",
      "source": [
        "train_dataset[0][0].show()  # imprimir el primer elemento de la primera tupla"
      ],
      "metadata": {
        "id": "bOgihSAFPbT4",
        "colab": {
          "base_uri": "https://localhost:8080/",
          "height": 45
        },
        "outputId": "ce3fb28e-be22-4aa6-cebf-98160b9f082e"
      },
      "execution_count": 6,
      "outputs": [
        {
          "output_type": "display_data",
          "data": {
            "text/plain": [
              "<PIL.Image.Image image mode=L size=28x28 at 0x7FDC2DEB0DF0>"
            ],
            "image/png": "[encoded data removed]"
          },
          "metadata": {}
        }
      ]
    },
    {
      "cell_type": "code",
      "source": [
        "sample_array = np.array(train_dataset[0][0])\n",
        "print(\"Sample shape:\", sample_array.shape)\n",
        "print(\"Sample min value:\", sample_array.min())\n",
        "print(\"Sample max value:\", sample_array.max())"
      ],
      "metadata": {
        "id": "YCVKE7ABQQxw",
        "colab": {
          "base_uri": "https://localhost:8080/"
        },
        "outputId": "7e5d63f8-8751-486a-b2fb-7ca89afd50c7"
      },
      "execution_count": 7,
      "outputs": [
        {
          "output_type": "stream",
          "name": "stdout",
          "text": [
            "Sample shape: (28, 28)\n",
            "Sample min value: 0\n",
            "Sample max value: 255\n"
          ]
        }
      ]
    },
    {
      "cell_type": "code",
      "source": [
        "test_dataset"
      ],
      "metadata": {
        "id": "avxdZ7MfO31K",
        "colab": {
          "base_uri": "https://localhost:8080/"
        },
        "outputId": "f9ec479e-3b1f-406d-eed4-6e7da2641256"
      },
      "execution_count": 8,
      "outputs": [
        {
          "output_type": "execute_result",
          "data": {
            "text/plain": [
              "Dataset MNIST\n",
              "    Number of datapoints: 10000\n",
              "    Root location: ./data\n",
              "    Split: Test"
            ]
          },
          "metadata": {},
          "execution_count": 8
        }
      ]
    },
    {
      "cell_type": "code",
      "source": [
        "test_dataset[0]   # imprime la tupla: (imagen, annotación/ label de que es la imagen)"
      ],
      "metadata": {
        "id": "EYHSIsUnPmxW",
        "colab": {
          "base_uri": "https://localhost:8080/"
        },
        "outputId": "730fac28-6220-4506-e98e-828c47ee03f4"
      },
      "execution_count": 9,
      "outputs": [
        {
          "output_type": "execute_result",
          "data": {
            "text/plain": [
              "(<PIL.Image.Image image mode=L size=28x28 at 0x7FDC2DEB25F0>, 7)"
            ]
          },
          "metadata": {},
          "execution_count": 9
        }
      ]
    },
    {
      "cell_type": "code",
      "source": [
        "test_dataset[0][0].show()"
      ],
      "metadata": {
        "id": "Los9fm0fPotz",
        "colab": {
          "base_uri": "https://localhost:8080/",
          "height": 45
        },
        "outputId": "39a32be1-0016-4f2a-fcf7-7e70dd0a4e02"
      },
      "execution_count": 10,
      "outputs": [
        {
          "output_type": "display_data",
          "data": {
            "text/plain": [
              "<PIL.Image.Image image mode=L size=28x28 at 0x7FDC2DF07DC0>"
            ],
            "image/png": "[encoded data removed]"
          },
          "metadata": {}
        }
      ]
    },
    {
      "cell_type": "markdown",
      "source": [
        "# 2. Pre-process the data."
      ],
      "metadata": {
        "id": "pwN15HgCOqHX"
      }
    },
    {
      "cell_type": "code",
      "source": [
        "transform = transforms.Compose([\n",
        "    transforms.ToTensor(),\n",
        "])\n",
        "train_dataset = datasets.MNIST(root='./data', train=True, download=True, transform=transform)   # descargar datasets\n",
        "test_dataset = datasets.MNIST(root='./data', train=False, download=True, transform=transform)\n",
        "# Split the test set into validation and test sets\n",
        "valid_dataset, test_dataset = torch.utils.data.random_split(test_dataset, [5000, 5000])         # splits the test_dataset into two separate datasets: valid_dataset and test_dataset with each 5000 values\n",
        "train_loader = DataLoader(train_dataset, batch_size=64, shuffle=True)                           # estructura de datos, me manda batches de 64 datos; shuffle: para no aprender durante la fase del entrenamiento de los batches \n",
        "valid_loader = DataLoader(valid_dataset, batch_size=64, shuffle=False)\n",
        "test_loader = DataLoader(test_dataset, batch_size=64, shuffle=False)"
      ],
      "metadata": {
        "id": "lv3_v7TiTeos"
      },
      "execution_count": 11,
      "outputs": []
    },
    {
      "cell_type": "code",
      "source": [
        "images, labels = next(iter(train_loader))\n",
        "print(\"Sample shape:\", images.shape)\n",
        "print(\"Sample min value:\", images.min())\n",
        "print(\"Sample max value:\", images.max())"
      ],
      "metadata": {
        "id": "Gy4zlU_OVcvF",
        "colab": {
          "base_uri": "https://localhost:8080/"
        },
        "outputId": "f3389a5d-f23c-467c-cb1a-ccbdd92e3405"
      },
      "execution_count": 12,
      "outputs": [
        {
          "output_type": "stream",
          "name": "stdout",
          "text": [
            "Sample shape: torch.Size([64, 1, 28, 28])\n",
            "Sample min value: tensor(0.)\n",
            "Sample max value: tensor(1.)\n"
          ]
        }
      ]
    },
    {
      "cell_type": "markdown",
      "source": [
        "In this case, the sample shape is torch.Size([64, 1, 28, 28]), which indicates the following:\n",
        "\n",
        "* The first number, 64, represents the **batch size**. It indicates that there are 64 samples in the batch.\n",
        "* The second number, 1, represents the **number of channels**. It indicates that each sample has 1 channel. In this context, it suggests that the input is grayscale since there is only one channel. If it were a color image, this number would typically be 3, representing the Red, Green, and Blue channels.\n",
        "* The third number, 28, represents the **height of the sample image**. It indicates that each sample has a height of 28 pixels.\n",
        "* The fourth number, 28, represents the **width of the sample image**. It indicates that each sample has a width of 28 pixels.\n",
        "\n",
        "Therefore, the overall shape of each sample in the tensor is (1, 28, 28), representing a grayscale image with dimensions 28x28 pixels. The batch size is 64, implying that there are 64 such samples in the given tensor."
      ],
      "metadata": {
        "id": "EeOpmtnzXgWD"
      }
    },
    {
      "cell_type": "code",
      "source": [
        "# Import dependence for visualization of images\n",
        "plt.rcParams['figure.figsize'] = (10,10)  # Configure figure size for appropriate visualization"
      ],
      "metadata": {
        "id": "1ue573nPU73F"
      },
      "execution_count": 13,
      "outputs": []
    },
    {
      "cell_type": "code",
      "source": [
        "# Plot the images in a 3x3 grid\n",
        "nrows = 3\n",
        "ncols = 3\n",
        "nsamples = nrows*ncols\n",
        "for i in range(nsamples):\n",
        "    plt.subplot(3,3,i+1)\n",
        "    plt.imshow(images[i, 0, :, :], cmap='gray', interpolation='none')\n",
        "    plt.title(\"Class {}\".format(labels[i]))"
      ],
      "metadata": {
        "id": "38GGWDGYTjLv",
        "colab": {
          "base_uri": "https://localhost:8080/",
          "height": 853
        },
        "outputId": "bec70033-ca53-42da-ba0a-0b2d0e1e153c"
      },
      "execution_count": 14,
      "outputs": [
        {
          "output_type": "display_data",
          "data": {
            "text/plain": [
              "<Figure size 1000x1000 with 9 Axes>"
            ],
            "image/png": "[encoded data removed]"
          },
          "metadata": {}
        }
      ]
    },
    {
      "cell_type": "markdown",
      "source": [
        "# 3. Design the network."
      ],
      "metadata": {
        "id": "ELzY49vBOqKM"
      }
    },
    {
      "cell_type": "code",
      "source": [
        "# Define model\n",
        "class Net(nn.Module):                     # cualquier nombre de la red\n",
        "    def __init__(self):                   # init siempre igual para decalar lasa capas de la red\n",
        "        super(Net, self).__init__()       # en este caso: 2 capas fully-connected (= nn.Linear)\n",
        "        self.fc1 = nn.Linear(784, 32)     # (variables de salida, num neuronas = num de clases)\n",
        "        self.fc2 = nn.Linear(32, 10)  \n",
        "\n",
        "    def forward(self, x):                # funcion como se conectan las capas\n",
        "        x = x.view(-1, 784)              # hacer un reshape de x (los datos que entran); -1 la dimension del batch, 2° pixeles en una fila: 28*28\n",
        "        x = torch.relu(self.fc1(x))\n",
        "        x = torch.softmax(self.fc2(x), dim=1)     # dim=0 es el batch, dim=1 son las clases\n",
        "        return x\n",
        "\n",
        "model = Net()"
      ],
      "metadata": {
        "id": "n469-4MfWrWC"
      },
      "execution_count": 15,
      "outputs": []
    },
    {
      "cell_type": "code",
      "source": [
        "device = torch.device('cuda:0' if torch.cuda.is_available() else 'cpu')\n",
        "model = model.to(device)"
      ],
      "metadata": {
        "id": "e1aGZik-aqnE"
      },
      "execution_count": 16,
      "outputs": []
    },
    {
      "cell_type": "code",
      "source": [
        "summary(model, (1, 28, 28))"
      ],
      "metadata": {
        "id": "3m2SwbvKYPiO",
        "colab": {
          "base_uri": "https://localhost:8080/"
        },
        "outputId": "8d58e099-55bc-44f3-f6e1-08086636acc3"
      },
      "execution_count": 17,
      "outputs": [
        {
          "output_type": "stream",
          "name": "stdout",
          "text": [
            "----------------------------------------------------------------\n",
            "        Layer (type)               Output Shape         Param #\n",
            "================================================================\n",
            "            Linear-1                   [-1, 32]          25,120\n",
            "            Linear-2                   [-1, 10]             330\n",
            "================================================================\n",
            "Total params: 25,450\n",
            "Trainable params: 25,450\n",
            "Non-trainable params: 0\n",
            "----------------------------------------------------------------\n",
            "Input size (MB): 0.00\n",
            "Forward/backward pass size (MB): 0.00\n",
            "Params size (MB): 0.10\n",
            "Estimated Total Size (MB): 0.10\n",
            "----------------------------------------------------------------\n"
          ]
        }
      ]
    },
    {
      "cell_type": "code",
      "source": [
        "# Define loss function and optimizer\n",
        "criterion = nn.CrossEntropyLoss()\n",
        "optimizer = torch.optim.Adam(model.parameters(), lr=0.001)"
      ],
      "metadata": {
        "id": "ZYbemSz8XIF2"
      },
      "execution_count": 18,
      "outputs": []
    },
    {
      "cell_type": "markdown",
      "source": [
        "# 4. Train the network."
      ],
      "metadata": {
        "id": "68YkMwOaOqNc"
      }
    },
    {
      "cell_type": "code",
      "source": [
        "def get_accuracy(y_pred, y_true):\n",
        "    \"\"\"Calculate the accuracy between predicted and true labels\"\"\"\n",
        "    _, y_pred = torch.max(y_pred, dim=1)\n",
        "    correct = torch.sum(y_pred == y_true).float()\n",
        "    acc = correct / len(y_true)\n",
        "    return acc"
      ],
      "metadata": {
        "id": "JJLCMQHjjaz9"
      },
      "execution_count": 19,
      "outputs": []
    },
    {
      "cell_type": "code",
      "source": [
        "# Train the model\n",
        "device = torch.device(\"cuda\" if torch.cuda.is_available() else \"cpu\")\n",
        "model.to(device)\n",
        "\n",
        "train_loss_history = []\n",
        "valid_loss_history = []\n",
        "train_accuracy_history = []\n",
        "valid_accuracy_history = []\n",
        "\n",
        "num_epochs = 10\n",
        "\n",
        "for epoch in range(num_epochs):                         # iterar por cada epoch: en cada epoch \n",
        "    for i, (images, labels) in enumerate(train_loader): # recorre por todo el datasaet train_loader\n",
        "\n",
        "        # Clear gradients (para reiniciarlos)\n",
        "        optimizer.zero_grad()\n",
        "\n",
        "        # Move images and labels to device (GPU)\n",
        "        images = images.to(device)\n",
        "        labels = labels.to(device)\n",
        "\n",
        "        # Forward pass (con tu batch)            \n",
        "        outputs = model(images)     # crear predicciones de nuestro batch\n",
        "\n",
        "        # Compute loss\n",
        "        loss = criterion(outputs, labels)     # calcular para luego poder cambiar los pesos del modelo\n",
        "\n",
        "        # Backward pass \n",
        "        loss.backward()     # calcular los gradientes para los pesos\n",
        "\n",
        "        # Update weights\n",
        "        optimizer.step()    # en consequiencia de los gradientes que hemos calculado\n",
        "\n",
        "    # Calculate accuracy\n",
        "    train_loss = 0\n",
        "    valid_loss = 0\n",
        "    train_accuracy = 0\n",
        "    valid_accuracy = 0\n",
        "\n",
        "    # Turn off gradients for validation to speed up inference  (eso no cambia la red, solo para poder ver como va nuestro modelo)\n",
        "    with torch.no_grad():\n",
        "        for images, labels in train_loader:\n",
        "\n",
        "            # Move images and labels to device\n",
        "            images, labels = images.to(device), labels.to(device)\n",
        "            \n",
        "            # Forward pass\n",
        "            output = model(images)\n",
        "\n",
        "            # Calculate loss\n",
        "            train_loss += criterion(output, labels)\n",
        "\n",
        "            # Calculate accuracy\n",
        "            train_accuracy += get_accuracy(output, labels)\n",
        "        \n",
        "        train_loss_history.append(train_loss.cpu().numpy() / len(train_loader))\n",
        "        train_accuracy_history.append(train_accuracy.cpu().numpy() / len(train_loader))\n",
        "\n",
        "        for images, labels in valid_loader:\n",
        "\n",
        "            # Move images and labels to device\n",
        "            images, labels = images.to(device), labels.to(device)\n",
        "            \n",
        "            # Forward pass\n",
        "            output = model(images)\n",
        "\n",
        "            # Calculate loss\n",
        "            valid_loss += criterion(output, labels)\n",
        "\n",
        "            # Calculate accuracy\n",
        "            valid_accuracy += get_accuracy(output, labels)\n",
        "        \n",
        "        valid_loss_history.append(valid_loss.cpu().numpy() / len(valid_loader))\n",
        "        valid_accuracy_history.append(valid_accuracy.cpu().numpy() / len(valid_loader))\n",
        "\n",
        "        print(f\"Epoch {epoch+1}/{num_epochs} | \"\n",
        "              f\"Train loss: {train_loss/len(train_loader):.3f} | \"\n",
        "              f\"Train accuracy: {train_accuracy/len(train_loader):.3f} | \"\n",
        "              f\"Valid loss: {valid_loss/len(valid_loader):.3f} | \"\n",
        "              f\"Valid accuracy: {valid_accuracy/len(valid_loader):.3f}\")"
      ],
      "metadata": {
        "id": "TE_6nPVfXYA1",
        "colab": {
          "base_uri": "https://localhost:8080/"
        },
        "outputId": "63521e2f-f1c3-428d-c3eb-4c660b4a58d1"
      },
      "execution_count": 20,
      "outputs": [
        {
          "output_type": "stream",
          "name": "stdout",
          "text": [
            "Epoch 1/10 | Train loss: 1.558 | Train accuracy: 0.917 | Valid loss: 1.551 | Valid accuracy: 0.923\n",
            "Epoch 2/10 | Train loss: 1.543 | Train accuracy: 0.927 | Valid loss: 1.536 | Valid accuracy: 0.933\n",
            "Epoch 3/10 | Train loss: 1.534 | Train accuracy: 0.934 | Valid loss: 1.529 | Valid accuracy: 0.938\n",
            "Epoch 4/10 | Train loss: 1.527 | Train accuracy: 0.941 | Valid loss: 1.525 | Valid accuracy: 0.942\n",
            "Epoch 5/10 | Train loss: 1.521 | Train accuracy: 0.946 | Valid loss: 1.518 | Valid accuracy: 0.946\n",
            "Epoch 6/10 | Train loss: 1.517 | Train accuracy: 0.949 | Valid loss: 1.517 | Valid accuracy: 0.949\n",
            "Epoch 7/10 | Train loss: 1.514 | Train accuracy: 0.952 | Valid loss: 1.515 | Valid accuracy: 0.950\n",
            "Epoch 8/10 | Train loss: 1.510 | Train accuracy: 0.956 | Valid loss: 1.511 | Valid accuracy: 0.955\n",
            "Epoch 9/10 | Train loss: 1.507 | Train accuracy: 0.958 | Valid loss: 1.509 | Valid accuracy: 0.955\n",
            "Epoch 10/10 | Train loss: 1.506 | Train accuracy: 0.959 | Valid loss: 1.509 | Valid accuracy: 0.955\n"
          ]
        }
      ]
    },
    {
      "cell_type": "code",
      "source": [
        "# Plot training and validation accuracy\n",
        "plt.plot(train_accuracy_history)\n",
        "plt.plot(valid_accuracy_history)\n",
        "plt.title('Model accuracy')\n",
        "plt.ylabel('Accuracy')\n",
        "plt.xlabel('Epoch')\n",
        "plt.legend(['Train', 'Val'], loc='upper left')\n",
        "plt.show()"
      ],
      "metadata": {
        "id": "zUkSdhbrSfjr",
        "colab": {
          "base_uri": "https://localhost:8080/",
          "height": 872
        },
        "outputId": "b4d3778a-f2d5-4bec-f1b1-9d614fb5e58d"
      },
      "execution_count": 21,
      "outputs": [
        {
          "output_type": "display_data",
          "data": {
            "text/plain": [
              "<Figure size 1000x1000 with 1 Axes>"
            ],
            "image/png": "[encoded data removed]"
          },
          "metadata": {}
        }
      ]
    },
    {
      "cell_type": "code",
      "source": [
        "# Plot training and validation accuracy\n",
        "plt.plot(train_loss_history)\n",
        "plt.plot(valid_loss_history)\n",
        "plt.title('Model loss')\n",
        "plt.ylabel('Loss')\n",
        "plt.xlabel('Epoch')\n",
        "plt.legend(['Train', 'Val'], loc='upper left')\n",
        "plt.show()"
      ],
      "metadata": {
        "id": "SOuwjFRPTJR3",
        "colab": {
          "base_uri": "https://localhost:8080/",
          "height": 872
        },
        "outputId": "ccb9e662-d032-40a1-f13b-4718043c92e8"
      },
      "execution_count": 22,
      "outputs": [
        {
          "output_type": "display_data",
          "data": {
            "text/plain": [
              "<Figure size 1000x1000 with 1 Axes>"
            ],
            "image/png": "[encoded data removed]"
          },
          "metadata": {}
        }
      ]
    },
    {
      "cell_type": "markdown",
      "source": [
        "# 5. Evaluate the model."
      ],
      "metadata": {
        "id": "Ohk85u8QOqYh"
      }
    },
    {
      "cell_type": "code",
      "source": [
        "# Calculate metrics in the test partition\n",
        "test_loss = 0\n",
        "test_accuracy = 0\n",
        "for images, labels in test_loader:\n",
        "\n",
        "    # Move images and labels to device\n",
        "    images, labels = images.to(device), labels.to(device)\n",
        "    \n",
        "    # Forward pass\n",
        "    output = model(images)\n",
        "\n",
        "    # Calculate loss\n",
        "    test_loss += criterion(output, labels)\n",
        "\n",
        "    # Calculate accuracy\n",
        "    test_accuracy += get_accuracy(output, labels)\n",
        "print(\"Test loss:\", test_loss / len(test_loader))\n",
        "print(\"Test accuracy:\", test_accuracy / len(test_loader))"
      ],
      "metadata": {
        "id": "OafHOLxsSeeB",
        "colab": {
          "base_uri": "https://localhost:8080/"
        },
        "outputId": "61241920-3afe-44fe-9343-eee352bb1bdb"
      },
      "execution_count": 23,
      "outputs": [
        {
          "output_type": "stream",
          "name": "stdout",
          "text": [
            "Test loss: tensor(1.5202, device='cuda:0', grad_fn=<DivBackward0>)\n",
            "Test accuracy: tensor(0.9436, device='cuda:0')\n"
          ]
        }
      ]
    },
    {
      "cell_type": "markdown",
      "metadata": {
        "id": "XFikgbMtE7vv"
      },
      "source": [
        "# Exercise 1: Create a new model with 512 neurons in the hidden layer and repeat the process"
      ]
    },
    {
      "cell_type": "code",
      "metadata": {
        "id": "AHsnnITjE7Bi"
      },
      "source": [
        "# Design the model\n",
        "class Franzi(nn.Module):                     # cualquier nombre de la red\n",
        "    def __init__(self):                   # init siempre igual para decalar lasa capas de la red\n",
        "        super(Franzi, self).__init__()       # en este caso: 2 capas fully-connected (= nn.Linear)\n",
        "        self.fc1 = nn.Linear(784, 512)     # (variables de salida, num neuronas = num de clases)\n",
        "        self.fc2 = nn.Linear(512, 10)  \n",
        "\n",
        "    def forward(self, x):                # funcion como se conectan las capas\n",
        "        x = x.view(-1, 784)              # hacer un reshape de x (los datos que entran); -1 la dimension del batch, 2° pixeles en una fila: 28*28\n",
        "        x = torch.relu(self.fc1(x))\n",
        "        x = torch.softmax(self.fc2(x), dim=1)     # dim=0 es el batch, dim=1 son las clases\n",
        "        return x\n",
        "\n",
        "model = Franzi()"
      ],
      "execution_count": 27,
      "outputs": []
    },
    {
      "cell_type": "code",
      "metadata": {
        "id": "Ecq4qZiRG1r2",
        "colab": {
          "base_uri": "https://localhost:8080/"
        },
        "outputId": "6285f9c6-f3f1-4356-c796-48492f0a3203"
      },
      "source": [
        "# Show summary of the model\n",
        "device = torch.device('cuda:0' if torch.cuda.is_available() else 'cpu')\n",
        "summary(model.to(device), (1, 28, 28))"
      ],
      "execution_count": 29,
      "outputs": [
        {
          "output_type": "stream",
          "name": "stdout",
          "text": [
            "----------------------------------------------------------------\n",
            "        Layer (type)               Output Shape         Param #\n",
            "================================================================\n",
            "            Linear-1                  [-1, 512]         401,920\n",
            "            Linear-2                   [-1, 10]           5,130\n",
            "================================================================\n",
            "Total params: 407,050\n",
            "Trainable params: 407,050\n",
            "Non-trainable params: 0\n",
            "----------------------------------------------------------------\n",
            "Input size (MB): 0.00\n",
            "Forward/backward pass size (MB): 0.00\n",
            "Params size (MB): 1.55\n",
            "Estimated Total Size (MB): 1.56\n",
            "----------------------------------------------------------------\n"
          ]
        }
      ]
    },
    {
      "cell_type": "code",
      "source": [
        "# Define loss function and optimizer\n",
        "criterion = nn.CrossEntropyLoss()\n",
        "optimizer = torch.optim.Adam(model.parameters(), lr=0.001)"
      ],
      "metadata": {
        "id": "JmE-8AtDZdA4"
      },
      "execution_count": 30,
      "outputs": []
    },
    {
      "cell_type": "code",
      "metadata": {
        "id": "PoEN_hmFGa01",
        "colab": {
          "base_uri": "https://localhost:8080/"
        },
        "outputId": "b72b288c-aa8b-4fe2-bdcd-031e942e20fc"
      },
      "source": [
        "# Train the model\n",
        "device = torch.device(\"cuda\" if torch.cuda.is_available() else \"cpu\")\n",
        "model.to(device)\n",
        "\n",
        "train_loss_history = []\n",
        "valid_loss_history = []\n",
        "train_accuracy_history = []\n",
        "valid_accuracy_history = []\n",
        "\n",
        "num_epochs = 10\n",
        "\n",
        "for epoch in range(num_epochs):                         # iterar por cada epoch: en cada epoch \n",
        "    for i, (images, labels) in enumerate(train_loader): # recorre por todo el datasaet train_loader\n",
        "\n",
        "        # Clear gradients (para reiniciarlos)\n",
        "        optimizer.zero_grad()\n",
        "\n",
        "        # Move images and labels to device (GPU)\n",
        "        images = images.to(device)\n",
        "        labels = labels.to(device)\n",
        "\n",
        "        # Forward pass (con tu batch)            \n",
        "        outputs = model(images)     # crear predicciones de nuestro batch\n",
        "\n",
        "        # Compute loss\n",
        "        loss = criterion(outputs, labels)     # calcular para luego poder cambiar los pesos del modelo\n",
        "\n",
        "        # Backward pass \n",
        "        loss.backward()     # calcular los gradientes para los pesos\n",
        "\n",
        "        # Update weights\n",
        "        optimizer.step()    # en consequiencia de los gradientes que hemos calculado\n",
        "\n",
        "    # Calculate accuracy\n",
        "    train_loss = 0\n",
        "    valid_loss = 0\n",
        "    train_accuracy = 0\n",
        "    valid_accuracy = 0\n",
        "\n",
        "    # Turn off gradients for validation to speed up inference  (eso no cambia la red, solo para poder ver como va nuestro modelo)\n",
        "    with torch.no_grad():\n",
        "        for images, labels in train_loader:\n",
        "\n",
        "            # Move images and labels to device\n",
        "            images, labels = images.to(device), labels.to(device)\n",
        "            \n",
        "            # Forward pass\n",
        "            output = model(images)\n",
        "\n",
        "            # Calculate loss\n",
        "            train_loss += criterion(output, labels)\n",
        "\n",
        "            # Calculate accuracy\n",
        "            train_accuracy += get_accuracy(output, labels)\n",
        "        \n",
        "        train_loss_history.append(train_loss.cpu().numpy() / len(train_loader))\n",
        "        train_accuracy_history.append(train_accuracy.cpu().numpy() / len(train_loader))\n",
        "\n",
        "        for images, labels in valid_loader:\n",
        "\n",
        "            # Move images and labels to device\n",
        "            images, labels = images.to(device), labels.to(device)\n",
        "            \n",
        "            # Forward pass\n",
        "            output = model(images)\n",
        "\n",
        "            # Calculate loss\n",
        "            valid_loss += criterion(output, labels)\n",
        "\n",
        "            # Calculate accuracy\n",
        "            valid_accuracy += get_accuracy(output, labels)\n",
        "        \n",
        "        valid_loss_history.append(valid_loss.cpu().numpy() / len(valid_loader))\n",
        "        valid_accuracy_history.append(valid_accuracy.cpu().numpy() / len(valid_loader))\n",
        "\n",
        "        print(f\"Epoch {epoch+1}/{num_epochs} | \"\n",
        "              f\"Train loss: {train_loss/len(train_loader):.3f} | \"\n",
        "              f\"Train accuracy: {train_accuracy/len(train_loader):.3f} | \"\n",
        "              f\"Valid loss: {valid_loss/len(valid_loader):.3f} | \"\n",
        "              f\"Valid accuracy: {valid_accuracy/len(valid_loader):.3f}\")"
      ],
      "execution_count": 31,
      "outputs": [
        {
          "output_type": "stream",
          "name": "stdout",
          "text": [
            "Epoch 1/10 | Train loss: 1.522 | Train accuracy: 0.945 | Valid loss: 1.520 | Valid accuracy: 0.945\n",
            "Epoch 2/10 | Train loss: 1.497 | Train accuracy: 0.967 | Valid loss: 1.498 | Valid accuracy: 0.966\n",
            "Epoch 3/10 | Train loss: 1.494 | Train accuracy: 0.970 | Valid loss: 1.497 | Valid accuracy: 0.967\n",
            "Epoch 4/10 | Train loss: 1.484 | Train accuracy: 0.979 | Valid loss: 1.488 | Valid accuracy: 0.976\n",
            "Epoch 5/10 | Train loss: 1.480 | Train accuracy: 0.983 | Valid loss: 1.485 | Valid accuracy: 0.977\n",
            "Epoch 6/10 | Train loss: 1.477 | Train accuracy: 0.986 | Valid loss: 1.483 | Valid accuracy: 0.979\n",
            "Epoch 7/10 | Train loss: 1.476 | Train accuracy: 0.987 | Valid loss: 1.485 | Valid accuracy: 0.977\n",
            "Epoch 8/10 | Train loss: 1.474 | Train accuracy: 0.988 | Valid loss: 1.483 | Valid accuracy: 0.979\n",
            "Epoch 9/10 | Train loss: 1.473 | Train accuracy: 0.989 | Valid loss: 1.483 | Valid accuracy: 0.979\n",
            "Epoch 10/10 | Train loss: 1.472 | Train accuracy: 0.990 | Valid loss: 1.482 | Valid accuracy: 0.980\n"
          ]
        }
      ]
    },
    {
      "cell_type": "code",
      "metadata": {
        "id": "7be6fqJwIXIJ",
        "colab": {
          "base_uri": "https://localhost:8080/"
        },
        "outputId": "9ccf00fa-8d44-4857-93c4-f7bd6af837c4"
      },
      "source": [
        "# Obtain metrics in the test partition\n",
        "test_loss = 0\n",
        "test_accuracy = 0\n",
        "for images, labels in test_loader:\n",
        "\n",
        "    # Move images and labels to device\n",
        "    images, labels = images.to(device), labels.to(device)\n",
        "    \n",
        "    # Forward pass\n",
        "    output = model(images)\n",
        "\n",
        "    # Calculate loss\n",
        "    test_loss += criterion(output, labels)\n",
        "\n",
        "    # Calculate accuracy\n",
        "    test_accuracy += get_accuracy(output, labels)\n",
        "print(\"Test loss:\", test_loss / len(test_loader))\n",
        "print(\"Test accuracy:\", test_accuracy / len(test_loader))"
      ],
      "execution_count": 32,
      "outputs": [
        {
          "output_type": "stream",
          "name": "stdout",
          "text": [
            "Test loss: tensor(1.4875, device='cuda:0', grad_fn=<DivBackward0>)\n",
            "Test accuracy: tensor(0.9737, device='cuda:0')\n"
          ]
        }
      ]
    },
    {
      "cell_type": "markdown",
      "metadata": {
        "id": "BqlE4Fn6Fi1G"
      },
      "source": [
        "# Exercise 2: Add a hidden layer with 512 neurons to the model of exercise 1 and repeat the process"
      ]
    },
    {
      "cell_type": "code",
      "metadata": {
        "id": "GmP3tEOOZ_Hh"
      },
      "source": [
        "# Design the model\n",
        "class Franzi(nn.Module):                     # cualquier nombre de la red\n",
        "    def __init__(self):                   # init siempre igual para decalar lasa capas de la red\n",
        "        super(Franzi, self).__init__()       # en este caso: 2 capas fully-connected (= nn.Linear)\n",
        "        self.fc1 = nn.Linear(784, 512)     # (variables de salida, num neuronas = num de clases)\n",
        "        self.fc2 = nn.Linear(512, 512)  \n",
        "        self.fc3 = nn.Linear(512, 10) \n",
        "\n",
        "    def forward(self, x):                # funcion como se conectan las capas\n",
        "        x = x.view(-1, 784)              # hacer un reshape de x (los datos que entran); -1 la dimension del batch, 2° pixeles en una fila: 28*28\n",
        "        x = torch.relu(self.fc1(x))\n",
        "        x = torch.softmax(self.fc2(x), dim=1)     # dim=0 es el batch, dim=1 son las clases\n",
        "        return x\n",
        "\n",
        "model = Franzi()"
      ],
      "execution_count": 38,
      "outputs": []
    },
    {
      "cell_type": "code",
      "metadata": {
        "id": "rARt_5FOZ_Hq",
        "colab": {
          "base_uri": "https://localhost:8080/"
        },
        "outputId": "3cda7038-b337-4c95-d0aa-ce004ee37f4f"
      },
      "source": [
        "# Show summary of the model\n",
        "device = torch.device('cuda:0' if torch.cuda.is_available() else 'cpu')\n",
        "summary(model.to(device), (1, 28, 28))"
      ],
      "execution_count": 39,
      "outputs": [
        {
          "output_type": "stream",
          "name": "stdout",
          "text": [
            "----------------------------------------------------------------\n",
            "        Layer (type)               Output Shape         Param #\n",
            "================================================================\n",
            "            Linear-1                  [-1, 512]         401,920\n",
            "            Linear-2                  [-1, 512]         262,656\n",
            "================================================================\n",
            "Total params: 664,576\n",
            "Trainable params: 664,576\n",
            "Non-trainable params: 0\n",
            "----------------------------------------------------------------\n",
            "Input size (MB): 0.00\n",
            "Forward/backward pass size (MB): 0.01\n",
            "Params size (MB): 2.54\n",
            "Estimated Total Size (MB): 2.55\n",
            "----------------------------------------------------------------\n"
          ]
        }
      ]
    },
    {
      "cell_type": "code",
      "source": [
        "# Define loss function and optimizer\n",
        "criterion = nn.CrossEntropyLoss()\n",
        "optimizer = torch.optim.Adam(model.parameters(), lr=0.001)"
      ],
      "metadata": {
        "id": "Pl4uwKNLZ_Hr"
      },
      "execution_count": 35,
      "outputs": []
    },
    {
      "cell_type": "code",
      "metadata": {
        "id": "gqU47hrwZ_Hr",
        "colab": {
          "base_uri": "https://localhost:8080/"
        },
        "outputId": "0a6e09fe-4839-4fba-c15a-692b45ee3ea3"
      },
      "source": [
        "# Train the model\n",
        "device = torch.device(\"cuda\" if torch.cuda.is_available() else \"cpu\")\n",
        "model.to(device)\n",
        "\n",
        "train_loss_history = []\n",
        "valid_loss_history = []\n",
        "train_accuracy_history = []\n",
        "valid_accuracy_history = []\n",
        "\n",
        "num_epochs = 10\n",
        "\n",
        "for epoch in range(num_epochs):                         # iterar por cada epoch: en cada epoch \n",
        "    for i, (images, labels) in enumerate(train_loader): # recorre por todo el datasaet train_loader\n",
        "\n",
        "        # Clear gradients (para reiniciarlos)\n",
        "        optimizer.zero_grad()\n",
        "\n",
        "        # Move images and labels to device (GPU)\n",
        "        images = images.to(device)\n",
        "        labels = labels.to(device)\n",
        "\n",
        "        # Forward pass (con tu batch)            \n",
        "        outputs = model(images)     # crear predicciones de nuestro batch\n",
        "\n",
        "        # Compute loss\n",
        "        loss = criterion(outputs, labels)     # calcular para luego poder cambiar los pesos del modelo\n",
        "\n",
        "        # Backward pass \n",
        "        loss.backward()     # calcular los gradientes para los pesos\n",
        "\n",
        "        # Update weights\n",
        "        optimizer.step()    # en consequiencia de los gradientes que hemos calculado\n",
        "\n",
        "    # Calculate accuracy\n",
        "    train_loss = 0\n",
        "    valid_loss = 0\n",
        "    train_accuracy = 0\n",
        "    valid_accuracy = 0\n",
        "\n",
        "    # Turn off gradients for validation to speed up inference  (eso no cambia la red, solo para poder ver como va nuestro modelo)\n",
        "    with torch.no_grad():\n",
        "        for images, labels in train_loader:\n",
        "\n",
        "            # Move images and labels to device\n",
        "            images, labels = images.to(device), labels.to(device)\n",
        "            \n",
        "            # Forward pass\n",
        "            output = model(images)\n",
        "\n",
        "            # Calculate loss\n",
        "            train_loss += criterion(output, labels)\n",
        "\n",
        "            # Calculate accuracy\n",
        "            train_accuracy += get_accuracy(output, labels)\n",
        "        \n",
        "        train_loss_history.append(train_loss.cpu().numpy() / len(train_loader))\n",
        "        train_accuracy_history.append(train_accuracy.cpu().numpy() / len(train_loader))\n",
        "\n",
        "        for images, labels in valid_loader:\n",
        "\n",
        "            # Move images and labels to device\n",
        "            images, labels = images.to(device), labels.to(device)\n",
        "            \n",
        "            # Forward pass\n",
        "            output = model(images)\n",
        "\n",
        "            # Calculate loss\n",
        "            valid_loss += criterion(output, labels)\n",
        "\n",
        "            # Calculate accuracy\n",
        "            valid_accuracy += get_accuracy(output, labels)\n",
        "        \n",
        "        valid_loss_history.append(valid_loss.cpu().numpy() / len(valid_loader))\n",
        "        valid_accuracy_history.append(valid_accuracy.cpu().numpy() / len(valid_loader))\n",
        "\n",
        "        print(f\"Epoch {epoch+1}/{num_epochs} | \"\n",
        "              f\"Train loss: {train_loss/len(train_loader):.3f} | \"\n",
        "              f\"Train accuracy: {train_accuracy/len(train_loader):.3f} | \"\n",
        "              f\"Valid loss: {valid_loss/len(valid_loader):.3f} | \"\n",
        "              f\"Valid accuracy: {valid_accuracy/len(valid_loader):.3f}\")"
      ],
      "execution_count": 36,
      "outputs": [
        {
          "output_type": "stream",
          "name": "stdout",
          "text": [
            "Epoch 1/10 | Train loss: 2.582 | Train accuracy: 0.943 | Valid loss: 2.577 | Valid accuracy: 0.948\n",
            "Epoch 2/10 | Train loss: 2.563 | Train accuracy: 0.960 | Valid loss: 2.563 | Valid accuracy: 0.960\n",
            "Epoch 3/10 | Train loss: 2.553 | Train accuracy: 0.969 | Valid loss: 2.554 | Valid accuracy: 0.968\n",
            "Epoch 4/10 | Train loss: 2.544 | Train accuracy: 0.977 | Valid loss: 2.547 | Valid accuracy: 0.973\n",
            "Epoch 5/10 | Train loss: 2.540 | Train accuracy: 0.980 | Valid loss: 2.545 | Valid accuracy: 0.975\n",
            "Epoch 6/10 | Train loss: 2.537 | Train accuracy: 0.983 | Valid loss: 2.544 | Valid accuracy: 0.976\n",
            "Epoch 7/10 | Train loss: 2.534 | Train accuracy: 0.986 | Valid loss: 2.540 | Valid accuracy: 0.979\n",
            "Epoch 8/10 | Train loss: 2.534 | Train accuracy: 0.986 | Valid loss: 2.541 | Valid accuracy: 0.978\n",
            "Epoch 9/10 | Train loss: 2.531 | Train accuracy: 0.989 | Valid loss: 2.540 | Valid accuracy: 0.980\n",
            "Epoch 10/10 | Train loss: 2.530 | Train accuracy: 0.989 | Valid loss: 2.538 | Valid accuracy: 0.982\n"
          ]
        }
      ]
    },
    {
      "cell_type": "code",
      "metadata": {
        "id": "ZGcrukkIZ_Hr",
        "colab": {
          "base_uri": "https://localhost:8080/"
        },
        "outputId": "33891ede-aa9d-4130-d559-0a2428fd6425"
      },
      "source": [
        "# Obtain metrics in the test partition\n",
        "test_loss = 0\n",
        "test_accuracy = 0\n",
        "for images, labels in test_loader:\n",
        "\n",
        "    # Move images and labels to device\n",
        "    images, labels = images.to(device), labels.to(device)\n",
        "    \n",
        "    # Forward pass\n",
        "    output = model(images)\n",
        "\n",
        "    # Calculate loss\n",
        "    test_loss += criterion(output, labels)\n",
        "\n",
        "    # Calculate accuracy\n",
        "    test_accuracy += get_accuracy(output, labels)\n",
        "print(\"Test loss:\", test_loss / len(test_loader))\n",
        "print(\"Test accuracy:\", test_accuracy / len(test_loader))"
      ],
      "execution_count": 37,
      "outputs": [
        {
          "output_type": "stream",
          "name": "stdout",
          "text": [
            "Test loss: tensor(2.5463, device='cuda:0', grad_fn=<DivBackward0>)\n",
            "Test accuracy: tensor(0.9733, device='cuda:0')\n"
          ]
        }
      ]
    }
  ]
}