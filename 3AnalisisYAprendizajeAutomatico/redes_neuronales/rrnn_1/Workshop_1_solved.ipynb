{
  "nbformat": 4,
  "nbformat_minor": 0,
  "metadata": {
    "colab": {
      "provenance": [],
      "toc_visible": true
    },
    "kernelspec": {
      "name": "python3",
      "display_name": "Python 3"
    },
    "accelerator": "GPU"
  },
  "cells": [
    {
      "cell_type": "markdown",
      "metadata": {
        "id": "HZenyhaE7D5U"
      },
      "source": [
        "# Workshop 1: Mobile Price Range Classification\n",
        "\n",
        "In this workshop we will learn how to train a neural network with numeric data as input to predict the price range of mobile phones ([info of the data](https://www.kaggle.com/iabhishekofficial/mobile-price-classification/data#)). The main blocks of the workshop are:\n",
        "\n",
        "1. Get the data from Google Drive.\n",
        "2. Load and Pre-process the data.\n",
        "3. Define a Fully Connected Neural Network.\n",
        "4. Choose loss function and optimizer.\n",
        "5. Train the network.\n",
        "\n",
        "The main libraries thar will be used in the workshop are:\n",
        "\n",
        "- Tensorflow\n",
        "- Keras\n",
        "- Sci-kit Learn\n",
        "- Matplotlib\n",
        "- Numpy\n",
        "- Pandas\n",
        "\n",
        "[Reference](https://towardsdatascience.com/building-our-first-neural-network-in-keras-bdc8abbc17f5)"
      ]
    },
    {
      "cell_type": "markdown",
      "metadata": {
        "id": "ptnsZfN-7A_0"
      },
      "source": [
        "## 1. Get the data from Google Drive"
      ]
    },
    {
      "cell_type": "code",
      "metadata": {
        "id": "yvo1e0KT4zTv"
      },
      "source": [
        "# Import libraries to interact with Google Drive\n",
        "from pydrive.auth import GoogleAuth\n",
        "from pydrive.drive import GoogleDrive\n",
        "from google.colab import auth\n",
        "from oauth2client.client import GoogleCredentials"
      ],
      "execution_count": 1,
      "outputs": []
    },
    {
      "cell_type": "code",
      "metadata": {
        "id": "qw0YVraI5hjG"
      },
      "source": [
        "# Authenticate with your Google account to get access to the data\n",
        "auth.authenticate_user()\n",
        "gauth = GoogleAuth()\n",
        "gauth.credentials = GoogleCredentials.get_application_default()\n",
        "drive = GoogleDrive(gauth)"
      ],
      "execution_count": 2,
      "outputs": []
    },
    {
      "cell_type": "code",
      "metadata": {
        "id": "vIJOt1lg5pvG"
      },
      "source": [
        "# Download data\n",
        "download = drive.CreateFile({'id': '1igTyUp-YTHG0ig9VeNu83R8jBWn5Djji'})\n",
        "download.GetContentFile('mobile_price.zip')"
      ],
      "execution_count": 3,
      "outputs": []
    },
    {
      "cell_type": "code",
      "metadata": {
        "id": "jRnbuD8c6LLp"
      },
      "source": [
        "# Extract data from zip file\n",
        "import zipfile\n",
        "from pathlib import Path\n",
        "data_path = Path(\"./mobile_price.zip\")\n",
        "\n",
        "with zipfile.ZipFile(str(data_path), 'r') as zip_ref:\n",
        "    zip_ref.extractall(\"./data\")"
      ],
      "execution_count": 4,
      "outputs": []
    },
    {
      "cell_type": "code",
      "metadata": {
        "id": "bxAVc9xw6eHQ",
        "colab": {
          "base_uri": "https://localhost:8080/"
        },
        "outputId": "31b85aaf-48b8-4267-9fe5-c93f4313997c"
      },
      "source": [
        "# List files of ./data directory\n",
        "!ls ./data"
      ],
      "execution_count": 5,
      "outputs": [
        {
          "output_type": "stream",
          "name": "stdout",
          "text": [
            "test.csv  train.csv\n"
          ]
        }
      ]
    },
    {
      "cell_type": "markdown",
      "metadata": {
        "id": "67CgIbop9ScG"
      },
      "source": [
        "## 2. Load and Pre-process the data\n",
        "\n"
      ]
    },
    {
      "cell_type": "code",
      "metadata": {
        "id": "DvnZlJFV-21i"
      },
      "source": [
        "# Load dependencies for loading data\n",
        "import numpy as np\n",
        "import pandas as pd"
      ],
      "execution_count": 6,
      "outputs": []
    },
    {
      "cell_type": "code",
      "metadata": {
        "id": "LT55rVd2_IkM"
      },
      "source": [
        "# Load training dataset and check variables\n",
        "dataset = pd.read_csv('./data/train.csv')"
      ],
      "execution_count": 7,
      "outputs": []
    },
    {
      "cell_type": "code",
      "metadata": {
        "id": "m2cpgTmCDqzQ",
        "colab": {
          "base_uri": "https://localhost:8080/"
        },
        "outputId": "5d8dbcb3-24fa-4cce-d3b7-57c27708af0e"
      },
      "source": [
        "# Show variables\n",
        "dataset.columns"
      ],
      "execution_count": 8,
      "outputs": [
        {
          "output_type": "execute_result",
          "data": {
            "text/plain": [
              "Index(['battery_power', 'blue', 'clock_speed', 'dual_sim', 'fc', 'four_g',\n",
              "       'int_memory', 'm_dep', 'mobile_wt', 'n_cores', 'pc', 'px_height',\n",
              "       'px_width', 'ram', 'sc_h', 'sc_w', 'talk_time', 'three_g',\n",
              "       'touch_screen', 'wifi', 'price_range'],\n",
              "      dtype='object')"
            ]
          },
          "metadata": {},
          "execution_count": 8
        }
      ]
    },
    {
      "cell_type": "code",
      "metadata": {
        "id": "L2fZ3NwMB0qD",
        "colab": {
          "base_uri": "https://localhost:8080/",
          "height": 299
        },
        "outputId": "92c2e186-145a-45f5-a65e-e1e0c8249acf"
      },
      "source": [
        "# Show first 5 rows\n",
        "dataset.head()"
      ],
      "execution_count": 9,
      "outputs": [
        {
          "output_type": "execute_result",
          "data": {
            "text/plain": [
              "   battery_power  blue  clock_speed  dual_sim  fc  four_g  int_memory  m_dep  \\\n",
              "0            842     0          2.2         0   1       0           7    0.6   \n",
              "1           1021     1          0.5         1   0       1          53    0.7   \n",
              "2            563     1          0.5         1   2       1          41    0.9   \n",
              "3            615     1          2.5         0   0       0          10    0.8   \n",
              "4           1821     1          1.2         0  13       1          44    0.6   \n",
              "\n",
              "   mobile_wt  n_cores  ...  px_height  px_width   ram  sc_h  sc_w  talk_time  \\\n",
              "0        188        2  ...         20       756  2549     9     7         19   \n",
              "1        136        3  ...        905      1988  2631    17     3          7   \n",
              "2        145        5  ...       1263      1716  2603    11     2          9   \n",
              "3        131        6  ...       1216      1786  2769    16     8         11   \n",
              "4        141        2  ...       1208      1212  1411     8     2         15   \n",
              "\n",
              "   three_g  touch_screen  wifi  price_range  \n",
              "0        0             0     1            1  \n",
              "1        1             1     0            2  \n",
              "2        1             1     0            2  \n",
              "3        1             0     0            2  \n",
              "4        1             1     0            1  \n",
              "\n",
              "[5 rows x 21 columns]"
            ],
            "text/html": [
              "\n",
              "  <div id=\"df-45ecd466-ca10-4d24-8bfe-cbc89c4ae2f1\">\n",
              "    <div class=\"colab-df-container\">\n",
              "      <div>\n",
              "<style scoped>\n",
              "    .dataframe tbody tr th:only-of-type {\n",
              "        vertical-align: middle;\n",
              "    }\n",
              "\n",
              "    .dataframe tbody tr th {\n",
              "        vertical-align: top;\n",
              "    }\n",
              "\n",
              "    .dataframe thead th {\n",
              "        text-align: right;\n",
              "    }\n",
              "</style>\n",
              "<table border=\"1\" class=\"dataframe\">\n",
              "  <thead>\n",
              "    <tr style=\"text-align: right;\">\n",
              "      <th></th>\n",
              "      <th>battery_power</th>\n",
              "      <th>blue</th>\n",
              "      <th>clock_speed</th>\n",
              "      <th>dual_sim</th>\n",
              "      <th>fc</th>\n",
              "      <th>four_g</th>\n",
              "      <th>int_memory</th>\n",
              "      <th>m_dep</th>\n",
              "      <th>mobile_wt</th>\n",
              "      <th>n_cores</th>\n",
              "      <th>...</th>\n",
              "      <th>px_height</th>\n",
              "      <th>px_width</th>\n",
              "      <th>ram</th>\n",
              "      <th>sc_h</th>\n",
              "      <th>sc_w</th>\n",
              "      <th>talk_time</th>\n",
              "      <th>three_g</th>\n",
              "      <th>touch_screen</th>\n",
              "      <th>wifi</th>\n",
              "      <th>price_range</th>\n",
              "    </tr>\n",
              "  </thead>\n",
              "  <tbody>\n",
              "    <tr>\n",
              "      <th>0</th>\n",
              "      <td>842</td>\n",
              "      <td>0</td>\n",
              "      <td>2.2</td>\n",
              "      <td>0</td>\n",
              "      <td>1</td>\n",
              "      <td>0</td>\n",
              "      <td>7</td>\n",
              "      <td>0.6</td>\n",
              "      <td>188</td>\n",
              "      <td>2</td>\n",
              "      <td>...</td>\n",
              "      <td>20</td>\n",
              "      <td>756</td>\n",
              "      <td>2549</td>\n",
              "      <td>9</td>\n",
              "      <td>7</td>\n",
              "      <td>19</td>\n",
              "      <td>0</td>\n",
              "      <td>0</td>\n",
              "      <td>1</td>\n",
              "      <td>1</td>\n",
              "    </tr>\n",
              "    <tr>\n",
              "      <th>1</th>\n",
              "      <td>1021</td>\n",
              "      <td>1</td>\n",
              "      <td>0.5</td>\n",
              "      <td>1</td>\n",
              "      <td>0</td>\n",
              "      <td>1</td>\n",
              "      <td>53</td>\n",
              "      <td>0.7</td>\n",
              "      <td>136</td>\n",
              "      <td>3</td>\n",
              "      <td>...</td>\n",
              "      <td>905</td>\n",
              "      <td>1988</td>\n",
              "      <td>2631</td>\n",
              "      <td>17</td>\n",
              "      <td>3</td>\n",
              "      <td>7</td>\n",
              "      <td>1</td>\n",
              "      <td>1</td>\n",
              "      <td>0</td>\n",
              "      <td>2</td>\n",
              "    </tr>\n",
              "    <tr>\n",
              "      <th>2</th>\n",
              "      <td>563</td>\n",
              "      <td>1</td>\n",
              "      <td>0.5</td>\n",
              "      <td>1</td>\n",
              "      <td>2</td>\n",
              "      <td>1</td>\n",
              "      <td>41</td>\n",
              "      <td>0.9</td>\n",
              "      <td>145</td>\n",
              "      <td>5</td>\n",
              "      <td>...</td>\n",
              "      <td>1263</td>\n",
              "      <td>1716</td>\n",
              "      <td>2603</td>\n",
              "      <td>11</td>\n",
              "      <td>2</td>\n",
              "      <td>9</td>\n",
              "      <td>1</td>\n",
              "      <td>1</td>\n",
              "      <td>0</td>\n",
              "      <td>2</td>\n",
              "    </tr>\n",
              "    <tr>\n",
              "      <th>3</th>\n",
              "      <td>615</td>\n",
              "      <td>1</td>\n",
              "      <td>2.5</td>\n",
              "      <td>0</td>\n",
              "      <td>0</td>\n",
              "      <td>0</td>\n",
              "      <td>10</td>\n",
              "      <td>0.8</td>\n",
              "      <td>131</td>\n",
              "      <td>6</td>\n",
              "      <td>...</td>\n",
              "      <td>1216</td>\n",
              "      <td>1786</td>\n",
              "      <td>2769</td>\n",
              "      <td>16</td>\n",
              "      <td>8</td>\n",
              "      <td>11</td>\n",
              "      <td>1</td>\n",
              "      <td>0</td>\n",
              "      <td>0</td>\n",
              "      <td>2</td>\n",
              "    </tr>\n",
              "    <tr>\n",
              "      <th>4</th>\n",
              "      <td>1821</td>\n",
              "      <td>1</td>\n",
              "      <td>1.2</td>\n",
              "      <td>0</td>\n",
              "      <td>13</td>\n",
              "      <td>1</td>\n",
              "      <td>44</td>\n",
              "      <td>0.6</td>\n",
              "      <td>141</td>\n",
              "      <td>2</td>\n",
              "      <td>...</td>\n",
              "      <td>1208</td>\n",
              "      <td>1212</td>\n",
              "      <td>1411</td>\n",
              "      <td>8</td>\n",
              "      <td>2</td>\n",
              "      <td>15</td>\n",
              "      <td>1</td>\n",
              "      <td>1</td>\n",
              "      <td>0</td>\n",
              "      <td>1</td>\n",
              "    </tr>\n",
              "  </tbody>\n",
              "</table>\n",
              "<p>5 rows × 21 columns</p>\n",
              "</div>\n",
              "      <button class=\"colab-df-convert\" onclick=\"convertToInteractive('df-45ecd466-ca10-4d24-8bfe-cbc89c4ae2f1')\"\n",
              "              title=\"Convert this dataframe to an interactive table.\"\n",
              "              style=\"display:none;\">\n",
              "        \n",
              "  <svg xmlns=\"http://www.w3.org/2000/svg\" height=\"24px\"viewBox=\"0 0 24 24\"\n",
              "       width=\"24px\">\n",
              "    <path d=\"M0 0h24v24H0V0z\" fill=\"none\"/>\n",
              "    <path d=\"M18.56 5.44l.94 2.06.94-2.06 2.06-.94-2.06-.94-.94-2.06-.94 2.06-2.06.94zm-11 1L8.5 8.5l.94-2.06 2.06-.94-2.06-.94L8.5 2.5l-.94 2.06-2.06.94zm10 10l.94 2.06.94-2.06 2.06-.94-2.06-.94-.94-2.06-.94 2.06-2.06.94z\"/><path d=\"M17.41 7.96l-1.37-1.37c-.4-.4-.92-.59-1.43-.59-.52 0-1.04.2-1.43.59L10.3 9.45l-7.72 7.72c-.78.78-.78 2.05 0 2.83L4 21.41c.39.39.9.59 1.41.59.51 0 1.02-.2 1.41-.59l7.78-7.78 2.81-2.81c.8-.78.8-2.07 0-2.86zM5.41 20L4 18.59l7.72-7.72 1.47 1.35L5.41 20z\"/>\n",
              "  </svg>\n",
              "      </button>\n",
              "      \n",
              "  <style>\n",
              "    .colab-df-container {\n",
              "      display:flex;\n",
              "      flex-wrap:wrap;\n",
              "      gap: 12px;\n",
              "    }\n",
              "\n",
              "    .colab-df-convert {\n",
              "      background-color: #E8F0FE;\n",
              "      border: none;\n",
              "      border-radius: 50%;\n",
              "      cursor: pointer;\n",
              "      display: none;\n",
              "      fill: #1967D2;\n",
              "      height: 32px;\n",
              "      padding: 0 0 0 0;\n",
              "      width: 32px;\n",
              "    }\n",
              "\n",
              "    .colab-df-convert:hover {\n",
              "      background-color: #E2EBFA;\n",
              "      box-shadow: 0px 1px 2px rgba(60, 64, 67, 0.3), 0px 1px 3px 1px rgba(60, 64, 67, 0.15);\n",
              "      fill: #174EA6;\n",
              "    }\n",
              "\n",
              "    [theme=dark] .colab-df-convert {\n",
              "      background-color: #3B4455;\n",
              "      fill: #D2E3FC;\n",
              "    }\n",
              "\n",
              "    [theme=dark] .colab-df-convert:hover {\n",
              "      background-color: #434B5C;\n",
              "      box-shadow: 0px 1px 3px 1px rgba(0, 0, 0, 0.15);\n",
              "      filter: drop-shadow(0px 1px 2px rgba(0, 0, 0, 0.3));\n",
              "      fill: #FFFFFF;\n",
              "    }\n",
              "  </style>\n",
              "\n",
              "      <script>\n",
              "        const buttonEl =\n",
              "          document.querySelector('#df-45ecd466-ca10-4d24-8bfe-cbc89c4ae2f1 button.colab-df-convert');\n",
              "        buttonEl.style.display =\n",
              "          google.colab.kernel.accessAllowed ? 'block' : 'none';\n",
              "\n",
              "        async function convertToInteractive(key) {\n",
              "          const element = document.querySelector('#df-45ecd466-ca10-4d24-8bfe-cbc89c4ae2f1');\n",
              "          const dataTable =\n",
              "            await google.colab.kernel.invokeFunction('convertToInteractive',\n",
              "                                                     [key], {});\n",
              "          if (!dataTable) return;\n",
              "\n",
              "          const docLinkHtml = 'Like what you see? Visit the ' +\n",
              "            '<a target=\"_blank\" href=https://colab.research.google.com/notebooks/data_table.ipynb>data table notebook</a>'\n",
              "            + ' to learn more about interactive tables.';\n",
              "          element.innerHTML = '';\n",
              "          dataTable['output_type'] = 'display_data';\n",
              "          await google.colab.output.renderOutput(dataTable, element);\n",
              "          const docLink = document.createElement('div');\n",
              "          docLink.innerHTML = docLinkHtml;\n",
              "          element.appendChild(docLink);\n",
              "        }\n",
              "      </script>\n",
              "    </div>\n",
              "  </div>\n",
              "  "
            ]
          },
          "metadata": {},
          "execution_count": 9
        }
      ]
    },
    {
      "cell_type": "code",
      "metadata": {
        "id": "GdXq9ybYCAij"
      },
      "source": [
        "# Import dependencies for pre-processing\n",
        "from sklearn.preprocessing import StandardScaler\n",
        "from sklearn.preprocessing import OneHotEncoder\n",
        "from sklearn.model_selection import train_test_split"
      ],
      "execution_count": 10,
      "outputs": []
    },
    {
      "cell_type": "code",
      "metadata": {
        "id": "wcNOetOZDZ8B"
      },
      "source": [
        "# Convert pandas Dataframe to Numpy Array\n",
        "dataset_numpy = dataset.values"
      ],
      "execution_count": 11,
      "outputs": []
    },
    {
      "cell_type": "code",
      "metadata": {
        "id": "jCSxYok-ByDS",
        "colab": {
          "base_uri": "https://localhost:8080/"
        },
        "outputId": "899becba-cc23-47f4-f2b8-0797ebae7f34"
      },
      "source": [
        "# Show data type before and after conversion\n",
        "print(type(dataset))\n",
        "print(type(dataset_numpy.dtype))"
      ],
      "execution_count": 12,
      "outputs": [
        {
          "output_type": "stream",
          "name": "stdout",
          "text": [
            "<class 'pandas.core.frame.DataFrame'>\n",
            "<class 'numpy.dtype[float64]'>\n"
          ]
        }
      ]
    },
    {
      "cell_type": "code",
      "metadata": {
        "id": "H9H_gM8eHe5O"
      },
      "source": [
        "# Separate input variables from output label\n",
        "X = dataset_numpy[:, :20]\n",
        "y = dataset_numpy[:, 20:21]"
      ],
      "execution_count": 13,
      "outputs": []
    },
    {
      "cell_type": "code",
      "metadata": {
        "id": "YOciSYTzB8QT",
        "colab": {
          "base_uri": "https://localhost:8080/"
        },
        "outputId": "c334da13-d299-400b-cd60-2a65fcb0d3a5"
      },
      "source": [
        "# Show shape of training data and labels\n",
        "print(\"Shape of training data: \", X.shape)\n",
        "print(\"Shape of training labels: \", y.shape)"
      ],
      "execution_count": 14,
      "outputs": [
        {
          "output_type": "stream",
          "name": "stdout",
          "text": [
            "Shape of training data:  (2000, 20)\n",
            "Shape of training labels:  (2000, 1)\n"
          ]
        }
      ]
    },
    {
      "cell_type": "code",
      "metadata": {
        "id": "uu1afk5OIt2c",
        "colab": {
          "base_uri": "https://localhost:8080/"
        },
        "outputId": "b2ffedd9-b812-4a9b-c68c-280f1b64c940"
      },
      "source": [
        "# Show different classes to predict\n",
        "np.unique(y)"
      ],
      "execution_count": 15,
      "outputs": [
        {
          "output_type": "execute_result",
          "data": {
            "text/plain": [
              "array([0., 1., 2., 3.])"
            ]
          },
          "metadata": {},
          "execution_count": 15
        }
      ]
    },
    {
      "cell_type": "code",
      "metadata": {
        "id": "yD9F7PoxIhR7"
      },
      "source": [
        "# Normalizing the data to improve stability while training\n",
        "sc = StandardScaler()\n",
        "sc.fit(X)\n",
        "X_norm = sc.transform(X)"
      ],
      "execution_count": 16,
      "outputs": []
    },
    {
      "cell_type": "code",
      "metadata": {
        "id": "GcYYTbkIHl1p",
        "colab": {
          "base_uri": "https://localhost:8080/"
        },
        "outputId": "5ea75f16-baec-4dc3-d89d-355bc25f5e77"
      },
      "source": [
        "# Show mean and Standard Deviation learnt from training data\n",
        "print(\"Mean per variable: \\n\", sc.mean_)\n",
        "print(\"Standard Deviation per variable: \\n\", sc.scale_)"
      ],
      "execution_count": 17,
      "outputs": [
        {
          "output_type": "stream",
          "name": "stdout",
          "text": [
            "Mean per variable: \n",
            " [1.2385185e+03 4.9500000e-01 1.5222500e+00 5.0950000e-01 4.3095000e+00\n",
            " 5.2150000e-01 3.2046500e+01 5.0175000e-01 1.4024900e+02 4.5205000e+00\n",
            " 9.9165000e+00 6.4510800e+02 1.2515155e+03 2.1242130e+03 1.2306500e+01\n",
            " 5.7670000e+00 1.1011000e+01 7.6150000e-01 5.0300000e-01 5.0700000e-01]\n",
            "Standard Deviation per variable: \n",
            " [4.39308338e+02 4.99974999e-01 8.15800182e-01 4.99909742e-01\n",
            " 4.34035825e+00 4.99537536e-01 1.81411780e+01 2.88343437e-01\n",
            " 3.53908039e+01 2.28726469e+00 6.06279867e+00 4.43669852e+02\n",
            " 4.32091384e+02 1.08446083e+03 4.21219156e+00 4.35530837e+00\n",
            " 5.46258904e+00 4.26166341e-01 4.99991000e-01 4.99950998e-01]\n"
          ]
        }
      ]
    },
    {
      "cell_type": "code",
      "metadata": {
        "id": "-PgxBF8oBkYS",
        "colab": {
          "base_uri": "https://localhost:8080/"
        },
        "outputId": "ebfaf10a-989b-44a9-ee8c-0ffc878fe961"
      },
      "source": [
        "# Show data before and after normalization\n",
        "print(\"Before normalization: \\n\", X[1, :])\n",
        "print(\"After normalization: \\n\", X_norm[1, :])"
      ],
      "execution_count": 18,
      "outputs": [
        {
          "output_type": "stream",
          "name": "stdout",
          "text": [
            "Before normalization: \n",
            " [1.021e+03 1.000e+00 5.000e-01 1.000e+00 0.000e+00 1.000e+00 5.300e+01\n",
            " 7.000e-01 1.360e+02 3.000e+00 6.000e+00 9.050e+02 1.988e+03 2.631e+03\n",
            " 1.700e+01 3.000e+00 7.000e+00 1.000e+00 1.000e+00 0.000e+00]\n",
            "After normalization: \n",
            " [-0.49513857  1.0100505  -1.2530642   0.98117712 -0.99289039  0.95788598\n",
            "  1.15502422  0.68754816 -0.12005944 -0.66476784 -0.64598879  0.58577791\n",
            "  1.70446468  0.46731702  1.11426556 -0.63531667 -0.73426721  0.55964063\n",
            "  0.99401789 -1.01409939]\n"
          ]
        }
      ]
    },
    {
      "cell_type": "code",
      "metadata": {
        "id": "5Z_i4ZxzLS5R"
      },
      "source": [
        "# One-hot encoding of labels\n",
        "onehot_enc = OneHotEncoder()\n",
        "y_onehot = onehot_enc.fit_transform(y).toarray()"
      ],
      "execution_count": 19,
      "outputs": []
    },
    {
      "cell_type": "code",
      "metadata": {
        "id": "suaSrXbWMeZx",
        "colab": {
          "base_uri": "https://localhost:8080/"
        },
        "outputId": "905dc430-a319-42ab-f513-3c1ff7fdeda0"
      },
      "source": [
        "# Show labels before and after one-hot encoding\n",
        "print(\"Before onet-hot encodeing: \\n\", y[0])\n",
        "print(\"After onet-hot encodeing: \\n\", y_onehot[0])"
      ],
      "execution_count": 20,
      "outputs": [
        {
          "output_type": "stream",
          "name": "stdout",
          "text": [
            "Before onet-hot encodeing: \n",
            " [1.]\n",
            "After onet-hot encodeing: \n",
            " [0. 1. 0. 0.]\n"
          ]
        }
      ]
    },
    {
      "cell_type": "code",
      "metadata": {
        "id": "5SbrKQ10Navz"
      },
      "source": [
        "# Split data in training and validation partitions\n",
        "X_train, X_val, y_train, y_val = train_test_split(X_norm, y_onehot, \n",
        "                                                  test_size=0.1)"
      ],
      "execution_count": 21,
      "outputs": []
    },
    {
      "cell_type": "code",
      "metadata": {
        "id": "BP1GOQRmOMSK",
        "colab": {
          "base_uri": "https://localhost:8080/"
        },
        "outputId": "9200ea2d-3a13-433e-e7d0-04be1a0cbb39"
      },
      "source": [
        "# Show sizes of partitions\n",
        "print(\"Size of training data: \", X_train.shape)\n",
        "print(\"Size of training labels: \", y_train.shape)\n",
        "print(\"Size of validation data: \", X_val.shape)\n",
        "print(\"Size of validation labels: \", y_val.shape)"
      ],
      "execution_count": 22,
      "outputs": [
        {
          "output_type": "stream",
          "name": "stdout",
          "text": [
            "Size of training data:  (1800, 20)\n",
            "Size of training labels:  (1800, 4)\n",
            "Size of validation data:  (200, 20)\n",
            "Size of validation labels:  (200, 4)\n"
          ]
        }
      ]
    },
    {
      "cell_type": "markdown",
      "metadata": {
        "id": "M_aOe_XI9Vw7"
      },
      "source": [
        "## 3. Define a Fully Connected Neural Network"
      ]
    },
    {
      "cell_type": "code",
      "metadata": {
        "id": "fdemo-HaPBej"
      },
      "source": [
        "# Import dependencies for designing Keras model\n",
        "from tensorflow import keras\n",
        "from keras.models import Sequential\n",
        "from keras.layers import Dense"
      ],
      "execution_count": 23,
      "outputs": []
    },
    {
      "cell_type": "code",
      "metadata": {
        "id": "WW5nXU1YPOtl"
      },
      "source": [
        "# Design simple neural network architecture\n",
        "model = Sequential()\n",
        "model.add(Dense(16, input_dim=20, activation='relu'))\n",
        "model.add(Dense(12, activation='relu'))\n",
        "model.add(Dense(4, activation='softmax'))"
      ],
      "execution_count": 24,
      "outputs": []
    },
    {
      "cell_type": "code",
      "metadata": {
        "id": "HRp_OCx8QNXd",
        "colab": {
          "base_uri": "https://localhost:8080/"
        },
        "outputId": "476f179a-a6b1-452f-9073-2e9b910f3aea"
      },
      "source": [
        "# Show model information\n",
        "model.summary()"
      ],
      "execution_count": 25,
      "outputs": [
        {
          "output_type": "stream",
          "name": "stdout",
          "text": [
            "Model: \"sequential\"\n",
            "_________________________________________________________________\n",
            " Layer (type)                Output Shape              Param #   \n",
            "=================================================================\n",
            " dense (Dense)               (None, 16)                336       \n",
            "                                                                 \n",
            " dense_1 (Dense)             (None, 12)                204       \n",
            "                                                                 \n",
            " dense_2 (Dense)             (None, 4)                 52        \n",
            "                                                                 \n",
            "=================================================================\n",
            "Total params: 592\n",
            "Trainable params: 592\n",
            "Non-trainable params: 0\n",
            "_________________________________________________________________\n"
          ]
        }
      ]
    },
    {
      "cell_type": "markdown",
      "metadata": {
        "id": "fBhIc1LbQfEC"
      },
      "source": [
        "The number of parameters of each layer is obtained as follows:\n",
        "\n",
        "\n",
        "*   params_dense_1 = (input_var_num + 1) * dense_1_neurons = (20 + 1) * 16 = 336\n",
        "*   params_dense_2 = (dense_1_neurons + 1) * dense_2_neurons = (16 + 1) * 12 =      204\n",
        "*   params_dense_3 = (dense_2_neurons + 1) * dense_3_neurons = (12 + 1) * 4 =      52\n",
        "\n",
        "Where +1 comes from the bias term added in each layer.\n",
        "\n",
        "\n"
      ]
    },
    {
      "cell_type": "markdown",
      "metadata": {
        "id": "_pSRNx4w9UKo"
      },
      "source": [
        "## 4. Choose loss function and optimizer\n"
      ]
    },
    {
      "cell_type": "code",
      "metadata": {
        "id": "zBF6dr1oSRIC"
      },
      "source": [
        "# Choose loss function, optimizer and training metrics\n",
        "model.compile(loss='categorical_crossentropy', optimizer='adam', \n",
        "              metrics=['accuracy'])"
      ],
      "execution_count": 26,
      "outputs": []
    },
    {
      "cell_type": "markdown",
      "metadata": {
        "id": "CgyWHPSG9wZ1"
      },
      "source": [
        "## 5. Train the network\n",
        "\n"
      ]
    },
    {
      "cell_type": "code",
      "metadata": {
        "id": "97AQk6XZ92pZ",
        "colab": {
          "base_uri": "https://localhost:8080/"
        },
        "outputId": "c5722385-5919-458a-fa73-596b6e8315fd"
      },
      "source": [
        "# Choose number of epochs and batch size and train the model\n",
        "history = model.fit(X_train, y_train, epochs=100, batch_size=64, \n",
        "                    validation_data=(X_val, y_val))"
      ],
      "execution_count": 27,
      "outputs": [
        {
          "output_type": "stream",
          "name": "stdout",
          "text": [
            "Epoch 1/100\n",
            "29/29 [==============================] - 6s 11ms/step - loss: 1.5070 - accuracy: 0.2217 - val_loss: 1.4184 - val_accuracy: 0.2200\n",
            "Epoch 2/100\n",
            "29/29 [==============================] - 0s 5ms/step - loss: 1.3903 - accuracy: 0.2683 - val_loss: 1.3509 - val_accuracy: 0.2950\n",
            "Epoch 3/100\n",
            "29/29 [==============================] - 0s 7ms/step - loss: 1.3231 - accuracy: 0.3367 - val_loss: 1.2960 - val_accuracy: 0.3750\n",
            "Epoch 4/100\n",
            "29/29 [==============================] - 0s 7ms/step - loss: 1.2664 - accuracy: 0.3956 - val_loss: 1.2421 - val_accuracy: 0.4050\n",
            "Epoch 5/100\n",
            "29/29 [==============================] - 0s 7ms/step - loss: 1.2090 - accuracy: 0.4472 - val_loss: 1.1831 - val_accuracy: 0.4350\n",
            "Epoch 6/100\n",
            "29/29 [==============================] - 0s 6ms/step - loss: 1.1443 - accuracy: 0.4872 - val_loss: 1.1156 - val_accuracy: 0.4850\n",
            "Epoch 7/100\n",
            "29/29 [==============================] - 0s 7ms/step - loss: 1.0707 - accuracy: 0.5272 - val_loss: 1.0371 - val_accuracy: 0.5350\n",
            "Epoch 8/100\n",
            "29/29 [==============================] - 0s 6ms/step - loss: 0.9922 - accuracy: 0.5639 - val_loss: 0.9507 - val_accuracy: 0.5850\n",
            "Epoch 9/100\n",
            "29/29 [==============================] - 0s 6ms/step - loss: 0.9091 - accuracy: 0.6178 - val_loss: 0.8650 - val_accuracy: 0.6350\n",
            "Epoch 10/100\n",
            "29/29 [==============================] - 0s 6ms/step - loss: 0.8310 - accuracy: 0.6589 - val_loss: 0.7850 - val_accuracy: 0.6900\n",
            "Epoch 11/100\n",
            "29/29 [==============================] - 0s 6ms/step - loss: 0.7594 - accuracy: 0.7017 - val_loss: 0.7131 - val_accuracy: 0.7650\n",
            "Epoch 12/100\n",
            "29/29 [==============================] - 0s 8ms/step - loss: 0.6948 - accuracy: 0.7444 - val_loss: 0.6500 - val_accuracy: 0.7800\n",
            "Epoch 13/100\n",
            "29/29 [==============================] - 0s 7ms/step - loss: 0.6357 - accuracy: 0.7744 - val_loss: 0.5987 - val_accuracy: 0.8000\n",
            "Epoch 14/100\n",
            "29/29 [==============================] - 0s 7ms/step - loss: 0.5831 - accuracy: 0.8000 - val_loss: 0.5492 - val_accuracy: 0.8100\n",
            "Epoch 15/100\n",
            "29/29 [==============================] - 0s 7ms/step - loss: 0.5363 - accuracy: 0.8256 - val_loss: 0.5105 - val_accuracy: 0.8350\n",
            "Epoch 16/100\n",
            "29/29 [==============================] - 0s 5ms/step - loss: 0.4955 - accuracy: 0.8411 - val_loss: 0.4755 - val_accuracy: 0.8500\n",
            "Epoch 17/100\n",
            "29/29 [==============================] - 0s 5ms/step - loss: 0.4599 - accuracy: 0.8594 - val_loss: 0.4418 - val_accuracy: 0.8700\n",
            "Epoch 18/100\n",
            "29/29 [==============================] - 0s 5ms/step - loss: 0.4270 - accuracy: 0.8706 - val_loss: 0.4172 - val_accuracy: 0.8550\n",
            "Epoch 19/100\n",
            "29/29 [==============================] - 0s 5ms/step - loss: 0.3980 - accuracy: 0.8806 - val_loss: 0.3881 - val_accuracy: 0.8800\n",
            "Epoch 20/100\n",
            "29/29 [==============================] - 0s 5ms/step - loss: 0.3718 - accuracy: 0.8839 - val_loss: 0.3722 - val_accuracy: 0.9000\n",
            "Epoch 21/100\n",
            "29/29 [==============================] - 0s 4ms/step - loss: 0.3489 - accuracy: 0.8933 - val_loss: 0.3516 - val_accuracy: 0.9000\n",
            "Epoch 22/100\n",
            "29/29 [==============================] - 0s 4ms/step - loss: 0.3281 - accuracy: 0.9022 - val_loss: 0.3342 - val_accuracy: 0.9100\n",
            "Epoch 23/100\n",
            "29/29 [==============================] - 0s 4ms/step - loss: 0.3093 - accuracy: 0.9044 - val_loss: 0.3201 - val_accuracy: 0.9050\n",
            "Epoch 24/100\n",
            "29/29 [==============================] - 0s 5ms/step - loss: 0.2928 - accuracy: 0.9144 - val_loss: 0.3074 - val_accuracy: 0.9050\n",
            "Epoch 25/100\n",
            "29/29 [==============================] - 0s 5ms/step - loss: 0.2770 - accuracy: 0.9172 - val_loss: 0.2980 - val_accuracy: 0.9100\n",
            "Epoch 26/100\n",
            "29/29 [==============================] - 0s 5ms/step - loss: 0.2634 - accuracy: 0.9256 - val_loss: 0.2782 - val_accuracy: 0.9250\n",
            "Epoch 27/100\n",
            "29/29 [==============================] - 0s 4ms/step - loss: 0.2493 - accuracy: 0.9283 - val_loss: 0.2717 - val_accuracy: 0.9250\n",
            "Epoch 28/100\n",
            "29/29 [==============================] - 0s 4ms/step - loss: 0.2381 - accuracy: 0.9344 - val_loss: 0.2608 - val_accuracy: 0.9250\n",
            "Epoch 29/100\n",
            "29/29 [==============================] - 0s 5ms/step - loss: 0.2272 - accuracy: 0.9361 - val_loss: 0.2564 - val_accuracy: 0.9200\n",
            "Epoch 30/100\n",
            "29/29 [==============================] - 0s 5ms/step - loss: 0.2188 - accuracy: 0.9378 - val_loss: 0.2534 - val_accuracy: 0.9150\n",
            "Epoch 31/100\n",
            "29/29 [==============================] - 0s 4ms/step - loss: 0.2081 - accuracy: 0.9394 - val_loss: 0.2456 - val_accuracy: 0.9150\n",
            "Epoch 32/100\n",
            "29/29 [==============================] - 0s 4ms/step - loss: 0.1996 - accuracy: 0.9417 - val_loss: 0.2367 - val_accuracy: 0.9250\n",
            "Epoch 33/100\n",
            "29/29 [==============================] - 0s 5ms/step - loss: 0.1924 - accuracy: 0.9439 - val_loss: 0.2323 - val_accuracy: 0.9300\n",
            "Epoch 34/100\n",
            "29/29 [==============================] - 0s 4ms/step - loss: 0.1848 - accuracy: 0.9428 - val_loss: 0.2239 - val_accuracy: 0.9200\n",
            "Epoch 35/100\n",
            "29/29 [==============================] - 0s 4ms/step - loss: 0.1778 - accuracy: 0.9522 - val_loss: 0.2255 - val_accuracy: 0.9300\n",
            "Epoch 36/100\n",
            "29/29 [==============================] - 0s 4ms/step - loss: 0.1714 - accuracy: 0.9539 - val_loss: 0.2145 - val_accuracy: 0.9200\n",
            "Epoch 37/100\n",
            "29/29 [==============================] - 0s 4ms/step - loss: 0.1665 - accuracy: 0.9528 - val_loss: 0.2147 - val_accuracy: 0.9200\n",
            "Epoch 38/100\n",
            "29/29 [==============================] - 0s 4ms/step - loss: 0.1595 - accuracy: 0.9578 - val_loss: 0.2061 - val_accuracy: 0.9250\n",
            "Epoch 39/100\n",
            "29/29 [==============================] - 0s 5ms/step - loss: 0.1545 - accuracy: 0.9600 - val_loss: 0.2056 - val_accuracy: 0.9250\n",
            "Epoch 40/100\n",
            "29/29 [==============================] - 0s 5ms/step - loss: 0.1518 - accuracy: 0.9594 - val_loss: 0.2104 - val_accuracy: 0.9150\n",
            "Epoch 41/100\n",
            "29/29 [==============================] - 0s 5ms/step - loss: 0.1458 - accuracy: 0.9589 - val_loss: 0.2093 - val_accuracy: 0.9100\n",
            "Epoch 42/100\n",
            "29/29 [==============================] - 0s 4ms/step - loss: 0.1418 - accuracy: 0.9628 - val_loss: 0.2023 - val_accuracy: 0.9150\n",
            "Epoch 43/100\n",
            "29/29 [==============================] - 0s 5ms/step - loss: 0.1381 - accuracy: 0.9622 - val_loss: 0.1918 - val_accuracy: 0.9050\n",
            "Epoch 44/100\n",
            "29/29 [==============================] - 0s 4ms/step - loss: 0.1346 - accuracy: 0.9622 - val_loss: 0.1956 - val_accuracy: 0.9100\n",
            "Epoch 45/100\n",
            "29/29 [==============================] - 0s 4ms/step - loss: 0.1302 - accuracy: 0.9661 - val_loss: 0.1928 - val_accuracy: 0.9000\n",
            "Epoch 46/100\n",
            "29/29 [==============================] - 0s 5ms/step - loss: 0.1271 - accuracy: 0.9656 - val_loss: 0.1982 - val_accuracy: 0.9050\n",
            "Epoch 47/100\n",
            "29/29 [==============================] - 0s 4ms/step - loss: 0.1225 - accuracy: 0.9689 - val_loss: 0.1883 - val_accuracy: 0.9000\n",
            "Epoch 48/100\n",
            "29/29 [==============================] - 0s 5ms/step - loss: 0.1208 - accuracy: 0.9661 - val_loss: 0.1863 - val_accuracy: 0.9150\n",
            "Epoch 49/100\n",
            "29/29 [==============================] - 0s 4ms/step - loss: 0.1165 - accuracy: 0.9683 - val_loss: 0.1837 - val_accuracy: 0.9100\n",
            "Epoch 50/100\n",
            "29/29 [==============================] - 0s 5ms/step - loss: 0.1157 - accuracy: 0.9711 - val_loss: 0.1860 - val_accuracy: 0.9000\n",
            "Epoch 51/100\n",
            "29/29 [==============================] - 0s 4ms/step - loss: 0.1114 - accuracy: 0.9728 - val_loss: 0.1759 - val_accuracy: 0.9150\n",
            "Epoch 52/100\n",
            "29/29 [==============================] - 0s 5ms/step - loss: 0.1101 - accuracy: 0.9717 - val_loss: 0.1818 - val_accuracy: 0.9000\n",
            "Epoch 53/100\n",
            "29/29 [==============================] - 0s 5ms/step - loss: 0.1055 - accuracy: 0.9756 - val_loss: 0.1760 - val_accuracy: 0.9100\n",
            "Epoch 54/100\n",
            "29/29 [==============================] - 0s 5ms/step - loss: 0.1027 - accuracy: 0.9733 - val_loss: 0.1777 - val_accuracy: 0.9100\n",
            "Epoch 55/100\n",
            "29/29 [==============================] - 0s 4ms/step - loss: 0.1003 - accuracy: 0.9761 - val_loss: 0.1748 - val_accuracy: 0.9150\n",
            "Epoch 56/100\n",
            "29/29 [==============================] - 0s 5ms/step - loss: 0.0984 - accuracy: 0.9756 - val_loss: 0.1724 - val_accuracy: 0.9150\n",
            "Epoch 57/100\n",
            "29/29 [==============================] - 0s 4ms/step - loss: 0.0969 - accuracy: 0.9800 - val_loss: 0.1756 - val_accuracy: 0.9150\n",
            "Epoch 58/100\n",
            "29/29 [==============================] - 0s 5ms/step - loss: 0.0949 - accuracy: 0.9789 - val_loss: 0.1784 - val_accuracy: 0.9100\n",
            "Epoch 59/100\n",
            "29/29 [==============================] - 0s 4ms/step - loss: 0.0925 - accuracy: 0.9783 - val_loss: 0.1723 - val_accuracy: 0.9100\n",
            "Epoch 60/100\n",
            "29/29 [==============================] - 0s 4ms/step - loss: 0.0936 - accuracy: 0.9778 - val_loss: 0.1692 - val_accuracy: 0.9200\n",
            "Epoch 61/100\n",
            "29/29 [==============================] - 0s 5ms/step - loss: 0.0886 - accuracy: 0.9794 - val_loss: 0.1729 - val_accuracy: 0.9100\n",
            "Epoch 62/100\n",
            "29/29 [==============================] - 0s 4ms/step - loss: 0.0870 - accuracy: 0.9806 - val_loss: 0.1715 - val_accuracy: 0.9150\n",
            "Epoch 63/100\n",
            "29/29 [==============================] - 0s 5ms/step - loss: 0.0856 - accuracy: 0.9817 - val_loss: 0.1744 - val_accuracy: 0.9050\n",
            "Epoch 64/100\n",
            "29/29 [==============================] - 0s 4ms/step - loss: 0.0826 - accuracy: 0.9811 - val_loss: 0.1639 - val_accuracy: 0.9150\n",
            "Epoch 65/100\n",
            "29/29 [==============================] - 0s 5ms/step - loss: 0.0814 - accuracy: 0.9828 - val_loss: 0.1696 - val_accuracy: 0.9200\n",
            "Epoch 66/100\n",
            "29/29 [==============================] - 0s 4ms/step - loss: 0.0790 - accuracy: 0.9844 - val_loss: 0.1703 - val_accuracy: 0.9150\n",
            "Epoch 67/100\n",
            "29/29 [==============================] - 0s 5ms/step - loss: 0.0784 - accuracy: 0.9806 - val_loss: 0.1648 - val_accuracy: 0.9300\n",
            "Epoch 68/100\n",
            "29/29 [==============================] - 0s 4ms/step - loss: 0.0760 - accuracy: 0.9839 - val_loss: 0.1729 - val_accuracy: 0.9050\n",
            "Epoch 69/100\n",
            "29/29 [==============================] - 0s 4ms/step - loss: 0.0742 - accuracy: 0.9850 - val_loss: 0.1680 - val_accuracy: 0.9250\n",
            "Epoch 70/100\n",
            "29/29 [==============================] - 0s 5ms/step - loss: 0.0732 - accuracy: 0.9850 - val_loss: 0.1667 - val_accuracy: 0.9150\n",
            "Epoch 71/100\n",
            "29/29 [==============================] - 0s 4ms/step - loss: 0.0715 - accuracy: 0.9844 - val_loss: 0.1683 - val_accuracy: 0.9250\n",
            "Epoch 72/100\n",
            "29/29 [==============================] - 0s 4ms/step - loss: 0.0710 - accuracy: 0.9828 - val_loss: 0.1671 - val_accuracy: 0.9200\n",
            "Epoch 73/100\n",
            "29/29 [==============================] - 0s 4ms/step - loss: 0.0687 - accuracy: 0.9844 - val_loss: 0.1627 - val_accuracy: 0.9250\n",
            "Epoch 74/100\n",
            "29/29 [==============================] - 0s 5ms/step - loss: 0.0672 - accuracy: 0.9856 - val_loss: 0.1709 - val_accuracy: 0.9200\n",
            "Epoch 75/100\n",
            "29/29 [==============================] - 0s 4ms/step - loss: 0.0659 - accuracy: 0.9861 - val_loss: 0.1613 - val_accuracy: 0.9200\n",
            "Epoch 76/100\n",
            "29/29 [==============================] - 0s 5ms/step - loss: 0.0672 - accuracy: 0.9844 - val_loss: 0.1689 - val_accuracy: 0.9150\n",
            "Epoch 77/100\n",
            "29/29 [==============================] - 0s 4ms/step - loss: 0.0656 - accuracy: 0.9883 - val_loss: 0.1625 - val_accuracy: 0.9350\n",
            "Epoch 78/100\n",
            "29/29 [==============================] - 0s 4ms/step - loss: 0.0625 - accuracy: 0.9883 - val_loss: 0.1671 - val_accuracy: 0.9200\n",
            "Epoch 79/100\n",
            "29/29 [==============================] - 0s 4ms/step - loss: 0.0626 - accuracy: 0.9878 - val_loss: 0.1659 - val_accuracy: 0.9250\n",
            "Epoch 80/100\n",
            "29/29 [==============================] - 0s 5ms/step - loss: 0.0602 - accuracy: 0.9878 - val_loss: 0.1579 - val_accuracy: 0.9250\n",
            "Epoch 81/100\n",
            "29/29 [==============================] - 0s 4ms/step - loss: 0.0588 - accuracy: 0.9883 - val_loss: 0.1687 - val_accuracy: 0.9150\n",
            "Epoch 82/100\n",
            "29/29 [==============================] - 0s 5ms/step - loss: 0.0574 - accuracy: 0.9883 - val_loss: 0.1674 - val_accuracy: 0.9250\n",
            "Epoch 83/100\n",
            "29/29 [==============================] - 0s 5ms/step - loss: 0.0564 - accuracy: 0.9900 - val_loss: 0.1656 - val_accuracy: 0.9200\n",
            "Epoch 84/100\n",
            "29/29 [==============================] - 0s 4ms/step - loss: 0.0550 - accuracy: 0.9900 - val_loss: 0.1681 - val_accuracy: 0.9200\n",
            "Epoch 85/100\n",
            "29/29 [==============================] - 0s 5ms/step - loss: 0.0545 - accuracy: 0.9911 - val_loss: 0.1586 - val_accuracy: 0.9300\n",
            "Epoch 86/100\n",
            "29/29 [==============================] - 0s 5ms/step - loss: 0.0547 - accuracy: 0.9900 - val_loss: 0.1650 - val_accuracy: 0.9300\n",
            "Epoch 87/100\n",
            "29/29 [==============================] - 0s 4ms/step - loss: 0.0522 - accuracy: 0.9911 - val_loss: 0.1616 - val_accuracy: 0.9200\n",
            "Epoch 88/100\n",
            "29/29 [==============================] - 0s 6ms/step - loss: 0.0520 - accuracy: 0.9900 - val_loss: 0.1620 - val_accuracy: 0.9300\n",
            "Epoch 89/100\n",
            "29/29 [==============================] - 0s 6ms/step - loss: 0.0506 - accuracy: 0.9922 - val_loss: 0.1625 - val_accuracy: 0.9250\n",
            "Epoch 90/100\n",
            "29/29 [==============================] - 0s 6ms/step - loss: 0.0493 - accuracy: 0.9922 - val_loss: 0.1572 - val_accuracy: 0.9300\n",
            "Epoch 91/100\n",
            "29/29 [==============================] - 0s 7ms/step - loss: 0.0489 - accuracy: 0.9944 - val_loss: 0.1661 - val_accuracy: 0.9250\n",
            "Epoch 92/100\n",
            "29/29 [==============================] - 0s 7ms/step - loss: 0.0468 - accuracy: 0.9956 - val_loss: 0.1603 - val_accuracy: 0.9400\n",
            "Epoch 93/100\n",
            "29/29 [==============================] - 0s 7ms/step - loss: 0.0465 - accuracy: 0.9933 - val_loss: 0.1665 - val_accuracy: 0.9250\n",
            "Epoch 94/100\n",
            "29/29 [==============================] - 0s 7ms/step - loss: 0.0455 - accuracy: 0.9933 - val_loss: 0.1672 - val_accuracy: 0.9350\n",
            "Epoch 95/100\n",
            "29/29 [==============================] - 0s 6ms/step - loss: 0.0455 - accuracy: 0.9939 - val_loss: 0.1624 - val_accuracy: 0.9350\n",
            "Epoch 96/100\n",
            "29/29 [==============================] - 0s 6ms/step - loss: 0.0444 - accuracy: 0.9956 - val_loss: 0.1691 - val_accuracy: 0.9300\n",
            "Epoch 97/100\n",
            "29/29 [==============================] - 0s 7ms/step - loss: 0.0442 - accuracy: 0.9922 - val_loss: 0.1638 - val_accuracy: 0.9400\n",
            "Epoch 98/100\n",
            "29/29 [==============================] - 0s 7ms/step - loss: 0.0430 - accuracy: 0.9944 - val_loss: 0.1640 - val_accuracy: 0.9400\n",
            "Epoch 99/100\n",
            "29/29 [==============================] - 0s 6ms/step - loss: 0.0419 - accuracy: 0.9956 - val_loss: 0.1652 - val_accuracy: 0.9350\n",
            "Epoch 100/100\n",
            "29/29 [==============================] - 0s 7ms/step - loss: 0.0415 - accuracy: 0.9944 - val_loss: 0.1713 - val_accuracy: 0.9350\n"
          ]
        }
      ]
    },
    {
      "cell_type": "code",
      "metadata": {
        "id": "bCIrA7nQTjV8"
      },
      "source": [
        "# Import dependence for plotting training process \n",
        "import matplotlib.pyplot as plt"
      ],
      "execution_count": 28,
      "outputs": []
    },
    {
      "cell_type": "code",
      "metadata": {
        "id": "_5VTbyxsSeOh",
        "colab": {
          "base_uri": "https://localhost:8080/",
          "height": 472
        },
        "outputId": "8f30fc54-f26b-4ab1-d79e-a70faedd0403"
      },
      "source": [
        "# Plot training and validation accuracy\n",
        "plt.plot(history.history['accuracy'])\n",
        "plt.plot(history.history['val_accuracy'])\n",
        "plt.title('Model accuracy')\n",
        "plt.ylabel('Accuracy')\n",
        "plt.xlabel('Epoch')\n",
        "plt.legend(['Train', 'Val'], loc='upper left')\n",
        "plt.show()"
      ],
      "execution_count": 29,
      "outputs": [
        {
          "output_type": "display_data",
          "data": {
            "text/plain": [
              "<Figure size 640x480 with 1 Axes>"
            ],
            "image/png": "[encoded data removed]"
          },
          "metadata": {}
        }
      ]
    },
    {
      "cell_type": "code",
      "metadata": {
        "id": "_d47pYo5TUEm",
        "colab": {
          "base_uri": "https://localhost:8080/",
          "height": 472
        },
        "outputId": "6852ddc8-038b-4912-be7f-ff96381ea1a9"
      },
      "source": [
        "# Plot training and test loss\n",
        "plt.plot(history.history['loss']) \n",
        "plt.plot(history.history['val_loss']) \n",
        "plt.title('Model loss') \n",
        "plt.ylabel('Loss')\n",
        "plt.xlabel('Epoch') \n",
        "plt.legend(['Train', 'Val'], loc='upper left') \n",
        "plt.show()"
      ],
      "execution_count": 30,
      "outputs": [
        {
          "output_type": "display_data",
          "data": {
            "text/plain": [
              "<Figure size 640x480 with 1 Axes>"
            ],
            "image/png": "[encoded data removed]"
          },
          "metadata": {}
        }
      ]
    },
    {
      "cell_type": "code",
      "metadata": {
        "id": "6klS2OaQJwAK"
      },
      "source": [
        "# Save the model\n",
        "from pathlib import Path\n",
        "path = Path('./models')\n",
        "if not path.exists():\n",
        "  path.mkdir()\n",
        "model.save('./models/model_1.h5')"
      ],
      "execution_count": 31,
      "outputs": []
    },
    {
      "cell_type": "code",
      "metadata": {
        "id": "Ss_CZ2veKTMl",
        "colab": {
          "base_uri": "https://localhost:8080/"
        },
        "outputId": "158df7c1-09a3-413b-85c1-e1782f304868"
      },
      "source": [
        "# List files of ./models directory\n",
        "!ls ./models"
      ],
      "execution_count": 32,
      "outputs": [
        {
          "output_type": "stream",
          "name": "stdout",
          "text": [
            "model_1.h5\n"
          ]
        }
      ]
    },
    {
      "cell_type": "markdown",
      "metadata": {
        "id": "-OQ4IRMlU4oB"
      },
      "source": [
        "# Exercise 1: Train the model without normalization"
      ]
    },
    {
      "cell_type": "code",
      "metadata": {
        "id": "RwK0f6M84pbx"
      },
      "source": [
        "# Split data without normalization in training and validation partitions\n",
        "X_train, X_val, y_train, y_val = train_test_split(X, y_onehot, \n",
        "                                                  test_size=0.1)"
      ],
      "execution_count": 33,
      "outputs": []
    },
    {
      "cell_type": "code",
      "metadata": {
        "id": "L1TNrJWw5XI-",
        "colab": {
          "base_uri": "https://localhost:8080/"
        },
        "outputId": "0b95b509-01f1-40b1-a83d-f051323d385b"
      },
      "source": [
        "# Train the model\n",
        "history = model.fit(X_train, y_train, epochs=100, batch_size=64, \n",
        "                    validation_data=(X_val, y_val))"
      ],
      "execution_count": 34,
      "outputs": [
        {
          "output_type": "stream",
          "name": "stdout",
          "text": [
            "Epoch 1/100\n",
            "29/29 [==============================] - 0s 9ms/step - loss: 12151.0322 - accuracy: 0.2428 - val_loss: 6008.4995 - val_accuracy: 0.2200\n",
            "Epoch 2/100\n",
            "29/29 [==============================] - 0s 7ms/step - loss: 3866.4077 - accuracy: 0.2556 - val_loss: 2579.1233 - val_accuracy: 0.2450\n",
            "Epoch 3/100\n",
            "29/29 [==============================] - 0s 7ms/step - loss: 1696.5635 - accuracy: 0.3222 - val_loss: 1045.0228 - val_accuracy: 0.4400\n",
            "Epoch 4/100\n",
            "29/29 [==============================] - 0s 8ms/step - loss: 651.0328 - accuracy: 0.4606 - val_loss: 376.0873 - val_accuracy: 0.5600\n",
            "Epoch 5/100\n",
            "29/29 [==============================] - 0s 6ms/step - loss: 309.9373 - accuracy: 0.5128 - val_loss: 244.5195 - val_accuracy: 0.5750\n",
            "Epoch 6/100\n",
            "29/29 [==============================] - 0s 4ms/step - loss: 225.3150 - accuracy: 0.5000 - val_loss: 185.8466 - val_accuracy: 0.5000\n",
            "Epoch 7/100\n",
            "29/29 [==============================] - 0s 4ms/step - loss: 179.4079 - accuracy: 0.5022 - val_loss: 155.8232 - val_accuracy: 0.4650\n",
            "Epoch 8/100\n",
            "29/29 [==============================] - 0s 4ms/step - loss: 148.0649 - accuracy: 0.4883 - val_loss: 126.1962 - val_accuracy: 0.5100\n",
            "Epoch 9/100\n",
            "29/29 [==============================] - 0s 4ms/step - loss: 125.8377 - accuracy: 0.4861 - val_loss: 107.2475 - val_accuracy: 0.4750\n",
            "Epoch 10/100\n",
            "29/29 [==============================] - 0s 4ms/step - loss: 105.0050 - accuracy: 0.4989 - val_loss: 91.9618 - val_accuracy: 0.4650\n",
            "Epoch 11/100\n",
            "29/29 [==============================] - 0s 4ms/step - loss: 85.3625 - accuracy: 0.5156 - val_loss: 78.7519 - val_accuracy: 0.5050\n",
            "Epoch 12/100\n",
            "29/29 [==============================] - 0s 5ms/step - loss: 68.0682 - accuracy: 0.5122 - val_loss: 61.1082 - val_accuracy: 0.4900\n",
            "Epoch 13/100\n",
            "29/29 [==============================] - 0s 5ms/step - loss: 52.8162 - accuracy: 0.5017 - val_loss: 44.2873 - val_accuracy: 0.5250\n",
            "Epoch 14/100\n",
            "29/29 [==============================] - 0s 5ms/step - loss: 38.0359 - accuracy: 0.5089 - val_loss: 30.1249 - val_accuracy: 0.5350\n",
            "Epoch 15/100\n",
            "29/29 [==============================] - 0s 4ms/step - loss: 29.0249 - accuracy: 0.5283 - val_loss: 23.8060 - val_accuracy: 0.4850\n",
            "Epoch 16/100\n",
            "29/29 [==============================] - 0s 5ms/step - loss: 23.5340 - accuracy: 0.5378 - val_loss: 20.1067 - val_accuracy: 0.5250\n",
            "Epoch 17/100\n",
            "29/29 [==============================] - 0s 4ms/step - loss: 21.4043 - accuracy: 0.5378 - val_loss: 18.9077 - val_accuracy: 0.5350\n",
            "Epoch 18/100\n",
            "29/29 [==============================] - 0s 4ms/step - loss: 19.9975 - accuracy: 0.5644 - val_loss: 17.8625 - val_accuracy: 0.4450\n",
            "Epoch 19/100\n",
            "29/29 [==============================] - 0s 4ms/step - loss: 19.2141 - accuracy: 0.5561 - val_loss: 15.5356 - val_accuracy: 0.5100\n",
            "Epoch 20/100\n",
            "29/29 [==============================] - 0s 5ms/step - loss: 17.5269 - accuracy: 0.5756 - val_loss: 16.7456 - val_accuracy: 0.5100\n",
            "Epoch 21/100\n",
            "29/29 [==============================] - 0s 4ms/step - loss: 17.7276 - accuracy: 0.5778 - val_loss: 13.5536 - val_accuracy: 0.5600\n",
            "Epoch 22/100\n",
            "29/29 [==============================] - 0s 4ms/step - loss: 16.2441 - accuracy: 0.5661 - val_loss: 13.4240 - val_accuracy: 0.5450\n",
            "Epoch 23/100\n",
            "29/29 [==============================] - 0s 4ms/step - loss: 16.5358 - accuracy: 0.5511 - val_loss: 13.1399 - val_accuracy: 0.5200\n",
            "Epoch 24/100\n",
            "29/29 [==============================] - 0s 4ms/step - loss: 14.9528 - accuracy: 0.5700 - val_loss: 12.3982 - val_accuracy: 0.5300\n",
            "Epoch 25/100\n",
            "29/29 [==============================] - 0s 5ms/step - loss: 14.2931 - accuracy: 0.5706 - val_loss: 11.8836 - val_accuracy: 0.6150\n",
            "Epoch 26/100\n",
            "29/29 [==============================] - 0s 5ms/step - loss: 14.5784 - accuracy: 0.5622 - val_loss: 10.1667 - val_accuracy: 0.6100\n",
            "Epoch 27/100\n",
            "29/29 [==============================] - 0s 5ms/step - loss: 14.2127 - accuracy: 0.5672 - val_loss: 9.6952 - val_accuracy: 0.6050\n",
            "Epoch 28/100\n",
            "29/29 [==============================] - 0s 4ms/step - loss: 13.0423 - accuracy: 0.5939 - val_loss: 18.9853 - val_accuracy: 0.4150\n",
            "Epoch 29/100\n",
            "29/29 [==============================] - 0s 5ms/step - loss: 13.2710 - accuracy: 0.5850 - val_loss: 10.7498 - val_accuracy: 0.5800\n",
            "Epoch 30/100\n",
            "29/29 [==============================] - 0s 4ms/step - loss: 12.1305 - accuracy: 0.5894 - val_loss: 10.1758 - val_accuracy: 0.5750\n",
            "Epoch 31/100\n",
            "29/29 [==============================] - 0s 4ms/step - loss: 11.8933 - accuracy: 0.5817 - val_loss: 9.0073 - val_accuracy: 0.6150\n",
            "Epoch 32/100\n",
            "29/29 [==============================] - 0s 5ms/step - loss: 10.7398 - accuracy: 0.6072 - val_loss: 8.4692 - val_accuracy: 0.6300\n",
            "Epoch 33/100\n",
            "29/29 [==============================] - 0s 4ms/step - loss: 10.8470 - accuracy: 0.5900 - val_loss: 8.0581 - val_accuracy: 0.6350\n",
            "Epoch 34/100\n",
            "29/29 [==============================] - 0s 4ms/step - loss: 11.0559 - accuracy: 0.5883 - val_loss: 7.3147 - val_accuracy: 0.6350\n",
            "Epoch 35/100\n",
            "29/29 [==============================] - 0s 5ms/step - loss: 9.9742 - accuracy: 0.5939 - val_loss: 13.8097 - val_accuracy: 0.5250\n",
            "Epoch 36/100\n",
            "29/29 [==============================] - 0s 5ms/step - loss: 11.3118 - accuracy: 0.5722 - val_loss: 7.1440 - val_accuracy: 0.6350\n",
            "Epoch 37/100\n",
            "29/29 [==============================] - 0s 4ms/step - loss: 9.1053 - accuracy: 0.6178 - val_loss: 11.4241 - val_accuracy: 0.5350\n",
            "Epoch 38/100\n",
            "29/29 [==============================] - 0s 4ms/step - loss: 10.1964 - accuracy: 0.5939 - val_loss: 7.2314 - val_accuracy: 0.6200\n",
            "Epoch 39/100\n",
            "29/29 [==============================] - 0s 4ms/step - loss: 9.4717 - accuracy: 0.5939 - val_loss: 5.5729 - val_accuracy: 0.6800\n",
            "Epoch 40/100\n",
            "29/29 [==============================] - 0s 4ms/step - loss: 8.5120 - accuracy: 0.6172 - val_loss: 7.3270 - val_accuracy: 0.5950\n",
            "Epoch 41/100\n",
            "29/29 [==============================] - 0s 5ms/step - loss: 9.1609 - accuracy: 0.6050 - val_loss: 7.1963 - val_accuracy: 0.6650\n",
            "Epoch 42/100\n",
            "29/29 [==============================] - 0s 5ms/step - loss: 10.0340 - accuracy: 0.5822 - val_loss: 6.0847 - val_accuracy: 0.6750\n",
            "Epoch 43/100\n",
            "29/29 [==============================] - 0s 7ms/step - loss: 7.9823 - accuracy: 0.6239 - val_loss: 6.6784 - val_accuracy: 0.6500\n",
            "Epoch 44/100\n",
            "29/29 [==============================] - 0s 6ms/step - loss: 8.0616 - accuracy: 0.6056 - val_loss: 5.6986 - val_accuracy: 0.6250\n",
            "Epoch 45/100\n",
            "29/29 [==============================] - 0s 7ms/step - loss: 7.4093 - accuracy: 0.6211 - val_loss: 5.5282 - val_accuracy: 0.7000\n",
            "Epoch 46/100\n",
            "29/29 [==============================] - 0s 6ms/step - loss: 7.4992 - accuracy: 0.6144 - val_loss: 5.4551 - val_accuracy: 0.6950\n",
            "Epoch 47/100\n",
            "29/29 [==============================] - 0s 7ms/step - loss: 8.2120 - accuracy: 0.6206 - val_loss: 11.8878 - val_accuracy: 0.4950\n",
            "Epoch 48/100\n",
            "29/29 [==============================] - 0s 6ms/step - loss: 7.7563 - accuracy: 0.6183 - val_loss: 6.4418 - val_accuracy: 0.6100\n",
            "Epoch 49/100\n",
            "29/29 [==============================] - 0s 6ms/step - loss: 6.8889 - accuracy: 0.6211 - val_loss: 4.2768 - val_accuracy: 0.6950\n",
            "Epoch 50/100\n",
            "29/29 [==============================] - 0s 7ms/step - loss: 6.2301 - accuracy: 0.6461 - val_loss: 4.8808 - val_accuracy: 0.7150\n",
            "Epoch 51/100\n",
            "29/29 [==============================] - 0s 6ms/step - loss: 7.2271 - accuracy: 0.6217 - val_loss: 4.6065 - val_accuracy: 0.6950\n",
            "Epoch 52/100\n",
            "29/29 [==============================] - 0s 6ms/step - loss: 6.7177 - accuracy: 0.6350 - val_loss: 9.8368 - val_accuracy: 0.5450\n",
            "Epoch 53/100\n",
            "29/29 [==============================] - 0s 6ms/step - loss: 8.3686 - accuracy: 0.5983 - val_loss: 8.2061 - val_accuracy: 0.6500\n",
            "Epoch 54/100\n",
            "29/29 [==============================] - 0s 7ms/step - loss: 7.8716 - accuracy: 0.6083 - val_loss: 5.0790 - val_accuracy: 0.6700\n",
            "Epoch 55/100\n",
            "29/29 [==============================] - 0s 6ms/step - loss: 5.9822 - accuracy: 0.6428 - val_loss: 7.2409 - val_accuracy: 0.5250\n",
            "Epoch 56/100\n",
            "29/29 [==============================] - 0s 5ms/step - loss: 5.9658 - accuracy: 0.6322 - val_loss: 4.6566 - val_accuracy: 0.6350\n",
            "Epoch 57/100\n",
            "29/29 [==============================] - 0s 4ms/step - loss: 5.6145 - accuracy: 0.6467 - val_loss: 4.0069 - val_accuracy: 0.7150\n",
            "Epoch 58/100\n",
            "29/29 [==============================] - 0s 5ms/step - loss: 6.6910 - accuracy: 0.6189 - val_loss: 4.2284 - val_accuracy: 0.6700\n",
            "Epoch 59/100\n",
            "29/29 [==============================] - 0s 5ms/step - loss: 6.3598 - accuracy: 0.6283 - val_loss: 5.0954 - val_accuracy: 0.6250\n",
            "Epoch 60/100\n",
            "29/29 [==============================] - 0s 4ms/step - loss: 5.6002 - accuracy: 0.6461 - val_loss: 3.7720 - val_accuracy: 0.7600\n",
            "Epoch 61/100\n",
            "29/29 [==============================] - 0s 4ms/step - loss: 5.7706 - accuracy: 0.6422 - val_loss: 4.6596 - val_accuracy: 0.6650\n",
            "Epoch 62/100\n",
            "29/29 [==============================] - 0s 5ms/step - loss: 6.0981 - accuracy: 0.6039 - val_loss: 3.6431 - val_accuracy: 0.6650\n",
            "Epoch 63/100\n",
            "29/29 [==============================] - 0s 5ms/step - loss: 5.0345 - accuracy: 0.6517 - val_loss: 3.7238 - val_accuracy: 0.7000\n",
            "Epoch 64/100\n",
            "29/29 [==============================] - 0s 5ms/step - loss: 5.7455 - accuracy: 0.6344 - val_loss: 3.4236 - val_accuracy: 0.7200\n",
            "Epoch 65/100\n",
            "29/29 [==============================] - 0s 4ms/step - loss: 5.5382 - accuracy: 0.6328 - val_loss: 4.4834 - val_accuracy: 0.6200\n",
            "Epoch 66/100\n",
            "29/29 [==============================] - 0s 5ms/step - loss: 5.3611 - accuracy: 0.6483 - val_loss: 3.3141 - val_accuracy: 0.7400\n",
            "Epoch 67/100\n",
            "29/29 [==============================] - 0s 5ms/step - loss: 5.2644 - accuracy: 0.6439 - val_loss: 6.7701 - val_accuracy: 0.5800\n",
            "Epoch 68/100\n",
            "29/29 [==============================] - 0s 5ms/step - loss: 4.9119 - accuracy: 0.6556 - val_loss: 3.0008 - val_accuracy: 0.6900\n",
            "Epoch 69/100\n",
            "29/29 [==============================] - 0s 4ms/step - loss: 4.5145 - accuracy: 0.6583 - val_loss: 3.1234 - val_accuracy: 0.7200\n",
            "Epoch 70/100\n",
            "29/29 [==============================] - 0s 4ms/step - loss: 4.2763 - accuracy: 0.6650 - val_loss: 3.5011 - val_accuracy: 0.6650\n",
            "Epoch 71/100\n",
            "29/29 [==============================] - 0s 4ms/step - loss: 4.3685 - accuracy: 0.6500 - val_loss: 3.4748 - val_accuracy: 0.6650\n",
            "Epoch 72/100\n",
            "29/29 [==============================] - 0s 5ms/step - loss: 4.7289 - accuracy: 0.6356 - val_loss: 3.0275 - val_accuracy: 0.7150\n",
            "Epoch 73/100\n",
            "29/29 [==============================] - 0s 5ms/step - loss: 5.1498 - accuracy: 0.6228 - val_loss: 2.7005 - val_accuracy: 0.7400\n",
            "Epoch 74/100\n",
            "29/29 [==============================] - 0s 4ms/step - loss: 4.5069 - accuracy: 0.6511 - val_loss: 4.6509 - val_accuracy: 0.6150\n",
            "Epoch 75/100\n",
            "29/29 [==============================] - 0s 4ms/step - loss: 4.4313 - accuracy: 0.6378 - val_loss: 5.1380 - val_accuracy: 0.6100\n",
            "Epoch 76/100\n",
            "29/29 [==============================] - 0s 4ms/step - loss: 6.1124 - accuracy: 0.5950 - val_loss: 5.3114 - val_accuracy: 0.7100\n",
            "Epoch 77/100\n",
            "29/29 [==============================] - 0s 4ms/step - loss: 8.2431 - accuracy: 0.5983 - val_loss: 3.0689 - val_accuracy: 0.7350\n",
            "Epoch 78/100\n",
            "29/29 [==============================] - 0s 4ms/step - loss: 4.8860 - accuracy: 0.6339 - val_loss: 4.1236 - val_accuracy: 0.6500\n",
            "Epoch 79/100\n",
            "29/29 [==============================] - 0s 4ms/step - loss: 4.5125 - accuracy: 0.6394 - val_loss: 3.1359 - val_accuracy: 0.6450\n",
            "Epoch 80/100\n",
            "29/29 [==============================] - 0s 4ms/step - loss: 4.4429 - accuracy: 0.6450 - val_loss: 3.2691 - val_accuracy: 0.7250\n",
            "Epoch 81/100\n",
            "29/29 [==============================] - 0s 5ms/step - loss: 3.9239 - accuracy: 0.6750 - val_loss: 2.9890 - val_accuracy: 0.6750\n",
            "Epoch 82/100\n",
            "29/29 [==============================] - 0s 5ms/step - loss: 3.7764 - accuracy: 0.6506 - val_loss: 3.3052 - val_accuracy: 0.7000\n",
            "Epoch 83/100\n",
            "29/29 [==============================] - 0s 5ms/step - loss: 4.0496 - accuracy: 0.6533 - val_loss: 3.6554 - val_accuracy: 0.6300\n",
            "Epoch 84/100\n",
            "29/29 [==============================] - 0s 5ms/step - loss: 3.7771 - accuracy: 0.6667 - val_loss: 2.1844 - val_accuracy: 0.7150\n",
            "Epoch 85/100\n",
            "29/29 [==============================] - 0s 5ms/step - loss: 3.9092 - accuracy: 0.6511 - val_loss: 2.4944 - val_accuracy: 0.6850\n",
            "Epoch 86/100\n",
            "29/29 [==============================] - 0s 4ms/step - loss: 3.7904 - accuracy: 0.6656 - val_loss: 2.5830 - val_accuracy: 0.6650\n",
            "Epoch 87/100\n",
            "29/29 [==============================] - 0s 5ms/step - loss: 3.5777 - accuracy: 0.6550 - val_loss: 2.6711 - val_accuracy: 0.7100\n",
            "Epoch 88/100\n",
            "29/29 [==============================] - 0s 5ms/step - loss: 3.8768 - accuracy: 0.6539 - val_loss: 2.4750 - val_accuracy: 0.6850\n",
            "Epoch 89/100\n",
            "29/29 [==============================] - 0s 4ms/step - loss: 4.1980 - accuracy: 0.6456 - val_loss: 2.3076 - val_accuracy: 0.7450\n",
            "Epoch 90/100\n",
            "29/29 [==============================] - 0s 5ms/step - loss: 3.8294 - accuracy: 0.6406 - val_loss: 2.9845 - val_accuracy: 0.6650\n",
            "Epoch 91/100\n",
            "29/29 [==============================] - 0s 5ms/step - loss: 3.7996 - accuracy: 0.6572 - val_loss: 3.1886 - val_accuracy: 0.6450\n",
            "Epoch 92/100\n",
            "29/29 [==============================] - 0s 4ms/step - loss: 4.9902 - accuracy: 0.6072 - val_loss: 2.2157 - val_accuracy: 0.7450\n",
            "Epoch 93/100\n",
            "29/29 [==============================] - 0s 4ms/step - loss: 3.4414 - accuracy: 0.6489 - val_loss: 4.4401 - val_accuracy: 0.6600\n",
            "Epoch 94/100\n",
            "29/29 [==============================] - 0s 5ms/step - loss: 3.8098 - accuracy: 0.6400 - val_loss: 2.1424 - val_accuracy: 0.7150\n",
            "Epoch 95/100\n",
            "29/29 [==============================] - 0s 5ms/step - loss: 3.7164 - accuracy: 0.6439 - val_loss: 4.5295 - val_accuracy: 0.5550\n",
            "Epoch 96/100\n",
            "29/29 [==============================] - 0s 5ms/step - loss: 3.9669 - accuracy: 0.6389 - val_loss: 4.5975 - val_accuracy: 0.5800\n",
            "Epoch 97/100\n",
            "29/29 [==============================] - 0s 5ms/step - loss: 3.9908 - accuracy: 0.6294 - val_loss: 3.6764 - val_accuracy: 0.5750\n",
            "Epoch 98/100\n",
            "29/29 [==============================] - 0s 4ms/step - loss: 4.2873 - accuracy: 0.6300 - val_loss: 3.0299 - val_accuracy: 0.6950\n",
            "Epoch 99/100\n",
            "29/29 [==============================] - 0s 4ms/step - loss: 4.3310 - accuracy: 0.6456 - val_loss: 6.2514 - val_accuracy: 0.6600\n",
            "Epoch 100/100\n",
            "29/29 [==============================] - 0s 5ms/step - loss: 3.6829 - accuracy: 0.6422 - val_loss: 4.6589 - val_accuracy: 0.5850\n"
          ]
        }
      ]
    },
    {
      "cell_type": "code",
      "metadata": {
        "id": "ad7wt64u6lYs",
        "colab": {
          "base_uri": "https://localhost:8080/",
          "height": 472
        },
        "outputId": "f59290a1-a6ca-4960-82e1-497d68e27c84"
      },
      "source": [
        "# Plot training and validation accuracy\n",
        "plt.plot(history.history['accuracy'])\n",
        "plt.plot(history.history['val_accuracy'])\n",
        "plt.title('Model accuracy')\n",
        "plt.ylabel('Accuracy')\n",
        "plt.xlabel('Epoch')\n",
        "plt.legend(['Train', 'Val'], loc='upper left')\n",
        "plt.show()"
      ],
      "execution_count": 35,
      "outputs": [
        {
          "output_type": "display_data",
          "data": {
            "text/plain": [
              "<Figure size 640x480 with 1 Axes>"
            ],
            "image/png": "[encoded data removed]"
          },
          "metadata": {}
        }
      ]
    },
    {
      "cell_type": "code",
      "metadata": {
        "id": "ETJDeDTt6tRR",
        "colab": {
          "base_uri": "https://localhost:8080/",
          "height": 472
        },
        "outputId": "221d0516-58dc-4fe4-ea73-43699e36bad3"
      },
      "source": [
        "# Plot training and test loss\n",
        "plt.plot(history.history['loss']) \n",
        "plt.plot(history.history['val_loss']) \n",
        "plt.title('Model loss') \n",
        "plt.ylabel('Loss')\n",
        "plt.xlabel('Epoch') \n",
        "plt.legend(['Train', 'Val'], loc='upper left') \n",
        "plt.show()"
      ],
      "execution_count": 36,
      "outputs": [
        {
          "output_type": "display_data",
          "data": {
            "text/plain": [
              "<Figure size 640x480 with 1 Axes>"
            ],
            "image/png": "[encoded data removed]"
          },
          "metadata": {}
        }
      ]
    },
    {
      "cell_type": "markdown",
      "metadata": {
        "id": "xvK807CDVCnk"
      },
      "source": [
        "# Exercise 2: Train a simpler model and evaluate the results"
      ]
    },
    {
      "cell_type": "code",
      "metadata": {
        "id": "zq47RlJJ7E11"
      },
      "source": [
        "# Split data with normalization in training and validation partitions\n",
        "X_train, X_val, y_train, y_val = train_test_split(X_norm, y_onehot, \n",
        "                                                  test_size=0.1)\n"
      ],
      "execution_count": 37,
      "outputs": []
    },
    {
      "cell_type": "code",
      "metadata": {
        "id": "dqFSwTf67NY_"
      },
      "source": [
        "# Design a model like the previous but without the second Dense layer\n",
        "model = Sequential()\n",
        "model.add(Dense(16, input_dim=20, activation='relu'))\n",
        "model.add(Dense(4, activation='softmax'))"
      ],
      "execution_count": 38,
      "outputs": []
    },
    {
      "cell_type": "code",
      "metadata": {
        "id": "5Kl6T_sI7nUL"
      },
      "source": [
        "# Compile the model\n",
        "model.compile(loss='categorical_crossentropy', optimizer='adam', \n",
        "              metrics=['accuracy'])"
      ],
      "execution_count": 39,
      "outputs": []
    },
    {
      "cell_type": "code",
      "metadata": {
        "id": "h5rvLhwZ7xJF",
        "colab": {
          "base_uri": "https://localhost:8080/"
        },
        "outputId": "a5b64a9d-1d95-4ebc-d9b6-f96f8f752c40"
      },
      "source": [
        "# Train the model\n",
        "history = model.fit(X_train, y_train, epochs=100, batch_size=64, \n",
        "                    validation_data=(X_val, y_val))"
      ],
      "execution_count": 40,
      "outputs": [
        {
          "output_type": "stream",
          "name": "stdout",
          "text": [
            "Epoch 1/100\n",
            "29/29 [==============================] - 1s 9ms/step - loss: 1.6909 - accuracy: 0.2767 - val_loss: 1.6580 - val_accuracy: 0.2800\n",
            "Epoch 2/100\n",
            "29/29 [==============================] - 0s 4ms/step - loss: 1.5509 - accuracy: 0.2828 - val_loss: 1.5196 - val_accuracy: 0.2900\n",
            "Epoch 3/100\n",
            "29/29 [==============================] - 0s 4ms/step - loss: 1.4559 - accuracy: 0.3044 - val_loss: 1.4247 - val_accuracy: 0.3450\n",
            "Epoch 4/100\n",
            "29/29 [==============================] - 0s 4ms/step - loss: 1.3875 - accuracy: 0.3272 - val_loss: 1.3515 - val_accuracy: 0.4000\n",
            "Epoch 5/100\n",
            "29/29 [==============================] - 0s 4ms/step - loss: 1.3308 - accuracy: 0.3611 - val_loss: 1.2893 - val_accuracy: 0.4200\n",
            "Epoch 6/100\n",
            "29/29 [==============================] - 0s 4ms/step - loss: 1.2811 - accuracy: 0.3967 - val_loss: 1.2361 - val_accuracy: 0.4750\n",
            "Epoch 7/100\n",
            "29/29 [==============================] - 0s 5ms/step - loss: 1.2349 - accuracy: 0.4222 - val_loss: 1.1878 - val_accuracy: 0.4950\n",
            "Epoch 8/100\n",
            "29/29 [==============================] - 0s 6ms/step - loss: 1.1885 - accuracy: 0.4589 - val_loss: 1.1394 - val_accuracy: 0.5250\n",
            "Epoch 9/100\n",
            "29/29 [==============================] - 0s 6ms/step - loss: 1.1415 - accuracy: 0.5011 - val_loss: 1.0912 - val_accuracy: 0.5550\n",
            "Epoch 10/100\n",
            "29/29 [==============================] - 0s 6ms/step - loss: 1.0950 - accuracy: 0.5383 - val_loss: 1.0452 - val_accuracy: 0.5600\n",
            "Epoch 11/100\n",
            "29/29 [==============================] - 0s 6ms/step - loss: 1.0500 - accuracy: 0.5656 - val_loss: 1.0017 - val_accuracy: 0.5800\n",
            "Epoch 12/100\n",
            "29/29 [==============================] - 0s 8ms/step - loss: 1.0054 - accuracy: 0.5867 - val_loss: 0.9585 - val_accuracy: 0.6050\n",
            "Epoch 13/100\n",
            "29/29 [==============================] - 0s 6ms/step - loss: 0.9636 - accuracy: 0.6011 - val_loss: 0.9196 - val_accuracy: 0.6200\n",
            "Epoch 14/100\n",
            "29/29 [==============================] - 0s 6ms/step - loss: 0.9230 - accuracy: 0.6233 - val_loss: 0.8830 - val_accuracy: 0.6500\n",
            "Epoch 15/100\n",
            "29/29 [==============================] - 0s 6ms/step - loss: 0.8843 - accuracy: 0.6467 - val_loss: 0.8472 - val_accuracy: 0.6650\n",
            "Epoch 16/100\n",
            "29/29 [==============================] - 0s 6ms/step - loss: 0.8472 - accuracy: 0.6683 - val_loss: 0.8141 - val_accuracy: 0.6750\n",
            "Epoch 17/100\n",
            "29/29 [==============================] - 0s 6ms/step - loss: 0.8126 - accuracy: 0.6844 - val_loss: 0.7841 - val_accuracy: 0.6800\n",
            "Epoch 18/100\n",
            "29/29 [==============================] - 0s 6ms/step - loss: 0.7803 - accuracy: 0.6956 - val_loss: 0.7553 - val_accuracy: 0.6850\n",
            "Epoch 19/100\n",
            "29/29 [==============================] - 0s 6ms/step - loss: 0.7505 - accuracy: 0.7133 - val_loss: 0.7288 - val_accuracy: 0.6950\n",
            "Epoch 20/100\n",
            "29/29 [==============================] - 0s 7ms/step - loss: 0.7226 - accuracy: 0.7328 - val_loss: 0.7042 - val_accuracy: 0.7200\n",
            "Epoch 21/100\n",
            "29/29 [==============================] - 0s 6ms/step - loss: 0.6967 - accuracy: 0.7506 - val_loss: 0.6811 - val_accuracy: 0.7450\n",
            "Epoch 22/100\n",
            "29/29 [==============================] - 0s 5ms/step - loss: 0.6724 - accuracy: 0.7650 - val_loss: 0.6592 - val_accuracy: 0.7550\n",
            "Epoch 23/100\n",
            "29/29 [==============================] - 0s 4ms/step - loss: 0.6497 - accuracy: 0.7772 - val_loss: 0.6378 - val_accuracy: 0.7600\n",
            "Epoch 24/100\n",
            "29/29 [==============================] - 0s 4ms/step - loss: 0.6283 - accuracy: 0.7939 - val_loss: 0.6198 - val_accuracy: 0.7750\n",
            "Epoch 25/100\n",
            "29/29 [==============================] - 0s 4ms/step - loss: 0.6080 - accuracy: 0.8106 - val_loss: 0.6011 - val_accuracy: 0.7800\n",
            "Epoch 26/100\n",
            "29/29 [==============================] - 0s 4ms/step - loss: 0.5890 - accuracy: 0.8161 - val_loss: 0.5838 - val_accuracy: 0.7900\n",
            "Epoch 27/100\n",
            "29/29 [==============================] - 0s 5ms/step - loss: 0.5713 - accuracy: 0.8272 - val_loss: 0.5657 - val_accuracy: 0.8050\n",
            "Epoch 28/100\n",
            "29/29 [==============================] - 0s 4ms/step - loss: 0.5533 - accuracy: 0.8356 - val_loss: 0.5489 - val_accuracy: 0.8100\n",
            "Epoch 29/100\n",
            "29/29 [==============================] - 0s 4ms/step - loss: 0.5378 - accuracy: 0.8444 - val_loss: 0.5348 - val_accuracy: 0.8150\n",
            "Epoch 30/100\n",
            "29/29 [==============================] - 0s 4ms/step - loss: 0.5221 - accuracy: 0.8478 - val_loss: 0.5212 - val_accuracy: 0.8200\n",
            "Epoch 31/100\n",
            "29/29 [==============================] - 0s 5ms/step - loss: 0.5073 - accuracy: 0.8572 - val_loss: 0.5071 - val_accuracy: 0.8250\n",
            "Epoch 32/100\n",
            "29/29 [==============================] - 0s 4ms/step - loss: 0.4929 - accuracy: 0.8706 - val_loss: 0.4939 - val_accuracy: 0.8350\n",
            "Epoch 33/100\n",
            "29/29 [==============================] - 0s 4ms/step - loss: 0.4796 - accuracy: 0.8722 - val_loss: 0.4817 - val_accuracy: 0.8400\n",
            "Epoch 34/100\n",
            "29/29 [==============================] - 0s 4ms/step - loss: 0.4662 - accuracy: 0.8822 - val_loss: 0.4702 - val_accuracy: 0.8350\n",
            "Epoch 35/100\n",
            "29/29 [==============================] - 0s 4ms/step - loss: 0.4539 - accuracy: 0.8900 - val_loss: 0.4591 - val_accuracy: 0.8550\n",
            "Epoch 36/100\n",
            "29/29 [==============================] - 0s 4ms/step - loss: 0.4416 - accuracy: 0.8961 - val_loss: 0.4468 - val_accuracy: 0.8700\n",
            "Epoch 37/100\n",
            "29/29 [==============================] - 0s 5ms/step - loss: 0.4301 - accuracy: 0.8989 - val_loss: 0.4360 - val_accuracy: 0.8850\n",
            "Epoch 38/100\n",
            "29/29 [==============================] - 0s 4ms/step - loss: 0.4188 - accuracy: 0.9033 - val_loss: 0.4248 - val_accuracy: 0.8700\n",
            "Epoch 39/100\n",
            "29/29 [==============================] - 0s 4ms/step - loss: 0.4083 - accuracy: 0.9067 - val_loss: 0.4165 - val_accuracy: 0.8750\n",
            "Epoch 40/100\n",
            "29/29 [==============================] - 0s 4ms/step - loss: 0.3981 - accuracy: 0.9089 - val_loss: 0.4061 - val_accuracy: 0.8750\n",
            "Epoch 41/100\n",
            "29/29 [==============================] - 0s 4ms/step - loss: 0.3884 - accuracy: 0.9161 - val_loss: 0.3981 - val_accuracy: 0.8900\n",
            "Epoch 42/100\n",
            "29/29 [==============================] - 0s 5ms/step - loss: 0.3788 - accuracy: 0.9217 - val_loss: 0.3885 - val_accuracy: 0.8850\n",
            "Epoch 43/100\n",
            "29/29 [==============================] - 0s 5ms/step - loss: 0.3703 - accuracy: 0.9233 - val_loss: 0.3814 - val_accuracy: 0.8950\n",
            "Epoch 44/100\n",
            "29/29 [==============================] - 0s 5ms/step - loss: 0.3613 - accuracy: 0.9250 - val_loss: 0.3723 - val_accuracy: 0.8900\n",
            "Epoch 45/100\n",
            "29/29 [==============================] - 0s 4ms/step - loss: 0.3530 - accuracy: 0.9294 - val_loss: 0.3660 - val_accuracy: 0.9050\n",
            "Epoch 46/100\n",
            "29/29 [==============================] - 0s 4ms/step - loss: 0.3447 - accuracy: 0.9278 - val_loss: 0.3576 - val_accuracy: 0.9050\n",
            "Epoch 47/100\n",
            "29/29 [==============================] - 0s 5ms/step - loss: 0.3365 - accuracy: 0.9283 - val_loss: 0.3520 - val_accuracy: 0.9150\n",
            "Epoch 48/100\n",
            "29/29 [==============================] - 0s 4ms/step - loss: 0.3292 - accuracy: 0.9300 - val_loss: 0.3446 - val_accuracy: 0.9150\n",
            "Epoch 49/100\n",
            "29/29 [==============================] - 0s 5ms/step - loss: 0.3212 - accuracy: 0.9411 - val_loss: 0.3373 - val_accuracy: 0.9250\n",
            "Epoch 50/100\n",
            "29/29 [==============================] - 0s 5ms/step - loss: 0.3142 - accuracy: 0.9417 - val_loss: 0.3299 - val_accuracy: 0.9200\n",
            "Epoch 51/100\n",
            "29/29 [==============================] - 0s 4ms/step - loss: 0.3072 - accuracy: 0.9433 - val_loss: 0.3244 - val_accuracy: 0.9200\n",
            "Epoch 52/100\n",
            "29/29 [==============================] - 0s 4ms/step - loss: 0.3007 - accuracy: 0.9422 - val_loss: 0.3193 - val_accuracy: 0.9150\n",
            "Epoch 53/100\n",
            "29/29 [==============================] - 0s 4ms/step - loss: 0.2946 - accuracy: 0.9422 - val_loss: 0.3120 - val_accuracy: 0.9250\n",
            "Epoch 54/100\n",
            "29/29 [==============================] - 0s 4ms/step - loss: 0.2882 - accuracy: 0.9439 - val_loss: 0.3079 - val_accuracy: 0.9300\n",
            "Epoch 55/100\n",
            "29/29 [==============================] - 0s 5ms/step - loss: 0.2824 - accuracy: 0.9456 - val_loss: 0.3010 - val_accuracy: 0.9250\n",
            "Epoch 56/100\n",
            "29/29 [==============================] - 0s 5ms/step - loss: 0.2764 - accuracy: 0.9467 - val_loss: 0.2951 - val_accuracy: 0.9300\n",
            "Epoch 57/100\n",
            "29/29 [==============================] - 0s 5ms/step - loss: 0.2710 - accuracy: 0.9467 - val_loss: 0.2907 - val_accuracy: 0.9250\n",
            "Epoch 58/100\n",
            "29/29 [==============================] - 0s 4ms/step - loss: 0.2658 - accuracy: 0.9467 - val_loss: 0.2883 - val_accuracy: 0.9300\n",
            "Epoch 59/100\n",
            "29/29 [==============================] - 0s 5ms/step - loss: 0.2606 - accuracy: 0.9472 - val_loss: 0.2852 - val_accuracy: 0.9300\n",
            "Epoch 60/100\n",
            "29/29 [==============================] - 0s 4ms/step - loss: 0.2554 - accuracy: 0.9494 - val_loss: 0.2812 - val_accuracy: 0.9300\n",
            "Epoch 61/100\n",
            "29/29 [==============================] - 0s 5ms/step - loss: 0.2503 - accuracy: 0.9517 - val_loss: 0.2751 - val_accuracy: 0.9350\n",
            "Epoch 62/100\n",
            "29/29 [==============================] - 0s 4ms/step - loss: 0.2460 - accuracy: 0.9489 - val_loss: 0.2719 - val_accuracy: 0.9250\n",
            "Epoch 63/100\n",
            "29/29 [==============================] - 0s 4ms/step - loss: 0.2413 - accuracy: 0.9544 - val_loss: 0.2695 - val_accuracy: 0.9250\n",
            "Epoch 64/100\n",
            "29/29 [==============================] - 0s 4ms/step - loss: 0.2370 - accuracy: 0.9550 - val_loss: 0.2650 - val_accuracy: 0.9300\n",
            "Epoch 65/100\n",
            "29/29 [==============================] - 0s 5ms/step - loss: 0.2326 - accuracy: 0.9533 - val_loss: 0.2617 - val_accuracy: 0.9250\n",
            "Epoch 66/100\n",
            "29/29 [==============================] - 0s 5ms/step - loss: 0.2286 - accuracy: 0.9539 - val_loss: 0.2576 - val_accuracy: 0.9350\n",
            "Epoch 67/100\n",
            "29/29 [==============================] - 0s 4ms/step - loss: 0.2247 - accuracy: 0.9561 - val_loss: 0.2544 - val_accuracy: 0.9300\n",
            "Epoch 68/100\n",
            "29/29 [==============================] - 0s 4ms/step - loss: 0.2204 - accuracy: 0.9567 - val_loss: 0.2509 - val_accuracy: 0.9250\n",
            "Epoch 69/100\n",
            "29/29 [==============================] - 0s 5ms/step - loss: 0.2165 - accuracy: 0.9539 - val_loss: 0.2477 - val_accuracy: 0.9350\n",
            "Epoch 70/100\n",
            "29/29 [==============================] - 0s 4ms/step - loss: 0.2129 - accuracy: 0.9550 - val_loss: 0.2445 - val_accuracy: 0.9350\n",
            "Epoch 71/100\n",
            "29/29 [==============================] - 0s 5ms/step - loss: 0.2093 - accuracy: 0.9572 - val_loss: 0.2432 - val_accuracy: 0.9350\n",
            "Epoch 72/100\n",
            "29/29 [==============================] - 0s 5ms/step - loss: 0.2055 - accuracy: 0.9583 - val_loss: 0.2392 - val_accuracy: 0.9400\n",
            "Epoch 73/100\n",
            "29/29 [==============================] - 0s 5ms/step - loss: 0.2025 - accuracy: 0.9594 - val_loss: 0.2359 - val_accuracy: 0.9300\n",
            "Epoch 74/100\n",
            "29/29 [==============================] - 0s 4ms/step - loss: 0.1992 - accuracy: 0.9606 - val_loss: 0.2343 - val_accuracy: 0.9300\n",
            "Epoch 75/100\n",
            "29/29 [==============================] - 0s 4ms/step - loss: 0.1960 - accuracy: 0.9633 - val_loss: 0.2317 - val_accuracy: 0.9350\n",
            "Epoch 76/100\n",
            "29/29 [==============================] - 0s 5ms/step - loss: 0.1932 - accuracy: 0.9600 - val_loss: 0.2291 - val_accuracy: 0.9350\n",
            "Epoch 77/100\n",
            "29/29 [==============================] - 0s 4ms/step - loss: 0.1904 - accuracy: 0.9600 - val_loss: 0.2299 - val_accuracy: 0.9300\n",
            "Epoch 78/100\n",
            "29/29 [==============================] - 0s 4ms/step - loss: 0.1872 - accuracy: 0.9622 - val_loss: 0.2257 - val_accuracy: 0.9250\n",
            "Epoch 79/100\n",
            "29/29 [==============================] - 0s 4ms/step - loss: 0.1846 - accuracy: 0.9633 - val_loss: 0.2234 - val_accuracy: 0.9350\n",
            "Epoch 80/100\n",
            "29/29 [==============================] - 0s 4ms/step - loss: 0.1818 - accuracy: 0.9650 - val_loss: 0.2218 - val_accuracy: 0.9300\n",
            "Epoch 81/100\n",
            "29/29 [==============================] - 0s 9ms/step - loss: 0.1793 - accuracy: 0.9650 - val_loss: 0.2178 - val_accuracy: 0.9300\n",
            "Epoch 82/100\n",
            "29/29 [==============================] - 0s 11ms/step - loss: 0.1765 - accuracy: 0.9644 - val_loss: 0.2166 - val_accuracy: 0.9350\n",
            "Epoch 83/100\n",
            "29/29 [==============================] - 0s 6ms/step - loss: 0.1742 - accuracy: 0.9611 - val_loss: 0.2141 - val_accuracy: 0.9450\n",
            "Epoch 84/100\n",
            "29/29 [==============================] - 0s 4ms/step - loss: 0.1720 - accuracy: 0.9644 - val_loss: 0.2096 - val_accuracy: 0.9450\n",
            "Epoch 85/100\n",
            "29/29 [==============================] - 0s 4ms/step - loss: 0.1695 - accuracy: 0.9656 - val_loss: 0.2069 - val_accuracy: 0.9450\n",
            "Epoch 86/100\n",
            "29/29 [==============================] - 0s 5ms/step - loss: 0.1670 - accuracy: 0.9667 - val_loss: 0.2049 - val_accuracy: 0.9450\n",
            "Epoch 87/100\n",
            "29/29 [==============================] - 0s 4ms/step - loss: 0.1646 - accuracy: 0.9650 - val_loss: 0.2027 - val_accuracy: 0.9450\n",
            "Epoch 88/100\n",
            "29/29 [==============================] - 0s 4ms/step - loss: 0.1622 - accuracy: 0.9694 - val_loss: 0.2006 - val_accuracy: 0.9450\n",
            "Epoch 89/100\n",
            "29/29 [==============================] - 0s 4ms/step - loss: 0.1600 - accuracy: 0.9683 - val_loss: 0.1983 - val_accuracy: 0.9500\n",
            "Epoch 90/100\n",
            "29/29 [==============================] - 0s 4ms/step - loss: 0.1583 - accuracy: 0.9667 - val_loss: 0.1958 - val_accuracy: 0.9450\n",
            "Epoch 91/100\n",
            "29/29 [==============================] - 0s 4ms/step - loss: 0.1559 - accuracy: 0.9667 - val_loss: 0.1949 - val_accuracy: 0.9450\n",
            "Epoch 92/100\n",
            "29/29 [==============================] - 0s 5ms/step - loss: 0.1542 - accuracy: 0.9694 - val_loss: 0.1911 - val_accuracy: 0.9500\n",
            "Epoch 93/100\n",
            "29/29 [==============================] - 0s 7ms/step - loss: 0.1521 - accuracy: 0.9694 - val_loss: 0.1890 - val_accuracy: 0.9500\n",
            "Epoch 94/100\n",
            "29/29 [==============================] - 0s 7ms/step - loss: 0.1499 - accuracy: 0.9717 - val_loss: 0.1890 - val_accuracy: 0.9400\n",
            "Epoch 95/100\n",
            "29/29 [==============================] - 0s 8ms/step - loss: 0.1481 - accuracy: 0.9711 - val_loss: 0.1885 - val_accuracy: 0.9500\n",
            "Epoch 96/100\n",
            "29/29 [==============================] - 0s 6ms/step - loss: 0.1462 - accuracy: 0.9694 - val_loss: 0.1852 - val_accuracy: 0.9500\n",
            "Epoch 97/100\n",
            "29/29 [==============================] - 0s 7ms/step - loss: 0.1444 - accuracy: 0.9700 - val_loss: 0.1850 - val_accuracy: 0.9500\n",
            "Epoch 98/100\n",
            "29/29 [==============================] - 0s 6ms/step - loss: 0.1427 - accuracy: 0.9717 - val_loss: 0.1846 - val_accuracy: 0.9550\n",
            "Epoch 99/100\n",
            "29/29 [==============================] - 0s 6ms/step - loss: 0.1411 - accuracy: 0.9711 - val_loss: 0.1825 - val_accuracy: 0.9500\n",
            "Epoch 100/100\n",
            "29/29 [==============================] - 0s 7ms/step - loss: 0.1393 - accuracy: 0.9717 - val_loss: 0.1816 - val_accuracy: 0.9500\n"
          ]
        }
      ]
    },
    {
      "cell_type": "code",
      "metadata": {
        "id": "DepOKe2q8MkJ",
        "colab": {
          "base_uri": "https://localhost:8080/",
          "height": 472
        },
        "outputId": "b20efffb-c894-4847-bf8b-77354d34fe4b"
      },
      "source": [
        "# Plot training and validation accuracy\n",
        "plt.plot(history.history['accuracy'])\n",
        "plt.plot(history.history['val_accuracy'])\n",
        "plt.title('Model accuracy')\n",
        "plt.ylabel('Accuracy')\n",
        "plt.xlabel('Epoch')\n",
        "plt.legend(['Train', 'Val'], loc='upper left')\n",
        "plt.show()"
      ],
      "execution_count": 41,
      "outputs": [
        {
          "output_type": "display_data",
          "data": {
            "text/plain": [
              "<Figure size 640x480 with 1 Axes>"
            ],
            "image/png": "[encoded data removed]"
          },
          "metadata": {}
        }
      ]
    },
    {
      "cell_type": "code",
      "metadata": {
        "id": "3w92LUhf8MVT",
        "colab": {
          "base_uri": "https://localhost:8080/",
          "height": 472
        },
        "outputId": "1bfaa4d9-e2ea-48a5-e46a-659e490a6aba"
      },
      "source": [
        "# Plot training and test loss\n",
        "plt.plot(history.history['loss']) \n",
        "plt.plot(history.history['val_loss']) \n",
        "plt.title('Model loss') \n",
        "plt.ylabel('Loss')\n",
        "plt.xlabel('Epoch') \n",
        "plt.legend(['Train', 'Val'], loc='upper left') \n",
        "plt.show()"
      ],
      "execution_count": 42,
      "outputs": [
        {
          "output_type": "display_data",
          "data": {
            "text/plain": [
              "<Figure size 640x480 with 1 Axes>"
            ],
            "image/png": "[encoded data removed]"
          },
          "metadata": {}
        }
      ]
    },
    {
      "cell_type": "markdown",
      "metadata": {
        "id": "Is_TBOC1VTIE"
      },
      "source": [
        "# Exercise 3: Train a more complex model and evaluate the results"
      ]
    },
    {
      "cell_type": "code",
      "metadata": {
        "id": "OjIi9dDDVTrl"
      },
      "source": [
        "# Split data with normalization in training and validation partitions\n",
        "X_train, X_val, y_train, y_val = train_test_split(X_norm, y_onehot, \n",
        "                                                  test_size=0.1)\n"
      ],
      "execution_count": 43,
      "outputs": []
    },
    {
      "cell_type": "code",
      "metadata": {
        "id": "eG_74eNC8r1Z"
      },
      "source": [
        "# Design a model like the previous but with 128 neurons in the first Dense layer\n",
        "# and 256 in the second\n",
        "model = Sequential()\n",
        "model.add(Dense(128, input_dim=20, activation='relu'))\n",
        "model.add(Dense(256, activation='relu'))\n",
        "model.add(Dense(4, activation='softmax'))\n"
      ],
      "execution_count": 44,
      "outputs": []
    },
    {
      "cell_type": "code",
      "metadata": {
        "id": "tdqlzys58_9H"
      },
      "source": [
        "# Compile the model\n",
        "model.compile(loss='categorical_crossentropy', optimizer='adam', \n",
        "              metrics=['accuracy'])"
      ],
      "execution_count": 45,
      "outputs": []
    },
    {
      "cell_type": "code",
      "metadata": {
        "id": "wA0FvjzI9ECb",
        "colab": {
          "base_uri": "https://localhost:8080/"
        },
        "outputId": "ed243abf-f42b-4c75-a95d-c7a3bae8b3eb"
      },
      "source": [
        "# Train the model\n",
        "history = model.fit(X_train, y_train, epochs=100, batch_size=64, \n",
        "                    validation_data=(X_val, y_val))"
      ],
      "execution_count": 46,
      "outputs": [
        {
          "output_type": "stream",
          "name": "stdout",
          "text": [
            "Epoch 1/100\n",
            "29/29 [==============================] - 2s 10ms/step - loss: 1.1530 - accuracy: 0.4994 - val_loss: 0.8838 - val_accuracy: 0.6600\n",
            "Epoch 2/100\n",
            "29/29 [==============================] - 0s 5ms/step - loss: 0.7059 - accuracy: 0.7444 - val_loss: 0.5989 - val_accuracy: 0.7250\n",
            "Epoch 3/100\n",
            "29/29 [==============================] - 0s 4ms/step - loss: 0.4567 - accuracy: 0.8633 - val_loss: 0.4254 - val_accuracy: 0.8600\n",
            "Epoch 4/100\n",
            "29/29 [==============================] - 0s 5ms/step - loss: 0.3174 - accuracy: 0.9233 - val_loss: 0.3383 - val_accuracy: 0.8750\n",
            "Epoch 5/100\n",
            "29/29 [==============================] - 0s 5ms/step - loss: 0.2417 - accuracy: 0.9400 - val_loss: 0.2940 - val_accuracy: 0.9050\n",
            "Epoch 6/100\n",
            "29/29 [==============================] - 0s 5ms/step - loss: 0.1869 - accuracy: 0.9572 - val_loss: 0.2435 - val_accuracy: 0.9100\n",
            "Epoch 7/100\n",
            "29/29 [==============================] - 0s 5ms/step - loss: 0.1492 - accuracy: 0.9717 - val_loss: 0.2265 - val_accuracy: 0.9150\n",
            "Epoch 8/100\n",
            "29/29 [==============================] - 0s 4ms/step - loss: 0.1236 - accuracy: 0.9772 - val_loss: 0.2397 - val_accuracy: 0.9050\n",
            "Epoch 9/100\n",
            "29/29 [==============================] - 0s 5ms/step - loss: 0.1118 - accuracy: 0.9783 - val_loss: 0.1989 - val_accuracy: 0.9200\n",
            "Epoch 10/100\n",
            "29/29 [==============================] - 0s 5ms/step - loss: 0.0890 - accuracy: 0.9839 - val_loss: 0.1910 - val_accuracy: 0.9300\n",
            "Epoch 11/100\n",
            "29/29 [==============================] - 0s 5ms/step - loss: 0.0768 - accuracy: 0.9878 - val_loss: 0.1833 - val_accuracy: 0.9250\n",
            "Epoch 12/100\n",
            "29/29 [==============================] - 0s 5ms/step - loss: 0.0660 - accuracy: 0.9933 - val_loss: 0.1831 - val_accuracy: 0.9300\n",
            "Epoch 13/100\n",
            "29/29 [==============================] - 0s 5ms/step - loss: 0.0551 - accuracy: 0.9944 - val_loss: 0.1809 - val_accuracy: 0.9300\n",
            "Epoch 14/100\n",
            "29/29 [==============================] - 0s 4ms/step - loss: 0.0479 - accuracy: 0.9972 - val_loss: 0.1787 - val_accuracy: 0.9300\n",
            "Epoch 15/100\n",
            "29/29 [==============================] - 0s 7ms/step - loss: 0.0444 - accuracy: 0.9983 - val_loss: 0.1827 - val_accuracy: 0.9350\n",
            "Epoch 16/100\n",
            "29/29 [==============================] - 0s 6ms/step - loss: 0.0392 - accuracy: 0.9978 - val_loss: 0.1907 - val_accuracy: 0.9350\n",
            "Epoch 17/100\n",
            "29/29 [==============================] - 0s 6ms/step - loss: 0.0315 - accuracy: 0.9994 - val_loss: 0.1771 - val_accuracy: 0.9300\n",
            "Epoch 18/100\n",
            "29/29 [==============================] - 0s 7ms/step - loss: 0.0291 - accuracy: 0.9994 - val_loss: 0.1800 - val_accuracy: 0.9300\n",
            "Epoch 19/100\n",
            "29/29 [==============================] - 0s 7ms/step - loss: 0.0261 - accuracy: 0.9994 - val_loss: 0.1661 - val_accuracy: 0.9300\n",
            "Epoch 20/100\n",
            "29/29 [==============================] - 0s 7ms/step - loss: 0.0228 - accuracy: 1.0000 - val_loss: 0.1703 - val_accuracy: 0.9200\n",
            "Epoch 21/100\n",
            "29/29 [==============================] - 0s 7ms/step - loss: 0.0194 - accuracy: 1.0000 - val_loss: 0.1819 - val_accuracy: 0.9300\n",
            "Epoch 22/100\n",
            "29/29 [==============================] - 0s 6ms/step - loss: 0.0181 - accuracy: 0.9994 - val_loss: 0.1892 - val_accuracy: 0.9300\n",
            "Epoch 23/100\n",
            "29/29 [==============================] - 0s 6ms/step - loss: 0.0160 - accuracy: 1.0000 - val_loss: 0.1932 - val_accuracy: 0.9300\n",
            "Epoch 24/100\n",
            "29/29 [==============================] - 0s 6ms/step - loss: 0.0136 - accuracy: 1.0000 - val_loss: 0.1795 - val_accuracy: 0.9250\n",
            "Epoch 25/100\n",
            "29/29 [==============================] - 0s 8ms/step - loss: 0.0129 - accuracy: 1.0000 - val_loss: 0.1855 - val_accuracy: 0.9250\n",
            "Epoch 26/100\n",
            "29/29 [==============================] - 0s 7ms/step - loss: 0.0106 - accuracy: 1.0000 - val_loss: 0.1844 - val_accuracy: 0.9200\n",
            "Epoch 27/100\n",
            "29/29 [==============================] - 0s 6ms/step - loss: 0.0096 - accuracy: 1.0000 - val_loss: 0.1972 - val_accuracy: 0.9250\n",
            "Epoch 28/100\n",
            "29/29 [==============================] - 0s 5ms/step - loss: 0.0094 - accuracy: 1.0000 - val_loss: 0.1985 - val_accuracy: 0.9200\n",
            "Epoch 29/100\n",
            "29/29 [==============================] - 0s 4ms/step - loss: 0.0085 - accuracy: 1.0000 - val_loss: 0.1987 - val_accuracy: 0.9200\n",
            "Epoch 30/100\n",
            "29/29 [==============================] - 0s 5ms/step - loss: 0.0074 - accuracy: 1.0000 - val_loss: 0.2048 - val_accuracy: 0.9200\n",
            "Epoch 31/100\n",
            "29/29 [==============================] - 0s 4ms/step - loss: 0.0067 - accuracy: 1.0000 - val_loss: 0.1931 - val_accuracy: 0.9200\n",
            "Epoch 32/100\n",
            "29/29 [==============================] - 0s 5ms/step - loss: 0.0065 - accuracy: 1.0000 - val_loss: 0.2020 - val_accuracy: 0.9250\n",
            "Epoch 33/100\n",
            "29/29 [==============================] - 0s 4ms/step - loss: 0.0058 - accuracy: 1.0000 - val_loss: 0.2036 - val_accuracy: 0.9250\n",
            "Epoch 34/100\n",
            "29/29 [==============================] - 0s 5ms/step - loss: 0.0054 - accuracy: 1.0000 - val_loss: 0.2053 - val_accuracy: 0.9200\n",
            "Epoch 35/100\n",
            "29/29 [==============================] - 0s 4ms/step - loss: 0.0049 - accuracy: 1.0000 - val_loss: 0.2109 - val_accuracy: 0.9200\n",
            "Epoch 36/100\n",
            "29/29 [==============================] - 0s 5ms/step - loss: 0.0047 - accuracy: 1.0000 - val_loss: 0.2110 - val_accuracy: 0.9200\n",
            "Epoch 37/100\n",
            "29/29 [==============================] - 0s 4ms/step - loss: 0.0043 - accuracy: 1.0000 - val_loss: 0.2035 - val_accuracy: 0.9200\n",
            "Epoch 38/100\n",
            "29/29 [==============================] - 0s 5ms/step - loss: 0.0040 - accuracy: 1.0000 - val_loss: 0.2051 - val_accuracy: 0.9200\n",
            "Epoch 39/100\n",
            "29/29 [==============================] - 0s 4ms/step - loss: 0.0037 - accuracy: 1.0000 - val_loss: 0.2104 - val_accuracy: 0.9200\n",
            "Epoch 40/100\n",
            "29/29 [==============================] - 0s 5ms/step - loss: 0.0034 - accuracy: 1.0000 - val_loss: 0.2093 - val_accuracy: 0.9200\n",
            "Epoch 41/100\n",
            "29/29 [==============================] - 0s 4ms/step - loss: 0.0033 - accuracy: 1.0000 - val_loss: 0.2196 - val_accuracy: 0.9150\n",
            "Epoch 42/100\n",
            "29/29 [==============================] - 0s 4ms/step - loss: 0.0032 - accuracy: 1.0000 - val_loss: 0.2134 - val_accuracy: 0.9200\n",
            "Epoch 43/100\n",
            "29/29 [==============================] - 0s 4ms/step - loss: 0.0029 - accuracy: 1.0000 - val_loss: 0.2166 - val_accuracy: 0.9200\n",
            "Epoch 44/100\n",
            "29/29 [==============================] - 0s 5ms/step - loss: 0.0028 - accuracy: 1.0000 - val_loss: 0.2116 - val_accuracy: 0.9200\n",
            "Epoch 45/100\n",
            "29/29 [==============================] - 0s 4ms/step - loss: 0.0027 - accuracy: 1.0000 - val_loss: 0.2182 - val_accuracy: 0.9150\n",
            "Epoch 46/100\n",
            "29/29 [==============================] - 0s 6ms/step - loss: 0.0024 - accuracy: 1.0000 - val_loss: 0.2191 - val_accuracy: 0.9200\n",
            "Epoch 47/100\n",
            "29/29 [==============================] - 0s 5ms/step - loss: 0.0023 - accuracy: 1.0000 - val_loss: 0.2195 - val_accuracy: 0.9150\n",
            "Epoch 48/100\n",
            "29/29 [==============================] - 0s 4ms/step - loss: 0.0022 - accuracy: 1.0000 - val_loss: 0.2206 - val_accuracy: 0.9150\n",
            "Epoch 49/100\n",
            "29/29 [==============================] - 0s 4ms/step - loss: 0.0021 - accuracy: 1.0000 - val_loss: 0.2253 - val_accuracy: 0.9200\n",
            "Epoch 50/100\n",
            "29/29 [==============================] - 0s 5ms/step - loss: 0.0021 - accuracy: 1.0000 - val_loss: 0.2247 - val_accuracy: 0.9150\n",
            "Epoch 51/100\n",
            "29/29 [==============================] - 0s 5ms/step - loss: 0.0019 - accuracy: 1.0000 - val_loss: 0.2273 - val_accuracy: 0.9150\n",
            "Epoch 52/100\n",
            "29/29 [==============================] - 0s 5ms/step - loss: 0.0018 - accuracy: 1.0000 - val_loss: 0.2318 - val_accuracy: 0.9200\n",
            "Epoch 53/100\n",
            "29/29 [==============================] - 0s 4ms/step - loss: 0.0017 - accuracy: 1.0000 - val_loss: 0.2305 - val_accuracy: 0.9200\n",
            "Epoch 54/100\n",
            "29/29 [==============================] - 0s 4ms/step - loss: 0.0016 - accuracy: 1.0000 - val_loss: 0.2285 - val_accuracy: 0.9150\n",
            "Epoch 55/100\n",
            "29/29 [==============================] - 0s 5ms/step - loss: 0.0016 - accuracy: 1.0000 - val_loss: 0.2287 - val_accuracy: 0.9150\n",
            "Epoch 56/100\n",
            "29/29 [==============================] - 0s 5ms/step - loss: 0.0015 - accuracy: 1.0000 - val_loss: 0.2279 - val_accuracy: 0.9150\n",
            "Epoch 57/100\n",
            "29/29 [==============================] - 0s 5ms/step - loss: 0.0014 - accuracy: 1.0000 - val_loss: 0.2307 - val_accuracy: 0.9150\n",
            "Epoch 58/100\n",
            "29/29 [==============================] - 0s 4ms/step - loss: 0.0014 - accuracy: 1.0000 - val_loss: 0.2341 - val_accuracy: 0.9150\n",
            "Epoch 59/100\n",
            "29/29 [==============================] - 0s 5ms/step - loss: 0.0013 - accuracy: 1.0000 - val_loss: 0.2332 - val_accuracy: 0.9150\n",
            "Epoch 60/100\n",
            "29/29 [==============================] - 0s 5ms/step - loss: 0.0012 - accuracy: 1.0000 - val_loss: 0.2300 - val_accuracy: 0.9150\n",
            "Epoch 61/100\n",
            "29/29 [==============================] - 0s 5ms/step - loss: 0.0012 - accuracy: 1.0000 - val_loss: 0.2342 - val_accuracy: 0.9150\n",
            "Epoch 62/100\n",
            "29/29 [==============================] - 0s 4ms/step - loss: 0.0011 - accuracy: 1.0000 - val_loss: 0.2371 - val_accuracy: 0.9150\n",
            "Epoch 63/100\n",
            "29/29 [==============================] - 0s 4ms/step - loss: 0.0011 - accuracy: 1.0000 - val_loss: 0.2364 - val_accuracy: 0.9150\n",
            "Epoch 64/100\n",
            "29/29 [==============================] - 0s 5ms/step - loss: 0.0010 - accuracy: 1.0000 - val_loss: 0.2370 - val_accuracy: 0.9150\n",
            "Epoch 65/100\n",
            "29/29 [==============================] - 0s 4ms/step - loss: 0.0010 - accuracy: 1.0000 - val_loss: 0.2364 - val_accuracy: 0.9150\n",
            "Epoch 66/100\n",
            "29/29 [==============================] - 0s 5ms/step - loss: 9.7587e-04 - accuracy: 1.0000 - val_loss: 0.2395 - val_accuracy: 0.9150\n",
            "Epoch 67/100\n",
            "29/29 [==============================] - 0s 5ms/step - loss: 9.4380e-04 - accuracy: 1.0000 - val_loss: 0.2412 - val_accuracy: 0.9150\n",
            "Epoch 68/100\n",
            "29/29 [==============================] - 0s 5ms/step - loss: 9.1669e-04 - accuracy: 1.0000 - val_loss: 0.2408 - val_accuracy: 0.9150\n",
            "Epoch 69/100\n",
            "29/29 [==============================] - 0s 5ms/step - loss: 8.6917e-04 - accuracy: 1.0000 - val_loss: 0.2410 - val_accuracy: 0.9150\n",
            "Epoch 70/100\n",
            "29/29 [==============================] - 0s 4ms/step - loss: 8.6351e-04 - accuracy: 1.0000 - val_loss: 0.2431 - val_accuracy: 0.9150\n",
            "Epoch 71/100\n",
            "29/29 [==============================] - 0s 5ms/step - loss: 8.1843e-04 - accuracy: 1.0000 - val_loss: 0.2444 - val_accuracy: 0.9150\n",
            "Epoch 72/100\n",
            "29/29 [==============================] - 0s 5ms/step - loss: 7.8714e-04 - accuracy: 1.0000 - val_loss: 0.2447 - val_accuracy: 0.9150\n",
            "Epoch 73/100\n",
            "29/29 [==============================] - 0s 5ms/step - loss: 7.5944e-04 - accuracy: 1.0000 - val_loss: 0.2468 - val_accuracy: 0.9150\n",
            "Epoch 74/100\n",
            "29/29 [==============================] - 0s 4ms/step - loss: 7.2964e-04 - accuracy: 1.0000 - val_loss: 0.2459 - val_accuracy: 0.9150\n",
            "Epoch 75/100\n",
            "29/29 [==============================] - 0s 4ms/step - loss: 7.0076e-04 - accuracy: 1.0000 - val_loss: 0.2505 - val_accuracy: 0.9150\n",
            "Epoch 76/100\n",
            "29/29 [==============================] - 0s 5ms/step - loss: 6.7561e-04 - accuracy: 1.0000 - val_loss: 0.2504 - val_accuracy: 0.9150\n",
            "Epoch 77/100\n",
            "29/29 [==============================] - 0s 4ms/step - loss: 6.5413e-04 - accuracy: 1.0000 - val_loss: 0.2505 - val_accuracy: 0.9150\n",
            "Epoch 78/100\n",
            "29/29 [==============================] - 0s 4ms/step - loss: 6.3422e-04 - accuracy: 1.0000 - val_loss: 0.2520 - val_accuracy: 0.9150\n",
            "Epoch 79/100\n",
            "29/29 [==============================] - 0s 4ms/step - loss: 6.1083e-04 - accuracy: 1.0000 - val_loss: 0.2522 - val_accuracy: 0.9150\n",
            "Epoch 80/100\n",
            "29/29 [==============================] - 0s 4ms/step - loss: 5.9444e-04 - accuracy: 1.0000 - val_loss: 0.2529 - val_accuracy: 0.9150\n",
            "Epoch 81/100\n",
            "29/29 [==============================] - 0s 5ms/step - loss: 5.7851e-04 - accuracy: 1.0000 - val_loss: 0.2537 - val_accuracy: 0.9150\n",
            "Epoch 82/100\n",
            "29/29 [==============================] - 0s 8ms/step - loss: 5.5983e-04 - accuracy: 1.0000 - val_loss: 0.2529 - val_accuracy: 0.9150\n",
            "Epoch 83/100\n",
            "29/29 [==============================] - 0s 8ms/step - loss: 5.4693e-04 - accuracy: 1.0000 - val_loss: 0.2588 - val_accuracy: 0.9150\n",
            "Epoch 84/100\n",
            "29/29 [==============================] - 0s 9ms/step - loss: 5.2655e-04 - accuracy: 1.0000 - val_loss: 0.2566 - val_accuracy: 0.9150\n",
            "Epoch 85/100\n",
            "29/29 [==============================] - 0s 7ms/step - loss: 5.0591e-04 - accuracy: 1.0000 - val_loss: 0.2549 - val_accuracy: 0.9150\n",
            "Epoch 86/100\n",
            "29/29 [==============================] - 0s 6ms/step - loss: 4.9215e-04 - accuracy: 1.0000 - val_loss: 0.2609 - val_accuracy: 0.9150\n",
            "Epoch 87/100\n",
            "29/29 [==============================] - 0s 6ms/step - loss: 4.7443e-04 - accuracy: 1.0000 - val_loss: 0.2606 - val_accuracy: 0.9150\n",
            "Epoch 88/100\n",
            "29/29 [==============================] - 0s 8ms/step - loss: 4.5793e-04 - accuracy: 1.0000 - val_loss: 0.2625 - val_accuracy: 0.9150\n",
            "Epoch 89/100\n",
            "29/29 [==============================] - 0s 9ms/step - loss: 4.4442e-04 - accuracy: 1.0000 - val_loss: 0.2618 - val_accuracy: 0.9150\n",
            "Epoch 90/100\n",
            "29/29 [==============================] - 0s 7ms/step - loss: 4.3714e-04 - accuracy: 1.0000 - val_loss: 0.2628 - val_accuracy: 0.9150\n",
            "Epoch 91/100\n",
            "29/29 [==============================] - 0s 8ms/step - loss: 4.2864e-04 - accuracy: 1.0000 - val_loss: 0.2595 - val_accuracy: 0.9150\n",
            "Epoch 92/100\n",
            "29/29 [==============================] - 0s 8ms/step - loss: 4.0768e-04 - accuracy: 1.0000 - val_loss: 0.2619 - val_accuracy: 0.9150\n",
            "Epoch 93/100\n",
            "29/29 [==============================] - 0s 12ms/step - loss: 3.9867e-04 - accuracy: 1.0000 - val_loss: 0.2651 - val_accuracy: 0.9150\n",
            "Epoch 94/100\n",
            "29/29 [==============================] - 0s 10ms/step - loss: 3.8364e-04 - accuracy: 1.0000 - val_loss: 0.2635 - val_accuracy: 0.9150\n",
            "Epoch 95/100\n",
            "29/29 [==============================] - 0s 11ms/step - loss: 3.7883e-04 - accuracy: 1.0000 - val_loss: 0.2685 - val_accuracy: 0.9150\n",
            "Epoch 96/100\n",
            "29/29 [==============================] - 0s 9ms/step - loss: 3.6706e-04 - accuracy: 1.0000 - val_loss: 0.2687 - val_accuracy: 0.9150\n",
            "Epoch 97/100\n",
            "29/29 [==============================] - 0s 9ms/step - loss: 3.6306e-04 - accuracy: 1.0000 - val_loss: 0.2701 - val_accuracy: 0.9150\n",
            "Epoch 98/100\n",
            "29/29 [==============================] - 0s 9ms/step - loss: 3.4606e-04 - accuracy: 1.0000 - val_loss: 0.2672 - val_accuracy: 0.9150\n",
            "Epoch 99/100\n",
            "29/29 [==============================] - 0s 10ms/step - loss: 3.4051e-04 - accuracy: 1.0000 - val_loss: 0.2708 - val_accuracy: 0.9150\n",
            "Epoch 100/100\n",
            "29/29 [==============================] - 0s 10ms/step - loss: 3.2851e-04 - accuracy: 1.0000 - val_loss: 0.2701 - val_accuracy: 0.9150\n"
          ]
        }
      ]
    },
    {
      "cell_type": "code",
      "metadata": {
        "id": "wVcSFPgD9vvf",
        "colab": {
          "base_uri": "https://localhost:8080/",
          "height": 472
        },
        "outputId": "8c679eda-40df-42b0-aced-d614f9cb9813"
      },
      "source": [
        "# Plot training and validation accuracy\n",
        "plt.plot(history.history['accuracy'])\n",
        "plt.plot(history.history['val_accuracy'])\n",
        "plt.title('Model accuracy')\n",
        "plt.ylabel('Accuracy')\n",
        "plt.xlabel('Epoch')\n",
        "plt.legend(['Train', 'Val'], loc='upper left')\n",
        "plt.show()"
      ],
      "execution_count": 47,
      "outputs": [
        {
          "output_type": "display_data",
          "data": {
            "text/plain": [
              "<Figure size 640x480 with 1 Axes>"
            ],
            "image/png": "[encoded data removed]"
          },
          "metadata": {}
        }
      ]
    },
    {
      "cell_type": "code",
      "metadata": {
        "id": "4nmHge409q7k",
        "colab": {
          "base_uri": "https://localhost:8080/",
          "height": 472
        },
        "outputId": "8291b518-215b-40d0-cd89-1b38429c5fd6"
      },
      "source": [
        "# Plot training and test loss\n",
        "plt.plot(history.history['loss']) \n",
        "plt.plot(history.history['val_loss']) \n",
        "plt.title('Model loss') \n",
        "plt.ylabel('Loss')\n",
        "plt.xlabel('Epoch') \n",
        "plt.legend(['Train', 'Val'], loc='upper left') \n",
        "plt.show()"
      ],
      "execution_count": 48,
      "outputs": [
        {
          "output_type": "display_data",
          "data": {
            "text/plain": [
              "<Figure size 640x480 with 1 Axes>"
            ],
            "image/png": "[encoded data removed]"
          },
          "metadata": {}
        }
      ]
    },
    {
      "cell_type": "markdown",
      "metadata": {
        "id": "-a_D8fFqFNJ4"
      },
      "source": [
        "# Exercise 4: Predict the price range of the phones of the test.csv file"
      ]
    },
    {
      "cell_type": "code",
      "metadata": {
        "id": "iAUk4_kNDfbG"
      },
      "source": [
        "# Read it test data from csv\n",
        "dataset_test = pd.read_csv('./data/test.csv')"
      ],
      "execution_count": 49,
      "outputs": []
    },
    {
      "cell_type": "code",
      "metadata": {
        "id": "HX4h1tgWDyqT",
        "colab": {
          "base_uri": "https://localhost:8080/"
        },
        "outputId": "ba8ecf9c-7f79-423a-979d-12883b026ccb"
      },
      "source": [
        "# Show column names (pay attention, maybe there is something different)\n",
        "dataset_test.columns"
      ],
      "execution_count": 50,
      "outputs": [
        {
          "output_type": "execute_result",
          "data": {
            "text/plain": [
              "Index(['id', 'battery_power', 'blue', 'clock_speed', 'dual_sim', 'fc',\n",
              "       'four_g', 'int_memory', 'm_dep', 'mobile_wt', 'n_cores', 'pc',\n",
              "       'px_height', 'px_width', 'ram', 'sc_h', 'sc_w', 'talk_time', 'three_g',\n",
              "       'touch_screen', 'wifi'],\n",
              "      dtype='object')"
            ]
          },
          "metadata": {},
          "execution_count": 50
        }
      ]
    },
    {
      "cell_type": "code",
      "source": [
        "# Compare it to the train dataset: test dataset has 1 more column: 'id'\n",
        "dataset.columns"
      ],
      "metadata": {
        "colab": {
          "base_uri": "https://localhost:8080/"
        },
        "id": "l00xRr1rjaMT",
        "outputId": "adb35f77-eb9e-4745-9ef4-300eb55b59d7"
      },
      "execution_count": 63,
      "outputs": [
        {
          "output_type": "execute_result",
          "data": {
            "text/plain": [
              "Index(['battery_power', 'blue', 'clock_speed', 'dual_sim', 'fc', 'four_g',\n",
              "       'int_memory', 'm_dep', 'mobile_wt', 'n_cores', 'pc', 'px_height',\n",
              "       'px_width', 'ram', 'sc_h', 'sc_w', 'talk_time', 'three_g',\n",
              "       'touch_screen', 'wifi', 'price_range'],\n",
              "      dtype='object')"
            ]
          },
          "metadata": {},
          "execution_count": 63
        }
      ]
    },
    {
      "cell_type": "code",
      "metadata": {
        "id": "oEz2uUWwD3et"
      },
      "source": [
        "# Convert the data to numpy array\n",
        "dataset_numpy = dataset_test.values\n",
        "X_test = dataset_numpy[:, 1:21]\n"
      ],
      "execution_count": 75,
      "outputs": []
    },
    {
      "cell_type": "code",
      "metadata": {
        "id": "ibg8reduGXkT",
        "colab": {
          "base_uri": "https://localhost:8080/"
        },
        "outputId": "40f09980-9a61-4f78-ffa9-6422b87256af"
      },
      "source": [
        "# Show shape of the data\n",
        "print(\"Shape of training data: \", X_test.shape)\n"
      ],
      "execution_count": 76,
      "outputs": [
        {
          "output_type": "stream",
          "name": "stdout",
          "text": [
            "Shape of training data:  (1000, 20)\n"
          ]
        }
      ]
    },
    {
      "cell_type": "code",
      "metadata": {
        "id": "ePSNvo6JGcay"
      },
      "source": [
        "# Get rid of a column if needed\n",
        "## ya lo he hecho"
      ],
      "execution_count": null,
      "outputs": []
    },
    {
      "cell_type": "code",
      "metadata": {
        "id": "newYB74PHA05"
      },
      "source": [
        "# Normalize data. Important!! Always normalize test data with the mean and\n",
        "# standard deviation learnt from the training data.\n",
        "X_test_norm = sc.transform(X_test)"
      ],
      "execution_count": 77,
      "outputs": []
    },
    {
      "cell_type": "code",
      "metadata": {
        "id": "mM2cyGJpJXCP",
        "colab": {
          "base_uri": "https://localhost:8080/"
        },
        "outputId": "992e63db-5421-4de1-d2e0-19d02cfc0a7a"
      },
      "source": [
        "# Show data before and after normalization\n",
        "print(\"Before normalization: \\n\", X_test[1, :])\n",
        "print(\"After normalization: \\n\", X_test_norm[1, :])"
      ],
      "execution_count": 78,
      "outputs": [
        {
          "output_type": "stream",
          "name": "stdout",
          "text": [
            "Before normalization: \n",
            " [8.410e+02 1.000e+00 5.000e-01 1.000e+00 4.000e+00 1.000e+00 6.100e+01\n",
            " 8.000e-01 1.910e+02 5.000e+00 1.200e+01 7.460e+02 8.570e+02 3.895e+03\n",
            " 6.000e+00 0.000e+00 7.000e+00 1.000e+00 0.000e+00 0.000e+00]\n",
            "After normalization: \n",
            " [-0.90487356  1.0100505  -1.2530642   0.98117712 -0.07130748  0.95788598\n",
            "  1.59600992  1.03435682  1.43401659  0.20963905  0.34365317  0.22740333\n",
            " -0.91303718  1.63287318 -1.49720161 -1.32413127 -0.73426721  0.55964063\n",
            " -1.00601811 -1.01409939]\n"
          ]
        }
      ]
    },
    {
      "cell_type": "code",
      "metadata": {
        "id": "e5oBiyCSJoFJ"
      },
      "source": [
        "# Load model saved during the example\n",
        "from keras.models import load_model\n",
        "model = load_model('./models/model_1.h5')"
      ],
      "execution_count": 79,
      "outputs": []
    },
    {
      "cell_type": "code",
      "metadata": {
        "id": "QhMVQLxvLMZw",
        "colab": {
          "base_uri": "https://localhost:8080/"
        },
        "outputId": "d4fca09c-15b0-4c6e-bde8-b4af576b98d0"
      },
      "source": [
        "# Predict price range\n",
        "predictions = model.predict(X_test_norm)"
      ],
      "execution_count": 80,
      "outputs": [
        {
          "output_type": "stream",
          "name": "stdout",
          "text": [
            "32/32 [==============================] - 1s 4ms/step\n"
          ]
        }
      ]
    },
    {
      "cell_type": "code",
      "metadata": {
        "id": "AgYMlxWOLYM_",
        "colab": {
          "base_uri": "https://localhost:8080/"
        },
        "outputId": "62a5ad18-6ec6-43c1-ec35-c5632449b43c"
      },
      "source": [
        "# Show predictions\n",
        "predictions"
      ],
      "execution_count": 81,
      "outputs": [
        {
          "output_type": "execute_result",
          "data": {
            "text/plain": [
              "array([[4.7588615e-20, 2.3998625e-09, 5.4001911e-03, 9.9459982e-01],\n",
              "       [1.4982307e-23, 2.7256850e-11, 1.2849591e-03, 9.9871504e-01],\n",
              "       [3.8877084e-16, 5.8886462e-06, 7.6367760e-01, 2.3631650e-01],\n",
              "       ...,\n",
              "       [8.9263380e-01, 1.0736626e-01, 1.0387864e-12, 5.3819404e-21],\n",
              "       [3.6011496e-11, 1.4021056e-02, 9.8597449e-01, 4.4185731e-06],\n",
              "       [2.0370038e-12, 8.2107412e-04, 9.9911851e-01, 6.0352977e-05]],\n",
              "      dtype=float32)"
            ]
          },
          "metadata": {},
          "execution_count": 81
        }
      ]
    },
    {
      "cell_type": "code",
      "metadata": {
        "id": "Fu017wvWLcgS"
      },
      "source": [
        "# Convert predictions to scalars from one-hot encoding\n",
        "scalar_predictions = np.argmax(predictions, axis=1)"
      ],
      "execution_count": 84,
      "outputs": []
    },
    {
      "cell_type": "code",
      "metadata": {
        "id": "RC8Vy6RfLn6c",
        "colab": {
          "base_uri": "https://localhost:8080/"
        },
        "outputId": "12193f4f-53d7-4fed-84f0-2ab86e6f15de"
      },
      "source": [
        "# Show all scalar predictions\n",
        "scalar_predictions"
      ],
      "execution_count": 88,
      "outputs": [
        {
          "output_type": "execute_result",
          "data": {
            "text/plain": [
              "array([3, 3, 2, 3, 1, 3, 3, 1, 3, 0, 3, 3, 0, 0, 2, 0, 2, 1, 3, 2, 1, 3,\n",
              "       1, 1, 3, 0, 2, 0, 2, 0, 2, 0, 3, 0, 1, 1, 3, 1, 2, 1, 1, 2, 0, 0,\n",
              "       0, 1, 0, 3, 1, 2, 1, 0, 3, 0, 3, 1, 3, 1, 1, 3, 3, 2, 0, 1, 0, 1,\n",
              "       2, 2, 1, 2, 1, 2, 2, 3, 3, 0, 2, 0, 1, 3, 0, 3, 3, 0, 3, 0, 3, 1,\n",
              "       3, 0, 1, 2, 2, 1, 2, 2, 0, 2, 1, 3, 1, 0, 0, 3, 0, 2, 1, 1, 2, 3,\n",
              "       3, 2, 1, 3, 3, 3, 3, 2, 3, 0, 0, 3, 2, 1, 2, 0, 3, 2, 2, 1, 0, 2,\n",
              "       2, 1, 3, 1, 1, 0, 3, 2, 1, 2, 1, 2, 2, 3, 3, 2, 2, 3, 2, 3, 1, 0,\n",
              "       2, 2, 3, 3, 3, 3, 3, 2, 3, 3, 3, 3, 1, 0, 3, 0, 0, 0, 2, 1, 0, 1,\n",
              "       0, 0, 1, 2, 1, 0, 0, 1, 1, 2, 2, 1, 0, 0, 0, 1, 0, 3, 1, 0, 2, 2,\n",
              "       2, 3, 1, 1, 3, 3, 3, 2, 2, 1, 0, 0, 1, 2, 0, 3, 3, 3, 0, 2, 0, 3,\n",
              "       2, 2, 3, 1, 0, 1, 0, 3, 0, 1, 0, 2, 2, 1, 3, 0, 2, 0, 3, 1, 2, 0,\n",
              "       0, 2, 1, 3, 3, 3, 1, 1, 3, 0, 0, 2, 3, 3, 1, 3, 1, 1, 3, 2, 1, 2,\n",
              "       3, 3, 3, 1, 0, 1, 2, 2, 1, 1, 3, 2, 1, 3, 0, 0, 2, 0, 0, 3, 2, 3,\n",
              "       3, 2, 1, 3, 3, 2, 3, 1, 2, 1, 2, 0, 2, 3, 1, 0, 0, 3, 0, 3, 0, 1,\n",
              "       2, 0, 2, 3, 1, 3, 2, 2, 1, 2, 0, 0, 0, 1, 3, 2, 0, 0, 0, 3, 2, 0,\n",
              "       2, 3, 1, 2, 2, 2, 3, 1, 3, 3, 2, 2, 2, 3, 3, 1, 3, 0, 3, 1, 3, 1,\n",
              "       3, 3, 0, 1, 0, 3, 1, 3, 2, 3, 0, 0, 0, 0, 2, 0, 0, 2, 2, 0, 2, 2,\n",
              "       2, 0, 1, 0, 0, 3, 3, 0, 3, 1, 2, 2, 1, 2, 3, 1, 1, 2, 2, 1, 2, 0,\n",
              "       1, 1, 0, 3, 2, 0, 0, 1, 0, 0, 1, 1, 0, 0, 0, 2, 2, 3, 2, 3, 0, 3,\n",
              "       0, 3, 0, 1, 1, 0, 2, 0, 3, 3, 3, 3, 1, 3, 1, 3, 1, 2, 2, 0, 1, 2,\n",
              "       1, 1, 0, 0, 0, 1, 2, 1, 0, 3, 2, 0, 2, 2, 0, 0, 3, 1, 1, 1, 2, 2,\n",
              "       3, 0, 3, 0, 2, 3, 2, 3, 1, 2, 0, 2, 2, 0, 1, 2, 0, 0, 1, 1, 1, 3,\n",
              "       3, 3, 1, 3, 1, 2, 2, 3, 3, 3, 2, 0, 2, 1, 2, 2, 1, 0, 2, 2, 0, 0,\n",
              "       0, 3, 1, 0, 2, 2, 2, 0, 3, 0, 2, 2, 1, 3, 0, 2, 3, 0, 1, 1, 3, 3,\n",
              "       2, 1, 1, 3, 2, 0, 3, 1, 2, 0, 3, 3, 1, 3, 2, 2, 3, 0, 1, 2, 3, 0,\n",
              "       3, 2, 3, 1, 1, 0, 0, 3, 1, 0, 3, 2, 3, 2, 1, 3, 3, 3, 2, 3, 3, 1,\n",
              "       2, 0, 2, 3, 3, 1, 0, 1, 1, 2, 2, 1, 0, 0, 2, 2, 3, 2, 0, 2, 1, 3,\n",
              "       3, 0, 1, 3, 0, 2, 1, 1, 0, 0, 2, 1, 0, 1, 2, 2, 2, 0, 2, 2, 1, 0,\n",
              "       3, 0, 0, 3, 2, 0, 0, 0, 0, 0, 3, 0, 3, 1, 3, 1, 1, 3, 2, 0, 1, 1,\n",
              "       3, 2, 3, 2, 0, 3, 0, 2, 0, 2, 0, 1, 1, 1, 1, 2, 1, 3, 1, 3, 2, 2,\n",
              "       1, 3, 2, 0, 1, 2, 0, 3, 3, 0, 2, 1, 1, 2, 0, 3, 2, 0, 3, 2, 3, 0,\n",
              "       0, 3, 0, 2, 2, 3, 2, 2, 2, 2, 1, 2, 3, 0, 1, 0, 1, 2, 1, 0, 0, 1,\n",
              "       0, 0, 3, 1, 1, 2, 0, 0, 0, 1, 3, 0, 3, 2, 3, 0, 0, 1, 2, 2, 1, 0,\n",
              "       1, 2, 0, 1, 1, 0, 0, 3, 3, 0, 3, 1, 1, 3, 0, 1, 0, 2, 2, 0, 3, 1,\n",
              "       0, 3, 0, 1, 0, 3, 3, 3, 2, 3, 0, 3, 2, 0, 0, 0, 3, 3, 2, 0, 2, 1,\n",
              "       2, 0, 0, 3, 2, 0, 3, 1, 2, 1, 1, 2, 3, 1, 1, 1, 2, 1, 0, 2, 2, 0,\n",
              "       2, 0, 0, 0, 0, 2, 3, 3, 3, 0, 1, 2, 1, 1, 0, 0, 2, 1, 0, 2, 0, 2,\n",
              "       2, 2, 1, 2, 0, 2, 1, 3, 0, 0, 3, 2, 3, 0, 0, 2, 2, 2, 1, 2, 2, 1,\n",
              "       0, 0, 3, 3, 1, 3, 0, 0, 0, 2, 2, 1, 2, 0, 3, 2, 1, 2, 3, 3, 0, 1,\n",
              "       1, 2, 1, 2, 2, 0, 1, 3, 1, 1, 3, 0, 2, 3, 2, 1, 1, 1, 3, 3, 0, 2,\n",
              "       3, 0, 2, 3, 2, 2, 2, 3, 2, 0, 1, 2, 1, 2, 1, 1, 2, 2, 2, 1, 2, 1,\n",
              "       0, 1, 3, 1, 0, 1, 2, 3, 1, 0, 0, 3, 2, 2, 3, 0, 3, 2, 2, 1, 3, 0,\n",
              "       1, 3, 1, 1, 0, 1, 3, 2, 0, 3, 0, 2, 3, 0, 3, 1, 3, 3, 1, 0, 2, 3,\n",
              "       1, 0, 2, 1, 2, 1, 2, 0, 2, 2, 0, 2, 3, 2, 3, 0, 2, 1, 1, 2, 2, 3,\n",
              "       3, 0, 2, 1, 2, 1, 3, 0, 1, 3, 0, 2, 0, 0, 3, 2, 2, 0, 0, 0, 0, 3,\n",
              "       2, 3, 3, 0, 0, 2, 1, 0, 2, 2])"
            ]
          },
          "metadata": {},
          "execution_count": 88
        }
      ]
    },
    {
      "cell_type": "code",
      "metadata": {
        "id": "EhlClwb7LvHc",
        "colab": {
          "base_uri": "https://localhost:8080/"
        },
        "outputId": "cf77f8a7-284d-451d-b2e9-3b507307c7c4"
      },
      "source": [
        "# Show the first test sample in Dataframe format\n",
        "\n",
        "# Get the first test sample from the normalized features array\n",
        "first_sample_norm = X_test_norm[0]\n",
        "\n",
        "# Convert the normalized sample back to its original values\n",
        "first_sample = pd.Series(first_sample_norm, index=dataset.columns[:-1])\n",
        "\n",
        "# Add the target label back to the Series\n",
        "first_sample['price_range'] = dataset.iloc[0]['price_range']\n",
        "\n",
        "# Display the sample as a DataFrame\n",
        "print(pd.DataFrame(first_sample).T)"
      ],
      "execution_count": 92,
      "outputs": [
        {
          "output_type": "stream",
          "name": "stdout",
          "text": [
            "   battery_power      blue  clock_speed  dual_sim       fc    four_g  \\\n",
            "0       -0.44506  1.010051     0.340463  0.981177  2.23265 -1.043966   \n",
            "\n",
            "   int_memory     m_dep  mobile_wt   n_cores  ...  px_height  px_width  \\\n",
            "0    -1.49089 -1.393304   1.490528 -0.664768  ...  -0.944639  0.371413   \n",
            "\n",
            "        ram      sc_h      sc_w  talk_time   three_g  touch_screen      wifi  \\\n",
            "0  1.246506 -0.072765  0.283103  -1.649584 -1.786861      0.994018 -1.014099   \n",
            "\n",
            "   price_range  \n",
            "0          1.0  \n",
            "\n",
            "[1 rows x 21 columns]\n"
          ]
        }
      ]
    },
    {
      "cell_type": "code",
      "metadata": {
        "id": "EwFOG4MPMDNj",
        "colab": {
          "base_uri": "https://localhost:8080/"
        },
        "outputId": "8f612f53-f5e6-4600-a6a1-d4b8463c1e8f"
      },
      "source": [
        "# Show prediction for that sample\n",
        "# Add the prediction to the Series\n",
        "first_sample['preditions'] = scalar_predictions[0]\n",
        "\n",
        "# Display the sample as a DataFrame\n",
        "print(pd.DataFrame(first_sample).T)"
      ],
      "execution_count": 93,
      "outputs": [
        {
          "output_type": "stream",
          "name": "stdout",
          "text": [
            "   battery_power      blue  clock_speed  dual_sim       fc    four_g  \\\n",
            "0       -0.44506  1.010051     0.340463  0.981177  2.23265 -1.043966   \n",
            "\n",
            "   int_memory     m_dep  mobile_wt   n_cores  ...  px_width       ram  \\\n",
            "0    -1.49089 -1.393304   1.490528 -0.664768  ...  0.371413  1.246506   \n",
            "\n",
            "       sc_h      sc_w  talk_time   three_g  touch_screen      wifi  \\\n",
            "0 -0.072765  0.283103  -1.649584 -1.786861      0.994018 -1.014099   \n",
            "\n",
            "   price_range  preditions  \n",
            "0          1.0         3.0  \n",
            "\n",
            "[1 rows x 22 columns]\n"
          ]
        }
      ]
    }
  ]
}