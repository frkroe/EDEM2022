{
  "nbformat": 4,
  "nbformat_minor": 0,
  "metadata": {
    "colab": {
      "provenance": [],
      "toc_visible": true
    },
    "kernelspec": {
      "name": "python3",
      "display_name": "Python 3"
    },
    "accelerator": "GPU"
  },
  "cells": [
    {
      "cell_type": "markdown",
      "metadata": {
        "id": "AL8RQZGoqqQJ"
      },
      "source": [
        "# Workshop 3: Advanced Techniques\n",
        "\n",
        "In this workshop we will learn techniques to increase the performance of CNN and how to use state of the art architectures. The structure of the workshop will be the following:\n",
        "\n",
        "\n",
        "\n",
        "1.   Dropout\n",
        "2.   Batch Normalization\n",
        "3.   Data Augmentation\n",
        "4.   Transfer learning\n",
        "\n"
      ]
    },
    {
      "cell_type": "markdown",
      "metadata": {
        "id": "y91AuX2jrJDo"
      },
      "source": [
        "## 1. Dropout"
      ]
    },
    {
      "cell_type": "code",
      "metadata": {
        "id": "jxUYGXkFPG98"
      },
      "source": [
        "# Import dependence for downloading CIFAR10\n",
        "from tensorflow import keras\n",
        "from keras.datasets import cifar10"
      ],
      "execution_count": 1,
      "outputs": []
    },
    {
      "cell_type": "code",
      "metadata": {
        "id": "aaGDZgZkS9c1",
        "colab": {
          "base_uri": "https://localhost:8080/"
        },
        "outputId": "c3409658-55de-4114-f1ae-b1e3a9c64bd2"
      },
      "source": [
        "(X_train, y_train), (X_testval, y_testval) = cifar10.load_data()"
      ],
      "execution_count": 2,
      "outputs": [
        {
          "output_type": "stream",
          "name": "stdout",
          "text": [
            "Downloading data from https://www.cs.toronto.edu/~kriz/cifar-10-python.tar.gz\n",
            "170498071/170498071 [==============================] - 4s 0us/step\n"
          ]
        }
      ]
    },
    {
      "cell_type": "code",
      "metadata": {
        "id": "nA-qauKITM-O"
      },
      "source": [
        "# Import dependence for handling arrays\n",
        "import numpy as np"
      ],
      "execution_count": 3,
      "outputs": []
    },
    {
      "cell_type": "code",
      "metadata": {
        "id": "KZ5vh3g8Xh_j"
      },
      "source": [
        "# Change the range of pixels from [0 255] to [0 1]\n",
        "X_train_fl = X_train.astype('float32')\n",
        "X_testval_fl = X_testval.astype('float32')\n",
        "X_train_fl /= 255\n",
        "X_testval_fl /= 255"
      ],
      "execution_count": 4,
      "outputs": []
    },
    {
      "cell_type": "code",
      "metadata": {
        "id": "Nj74QnR4Vbt1"
      },
      "source": [
        "# Import dependence for one-hot encoding\n",
        "from sklearn.preprocessing import OneHotEncoder"
      ],
      "execution_count": 5,
      "outputs": []
    },
    {
      "cell_type": "code",
      "metadata": {
        "id": "_nTRJ7yeVeN3"
      },
      "source": [
        "# One-hot encoding of labels\n",
        "onehot_enc = OneHotEncoder()\n",
        "y_train_oh = onehot_enc.fit_transform(y_train.reshape(X_train.shape[0], 1)).toarray()\n",
        "y_testval_oh = onehot_enc.fit_transform(y_testval.reshape(X_testval.shape[0], 1)).toarray()"
      ],
      "execution_count": 6,
      "outputs": []
    },
    {
      "cell_type": "code",
      "metadata": {
        "id": "ry7H5BvPVl6D",
        "colab": {
          "base_uri": "https://localhost:8080/"
        },
        "outputId": "09f073c6-1444-47d3-b93d-9881f6d1d9e9"
      },
      "source": [
        "# Show one-hot encoded labels shape\n",
        "print(\"Training one-hot encoded labels shape:\", y_train_oh.shape)\n",
        "print(\"Testing one-hot encoded labels shape:\", y_testval_oh.shape)"
      ],
      "execution_count": 7,
      "outputs": [
        {
          "output_type": "stream",
          "name": "stdout",
          "text": [
            "Training one-hot encoded labels shape: (50000, 10)\n",
            "Testing one-hot encoded labels shape: (10000, 10)\n"
          ]
        }
      ]
    },
    {
      "cell_type": "code",
      "metadata": {
        "id": "7PoZUM_sVoi6"
      },
      "source": [
        "# Divide testval in test and validation partitions\n",
        "samples_test_nb = int(X_testval.shape[0]/2)\n",
        "X_val = X_testval_fl[:samples_test_nb]\n",
        "y_val = y_testval_oh[:samples_test_nb]\n",
        "X_test = X_testval_fl[samples_test_nb:]\n",
        "y_test = y_testval_oh[samples_test_nb:]"
      ],
      "execution_count": 8,
      "outputs": []
    },
    {
      "cell_type": "code",
      "metadata": {
        "id": "ofgM7brWVsN1",
        "colab": {
          "base_uri": "https://localhost:8080/"
        },
        "outputId": "a3e38fdd-bcda-4137-969f-b6247c7e1ca2"
      },
      "source": [
        "# Show shapes of test and validation partitions\n",
        "print(\"Validation matrix shape:\", X_val.shape)\n",
        "print(\"Testing matrix shape:\", X_test.shape)"
      ],
      "execution_count": 9,
      "outputs": [
        {
          "output_type": "stream",
          "name": "stdout",
          "text": [
            "Validation matrix shape: (5000, 32, 32, 3)\n",
            "Testing matrix shape: (5000, 32, 32, 3)\n"
          ]
        }
      ]
    },
    {
      "cell_type": "code",
      "metadata": {
        "id": "Eo5FvhBYubiQ"
      },
      "source": [
        "# Import depence for CNN\n",
        "from keras.models import Model\n",
        "from keras.layers import Input, Conv2D, MaxPool2D, Flatten, Dense, Dropout"
      ],
      "execution_count": 10,
      "outputs": []
    },
    {
      "cell_type": "code",
      "metadata": {
        "id": "Hrbz0cUmtuU7"
      },
      "source": [
        "# Define the model\n",
        "input_layer = Input(shape=(X_train.shape[1],X_train.shape[2], X_train.shape[3]))\n",
        "conv_layer_1 = Conv2D(filters=8, kernel_size=(3, 3), activation='relu')(input_layer)\n",
        "maxpool_layer_1 = MaxPool2D(pool_size=(2, 2))(conv_layer_1)\n",
        "conv_layer_2 = Conv2D(filters=16, kernel_size=(3, 3), activation='relu')(maxpool_layer_1)\n",
        "maxpool_layer_2 = MaxPool2D(pool_size=(2, 2))(conv_layer_2)\n",
        "conv_layer_3 = Conv2D(filters=32, kernel_size=(3, 3), activation='relu')(maxpool_layer_2)\n",
        "flatten_layer = Flatten()(conv_layer_3)\n",
        "dense_layer = Dense(128, activation='relu')(flatten_layer)\n",
        "dropout = Dropout(rate=0.4)(dense_layer)\n",
        "output_layer = Dense(10, activation='softmax')(dropout)\n",
        "model= Model(inputs=input_layer, outputs=output_layer)"
      ],
      "execution_count": 11,
      "outputs": []
    },
    {
      "cell_type": "code",
      "metadata": {
        "id": "Dzt4Th7iV1tF",
        "colab": {
          "base_uri": "https://localhost:8080/"
        },
        "outputId": "f1816394-a405-4555-c8fd-b74f11a0253f"
      },
      "source": [
        "# Show a summary of the model\n",
        "model.summary()"
      ],
      "execution_count": 12,
      "outputs": [
        {
          "output_type": "stream",
          "name": "stdout",
          "text": [
            "Model: \"model\"\n",
            "_________________________________________________________________\n",
            " Layer (type)                Output Shape              Param #   \n",
            "=================================================================\n",
            " input_1 (InputLayer)        [(None, 32, 32, 3)]       0         \n",
            "                                                                 \n",
            " conv2d (Conv2D)             (None, 30, 30, 8)         224       \n",
            "                                                                 \n",
            " max_pooling2d (MaxPooling2D  (None, 15, 15, 8)        0         \n",
            " )                                                               \n",
            "                                                                 \n",
            " conv2d_1 (Conv2D)           (None, 13, 13, 16)        1168      \n",
            "                                                                 \n",
            " max_pooling2d_1 (MaxPooling  (None, 6, 6, 16)         0         \n",
            " 2D)                                                             \n",
            "                                                                 \n",
            " conv2d_2 (Conv2D)           (None, 4, 4, 32)          4640      \n",
            "                                                                 \n",
            " flatten (Flatten)           (None, 512)               0         \n",
            "                                                                 \n",
            " dense (Dense)               (None, 128)               65664     \n",
            "                                                                 \n",
            " dropout (Dropout)           (None, 128)               0         \n",
            "                                                                 \n",
            " dense_1 (Dense)             (None, 10)                1290      \n",
            "                                                                 \n",
            "=================================================================\n",
            "Total params: 72,986\n",
            "Trainable params: 72,986\n",
            "Non-trainable params: 0\n",
            "_________________________________________________________________\n"
          ]
        }
      ]
    },
    {
      "cell_type": "code",
      "metadata": {
        "id": "bFM5py6aV4DM"
      },
      "source": [
        "# Compile the model\n",
        "model.compile(loss='categorical_crossentropy', optimizer='adam', \n",
        "              metrics=['accuracy'])"
      ],
      "execution_count": 13,
      "outputs": []
    },
    {
      "cell_type": "code",
      "metadata": {
        "id": "-a6viyT4V_9_",
        "colab": {
          "base_uri": "https://localhost:8080/"
        },
        "outputId": "f436e6b7-b3ac-48c6-f08d-1fc96a72bfe2"
      },
      "source": [
        "# Train the model\n",
        "history = model.fit(X_train_fl, y_train_oh, epochs=50, batch_size=128,\n",
        "                    validation_data=(X_val, y_val))"
      ],
      "execution_count": 14,
      "outputs": [
        {
          "output_type": "stream",
          "name": "stdout",
          "text": [
            "Epoch 1/50\n",
            "391/391 [==============================] - 14s 7ms/step - loss: 1.7525 - accuracy: 0.3537 - val_loss: 1.4827 - val_accuracy: 0.4610\n",
            "Epoch 2/50\n",
            "391/391 [==============================] - 2s 6ms/step - loss: 1.4825 - accuracy: 0.4606 - val_loss: 1.3967 - val_accuracy: 0.5056\n",
            "Epoch 3/50\n",
            "391/391 [==============================] - 2s 5ms/step - loss: 1.3954 - accuracy: 0.4958 - val_loss: 1.2878 - val_accuracy: 0.5360\n",
            "Epoch 4/50\n",
            "391/391 [==============================] - 2s 5ms/step - loss: 1.3338 - accuracy: 0.5230 - val_loss: 1.2286 - val_accuracy: 0.5596\n",
            "Epoch 5/50\n",
            "391/391 [==============================] - 2s 5ms/step - loss: 1.2828 - accuracy: 0.5439 - val_loss: 1.2087 - val_accuracy: 0.5666\n",
            "Epoch 6/50\n",
            "391/391 [==============================] - 2s 5ms/step - loss: 1.2322 - accuracy: 0.5640 - val_loss: 1.1575 - val_accuracy: 0.5878\n",
            "Epoch 7/50\n",
            "391/391 [==============================] - 2s 6ms/step - loss: 1.1940 - accuracy: 0.5773 - val_loss: 1.1403 - val_accuracy: 0.5954\n",
            "Epoch 8/50\n",
            "391/391 [==============================] - 2s 6ms/step - loss: 1.1619 - accuracy: 0.5918 - val_loss: 1.1063 - val_accuracy: 0.6072\n",
            "Epoch 9/50\n",
            "391/391 [==============================] - 2s 5ms/step - loss: 1.1348 - accuracy: 0.6014 - val_loss: 1.1033 - val_accuracy: 0.6064\n",
            "Epoch 10/50\n",
            "391/391 [==============================] - 2s 5ms/step - loss: 1.1081 - accuracy: 0.6055 - val_loss: 1.0639 - val_accuracy: 0.6298\n",
            "Epoch 11/50\n",
            "391/391 [==============================] - 2s 5ms/step - loss: 1.0922 - accuracy: 0.6154 - val_loss: 1.0457 - val_accuracy: 0.6286\n",
            "Epoch 12/50\n",
            "391/391 [==============================] - 2s 5ms/step - loss: 1.0651 - accuracy: 0.6263 - val_loss: 1.0455 - val_accuracy: 0.6282\n",
            "Epoch 13/50\n",
            "391/391 [==============================] - 3s 7ms/step - loss: 1.0495 - accuracy: 0.6294 - val_loss: 1.0139 - val_accuracy: 0.6404\n",
            "Epoch 14/50\n",
            "391/391 [==============================] - 2s 5ms/step - loss: 1.0323 - accuracy: 0.6379 - val_loss: 0.9981 - val_accuracy: 0.6468\n",
            "Epoch 15/50\n",
            "391/391 [==============================] - 2s 5ms/step - loss: 1.0137 - accuracy: 0.6402 - val_loss: 0.9929 - val_accuracy: 0.6514\n",
            "Epoch 16/50\n",
            "391/391 [==============================] - 2s 5ms/step - loss: 0.9968 - accuracy: 0.6499 - val_loss: 0.9886 - val_accuracy: 0.6516\n",
            "Epoch 17/50\n",
            "391/391 [==============================] - 2s 5ms/step - loss: 0.9864 - accuracy: 0.6542 - val_loss: 0.9915 - val_accuracy: 0.6584\n",
            "Epoch 18/50\n",
            "391/391 [==============================] - 2s 6ms/step - loss: 0.9715 - accuracy: 0.6576 - val_loss: 0.9890 - val_accuracy: 0.6542\n",
            "Epoch 19/50\n",
            "391/391 [==============================] - 2s 6ms/step - loss: 0.9579 - accuracy: 0.6618 - val_loss: 0.9930 - val_accuracy: 0.6570\n",
            "Epoch 20/50\n",
            "391/391 [==============================] - 2s 5ms/step - loss: 0.9465 - accuracy: 0.6675 - val_loss: 0.9686 - val_accuracy: 0.6592\n",
            "Epoch 21/50\n",
            "391/391 [==============================] - 2s 5ms/step - loss: 0.9345 - accuracy: 0.6734 - val_loss: 0.9719 - val_accuracy: 0.6630\n",
            "Epoch 22/50\n",
            "391/391 [==============================] - 2s 5ms/step - loss: 0.9180 - accuracy: 0.6778 - val_loss: 0.9549 - val_accuracy: 0.6654\n",
            "Epoch 23/50\n",
            "391/391 [==============================] - 2s 5ms/step - loss: 0.9049 - accuracy: 0.6842 - val_loss: 1.0156 - val_accuracy: 0.6512\n",
            "Epoch 24/50\n",
            "391/391 [==============================] - 2s 6ms/step - loss: 0.9000 - accuracy: 0.6820 - val_loss: 0.9734 - val_accuracy: 0.6584\n",
            "Epoch 25/50\n",
            "391/391 [==============================] - 2s 6ms/step - loss: 0.8875 - accuracy: 0.6827 - val_loss: 0.9552 - val_accuracy: 0.6706\n",
            "Epoch 26/50\n",
            "391/391 [==============================] - 2s 5ms/step - loss: 0.8758 - accuracy: 0.6905 - val_loss: 0.9497 - val_accuracy: 0.6652\n",
            "Epoch 27/50\n",
            "391/391 [==============================] - 2s 5ms/step - loss: 0.8637 - accuracy: 0.6941 - val_loss: 0.9539 - val_accuracy: 0.6624\n",
            "Epoch 28/50\n",
            "391/391 [==============================] - 2s 5ms/step - loss: 0.8558 - accuracy: 0.6944 - val_loss: 0.9478 - val_accuracy: 0.6658\n",
            "Epoch 29/50\n",
            "391/391 [==============================] - 3s 7ms/step - loss: 0.8429 - accuracy: 0.7000 - val_loss: 0.9713 - val_accuracy: 0.6698\n",
            "Epoch 30/50\n",
            "391/391 [==============================] - 3s 8ms/step - loss: 0.8452 - accuracy: 0.6996 - val_loss: 0.9726 - val_accuracy: 0.6608\n",
            "Epoch 31/50\n",
            "391/391 [==============================] - 2s 5ms/step - loss: 0.8312 - accuracy: 0.7038 - val_loss: 0.9564 - val_accuracy: 0.6684\n",
            "Epoch 32/50\n",
            "391/391 [==============================] - 2s 5ms/step - loss: 0.8219 - accuracy: 0.7068 - val_loss: 0.9667 - val_accuracy: 0.6660\n",
            "Epoch 33/50\n",
            "391/391 [==============================] - 2s 5ms/step - loss: 0.8063 - accuracy: 0.7131 - val_loss: 0.9974 - val_accuracy: 0.6532\n",
            "Epoch 34/50\n",
            "391/391 [==============================] - 2s 5ms/step - loss: 0.8125 - accuracy: 0.7116 - val_loss: 0.9466 - val_accuracy: 0.6778\n",
            "Epoch 35/50\n",
            "391/391 [==============================] - 2s 6ms/step - loss: 0.8002 - accuracy: 0.7153 - val_loss: 0.9628 - val_accuracy: 0.6768\n",
            "Epoch 36/50\n",
            "391/391 [==============================] - 2s 6ms/step - loss: 0.7949 - accuracy: 0.7156 - val_loss: 0.9925 - val_accuracy: 0.6632\n",
            "Epoch 37/50\n",
            "391/391 [==============================] - 2s 5ms/step - loss: 0.7849 - accuracy: 0.7182 - val_loss: 0.9714 - val_accuracy: 0.6694\n",
            "Epoch 38/50\n",
            "391/391 [==============================] - 2s 5ms/step - loss: 0.7727 - accuracy: 0.7221 - val_loss: 0.9818 - val_accuracy: 0.6710\n",
            "Epoch 39/50\n",
            "391/391 [==============================] - 2s 5ms/step - loss: 0.7754 - accuracy: 0.7229 - val_loss: 0.9600 - val_accuracy: 0.6746\n",
            "Epoch 40/50\n",
            "391/391 [==============================] - 2s 5ms/step - loss: 0.7637 - accuracy: 0.7233 - val_loss: 0.9704 - val_accuracy: 0.6738\n",
            "Epoch 41/50\n",
            "391/391 [==============================] - 2s 6ms/step - loss: 0.7538 - accuracy: 0.7266 - val_loss: 0.9698 - val_accuracy: 0.6654\n",
            "Epoch 42/50\n",
            "391/391 [==============================] - 2s 6ms/step - loss: 0.7569 - accuracy: 0.7285 - val_loss: 0.9758 - val_accuracy: 0.6728\n",
            "Epoch 43/50\n",
            "391/391 [==============================] - 2s 5ms/step - loss: 0.7456 - accuracy: 0.7324 - val_loss: 0.9779 - val_accuracy: 0.6692\n",
            "Epoch 44/50\n",
            "391/391 [==============================] - 2s 5ms/step - loss: 0.7407 - accuracy: 0.7314 - val_loss: 0.9712 - val_accuracy: 0.6752\n",
            "Epoch 45/50\n",
            "391/391 [==============================] - 2s 5ms/step - loss: 0.7339 - accuracy: 0.7353 - val_loss: 0.9840 - val_accuracy: 0.6754\n",
            "Epoch 46/50\n",
            "391/391 [==============================] - 2s 5ms/step - loss: 0.7351 - accuracy: 0.7334 - val_loss: 0.9897 - val_accuracy: 0.6734\n",
            "Epoch 47/50\n",
            "391/391 [==============================] - 3s 6ms/step - loss: 0.7184 - accuracy: 0.7404 - val_loss: 0.9767 - val_accuracy: 0.6782\n",
            "Epoch 48/50\n",
            "391/391 [==============================] - 2s 5ms/step - loss: 0.7121 - accuracy: 0.7419 - val_loss: 0.9966 - val_accuracy: 0.6660\n",
            "Epoch 49/50\n",
            "391/391 [==============================] - 2s 5ms/step - loss: 0.7173 - accuracy: 0.7398 - val_loss: 1.0008 - val_accuracy: 0.6772\n",
            "Epoch 50/50\n",
            "391/391 [==============================] - 2s 5ms/step - loss: 0.7085 - accuracy: 0.7413 - val_loss: 0.9925 - val_accuracy: 0.6762\n"
          ]
        }
      ]
    },
    {
      "cell_type": "code",
      "metadata": {
        "id": "Hsc8-QX1xVWL"
      },
      "source": [
        "# Import dependence for visualization of images\n",
        "import matplotlib.pyplot as plt"
      ],
      "execution_count": 15,
      "outputs": []
    },
    {
      "cell_type": "code",
      "metadata": {
        "id": "cAR15yICV6hU",
        "colab": {
          "base_uri": "https://localhost:8080/",
          "height": 472
        },
        "outputId": "88125f01-0ef5-437c-869b-5ea83fd2808c"
      },
      "source": [
        "# Plot training and validation accuracy\n",
        "plt.plot(history.history['accuracy'])\n",
        "plt.plot(history.history['val_accuracy'])\n",
        "plt.title('Model accuracy')\n",
        "plt.ylabel('Accuracy')\n",
        "plt.xlabel('Epoch')\n",
        "plt.legend(['Train', 'Val'], loc='upper left')\n",
        "plt.ylim(0, 1)\n",
        "plt.show()"
      ],
      "execution_count": 16,
      "outputs": [
        {
          "output_type": "display_data",
          "data": {
            "text/plain": [
              "<Figure size 640x480 with 1 Axes>"
            ],
            "image/png": "[encoded data removed]"
          },
          "metadata": {}
        }
      ]
    },
    {
      "cell_type": "code",
      "metadata": {
        "id": "-OM3GB9SV86n",
        "colab": {
          "base_uri": "https://localhost:8080/",
          "height": 472
        },
        "outputId": "21f2170b-356a-41b3-9e7f-8575274492f5"
      },
      "source": [
        "# Plot training and test loss\n",
        "plt.plot(history.history['loss']) \n",
        "plt.plot(history.history['val_loss']) \n",
        "plt.title('Model loss') \n",
        "plt.ylabel('Loss') \n",
        "plt.xlabel('Epoch') \n",
        "plt.legend(['Train', 'Val'], loc='upper left') \n",
        "plt.show()"
      ],
      "execution_count": 17,
      "outputs": [
        {
          "output_type": "display_data",
          "data": {
            "text/plain": [
              "<Figure size 640x480 with 1 Axes>"
            ],
            "image/png": "[encoded data removed]"
          },
          "metadata": {}
        }
      ]
    },
    {
      "cell_type": "markdown",
      "metadata": {
        "id": "z1huEX1wx5bn"
      },
      "source": [
        "## 2. Batch Normalization"
      ]
    },
    {
      "cell_type": "code",
      "metadata": {
        "id": "FEFeuHMNvQxy"
      },
      "source": [
        "from keras.layers import BatchNormalization\n",
        "from tensorflow.keras.optimizers import Adam"
      ],
      "execution_count": 18,
      "outputs": []
    },
    {
      "cell_type": "code",
      "metadata": {
        "id": "rZfVtoxky-8m"
      },
      "source": [
        "# Define the model\n",
        "input_layer = Input(shape=(X_train.shape[1],X_train.shape[2], X_train.shape[3]))\n",
        "conv_layer_1 = Conv2D(filters=8, kernel_size=(3, 3), activation='relu')(input_layer)\n",
        "bn_1 = BatchNormalization()(conv_layer_1)\n",
        "maxpool_layer_1 = MaxPool2D(pool_size=(2, 2))(bn_1)\n",
        "conv_layer_2 = Conv2D(filters=16, kernel_size=(3, 3), activation='relu')(maxpool_layer_1)\n",
        "bn_2 = BatchNormalization()(conv_layer_2)\n",
        "maxpool_layer_2 = MaxPool2D(pool_size=(2, 2))(bn_2)\n",
        "conv_layer_3 = Conv2D(filters=32, kernel_size=(3, 3), activation='relu')(maxpool_layer_2)\n",
        "bn_3 = BatchNormalization()(conv_layer_3)\n",
        "flatten_layer = Flatten()(bn_3)\n",
        "dense_layer = Dense(128, activation='relu')(flatten_layer)\n",
        "dropout = Dropout(rate=0.4)(dense_layer)\n",
        "output_layer = Dense(10, activation='softmax')(dropout)\n",
        "model= Model(inputs=input_layer, outputs=output_layer)"
      ],
      "execution_count": 19,
      "outputs": []
    },
    {
      "cell_type": "code",
      "metadata": {
        "id": "jG1aPlHFze4L"
      },
      "source": [
        "# Compile the model\n",
        "model.compile(loss='categorical_crossentropy', optimizer=Adam(),\n",
        "              metrics=['accuracy'])"
      ],
      "execution_count": 20,
      "outputs": []
    },
    {
      "cell_type": "code",
      "metadata": {
        "id": "UIJo6a5kze4P",
        "colab": {
          "base_uri": "https://localhost:8080/"
        },
        "outputId": "786b1bc1-96a4-432e-9c28-699d6ea248f5"
      },
      "source": [
        "# Train the model\n",
        "history = model.fit(X_train_fl, y_train_oh, epochs=20, batch_size=128,\n",
        "                    validation_data=(X_val, y_val))"
      ],
      "execution_count": 21,
      "outputs": [
        {
          "output_type": "stream",
          "name": "stdout",
          "text": [
            "Epoch 1/20\n",
            "391/391 [==============================] - 6s 8ms/step - loss: 1.7220 - accuracy: 0.3937 - val_loss: 1.9186 - val_accuracy: 0.3476\n",
            "Epoch 2/20\n",
            "391/391 [==============================] - 2s 6ms/step - loss: 1.3247 - accuracy: 0.5281 - val_loss: 1.3241 - val_accuracy: 0.5284\n",
            "Epoch 3/20\n",
            "391/391 [==============================] - 2s 6ms/step - loss: 1.1985 - accuracy: 0.5738 - val_loss: 1.2460 - val_accuracy: 0.5562\n",
            "Epoch 4/20\n",
            "391/391 [==============================] - 2s 6ms/step - loss: 1.1094 - accuracy: 0.6068 - val_loss: 1.0426 - val_accuracy: 0.6284\n",
            "Epoch 5/20\n",
            "391/391 [==============================] - 2s 6ms/step - loss: 1.0484 - accuracy: 0.6288 - val_loss: 1.0338 - val_accuracy: 0.6340\n",
            "Epoch 6/20\n",
            "391/391 [==============================] - 3s 7ms/step - loss: 1.0001 - accuracy: 0.6461 - val_loss: 1.0770 - val_accuracy: 0.6360\n",
            "Epoch 7/20\n",
            "391/391 [==============================] - 2s 6ms/step - loss: 0.9582 - accuracy: 0.6621 - val_loss: 1.4233 - val_accuracy: 0.5446\n",
            "Epoch 8/20\n",
            "391/391 [==============================] - 2s 6ms/step - loss: 0.9339 - accuracy: 0.6699 - val_loss: 0.9656 - val_accuracy: 0.6580\n",
            "Epoch 9/20\n",
            "391/391 [==============================] - 2s 6ms/step - loss: 0.9041 - accuracy: 0.6810 - val_loss: 1.0708 - val_accuracy: 0.6408\n",
            "Epoch 10/20\n",
            "391/391 [==============================] - 2s 6ms/step - loss: 0.8759 - accuracy: 0.6902 - val_loss: 0.9550 - val_accuracy: 0.6718\n",
            "Epoch 11/20\n",
            "391/391 [==============================] - 3s 7ms/step - loss: 0.8509 - accuracy: 0.6981 - val_loss: 0.9403 - val_accuracy: 0.6744\n",
            "Epoch 12/20\n",
            "391/391 [==============================] - 2s 6ms/step - loss: 0.8344 - accuracy: 0.7040 - val_loss: 0.9520 - val_accuracy: 0.6764\n",
            "Epoch 13/20\n",
            "391/391 [==============================] - 2s 6ms/step - loss: 0.8178 - accuracy: 0.7095 - val_loss: 0.9936 - val_accuracy: 0.6694\n",
            "Epoch 14/20\n",
            "391/391 [==============================] - 2s 6ms/step - loss: 0.7988 - accuracy: 0.7164 - val_loss: 0.9862 - val_accuracy: 0.6660\n",
            "Epoch 15/20\n",
            "391/391 [==============================] - 2s 6ms/step - loss: 0.7791 - accuracy: 0.7201 - val_loss: 0.9975 - val_accuracy: 0.6646\n",
            "Epoch 16/20\n",
            "391/391 [==============================] - 3s 7ms/step - loss: 0.7718 - accuracy: 0.7249 - val_loss: 0.9768 - val_accuracy: 0.6674\n",
            "Epoch 17/20\n",
            "391/391 [==============================] - 2s 6ms/step - loss: 0.7556 - accuracy: 0.7289 - val_loss: 0.9469 - val_accuracy: 0.6888\n",
            "Epoch 18/20\n",
            "391/391 [==============================] - 2s 6ms/step - loss: 0.7418 - accuracy: 0.7351 - val_loss: 0.9796 - val_accuracy: 0.6778\n",
            "Epoch 19/20\n",
            "391/391 [==============================] - 2s 6ms/step - loss: 0.7326 - accuracy: 0.7402 - val_loss: 1.0062 - val_accuracy: 0.6630\n",
            "Epoch 20/20\n",
            "391/391 [==============================] - 2s 6ms/step - loss: 0.7232 - accuracy: 0.7420 - val_loss: 0.9529 - val_accuracy: 0.6814\n"
          ]
        }
      ]
    },
    {
      "cell_type": "code",
      "metadata": {
        "id": "efPQki1pzZ9z",
        "colab": {
          "base_uri": "https://localhost:8080/"
        },
        "outputId": "ac93d957-dacc-4e6f-cc13-28adb384dfb4"
      },
      "source": [
        "# Compile the model with new learning rate\n",
        "model= Model(inputs=input_layer, outputs=output_layer)\n",
        "model.compile(loss='categorical_crossentropy', optimizer=Adam(lr=0.01),\n",
        "              metrics=['accuracy'])"
      ],
      "execution_count": 22,
      "outputs": [
        {
          "output_type": "stream",
          "name": "stderr",
          "text": [
            "WARNING:absl:`lr` is deprecated in Keras optimizer, please use `learning_rate` or use the legacy optimizer, e.g.,tf.keras.optimizers.legacy.Adam.\n"
          ]
        }
      ]
    },
    {
      "cell_type": "code",
      "metadata": {
        "id": "Oo6f1rlo0qWs",
        "colab": {
          "base_uri": "https://localhost:8080/"
        },
        "outputId": "f19daaea-766b-4bd7-cf46-2ac47c42f4ea"
      },
      "source": [
        "# Train the model\n",
        "history = model.fit(X_train_fl, y_train_oh, epochs=20, batch_size=128,\n",
        "                    validation_data=(X_val, y_val))"
      ],
      "execution_count": 23,
      "outputs": [
        {
          "output_type": "stream",
          "name": "stdout",
          "text": [
            "Epoch 1/20\n",
            "391/391 [==============================] - 6s 7ms/step - loss: 0.7135 - accuracy: 0.7443 - val_loss: 0.9715 - val_accuracy: 0.6742\n",
            "Epoch 2/20\n",
            "391/391 [==============================] - 2s 6ms/step - loss: 0.6922 - accuracy: 0.7505 - val_loss: 1.0442 - val_accuracy: 0.6628\n",
            "Epoch 3/20\n",
            "391/391 [==============================] - 2s 6ms/step - loss: 0.6854 - accuracy: 0.7543 - val_loss: 0.9892 - val_accuracy: 0.6744\n",
            "Epoch 4/20\n",
            "391/391 [==============================] - 3s 7ms/step - loss: 0.6809 - accuracy: 0.7562 - val_loss: 0.9697 - val_accuracy: 0.6772\n",
            "Epoch 5/20\n",
            "391/391 [==============================] - 2s 6ms/step - loss: 0.6746 - accuracy: 0.7542 - val_loss: 1.0380 - val_accuracy: 0.6628\n",
            "Epoch 6/20\n",
            "391/391 [==============================] - 2s 6ms/step - loss: 0.6646 - accuracy: 0.7592 - val_loss: 1.0127 - val_accuracy: 0.6796\n",
            "Epoch 7/20\n",
            "391/391 [==============================] - 2s 6ms/step - loss: 0.6549 - accuracy: 0.7614 - val_loss: 1.0310 - val_accuracy: 0.6760\n",
            "Epoch 8/20\n",
            "391/391 [==============================] - 2s 6ms/step - loss: 0.6413 - accuracy: 0.7676 - val_loss: 1.0670 - val_accuracy: 0.6632\n",
            "Epoch 9/20\n",
            "391/391 [==============================] - 3s 8ms/step - loss: 0.6417 - accuracy: 0.7658 - val_loss: 1.0341 - val_accuracy: 0.6788\n",
            "Epoch 10/20\n",
            "391/391 [==============================] - 2s 6ms/step - loss: 0.6366 - accuracy: 0.7671 - val_loss: 1.1744 - val_accuracy: 0.6380\n",
            "Epoch 11/20\n",
            "391/391 [==============================] - 2s 6ms/step - loss: 0.6235 - accuracy: 0.7737 - val_loss: 1.0028 - val_accuracy: 0.6850\n",
            "Epoch 12/20\n",
            "391/391 [==============================] - 2s 6ms/step - loss: 0.6178 - accuracy: 0.7743 - val_loss: 1.0377 - val_accuracy: 0.6794\n",
            "Epoch 13/20\n",
            "391/391 [==============================] - 2s 6ms/step - loss: 0.6101 - accuracy: 0.7766 - val_loss: 1.0864 - val_accuracy: 0.6610\n",
            "Epoch 14/20\n",
            "391/391 [==============================] - 3s 7ms/step - loss: 0.6028 - accuracy: 0.7787 - val_loss: 1.0074 - val_accuracy: 0.6874\n",
            "Epoch 15/20\n",
            "391/391 [==============================] - 2s 6ms/step - loss: 0.5940 - accuracy: 0.7828 - val_loss: 1.0238 - val_accuracy: 0.6768\n",
            "Epoch 16/20\n",
            "391/391 [==============================] - 2s 6ms/step - loss: 0.5948 - accuracy: 0.7839 - val_loss: 1.1998 - val_accuracy: 0.6430\n",
            "Epoch 17/20\n",
            "391/391 [==============================] - 2s 6ms/step - loss: 0.5844 - accuracy: 0.7844 - val_loss: 1.0188 - val_accuracy: 0.6812\n",
            "Epoch 18/20\n",
            "391/391 [==============================] - 2s 6ms/step - loss: 0.5802 - accuracy: 0.7855 - val_loss: 1.0962 - val_accuracy: 0.6680\n",
            "Epoch 19/20\n",
            "391/391 [==============================] - 3s 7ms/step - loss: 0.5786 - accuracy: 0.7877 - val_loss: 1.1369 - val_accuracy: 0.6612\n",
            "Epoch 20/20\n",
            "391/391 [==============================] - 2s 6ms/step - loss: 0.5721 - accuracy: 0.7893 - val_loss: 1.1172 - val_accuracy: 0.6700\n"
          ]
        }
      ]
    },
    {
      "cell_type": "markdown",
      "metadata": {
        "id": "-vsfjI7S2eCH"
      },
      "source": [
        "## 3. Data Augmentation"
      ]
    },
    {
      "cell_type": "code",
      "metadata": {
        "id": "JGqUrVUa063z"
      },
      "source": [
        "from keras.preprocessing.image import ImageDataGenerator"
      ],
      "execution_count": 24,
      "outputs": []
    },
    {
      "cell_type": "code",
      "metadata": {
        "id": "yjoPmQc32nmw"
      },
      "source": [
        "# Define data generator\n",
        "train_datagen = ImageDataGenerator(\n",
        "    shear_range = 0.2,\n",
        "    zoom_range = 0.2,\n",
        "    horizontal_flip = True,\n",
        "    rotation_range = 10,\n",
        ")"
      ],
      "execution_count": 25,
      "outputs": []
    },
    {
      "cell_type": "code",
      "metadata": {
        "id": "DeXelmgq6IkN"
      },
      "source": [
        "# Function to convert a categorical class to its corresponding string\n",
        "def class_to_string(class_int):\n",
        "    classes = [\"airplane\", \"automobile\", \"bird\", \"cat\", \"deer\", \"dog\", \"frog\",\n",
        "               \"horse\", \"ship\", \"truck\"]\n",
        "    return classes[class_int]"
      ],
      "execution_count": 26,
      "outputs": []
    },
    {
      "cell_type": "code",
      "metadata": {
        "id": "VgMWPtwx6fTF"
      },
      "source": [
        "plt.rcParams['figure.figsize'] = (10,10)  # Configure figure size for \n",
        "                                          # appropriate visualization"
      ],
      "execution_count": 27,
      "outputs": []
    },
    {
      "cell_type": "code",
      "metadata": {
        "id": "1gp_wWxK3xc5",
        "colab": {
          "base_uri": "https://localhost:8080/",
          "height": 853
        },
        "outputId": "a097b5a6-34bb-447e-b208-1b264de85900"
      },
      "source": [
        "# Show generated data\n",
        "iterator = train_datagen.flow(X_train_fl, y_train_oh, batch_size=9)\n",
        "samples, labels = next(iterator)\n",
        "for i in range(9):\n",
        "    plt.subplot(3,3,i+1)\n",
        "    plt.imshow(samples[i], interpolation='none')\n",
        "    class_str = class_to_string(np.argmax(labels[i]))\n",
        "    plt.title(\"Class: \" + class_str)"
      ],
      "execution_count": 28,
      "outputs": [
        {
          "output_type": "display_data",
          "data": {
            "text/plain": [
              "<Figure size 1000x1000 with 9 Axes>"
            ],
            "image/png": "[encoded data removed]"
          },
          "metadata": {}
        }
      ]
    },
    {
      "cell_type": "code",
      "metadata": {
        "id": "Kj3tqJnv74Yn",
        "colab": {
          "base_uri": "https://localhost:8080/"
        },
        "outputId": "3469995e-a2f1-4415-d73c-377650c275f8"
      },
      "source": [
        "# Compile the model with new learning rate\n",
        "model= Model(inputs=input_layer, outputs=output_layer)\n",
        "model.compile(loss='categorical_crossentropy', optimizer=Adam(lr=0.001),\n",
        "              metrics=['accuracy'])"
      ],
      "execution_count": 29,
      "outputs": [
        {
          "output_type": "stream",
          "name": "stderr",
          "text": [
            "WARNING:absl:`lr` is deprecated in Keras optimizer, please use `learning_rate` or use the legacy optimizer, e.g.,tf.keras.optimizers.legacy.Adam.\n"
          ]
        }
      ]
    },
    {
      "cell_type": "code",
      "metadata": {
        "id": "dW6z6oqi74Yu",
        "colab": {
          "base_uri": "https://localhost:8080/"
        },
        "outputId": "98fe07f5-67ef-4f02-e12d-ab9c146fe936"
      },
      "source": [
        "# Train the model\n",
        "batch_size = 100\n",
        "steps_per_epoch = X_train.shape[0] / batch_size\n",
        "history = model.fit_generator(train_datagen.flow(X_train_fl, y_train_oh, \n",
        "                                                 batch_size=batch_size), \n",
        "                              epochs=20,\n",
        "                              steps_per_epoch=steps_per_epoch, \n",
        "                              validation_data=(X_val, y_val))"
      ],
      "execution_count": 30,
      "outputs": [
        {
          "output_type": "stream",
          "name": "stdout",
          "text": [
            "Epoch 1/20\n"
          ]
        },
        {
          "output_type": "stream",
          "name": "stderr",
          "text": [
            "<ipython-input-30-2f66e9fe6646>:4: UserWarning: `Model.fit_generator` is deprecated and will be removed in a future version. Please use `Model.fit`, which supports generators.\n",
            "  history = model.fit_generator(train_datagen.flow(X_train_fl, y_train_oh,\n"
          ]
        },
        {
          "output_type": "stream",
          "name": "stdout",
          "text": [
            "500/500 [==============================] - 29s 52ms/step - loss: 1.1193 - accuracy: 0.6179 - val_loss: 1.0956 - val_accuracy: 0.6266\n",
            "Epoch 2/20\n",
            "500/500 [==============================] - 26s 52ms/step - loss: 1.0671 - accuracy: 0.6284 - val_loss: 1.1059 - val_accuracy: 0.6338\n",
            "Epoch 3/20\n",
            "500/500 [==============================] - 26s 52ms/step - loss: 1.0302 - accuracy: 0.6404 - val_loss: 1.0875 - val_accuracy: 0.6428\n",
            "Epoch 4/20\n",
            "500/500 [==============================] - 26s 52ms/step - loss: 1.0101 - accuracy: 0.6480 - val_loss: 0.9788 - val_accuracy: 0.6692\n",
            "Epoch 5/20\n",
            "500/500 [==============================] - 26s 51ms/step - loss: 1.0010 - accuracy: 0.6530 - val_loss: 0.9171 - val_accuracy: 0.6912\n",
            "Epoch 6/20\n",
            "500/500 [==============================] - 25s 50ms/step - loss: 0.9772 - accuracy: 0.6600 - val_loss: 0.9250 - val_accuracy: 0.6790\n",
            "Epoch 7/20\n",
            "500/500 [==============================] - 26s 51ms/step - loss: 0.9692 - accuracy: 0.6638 - val_loss: 1.0423 - val_accuracy: 0.6440\n",
            "Epoch 8/20\n",
            "500/500 [==============================] - 28s 55ms/step - loss: 0.9598 - accuracy: 0.6650 - val_loss: 0.9512 - val_accuracy: 0.6698\n",
            "Epoch 9/20\n",
            "500/500 [==============================] - 25s 51ms/step - loss: 0.9552 - accuracy: 0.6649 - val_loss: 1.0611 - val_accuracy: 0.6560\n",
            "Epoch 10/20\n",
            "500/500 [==============================] - 25s 50ms/step - loss: 0.9526 - accuracy: 0.6682 - val_loss: 0.9283 - val_accuracy: 0.6826\n",
            "Epoch 11/20\n",
            "500/500 [==============================] - 25s 51ms/step - loss: 0.9398 - accuracy: 0.6744 - val_loss: 0.8745 - val_accuracy: 0.7014\n",
            "Epoch 12/20\n",
            "500/500 [==============================] - 25s 51ms/step - loss: 0.9349 - accuracy: 0.6722 - val_loss: 0.8783 - val_accuracy: 0.6994\n",
            "Epoch 13/20\n",
            "500/500 [==============================] - 25s 50ms/step - loss: 0.9353 - accuracy: 0.6732 - val_loss: 0.8532 - val_accuracy: 0.7046\n",
            "Epoch 14/20\n",
            "500/500 [==============================] - 26s 51ms/step - loss: 0.9289 - accuracy: 0.6779 - val_loss: 0.8845 - val_accuracy: 0.6960\n",
            "Epoch 15/20\n",
            "500/500 [==============================] - 31s 63ms/step - loss: 0.9273 - accuracy: 0.6732 - val_loss: 0.9672 - val_accuracy: 0.6702\n",
            "Epoch 16/20\n",
            "500/500 [==============================] - 34s 67ms/step - loss: 0.9210 - accuracy: 0.6767 - val_loss: 0.9382 - val_accuracy: 0.6756\n",
            "Epoch 17/20\n",
            "500/500 [==============================] - 33s 66ms/step - loss: 0.9189 - accuracy: 0.6779 - val_loss: 0.8752 - val_accuracy: 0.7014\n",
            "Epoch 18/20\n",
            "500/500 [==============================] - 31s 63ms/step - loss: 0.9129 - accuracy: 0.6796 - val_loss: 0.9280 - val_accuracy: 0.6850\n",
            "Epoch 19/20\n",
            "500/500 [==============================] - 28s 56ms/step - loss: 0.9091 - accuracy: 0.6821 - val_loss: 0.9364 - val_accuracy: 0.6792\n",
            "Epoch 20/20\n",
            "500/500 [==============================] - 32s 65ms/step - loss: 0.9060 - accuracy: 0.6814 - val_loss: 0.8564 - val_accuracy: 0.7052\n"
          ]
        }
      ]
    },
    {
      "cell_type": "code",
      "metadata": {
        "id": "TGTb98saDb6J",
        "colab": {
          "base_uri": "https://localhost:8080/",
          "height": 712
        },
        "outputId": "b8eb9ba3-cfb3-4f8e-8b64-fb54e56e7568"
      },
      "source": [
        "# Train the model\n",
        "batch_size = 100\n",
        "steps_per_epoch = X_train.shape[0] / batch_size\n",
        "history = model.fit_generator(train_datagen.flow(X_train_fl, y_train_oh, \n",
        "                                                 batch_size=batch_size), \n",
        "                              epochs=100,\n",
        "                              steps_per_epoch=steps_per_epoch, \n",
        "                              validation_data=(X_val, y_val))"
      ],
      "execution_count": 31,
      "outputs": [
        {
          "output_type": "stream",
          "name": "stdout",
          "text": [
            "Epoch 1/100\n",
            "  1/500 [..............................] - ETA: 31s - loss: 0.8422 - accuracy: 0.7100"
          ]
        },
        {
          "output_type": "stream",
          "name": "stderr",
          "text": [
            "<ipython-input-31-ffd31a9f8c82>:4: UserWarning: `Model.fit_generator` is deprecated and will be removed in a future version. Please use `Model.fit`, which supports generators.\n",
            "  history = model.fit_generator(train_datagen.flow(X_train_fl, y_train_oh,\n"
          ]
        },
        {
          "output_type": "stream",
          "name": "stdout",
          "text": [
            "500/500 [==============================] - 26s 51ms/step - loss: 0.9033 - accuracy: 0.6853 - val_loss: 0.8989 - val_accuracy: 0.6928\n",
            "Epoch 2/100\n",
            "500/500 [==============================] - 30s 59ms/step - loss: 0.9038 - accuracy: 0.6836 - val_loss: 0.8910 - val_accuracy: 0.6932\n",
            "Epoch 3/100\n",
            "500/500 [==============================] - 28s 57ms/step - loss: 0.9008 - accuracy: 0.6841 - val_loss: 0.8508 - val_accuracy: 0.7112\n",
            "Epoch 4/100\n",
            "500/500 [==============================] - 28s 56ms/step - loss: 0.8937 - accuracy: 0.6894 - val_loss: 0.8941 - val_accuracy: 0.7008\n",
            "Epoch 5/100\n",
            "500/500 [==============================] - 28s 57ms/step - loss: 0.8952 - accuracy: 0.6874 - val_loss: 0.8060 - val_accuracy: 0.7198\n",
            "Epoch 6/100\n",
            "500/500 [==============================] - 29s 58ms/step - loss: 0.8897 - accuracy: 0.6911 - val_loss: 0.8856 - val_accuracy: 0.7034\n",
            "Epoch 7/100\n",
            "500/500 [==============================] - 29s 58ms/step - loss: 0.8844 - accuracy: 0.6905 - val_loss: 0.8054 - val_accuracy: 0.7190\n",
            "Epoch 8/100\n",
            "215/500 [===========>..................] - ETA: 14s - loss: 0.8759 - accuracy: 0.6917"
          ]
        },
        {
          "output_type": "error",
          "ename": "KeyboardInterrupt",
          "evalue": "ignored",
          "traceback": [
            "\u001b[0;31m---------------------------------------------------------------------------\u001b[0m",
            "\u001b[0;31mKeyboardInterrupt\u001b[0m                         Traceback (most recent call last)",
            "\u001b[0;32m<ipython-input-31-ffd31a9f8c82>\u001b[0m in \u001b[0;36m<cell line: 4>\u001b[0;34m()\u001b[0m\n\u001b[1;32m      2\u001b[0m \u001b[0mbatch_size\u001b[0m \u001b[0;34m=\u001b[0m \u001b[0;36m100\u001b[0m\u001b[0;34m\u001b[0m\u001b[0;34m\u001b[0m\u001b[0m\n\u001b[1;32m      3\u001b[0m \u001b[0msteps_per_epoch\u001b[0m \u001b[0;34m=\u001b[0m \u001b[0mX_train\u001b[0m\u001b[0;34m.\u001b[0m\u001b[0mshape\u001b[0m\u001b[0;34m[\u001b[0m\u001b[0;36m0\u001b[0m\u001b[0;34m]\u001b[0m \u001b[0;34m/\u001b[0m \u001b[0mbatch_size\u001b[0m\u001b[0;34m\u001b[0m\u001b[0;34m\u001b[0m\u001b[0m\n\u001b[0;32m----> 4\u001b[0;31m history = model.fit_generator(train_datagen.flow(X_train_fl, y_train_oh, \n\u001b[0m\u001b[1;32m      5\u001b[0m                                                  batch_size=batch_size), \n\u001b[1;32m      6\u001b[0m                               \u001b[0mepochs\u001b[0m\u001b[0;34m=\u001b[0m\u001b[0;36m100\u001b[0m\u001b[0;34m,\u001b[0m\u001b[0;34m\u001b[0m\u001b[0;34m\u001b[0m\u001b[0m\n",
            "\u001b[0;32m/usr/local/lib/python3.10/dist-packages/keras/engine/training.py\u001b[0m in \u001b[0;36mfit_generator\u001b[0;34m(self, generator, steps_per_epoch, epochs, verbose, callbacks, validation_data, validation_steps, validation_freq, class_weight, max_queue_size, workers, use_multiprocessing, shuffle, initial_epoch)\u001b[0m\n\u001b[1;32m   2634\u001b[0m             \u001b[0mstacklevel\u001b[0m\u001b[0;34m=\u001b[0m\u001b[0;36m2\u001b[0m\u001b[0;34m,\u001b[0m\u001b[0;34m\u001b[0m\u001b[0;34m\u001b[0m\u001b[0m\n\u001b[1;32m   2635\u001b[0m         )\n\u001b[0;32m-> 2636\u001b[0;31m         return self.fit(\n\u001b[0m\u001b[1;32m   2637\u001b[0m             \u001b[0mgenerator\u001b[0m\u001b[0;34m,\u001b[0m\u001b[0;34m\u001b[0m\u001b[0;34m\u001b[0m\u001b[0m\n\u001b[1;32m   2638\u001b[0m             \u001b[0msteps_per_epoch\u001b[0m\u001b[0;34m=\u001b[0m\u001b[0msteps_per_epoch\u001b[0m\u001b[0;34m,\u001b[0m\u001b[0;34m\u001b[0m\u001b[0;34m\u001b[0m\u001b[0m\n",
            "\u001b[0;32m/usr/local/lib/python3.10/dist-packages/keras/utils/traceback_utils.py\u001b[0m in \u001b[0;36merror_handler\u001b[0;34m(*args, **kwargs)\u001b[0m\n\u001b[1;32m     63\u001b[0m         \u001b[0mfiltered_tb\u001b[0m \u001b[0;34m=\u001b[0m \u001b[0;32mNone\u001b[0m\u001b[0;34m\u001b[0m\u001b[0;34m\u001b[0m\u001b[0m\n\u001b[1;32m     64\u001b[0m         \u001b[0;32mtry\u001b[0m\u001b[0;34m:\u001b[0m\u001b[0;34m\u001b[0m\u001b[0;34m\u001b[0m\u001b[0m\n\u001b[0;32m---> 65\u001b[0;31m             \u001b[0;32mreturn\u001b[0m \u001b[0mfn\u001b[0m\u001b[0;34m(\u001b[0m\u001b[0;34m*\u001b[0m\u001b[0margs\u001b[0m\u001b[0;34m,\u001b[0m \u001b[0;34m**\u001b[0m\u001b[0mkwargs\u001b[0m\u001b[0;34m)\u001b[0m\u001b[0;34m\u001b[0m\u001b[0;34m\u001b[0m\u001b[0m\n\u001b[0m\u001b[1;32m     66\u001b[0m         \u001b[0;32mexcept\u001b[0m \u001b[0mException\u001b[0m \u001b[0;32mas\u001b[0m \u001b[0me\u001b[0m\u001b[0;34m:\u001b[0m\u001b[0;34m\u001b[0m\u001b[0;34m\u001b[0m\u001b[0m\n\u001b[1;32m     67\u001b[0m             \u001b[0mfiltered_tb\u001b[0m \u001b[0;34m=\u001b[0m \u001b[0m_process_traceback_frames\u001b[0m\u001b[0;34m(\u001b[0m\u001b[0me\u001b[0m\u001b[0;34m.\u001b[0m\u001b[0m__traceback__\u001b[0m\u001b[0;34m)\u001b[0m\u001b[0;34m\u001b[0m\u001b[0;34m\u001b[0m\u001b[0m\n",
            "\u001b[0;32m/usr/local/lib/python3.10/dist-packages/keras/engine/training.py\u001b[0m in \u001b[0;36mfit\u001b[0;34m(self, x, y, batch_size, epochs, verbose, callbacks, validation_split, validation_data, shuffle, class_weight, sample_weight, initial_epoch, steps_per_epoch, validation_steps, validation_batch_size, validation_freq, max_queue_size, workers, use_multiprocessing)\u001b[0m\n\u001b[1;32m   1683\u001b[0m                         ):\n\u001b[1;32m   1684\u001b[0m                             \u001b[0mcallbacks\u001b[0m\u001b[0;34m.\u001b[0m\u001b[0mon_train_batch_begin\u001b[0m\u001b[0;34m(\u001b[0m\u001b[0mstep\u001b[0m\u001b[0;34m)\u001b[0m\u001b[0;34m\u001b[0m\u001b[0;34m\u001b[0m\u001b[0m\n\u001b[0;32m-> 1685\u001b[0;31m                             \u001b[0mtmp_logs\u001b[0m \u001b[0;34m=\u001b[0m \u001b[0mself\u001b[0m\u001b[0;34m.\u001b[0m\u001b[0mtrain_function\u001b[0m\u001b[0;34m(\u001b[0m\u001b[0miterator\u001b[0m\u001b[0;34m)\u001b[0m\u001b[0;34m\u001b[0m\u001b[0;34m\u001b[0m\u001b[0m\n\u001b[0m\u001b[1;32m   1686\u001b[0m                             \u001b[0;32mif\u001b[0m \u001b[0mdata_handler\u001b[0m\u001b[0;34m.\u001b[0m\u001b[0mshould_sync\u001b[0m\u001b[0;34m:\u001b[0m\u001b[0;34m\u001b[0m\u001b[0;34m\u001b[0m\u001b[0m\n\u001b[1;32m   1687\u001b[0m                                 \u001b[0mcontext\u001b[0m\u001b[0;34m.\u001b[0m\u001b[0masync_wait\u001b[0m\u001b[0;34m(\u001b[0m\u001b[0;34m)\u001b[0m\u001b[0;34m\u001b[0m\u001b[0;34m\u001b[0m\u001b[0m\n",
            "\u001b[0;32m/usr/local/lib/python3.10/dist-packages/tensorflow/python/util/traceback_utils.py\u001b[0m in \u001b[0;36merror_handler\u001b[0;34m(*args, **kwargs)\u001b[0m\n\u001b[1;32m    148\u001b[0m     \u001b[0mfiltered_tb\u001b[0m \u001b[0;34m=\u001b[0m \u001b[0;32mNone\u001b[0m\u001b[0;34m\u001b[0m\u001b[0;34m\u001b[0m\u001b[0m\n\u001b[1;32m    149\u001b[0m     \u001b[0;32mtry\u001b[0m\u001b[0;34m:\u001b[0m\u001b[0;34m\u001b[0m\u001b[0;34m\u001b[0m\u001b[0m\n\u001b[0;32m--> 150\u001b[0;31m       \u001b[0;32mreturn\u001b[0m \u001b[0mfn\u001b[0m\u001b[0;34m(\u001b[0m\u001b[0;34m*\u001b[0m\u001b[0margs\u001b[0m\u001b[0;34m,\u001b[0m \u001b[0;34m**\u001b[0m\u001b[0mkwargs\u001b[0m\u001b[0;34m)\u001b[0m\u001b[0;34m\u001b[0m\u001b[0;34m\u001b[0m\u001b[0m\n\u001b[0m\u001b[1;32m    151\u001b[0m     \u001b[0;32mexcept\u001b[0m \u001b[0mException\u001b[0m \u001b[0;32mas\u001b[0m \u001b[0me\u001b[0m\u001b[0;34m:\u001b[0m\u001b[0;34m\u001b[0m\u001b[0;34m\u001b[0m\u001b[0m\n\u001b[1;32m    152\u001b[0m       \u001b[0mfiltered_tb\u001b[0m \u001b[0;34m=\u001b[0m \u001b[0m_process_traceback_frames\u001b[0m\u001b[0;34m(\u001b[0m\u001b[0me\u001b[0m\u001b[0;34m.\u001b[0m\u001b[0m__traceback__\u001b[0m\u001b[0;34m)\u001b[0m\u001b[0;34m\u001b[0m\u001b[0;34m\u001b[0m\u001b[0m\n",
            "\u001b[0;32m/usr/local/lib/python3.10/dist-packages/tensorflow/python/eager/polymorphic_function/polymorphic_function.py\u001b[0m in \u001b[0;36m__call__\u001b[0;34m(self, *args, **kwds)\u001b[0m\n\u001b[1;32m    892\u001b[0m \u001b[0;34m\u001b[0m\u001b[0m\n\u001b[1;32m    893\u001b[0m       \u001b[0;32mwith\u001b[0m \u001b[0mOptionalXlaContext\u001b[0m\u001b[0;34m(\u001b[0m\u001b[0mself\u001b[0m\u001b[0;34m.\u001b[0m\u001b[0m_jit_compile\u001b[0m\u001b[0;34m)\u001b[0m\u001b[0;34m:\u001b[0m\u001b[0;34m\u001b[0m\u001b[0;34m\u001b[0m\u001b[0m\n\u001b[0;32m--> 894\u001b[0;31m         \u001b[0mresult\u001b[0m \u001b[0;34m=\u001b[0m \u001b[0mself\u001b[0m\u001b[0;34m.\u001b[0m\u001b[0m_call\u001b[0m\u001b[0;34m(\u001b[0m\u001b[0;34m*\u001b[0m\u001b[0margs\u001b[0m\u001b[0;34m,\u001b[0m \u001b[0;34m**\u001b[0m\u001b[0mkwds\u001b[0m\u001b[0;34m)\u001b[0m\u001b[0;34m\u001b[0m\u001b[0;34m\u001b[0m\u001b[0m\n\u001b[0m\u001b[1;32m    895\u001b[0m \u001b[0;34m\u001b[0m\u001b[0m\n\u001b[1;32m    896\u001b[0m       \u001b[0mnew_tracing_count\u001b[0m \u001b[0;34m=\u001b[0m \u001b[0mself\u001b[0m\u001b[0;34m.\u001b[0m\u001b[0mexperimental_get_tracing_count\u001b[0m\u001b[0;34m(\u001b[0m\u001b[0;34m)\u001b[0m\u001b[0;34m\u001b[0m\u001b[0;34m\u001b[0m\u001b[0m\n",
            "\u001b[0;32m/usr/local/lib/python3.10/dist-packages/tensorflow/python/eager/polymorphic_function/polymorphic_function.py\u001b[0m in \u001b[0;36m_call\u001b[0;34m(self, *args, **kwds)\u001b[0m\n\u001b[1;32m    924\u001b[0m       \u001b[0;31m# In this case we have created variables on the first call, so we run the\u001b[0m\u001b[0;34m\u001b[0m\u001b[0;34m\u001b[0m\u001b[0m\n\u001b[1;32m    925\u001b[0m       \u001b[0;31m# defunned version which is guaranteed to never create variables.\u001b[0m\u001b[0;34m\u001b[0m\u001b[0;34m\u001b[0m\u001b[0m\n\u001b[0;32m--> 926\u001b[0;31m       \u001b[0;32mreturn\u001b[0m \u001b[0mself\u001b[0m\u001b[0;34m.\u001b[0m\u001b[0m_no_variable_creation_fn\u001b[0m\u001b[0;34m(\u001b[0m\u001b[0;34m*\u001b[0m\u001b[0margs\u001b[0m\u001b[0;34m,\u001b[0m \u001b[0;34m**\u001b[0m\u001b[0mkwds\u001b[0m\u001b[0;34m)\u001b[0m  \u001b[0;31m# pylint: disable=not-callable\u001b[0m\u001b[0;34m\u001b[0m\u001b[0;34m\u001b[0m\u001b[0m\n\u001b[0m\u001b[1;32m    927\u001b[0m     \u001b[0;32melif\u001b[0m \u001b[0mself\u001b[0m\u001b[0;34m.\u001b[0m\u001b[0m_variable_creation_fn\u001b[0m \u001b[0;32mis\u001b[0m \u001b[0;32mnot\u001b[0m \u001b[0;32mNone\u001b[0m\u001b[0;34m:\u001b[0m\u001b[0;34m\u001b[0m\u001b[0;34m\u001b[0m\u001b[0m\n\u001b[1;32m    928\u001b[0m       \u001b[0;31m# Release the lock early so that multiple threads can perform the call\u001b[0m\u001b[0;34m\u001b[0m\u001b[0;34m\u001b[0m\u001b[0m\n",
            "\u001b[0;32m/usr/local/lib/python3.10/dist-packages/tensorflow/python/eager/polymorphic_function/tracing_compiler.py\u001b[0m in \u001b[0;36m__call__\u001b[0;34m(self, *args, **kwargs)\u001b[0m\n\u001b[1;32m    141\u001b[0m       (concrete_function,\n\u001b[1;32m    142\u001b[0m        filtered_flat_args) = self._maybe_define_function(args, kwargs)\n\u001b[0;32m--> 143\u001b[0;31m     return concrete_function._call_flat(\n\u001b[0m\u001b[1;32m    144\u001b[0m         filtered_flat_args, captured_inputs=concrete_function.captured_inputs)  # pylint: disable=protected-access\n\u001b[1;32m    145\u001b[0m \u001b[0;34m\u001b[0m\u001b[0m\n",
            "\u001b[0;32m/usr/local/lib/python3.10/dist-packages/tensorflow/python/eager/polymorphic_function/monomorphic_function.py\u001b[0m in \u001b[0;36m_call_flat\u001b[0;34m(self, args, captured_inputs, cancellation_manager)\u001b[0m\n\u001b[1;32m   1755\u001b[0m         and executing_eagerly):\n\u001b[1;32m   1756\u001b[0m       \u001b[0;31m# No tape is watching; skip to running the function.\u001b[0m\u001b[0;34m\u001b[0m\u001b[0;34m\u001b[0m\u001b[0m\n\u001b[0;32m-> 1757\u001b[0;31m       return self._build_call_outputs(self._inference_function.call(\n\u001b[0m\u001b[1;32m   1758\u001b[0m           ctx, args, cancellation_manager=cancellation_manager))\n\u001b[1;32m   1759\u001b[0m     forward_backward = self._select_forward_and_backward_functions(\n",
            "\u001b[0;32m/usr/local/lib/python3.10/dist-packages/tensorflow/python/eager/polymorphic_function/monomorphic_function.py\u001b[0m in \u001b[0;36mcall\u001b[0;34m(self, ctx, args, cancellation_manager)\u001b[0m\n\u001b[1;32m    379\u001b[0m       \u001b[0;32mwith\u001b[0m \u001b[0m_InterpolateFunctionError\u001b[0m\u001b[0;34m(\u001b[0m\u001b[0mself\u001b[0m\u001b[0;34m)\u001b[0m\u001b[0;34m:\u001b[0m\u001b[0;34m\u001b[0m\u001b[0;34m\u001b[0m\u001b[0m\n\u001b[1;32m    380\u001b[0m         \u001b[0;32mif\u001b[0m \u001b[0mcancellation_manager\u001b[0m \u001b[0;32mis\u001b[0m \u001b[0;32mNone\u001b[0m\u001b[0;34m:\u001b[0m\u001b[0;34m\u001b[0m\u001b[0;34m\u001b[0m\u001b[0m\n\u001b[0;32m--> 381\u001b[0;31m           outputs = execute.execute(\n\u001b[0m\u001b[1;32m    382\u001b[0m               \u001b[0mstr\u001b[0m\u001b[0;34m(\u001b[0m\u001b[0mself\u001b[0m\u001b[0;34m.\u001b[0m\u001b[0msignature\u001b[0m\u001b[0;34m.\u001b[0m\u001b[0mname\u001b[0m\u001b[0;34m)\u001b[0m\u001b[0;34m,\u001b[0m\u001b[0;34m\u001b[0m\u001b[0;34m\u001b[0m\u001b[0m\n\u001b[1;32m    383\u001b[0m               \u001b[0mnum_outputs\u001b[0m\u001b[0;34m=\u001b[0m\u001b[0mself\u001b[0m\u001b[0;34m.\u001b[0m\u001b[0m_num_outputs\u001b[0m\u001b[0;34m,\u001b[0m\u001b[0;34m\u001b[0m\u001b[0;34m\u001b[0m\u001b[0m\n",
            "\u001b[0;32m/usr/local/lib/python3.10/dist-packages/tensorflow/python/eager/execute.py\u001b[0m in \u001b[0;36mquick_execute\u001b[0;34m(op_name, num_outputs, inputs, attrs, ctx, name)\u001b[0m\n\u001b[1;32m     50\u001b[0m   \u001b[0;32mtry\u001b[0m\u001b[0;34m:\u001b[0m\u001b[0;34m\u001b[0m\u001b[0;34m\u001b[0m\u001b[0m\n\u001b[1;32m     51\u001b[0m     \u001b[0mctx\u001b[0m\u001b[0;34m.\u001b[0m\u001b[0mensure_initialized\u001b[0m\u001b[0;34m(\u001b[0m\u001b[0;34m)\u001b[0m\u001b[0;34m\u001b[0m\u001b[0;34m\u001b[0m\u001b[0m\n\u001b[0;32m---> 52\u001b[0;31m     tensors = pywrap_tfe.TFE_Py_Execute(ctx._handle, device_name, op_name,\n\u001b[0m\u001b[1;32m     53\u001b[0m                                         inputs, attrs, num_outputs)\n\u001b[1;32m     54\u001b[0m   \u001b[0;32mexcept\u001b[0m \u001b[0mcore\u001b[0m\u001b[0;34m.\u001b[0m\u001b[0m_NotOkStatusException\u001b[0m \u001b[0;32mas\u001b[0m \u001b[0me\u001b[0m\u001b[0;34m:\u001b[0m\u001b[0;34m\u001b[0m\u001b[0;34m\u001b[0m\u001b[0m\n",
            "\u001b[0;31mKeyboardInterrupt\u001b[0m: "
          ]
        }
      ]
    },
    {
      "cell_type": "markdown",
      "metadata": {
        "id": "ZBnVN5aoL_MJ"
      },
      "source": [
        "## 4. Transfer Learning"
      ]
    },
    {
      "cell_type": "code",
      "metadata": {
        "id": "VaqBTy80-PfP"
      },
      "source": [
        "# Import dependences for transfer learning\n",
        "from tensorflow.keras.applications import ResNet50    # arquitectura para hacer redes más profundas, eso es nuestra base del modelo\n",
        "from keras.models import Sequential\n",
        "from keras.layers import UpSampling2D\n",
        "from tensorflow.keras.optimizers import RMSprop"
      ],
      "execution_count": null,
      "outputs": []
    },
    {
      "cell_type": "markdown",
      "source": [],
      "metadata": {
        "id": "41JEQ_8P7a_6"
      }
    },
    {
      "cell_type": "code",
      "metadata": {
        "id": "aoz0Dt6SV3QN"
      },
      "source": [
        "# Define the model\n",
        "resnet_model = ResNet50(weights='imagenet',   # se descarga el conocimiento que has sacado por el entrenamiento con imagenet\n",
        "                        include_top=False,    # quitar el conocimiento que no me sirve = quitar la capa de las clases\n",
        "                        input_shape=(256, 256, 3))\n",
        "model = Sequential()\n",
        "model.add(UpSampling2D((2,2)))    # aumenta el tomanio del imagen para tener la misma resolucion como los imagenes de imagenet (256, 256)\n",
        "model.add(UpSampling2D((2,2)))    # ya que el modelo va mejor cuanto mas similiar son los datos con el entrenamiento\n",
        "model.add(UpSampling2D((2,2)))\n",
        "model.add(resnet_model)           # extaer las caracteristicas\n",
        "model.add(Flatten())              # transformar a un vector unidimensional\n",
        "\n",
        "# todos los lineas a partir de eso son opcionales (hay que probar si ayudan o no)\n",
        "model.add(BatchNormalization())  \n",
        "model.add(Dense(128, activation='relu'))\n",
        "model.add(Dropout(0.5))\n",
        "model.add(BatchNormalization())\n",
        "model.add(Dense(64, activation='relu'))\n",
        "model.add(Dropout(0.5))\n",
        "model.add(BatchNormalization())\n",
        "model.add(Dense(10, activation='softmax'))  "
      ],
      "execution_count": null,
      "outputs": []
    },
    {
      "cell_type": "code",
      "metadata": {
        "id": "arWFKw9yZF9k"
      },
      "source": [
        "# Compile the model      (aqui learning rate poquito ya que se esta entrenado bastante con imagenet y no hace falta cambiarlo mucho)\n",
        "model.compile(optimizer=RMSprop(lr=2e-5), loss='categorical_crossentropy',\n",
        "              metrics=['acc'])"
      ],
      "execution_count": null,
      "outputs": []
    },
    {
      "cell_type": "code",
      "metadata": {
        "id": "Q4zR1iAiZQbO"
      },
      "source": [
        "# Train the model\n",
        "history = model.fit(X_train_fl, y_train_oh, epochs=5, batch_size=50, \n",
        "                    validation_data=(X_val, y_val))"
      ],
      "execution_count": null,
      "outputs": []
    },
    {
      "cell_type": "code",
      "metadata": {
        "id": "zp2NFx0MiXPz"
      },
      "source": [
        "# Train the model\n",
        "batch_size = 20\n",
        "steps_per_epoch = X_train.shape[0] / batch_size\n",
        "history = model.fit_generator(train_datagen.flow(X_train_fl, y_train_oh, \n",
        "                                                 batch_size=batch_size), \n",
        "                              epochs=5,\n",
        "                              steps_per_epoch=steps_per_epoch, \n",
        "                              validation_data=(X_val, y_val))"
      ],
      "execution_count": null,
      "outputs": []
    },
    {
      "cell_type": "markdown",
      "metadata": {
        "id": "L9_3YAJta7x0"
      },
      "source": [
        "# Exercise 1: Experiment with other pre-trained models to evaluate results"
      ]
    },
    {
      "cell_type": "code",
      "metadata": {
        "id": "t2ZhdVS-iNOA"
      },
      "source": [],
      "execution_count": null,
      "outputs": []
    },
    {
      "cell_type": "markdown",
      "metadata": {
        "id": "-CLwgtnlbKds"
      },
      "source": [
        "# Exercise 2: Use the concepts learnt to train a classifier for CIFAR100 dataset"
      ]
    },
    {
      "cell_type": "code",
      "metadata": {
        "id": "2bWDRvYuPGE1"
      },
      "source": [],
      "execution_count": null,
      "outputs": []
    }
  ]
}