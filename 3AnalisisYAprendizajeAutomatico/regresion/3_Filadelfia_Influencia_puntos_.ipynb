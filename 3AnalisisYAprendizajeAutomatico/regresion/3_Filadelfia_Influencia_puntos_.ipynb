{
  "cells": [
    {
      "cell_type": "markdown",
      "metadata": {
        "id": "BgS-IclG1TBr"
      },
      "source": [
        "# Práctica Regresión Lineal\n",
        "\n",
        "Primero, descargamos el dataset llamado \"Filadelfia_dataset.csv\" desde la siguiente url:\n",
        "\n",
        "https://drive.google.com/drive/folders/1DoPdyeCuK6KOOqSiLdzjl26M5d9iTeH9?usp=sharing"
      ]
    },
    {
      "cell_type": "code",
      "execution_count": 4,
      "metadata": {
        "id": "E0YHNW-EHp_M"
      },
      "outputs": [],
      "source": [
        "import pandas as pd"
      ]
    },
    {
      "cell_type": "markdown",
      "metadata": {
        "id": "YldWrv2e1hWe"
      },
      "source": [
        "##Exploramos algunos datos del valor de la vivienda frente a la tasa de criminalidad\n",
        "\n",
        "El conjunto de datos es de Filadelfia, Pensilvania, e incluye el precio medio de venta de las casas en una serie de barrios.  Los atributos de cada barrio que tenemos incluyen el índice de criminalidad ('CrimeRate'), la distancia (en millas) desde el centro de la ciudad ('MilesPhila'), el nombre de la ciudad ('Name'), y el nombre del condado ('County')."
      ]
    },
    {
      "cell_type": "code",
      "execution_count": 5,
      "metadata": {
        "colab": {
          "base_uri": "https://localhost:8080/",
          "height": 423
        },
        "id": "porgj5XPy5G5",
        "outputId": "8b285b3f-b8da-4c51-cb4a-63e3d2f22ab5"
      },
      "outputs": [
        {
          "data": {
            "text/html": [
              "\n",
              "  <div id=\"df-83874dda-607d-4550-ac58-1d83f95eca1e\">\n",
              "    <div class=\"colab-df-container\">\n",
              "      <div>\n",
              "<style scoped>\n",
              "    .dataframe tbody tr th:only-of-type {\n",
              "        vertical-align: middle;\n",
              "    }\n",
              "\n",
              "    .dataframe tbody tr th {\n",
              "        vertical-align: top;\n",
              "    }\n",
              "\n",
              "    .dataframe thead th {\n",
              "        text-align: right;\n",
              "    }\n",
              "</style>\n",
              "<table border=\"1\" class=\"dataframe\">\n",
              "  <thead>\n",
              "    <tr style=\"text-align: right;\">\n",
              "      <th></th>\n",
              "      <th>HousePrice</th>\n",
              "      <th>HsPrc ($10,000)</th>\n",
              "      <th>CrimeRate</th>\n",
              "      <th>MilesPhila</th>\n",
              "      <th>PopChg</th>\n",
              "      <th>Name</th>\n",
              "      <th>County</th>\n",
              "    </tr>\n",
              "  </thead>\n",
              "  <tbody>\n",
              "    <tr>\n",
              "      <th>0</th>\n",
              "      <td>140463</td>\n",
              "      <td>14.0463</td>\n",
              "      <td>29.7</td>\n",
              "      <td>10.0</td>\n",
              "      <td>-1.0</td>\n",
              "      <td>Abington</td>\n",
              "      <td>Montgome</td>\n",
              "    </tr>\n",
              "    <tr>\n",
              "      <th>1</th>\n",
              "      <td>113033</td>\n",
              "      <td>11.3033</td>\n",
              "      <td>24.1</td>\n",
              "      <td>18.0</td>\n",
              "      <td>4.0</td>\n",
              "      <td>Ambler</td>\n",
              "      <td>Montgome</td>\n",
              "    </tr>\n",
              "    <tr>\n",
              "      <th>2</th>\n",
              "      <td>124186</td>\n",
              "      <td>12.4186</td>\n",
              "      <td>19.5</td>\n",
              "      <td>25.0</td>\n",
              "      <td>8.0</td>\n",
              "      <td>Aston</td>\n",
              "      <td>Delaware</td>\n",
              "    </tr>\n",
              "    <tr>\n",
              "      <th>3</th>\n",
              "      <td>110490</td>\n",
              "      <td>11.0490</td>\n",
              "      <td>49.4</td>\n",
              "      <td>25.0</td>\n",
              "      <td>2.7</td>\n",
              "      <td>Bensalem</td>\n",
              "      <td>Bucks</td>\n",
              "    </tr>\n",
              "    <tr>\n",
              "      <th>4</th>\n",
              "      <td>79124</td>\n",
              "      <td>7.9124</td>\n",
              "      <td>54.1</td>\n",
              "      <td>19.0</td>\n",
              "      <td>3.9</td>\n",
              "      <td>Bristol B.</td>\n",
              "      <td>Bucks</td>\n",
              "    </tr>\n",
              "    <tr>\n",
              "      <th>...</th>\n",
              "      <td>...</td>\n",
              "      <td>...</td>\n",
              "      <td>...</td>\n",
              "      <td>...</td>\n",
              "      <td>...</td>\n",
              "      <td>...</td>\n",
              "      <td>...</td>\n",
              "    </tr>\n",
              "    <tr>\n",
              "      <th>94</th>\n",
              "      <td>174232</td>\n",
              "      <td>17.4232</td>\n",
              "      <td>13.8</td>\n",
              "      <td>25.0</td>\n",
              "      <td>4.7</td>\n",
              "      <td>Westtown</td>\n",
              "      <td>Chester</td>\n",
              "    </tr>\n",
              "    <tr>\n",
              "      <th>95</th>\n",
              "      <td>196515</td>\n",
              "      <td>19.6515</td>\n",
              "      <td>29.9</td>\n",
              "      <td>16.0</td>\n",
              "      <td>1.8</td>\n",
              "      <td>Whitemarsh</td>\n",
              "      <td>Montgome</td>\n",
              "    </tr>\n",
              "    <tr>\n",
              "      <th>96</th>\n",
              "      <td>232714</td>\n",
              "      <td>23.2714</td>\n",
              "      <td>9.9</td>\n",
              "      <td>21.0</td>\n",
              "      <td>0.2</td>\n",
              "      <td>Willistown</td>\n",
              "      <td>Chester</td>\n",
              "    </tr>\n",
              "    <tr>\n",
              "      <th>97</th>\n",
              "      <td>245920</td>\n",
              "      <td>24.5920</td>\n",
              "      <td>22.6</td>\n",
              "      <td>10.0</td>\n",
              "      <td>0.3</td>\n",
              "      <td>Wynnewood</td>\n",
              "      <td>Montgome</td>\n",
              "    </tr>\n",
              "    <tr>\n",
              "      <th>98</th>\n",
              "      <td>130953</td>\n",
              "      <td>13.0953</td>\n",
              "      <td>13.0</td>\n",
              "      <td>24.0</td>\n",
              "      <td>5.2</td>\n",
              "      <td>Yardley</td>\n",
              "      <td>Bucks</td>\n",
              "    </tr>\n",
              "  </tbody>\n",
              "</table>\n",
              "<p>99 rows × 7 columns</p>\n",
              "</div>\n",
              "      <button class=\"colab-df-convert\" onclick=\"convertToInteractive('df-83874dda-607d-4550-ac58-1d83f95eca1e')\"\n",
              "              title=\"Convert this dataframe to an interactive table.\"\n",
              "              style=\"display:none;\">\n",
              "        \n",
              "  <svg xmlns=\"http://www.w3.org/2000/svg\" height=\"24px\"viewBox=\"0 0 24 24\"\n",
              "       width=\"24px\">\n",
              "    <path d=\"M0 0h24v24H0V0z\" fill=\"none\"/>\n",
              "    <path d=\"M18.56 5.44l.94 2.06.94-2.06 2.06-.94-2.06-.94-.94-2.06-.94 2.06-2.06.94zm-11 1L8.5 8.5l.94-2.06 2.06-.94-2.06-.94L8.5 2.5l-.94 2.06-2.06.94zm10 10l.94 2.06.94-2.06 2.06-.94-2.06-.94-.94-2.06-.94 2.06-2.06.94z\"/><path d=\"M17.41 7.96l-1.37-1.37c-.4-.4-.92-.59-1.43-.59-.52 0-1.04.2-1.43.59L10.3 9.45l-7.72 7.72c-.78.78-.78 2.05 0 2.83L4 21.41c.39.39.9.59 1.41.59.51 0 1.02-.2 1.41-.59l7.78-7.78 2.81-2.81c.8-.78.8-2.07 0-2.86zM5.41 20L4 18.59l7.72-7.72 1.47 1.35L5.41 20z\"/>\n",
              "  </svg>\n",
              "      </button>\n",
              "      \n",
              "  <style>\n",
              "    .colab-df-container {\n",
              "      display:flex;\n",
              "      flex-wrap:wrap;\n",
              "      gap: 12px;\n",
              "    }\n",
              "\n",
              "    .colab-df-convert {\n",
              "      background-color: #E8F0FE;\n",
              "      border: none;\n",
              "      border-radius: 50%;\n",
              "      cursor: pointer;\n",
              "      display: none;\n",
              "      fill: #1967D2;\n",
              "      height: 32px;\n",
              "      padding: 0 0 0 0;\n",
              "      width: 32px;\n",
              "    }\n",
              "\n",
              "    .colab-df-convert:hover {\n",
              "      background-color: #E2EBFA;\n",
              "      box-shadow: 0px 1px 2px rgba(60, 64, 67, 0.3), 0px 1px 3px 1px rgba(60, 64, 67, 0.15);\n",
              "      fill: #174EA6;\n",
              "    }\n",
              "\n",
              "    [theme=dark] .colab-df-convert {\n",
              "      background-color: #3B4455;\n",
              "      fill: #D2E3FC;\n",
              "    }\n",
              "\n",
              "    [theme=dark] .colab-df-convert:hover {\n",
              "      background-color: #434B5C;\n",
              "      box-shadow: 0px 1px 3px 1px rgba(0, 0, 0, 0.15);\n",
              "      filter: drop-shadow(0px 1px 2px rgba(0, 0, 0, 0.3));\n",
              "      fill: #FFFFFF;\n",
              "    }\n",
              "  </style>\n",
              "\n",
              "      <script>\n",
              "        const buttonEl =\n",
              "          document.querySelector('#df-83874dda-607d-4550-ac58-1d83f95eca1e button.colab-df-convert');\n",
              "        buttonEl.style.display =\n",
              "          google.colab.kernel.accessAllowed ? 'block' : 'none';\n",
              "\n",
              "        async function convertToInteractive(key) {\n",
              "          const element = document.querySelector('#df-83874dda-607d-4550-ac58-1d83f95eca1e');\n",
              "          const dataTable =\n",
              "            await google.colab.kernel.invokeFunction('convertToInteractive',\n",
              "                                                     [key], {});\n",
              "          if (!dataTable) return;\n",
              "\n",
              "          const docLinkHtml = 'Like what you see? Visit the ' +\n",
              "            '<a target=\"_blank\" href=https://colab.research.google.com/notebooks/data_table.ipynb>data table notebook</a>'\n",
              "            + ' to learn more about interactive tables.';\n",
              "          element.innerHTML = '';\n",
              "          dataTable['output_type'] = 'display_data';\n",
              "          await google.colab.output.renderOutput(dataTable, element);\n",
              "          const docLink = document.createElement('div');\n",
              "          docLink.innerHTML = docLinkHtml;\n",
              "          element.appendChild(docLink);\n",
              "        }\n",
              "      </script>\n",
              "    </div>\n",
              "  </div>\n",
              "  "
            ],
            "text/plain": [
              "    HousePrice  HsPrc ($10,000)  CrimeRate  MilesPhila  PopChg        Name  \\\n",
              "0       140463          14.0463       29.7        10.0    -1.0    Abington   \n",
              "1       113033          11.3033       24.1        18.0     4.0      Ambler   \n",
              "2       124186          12.4186       19.5        25.0     8.0       Aston   \n",
              "3       110490          11.0490       49.4        25.0     2.7    Bensalem   \n",
              "4        79124           7.9124       54.1        19.0     3.9  Bristol B.   \n",
              "..         ...              ...        ...         ...     ...         ...   \n",
              "94      174232          17.4232       13.8        25.0     4.7    Westtown   \n",
              "95      196515          19.6515       29.9        16.0     1.8  Whitemarsh   \n",
              "96      232714          23.2714        9.9        21.0     0.2  Willistown   \n",
              "97      245920          24.5920       22.6        10.0     0.3   Wynnewood   \n",
              "98      130953          13.0953       13.0        24.0     5.2     Yardley   \n",
              "\n",
              "      County  \n",
              "0   Montgome  \n",
              "1   Montgome  \n",
              "2   Delaware  \n",
              "3      Bucks  \n",
              "4      Bucks  \n",
              "..       ...  \n",
              "94   Chester  \n",
              "95  Montgome  \n",
              "96   Chester  \n",
              "97  Montgome  \n",
              "98     Bucks  \n",
              "\n",
              "[99 rows x 7 columns]"
            ]
          },
          "execution_count": 5,
          "metadata": {},
          "output_type": "execute_result"
        }
      ],
      "source": [
        "#Cargamos el csv.\n",
        "\n",
        "df_sales = pd.read_csv('datasets/Filadelfia_dataset.csv')\n",
        "\n",
        "df_sales"
      ]
    },
    {
      "cell_type": "markdown",
      "metadata": {
        "id": "jd2PXwcW2ppV"
      },
      "source": [
        "## Explorando los datos.\n",
        "\n",
        "El precio de las casas en la ciudad está correlado con el índice de criminalidad en cada ciudad. Las ciudades con una tasa baja de criminalidad suelen tener un precio más alto y viceversa"
      ]
    },
    {
      "cell_type": "code",
      "execution_count": 6,
      "metadata": {
        "colab": {
          "base_uri": "https://localhost:8080/",
          "height": 542
        },
        "id": "KXUHxmy_2YF1",
        "outputId": "f05402b6-1e27-4228-ddd7-15044cfcd1cf"
      },
      "outputs": [
        {
          "data": {
            "text/html": [
              "<html>\n",
              "<head><meta charset=\"utf-8\" /></head>\n",
              "<body>\n",
              "    <div>            <script src=\"https://cdnjs.cloudflare.com/ajax/libs/mathjax/2.7.5/MathJax.js?config=TeX-AMS-MML_SVG\"></script><script type=\"text/javascript\">if (window.MathJax && window.MathJax.Hub && window.MathJax.Hub.Config) {window.MathJax.Hub.Config({SVG: {font: \"STIX-Web\"}});}</script>                <script type=\"text/javascript\">window.PlotlyConfig = {MathJaxConfig: 'local'};</script>\n",
              "        <script src=\"https://cdn.plot.ly/plotly-2.18.2.min.js\"></script>                <div id=\"33834b4b-0ed6-4fa7-b63c-c132b8e375e9\" class=\"plotly-graph-div\" style=\"height:525px; width:100%;\"></div>            <script type=\"text/javascript\">                                    window.PLOTLYENV=window.PLOTLYENV || {};                                    if (document.getElementById(\"33834b4b-0ed6-4fa7-b63c-c132b8e375e9\")) {                    Plotly.newPlot(                        \"33834b4b-0ed6-4fa7-b63c-c132b8e375e9\",                        [{\"hovertemplate\":\"CrimeRate=%{x}<br>HousePrice=%{y}<extra></extra>\",\"legendgroup\":\"\",\"marker\":{\"color\":\"#636efa\",\"symbol\":\"circle\"},\"mode\":\"markers\",\"name\":\"\",\"orientation\":\"v\",\"showlegend\":false,\"x\":[29.7,24.1,19.5,49.4,54.1,48.6,30.8,10.8,20.2,20.4,17.3,50.3,34.2,33.7,45.7,22.3,48.1,19.4,71.9,45.1,31.3,24.9,27.2,17.7,29.0,21.4,28.6,29.3,17.5,16.5,17.8,17.3,31.2,14.5,15.7,28.6,20.8,29.3,19.3,39.5,13.0,24.1,38.0,40.1,36.1,26.6,25.1,14.6,18.2,15.3,15.2,17.4,73.3,7.1,12.5,45.8,44.9,65.0,49.9,54.8,53.5,69.9,366.1,24.6,58.6,53.2,17.4,15.5,14.5,24.1,21.2,9.8,29.9,7.2,19.4,41.1,11.2,21.2,42.8,9.4,61.7,19.4,6.6,15.9,18.8,13.2,34.5,22.1,22.1,71.9,31.9,44.6,28.6,24.0,13.8,29.9,9.9,22.6,13.0],\"xaxis\":\"x\",\"y\":[140463,113033,124186,110490,79124,92634,89246,195145,297342,264298,134342,147600,77370,170822,40642,71359,104923,190317,215512,178105,131025,149844,170556,280969,114233,74502,475112,97167,114572,436348,389302,122392,130436,272790,194435,299621,210884,112471,93738,121024,156035,185404,126160,143072,96769,94014,118214,157446,150283,153842,197214,206127,71981,169401,99843,60000,28000,60000,61800,38000,38000,42000,96200,103087,147720,78175,92215,271804,119566,100231,95831,229711,74308,259506,159573,147176,205732,215783,116710,359112,189959,133198,242821,142811,200498,199065,93648,163001,436348,124478,168276,114157,130088,152624,174232,196515,232714,245920,130953],\"yaxis\":\"y\",\"type\":\"scatter\"}],                        {\"template\":{\"data\":{\"histogram2dcontour\":[{\"type\":\"histogram2dcontour\",\"colorbar\":{\"outlinewidth\":0,\"ticks\":\"\"},\"colorscale\":[[0.0,\"#0d0887\"],[0.1111111111111111,\"#46039f\"],[0.2222222222222222,\"#7201a8\"],[0.3333333333333333,\"#9c179e\"],[0.4444444444444444,\"#bd3786\"],[0.5555555555555556,\"#d8576b\"],[0.6666666666666666,\"#ed7953\"],[0.7777777777777778,\"#fb9f3a\"],[0.8888888888888888,\"#fdca26\"],[1.0,\"#f0f921\"]]}],\"choropleth\":[{\"type\":\"choropleth\",\"colorbar\":{\"outlinewidth\":0,\"ticks\":\"\"}}],\"histogram2d\":[{\"type\":\"histogram2d\",\"colorbar\":{\"outlinewidth\":0,\"ticks\":\"\"},\"colorscale\":[[0.0,\"#0d0887\"],[0.1111111111111111,\"#46039f\"],[0.2222222222222222,\"#7201a8\"],[0.3333333333333333,\"#9c179e\"],[0.4444444444444444,\"#bd3786\"],[0.5555555555555556,\"#d8576b\"],[0.6666666666666666,\"#ed7953\"],[0.7777777777777778,\"#fb9f3a\"],[0.8888888888888888,\"#fdca26\"],[1.0,\"#f0f921\"]]}],\"heatmap\":[{\"type\":\"heatmap\",\"colorbar\":{\"outlinewidth\":0,\"ticks\":\"\"},\"colorscale\":[[0.0,\"#0d0887\"],[0.1111111111111111,\"#46039f\"],[0.2222222222222222,\"#7201a8\"],[0.3333333333333333,\"#9c179e\"],[0.4444444444444444,\"#bd3786\"],[0.5555555555555556,\"#d8576b\"],[0.6666666666666666,\"#ed7953\"],[0.7777777777777778,\"#fb9f3a\"],[0.8888888888888888,\"#fdca26\"],[1.0,\"#f0f921\"]]}],\"heatmapgl\":[{\"type\":\"heatmapgl\",\"colorbar\":{\"outlinewidth\":0,\"ticks\":\"\"},\"colorscale\":[[0.0,\"#0d0887\"],[0.1111111111111111,\"#46039f\"],[0.2222222222222222,\"#7201a8\"],[0.3333333333333333,\"#9c179e\"],[0.4444444444444444,\"#bd3786\"],[0.5555555555555556,\"#d8576b\"],[0.6666666666666666,\"#ed7953\"],[0.7777777777777778,\"#fb9f3a\"],[0.8888888888888888,\"#fdca26\"],[1.0,\"#f0f921\"]]}],\"contourcarpet\":[{\"type\":\"contourcarpet\",\"colorbar\":{\"outlinewidth\":0,\"ticks\":\"\"}}],\"contour\":[{\"type\":\"contour\",\"colorbar\":{\"outlinewidth\":0,\"ticks\":\"\"},\"colorscale\":[[0.0,\"#0d0887\"],[0.1111111111111111,\"#46039f\"],[0.2222222222222222,\"#7201a8\"],[0.3333333333333333,\"#9c179e\"],[0.4444444444444444,\"#bd3786\"],[0.5555555555555556,\"#d8576b\"],[0.6666666666666666,\"#ed7953\"],[0.7777777777777778,\"#fb9f3a\"],[0.8888888888888888,\"#fdca26\"],[1.0,\"#f0f921\"]]}],\"surface\":[{\"type\":\"surface\",\"colorbar\":{\"outlinewidth\":0,\"ticks\":\"\"},\"colorscale\":[[0.0,\"#0d0887\"],[0.1111111111111111,\"#46039f\"],[0.2222222222222222,\"#7201a8\"],[0.3333333333333333,\"#9c179e\"],[0.4444444444444444,\"#bd3786\"],[0.5555555555555556,\"#d8576b\"],[0.6666666666666666,\"#ed7953\"],[0.7777777777777778,\"#fb9f3a\"],[0.8888888888888888,\"#fdca26\"],[1.0,\"#f0f921\"]]}],\"mesh3d\":[{\"type\":\"mesh3d\",\"colorbar\":{\"outlinewidth\":0,\"ticks\":\"\"}}],\"scatter\":[{\"fillpattern\":{\"fillmode\":\"overlay\",\"size\":10,\"solidity\":0.2},\"type\":\"scatter\"}],\"parcoords\":[{\"type\":\"parcoords\",\"line\":{\"colorbar\":{\"outlinewidth\":0,\"ticks\":\"\"}}}],\"scatterpolargl\":[{\"type\":\"scatterpolargl\",\"marker\":{\"colorbar\":{\"outlinewidth\":0,\"ticks\":\"\"}}}],\"bar\":[{\"error_x\":{\"color\":\"#2a3f5f\"},\"error_y\":{\"color\":\"#2a3f5f\"},\"marker\":{\"line\":{\"color\":\"#E5ECF6\",\"width\":0.5},\"pattern\":{\"fillmode\":\"overlay\",\"size\":10,\"solidity\":0.2}},\"type\":\"bar\"}],\"scattergeo\":[{\"type\":\"scattergeo\",\"marker\":{\"colorbar\":{\"outlinewidth\":0,\"ticks\":\"\"}}}],\"scatterpolar\":[{\"type\":\"scatterpolar\",\"marker\":{\"colorbar\":{\"outlinewidth\":0,\"ticks\":\"\"}}}],\"histogram\":[{\"marker\":{\"pattern\":{\"fillmode\":\"overlay\",\"size\":10,\"solidity\":0.2}},\"type\":\"histogram\"}],\"scattergl\":[{\"type\":\"scattergl\",\"marker\":{\"colorbar\":{\"outlinewidth\":0,\"ticks\":\"\"}}}],\"scatter3d\":[{\"type\":\"scatter3d\",\"line\":{\"colorbar\":{\"outlinewidth\":0,\"ticks\":\"\"}},\"marker\":{\"colorbar\":{\"outlinewidth\":0,\"ticks\":\"\"}}}],\"scattermapbox\":[{\"type\":\"scattermapbox\",\"marker\":{\"colorbar\":{\"outlinewidth\":0,\"ticks\":\"\"}}}],\"scatterternary\":[{\"type\":\"scatterternary\",\"marker\":{\"colorbar\":{\"outlinewidth\":0,\"ticks\":\"\"}}}],\"scattercarpet\":[{\"type\":\"scattercarpet\",\"marker\":{\"colorbar\":{\"outlinewidth\":0,\"ticks\":\"\"}}}],\"carpet\":[{\"aaxis\":{\"endlinecolor\":\"#2a3f5f\",\"gridcolor\":\"white\",\"linecolor\":\"white\",\"minorgridcolor\":\"white\",\"startlinecolor\":\"#2a3f5f\"},\"baxis\":{\"endlinecolor\":\"#2a3f5f\",\"gridcolor\":\"white\",\"linecolor\":\"white\",\"minorgridcolor\":\"white\",\"startlinecolor\":\"#2a3f5f\"},\"type\":\"carpet\"}],\"table\":[{\"cells\":{\"fill\":{\"color\":\"#EBF0F8\"},\"line\":{\"color\":\"white\"}},\"header\":{\"fill\":{\"color\":\"#C8D4E3\"},\"line\":{\"color\":\"white\"}},\"type\":\"table\"}],\"barpolar\":[{\"marker\":{\"line\":{\"color\":\"#E5ECF6\",\"width\":0.5},\"pattern\":{\"fillmode\":\"overlay\",\"size\":10,\"solidity\":0.2}},\"type\":\"barpolar\"}],\"pie\":[{\"automargin\":true,\"type\":\"pie\"}]},\"layout\":{\"autotypenumbers\":\"strict\",\"colorway\":[\"#636efa\",\"#EF553B\",\"#00cc96\",\"#ab63fa\",\"#FFA15A\",\"#19d3f3\",\"#FF6692\",\"#B6E880\",\"#FF97FF\",\"#FECB52\"],\"font\":{\"color\":\"#2a3f5f\"},\"hovermode\":\"closest\",\"hoverlabel\":{\"align\":\"left\"},\"paper_bgcolor\":\"white\",\"plot_bgcolor\":\"#E5ECF6\",\"polar\":{\"bgcolor\":\"#E5ECF6\",\"angularaxis\":{\"gridcolor\":\"white\",\"linecolor\":\"white\",\"ticks\":\"\"},\"radialaxis\":{\"gridcolor\":\"white\",\"linecolor\":\"white\",\"ticks\":\"\"}},\"ternary\":{\"bgcolor\":\"#E5ECF6\",\"aaxis\":{\"gridcolor\":\"white\",\"linecolor\":\"white\",\"ticks\":\"\"},\"baxis\":{\"gridcolor\":\"white\",\"linecolor\":\"white\",\"ticks\":\"\"},\"caxis\":{\"gridcolor\":\"white\",\"linecolor\":\"white\",\"ticks\":\"\"}},\"coloraxis\":{\"colorbar\":{\"outlinewidth\":0,\"ticks\":\"\"}},\"colorscale\":{\"sequential\":[[0.0,\"#0d0887\"],[0.1111111111111111,\"#46039f\"],[0.2222222222222222,\"#7201a8\"],[0.3333333333333333,\"#9c179e\"],[0.4444444444444444,\"#bd3786\"],[0.5555555555555556,\"#d8576b\"],[0.6666666666666666,\"#ed7953\"],[0.7777777777777778,\"#fb9f3a\"],[0.8888888888888888,\"#fdca26\"],[1.0,\"#f0f921\"]],\"sequentialminus\":[[0.0,\"#0d0887\"],[0.1111111111111111,\"#46039f\"],[0.2222222222222222,\"#7201a8\"],[0.3333333333333333,\"#9c179e\"],[0.4444444444444444,\"#bd3786\"],[0.5555555555555556,\"#d8576b\"],[0.6666666666666666,\"#ed7953\"],[0.7777777777777778,\"#fb9f3a\"],[0.8888888888888888,\"#fdca26\"],[1.0,\"#f0f921\"]],\"diverging\":[[0,\"#8e0152\"],[0.1,\"#c51b7d\"],[0.2,\"#de77ae\"],[0.3,\"#f1b6da\"],[0.4,\"#fde0ef\"],[0.5,\"#f7f7f7\"],[0.6,\"#e6f5d0\"],[0.7,\"#b8e186\"],[0.8,\"#7fbc41\"],[0.9,\"#4d9221\"],[1,\"#276419\"]]},\"xaxis\":{\"gridcolor\":\"white\",\"linecolor\":\"white\",\"ticks\":\"\",\"title\":{\"standoff\":15},\"zerolinecolor\":\"white\",\"automargin\":true,\"zerolinewidth\":2},\"yaxis\":{\"gridcolor\":\"white\",\"linecolor\":\"white\",\"ticks\":\"\",\"title\":{\"standoff\":15},\"zerolinecolor\":\"white\",\"automargin\":true,\"zerolinewidth\":2},\"scene\":{\"xaxis\":{\"backgroundcolor\":\"#E5ECF6\",\"gridcolor\":\"white\",\"linecolor\":\"white\",\"showbackground\":true,\"ticks\":\"\",\"zerolinecolor\":\"white\",\"gridwidth\":2},\"yaxis\":{\"backgroundcolor\":\"#E5ECF6\",\"gridcolor\":\"white\",\"linecolor\":\"white\",\"showbackground\":true,\"ticks\":\"\",\"zerolinecolor\":\"white\",\"gridwidth\":2},\"zaxis\":{\"backgroundcolor\":\"#E5ECF6\",\"gridcolor\":\"white\",\"linecolor\":\"white\",\"showbackground\":true,\"ticks\":\"\",\"zerolinecolor\":\"white\",\"gridwidth\":2}},\"shapedefaults\":{\"line\":{\"color\":\"#2a3f5f\"}},\"annotationdefaults\":{\"arrowcolor\":\"#2a3f5f\",\"arrowhead\":0,\"arrowwidth\":1},\"geo\":{\"bgcolor\":\"white\",\"landcolor\":\"#E5ECF6\",\"subunitcolor\":\"white\",\"showland\":true,\"showlakes\":true,\"lakecolor\":\"white\"},\"title\":{\"x\":0.05},\"mapbox\":{\"style\":\"light\"}}},\"xaxis\":{\"anchor\":\"y\",\"domain\":[0.0,1.0],\"title\":{\"text\":\"CrimeRate\"}},\"yaxis\":{\"anchor\":\"x\",\"domain\":[0.0,1.0],\"title\":{\"text\":\"HousePrice\"}},\"legend\":{\"tracegroupgap\":0},\"margin\":{\"t\":60}},                        {\"responsive\": true}                    ).then(function(){\n",
              "                            \n",
              "var gd = document.getElementById('33834b4b-0ed6-4fa7-b63c-c132b8e375e9');\n",
              "var x = new MutationObserver(function (mutations, observer) {{\n",
              "        var display = window.getComputedStyle(gd).display;\n",
              "        if (!display || display === 'none') {{\n",
              "            console.log([gd, 'removed!']);\n",
              "            Plotly.purge(gd);\n",
              "            observer.disconnect();\n",
              "        }}\n",
              "}});\n",
              "\n",
              "// Listen for the removal of the full notebook cells\n",
              "var notebookContainer = gd.closest('#notebook-container');\n",
              "if (notebookContainer) {{\n",
              "    x.observe(notebookContainer, {childList: true});\n",
              "}}\n",
              "\n",
              "// Listen for the clearing of the current output cell\n",
              "var outputEl = gd.closest('.output');\n",
              "if (outputEl) {{\n",
              "    x.observe(outputEl, {childList: true});\n",
              "}}\n",
              "\n",
              "                        })                };                            </script>        </div>\n",
              "</body>\n",
              "</html>"
            ]
          },
          "metadata": {},
          "output_type": "display_data"
        }
      ],
      "source": [
        "import plotly.express as px\n",
        "\n",
        "\n",
        "fig = px.scatter(df_sales, x='CrimeRate', y='HousePrice')\n",
        "fig.show()"
      ]
    },
    {
      "cell_type": "markdown",
      "metadata": {
        "id": "fnX-O7CM6P_P"
      },
      "source": [
        "## Entrenamos un modelo de regresión utilizado el crimen como variable de entrada"
      ]
    },
    {
      "cell_type": "code",
      "execution_count": 7,
      "metadata": {
        "id": "TmZMlPxg6OMu"
      },
      "outputs": [],
      "source": [
        "from sklearn.linear_model import LinearRegression\n",
        "import matplotlib.pyplot as plt\n"
      ]
    },
    {
      "cell_type": "code",
      "execution_count": 8,
      "metadata": {
        "id": "tOVBfQimYMfu"
      },
      "outputs": [],
      "source": [
        "X = df_sales.CrimeRate.values.reshape(-1,1)\n",
        "Y = df_sales.HousePrice\n",
        "\n",
        "#Creamos un objeto de la clase linear_regression\n",
        "model_crime = LinearRegression()\n",
        "\n",
        "#Entrenamos con el training set.\n",
        "model_crime.fit(X, Y)\n",
        "\n",
        "#Predecimos la salida del modelo pasandole el conjunto de test.\n",
        "predictions = model_crime.predict(X)\n",
        "\n",
        "\n"
      ]
    },
    {
      "cell_type": "code",
      "execution_count": 9,
      "metadata": {
        "colab": {
          "base_uri": "https://localhost:8080/",
          "height": 470
        },
        "id": "BdQsa-dr7hyM",
        "outputId": "de9e9be1-e414-4c27-b9ed-d269e9c258f6"
      },
      "outputs": [
        {
          "data": {
            "text/plain": [
              "[<matplotlib.lines.Line2D at 0x7f1002fe38e0>,\n",
              " <matplotlib.lines.Line2D at 0x7f1002ff2850>]"
            ]
          },
          "execution_count": 9,
          "metadata": {},
          "output_type": "execute_result"
        },
        {
          "data": {
            "image/png": "[encoded data removed]",
            "text/plain": [
              "<Figure size 640x480 with 1 Axes>"
            ]
          },
          "metadata": {},
          "output_type": "display_data"
        }
      ],
      "source": [
        "plt.plot(df_sales['CrimeRate'], df_sales['HousePrice'], '.',\n",
        "         df_sales['CrimeRate'], predictions, '-'\n",
        "         )"
      ]
    },
    {
      "cell_type": "markdown",
      "metadata": {
        "id": "P4p9oDaq9iso"
      },
      "source": [
        "En naranja vemos nuestro modelo de regresión lineal simple ajustado. (es decir, nuestras predicciones de los valores de la casa para cada crimen). Vemos un valor a la derecha que parece ser un valor fuera de lo común."
      ]
    },
    {
      "cell_type": "markdown",
      "metadata": {
        "id": "euIN_BFR_zM7"
      },
      "source": [
        "## Eliminamos el centro y rehacemos el Análisis"
      ]
    },
    {
      "cell_type": "markdown",
      "metadata": {
        "id": "kGcZaOni_8J5"
      },
      "source": [
        "El caso del centro de la ciudad es la única observación con un índice de criminalidad extremadamente alto, aunque los precios de la vivienda no son muy bajos. Si nos fijamos, este punto no sigue muy bien la tendencia del resto de datos. Habría que preguntarse cuanto influye en el ajuste de los demás puntos de datos. Vamos a eliminarlo a ver qué ocurre"
      ]
    },
    {
      "cell_type": "code",
      "execution_count": 10,
      "metadata": {
        "colab": {
          "base_uri": "https://localhost:8080/",
          "height": 81
        },
        "id": "HpfPZfAp784Z",
        "outputId": "b635ca61-658b-4d89-bf3b-617d53801b27"
      },
      "outputs": [
        {
          "data": {
            "text/html": [
              "\n",
              "  <div id=\"df-102bce93-1a31-44fa-858f-ce2ab0fd2337\">\n",
              "    <div class=\"colab-df-container\">\n",
              "      <div>\n",
              "<style scoped>\n",
              "    .dataframe tbody tr th:only-of-type {\n",
              "        vertical-align: middle;\n",
              "    }\n",
              "\n",
              "    .dataframe tbody tr th {\n",
              "        vertical-align: top;\n",
              "    }\n",
              "\n",
              "    .dataframe thead th {\n",
              "        text-align: right;\n",
              "    }\n",
              "</style>\n",
              "<table border=\"1\" class=\"dataframe\">\n",
              "  <thead>\n",
              "    <tr style=\"text-align: right;\">\n",
              "      <th></th>\n",
              "      <th>HousePrice</th>\n",
              "      <th>HsPrc ($10,000)</th>\n",
              "      <th>CrimeRate</th>\n",
              "      <th>MilesPhila</th>\n",
              "      <th>PopChg</th>\n",
              "      <th>Name</th>\n",
              "      <th>County</th>\n",
              "    </tr>\n",
              "  </thead>\n",
              "  <tbody>\n",
              "    <tr>\n",
              "      <th>62</th>\n",
              "      <td>96200</td>\n",
              "      <td>9.62</td>\n",
              "      <td>366.1</td>\n",
              "      <td>0.0</td>\n",
              "      <td>4.8</td>\n",
              "      <td>Phila,CC</td>\n",
              "      <td>Phila</td>\n",
              "    </tr>\n",
              "  </tbody>\n",
              "</table>\n",
              "</div>\n",
              "      <button class=\"colab-df-convert\" onclick=\"convertToInteractive('df-102bce93-1a31-44fa-858f-ce2ab0fd2337')\"\n",
              "              title=\"Convert this dataframe to an interactive table.\"\n",
              "              style=\"display:none;\">\n",
              "        \n",
              "  <svg xmlns=\"http://www.w3.org/2000/svg\" height=\"24px\"viewBox=\"0 0 24 24\"\n",
              "       width=\"24px\">\n",
              "    <path d=\"M0 0h24v24H0V0z\" fill=\"none\"/>\n",
              "    <path d=\"M18.56 5.44l.94 2.06.94-2.06 2.06-.94-2.06-.94-.94-2.06-.94 2.06-2.06.94zm-11 1L8.5 8.5l.94-2.06 2.06-.94-2.06-.94L8.5 2.5l-.94 2.06-2.06.94zm10 10l.94 2.06.94-2.06 2.06-.94-2.06-.94-.94-2.06-.94 2.06-2.06.94z\"/><path d=\"M17.41 7.96l-1.37-1.37c-.4-.4-.92-.59-1.43-.59-.52 0-1.04.2-1.43.59L10.3 9.45l-7.72 7.72c-.78.78-.78 2.05 0 2.83L4 21.41c.39.39.9.59 1.41.59.51 0 1.02-.2 1.41-.59l7.78-7.78 2.81-2.81c.8-.78.8-2.07 0-2.86zM5.41 20L4 18.59l7.72-7.72 1.47 1.35L5.41 20z\"/>\n",
              "  </svg>\n",
              "      </button>\n",
              "      \n",
              "  <style>\n",
              "    .colab-df-container {\n",
              "      display:flex;\n",
              "      flex-wrap:wrap;\n",
              "      gap: 12px;\n",
              "    }\n",
              "\n",
              "    .colab-df-convert {\n",
              "      background-color: #E8F0FE;\n",
              "      border: none;\n",
              "      border-radius: 50%;\n",
              "      cursor: pointer;\n",
              "      display: none;\n",
              "      fill: #1967D2;\n",
              "      height: 32px;\n",
              "      padding: 0 0 0 0;\n",
              "      width: 32px;\n",
              "    }\n",
              "\n",
              "    .colab-df-convert:hover {\n",
              "      background-color: #E2EBFA;\n",
              "      box-shadow: 0px 1px 2px rgba(60, 64, 67, 0.3), 0px 1px 3px 1px rgba(60, 64, 67, 0.15);\n",
              "      fill: #174EA6;\n",
              "    }\n",
              "\n",
              "    [theme=dark] .colab-df-convert {\n",
              "      background-color: #3B4455;\n",
              "      fill: #D2E3FC;\n",
              "    }\n",
              "\n",
              "    [theme=dark] .colab-df-convert:hover {\n",
              "      background-color: #434B5C;\n",
              "      box-shadow: 0px 1px 3px 1px rgba(0, 0, 0, 0.15);\n",
              "      filter: drop-shadow(0px 1px 2px rgba(0, 0, 0, 0.3));\n",
              "      fill: #FFFFFF;\n",
              "    }\n",
              "  </style>\n",
              "\n",
              "      <script>\n",
              "        const buttonEl =\n",
              "          document.querySelector('#df-102bce93-1a31-44fa-858f-ce2ab0fd2337 button.colab-df-convert');\n",
              "        buttonEl.style.display =\n",
              "          google.colab.kernel.accessAllowed ? 'block' : 'none';\n",
              "\n",
              "        async function convertToInteractive(key) {\n",
              "          const element = document.querySelector('#df-102bce93-1a31-44fa-858f-ce2ab0fd2337');\n",
              "          const dataTable =\n",
              "            await google.colab.kernel.invokeFunction('convertToInteractive',\n",
              "                                                     [key], {});\n",
              "          if (!dataTable) return;\n",
              "\n",
              "          const docLinkHtml = 'Like what you see? Visit the ' +\n",
              "            '<a target=\"_blank\" href=https://colab.research.google.com/notebooks/data_table.ipynb>data table notebook</a>'\n",
              "            + ' to learn more about interactive tables.';\n",
              "          element.innerHTML = '';\n",
              "          dataTable['output_type'] = 'display_data';\n",
              "          await google.colab.output.renderOutput(dataTable, element);\n",
              "          const docLink = document.createElement('div');\n",
              "          docLink.innerHTML = docLinkHtml;\n",
              "          element.appendChild(docLink);\n",
              "        }\n",
              "      </script>\n",
              "    </div>\n",
              "  </div>\n",
              "  "
            ],
            "text/plain": [
              "    HousePrice  HsPrc ($10,000)  CrimeRate  MilesPhila  PopChg      Name  \\\n",
              "62       96200             9.62      366.1         0.0     4.8  Phila,CC   \n",
              "\n",
              "   County  \n",
              "62  Phila  "
            ]
          },
          "execution_count": 10,
          "metadata": {},
          "output_type": "execute_result"
        }
      ],
      "source": [
        "df_sales.loc[df_sales['MilesPhila'] == 0.0]"
      ]
    },
    {
      "cell_type": "code",
      "execution_count": 11,
      "metadata": {
        "id": "U7KMOCxMJohP"
      },
      "outputs": [],
      "source": [
        "df_sales_cc = df_sales.loc[df_sales['MilesPhila'] != 0.0]"
      ]
    },
    {
      "cell_type": "code",
      "execution_count": 12,
      "metadata": {
        "colab": {
          "base_uri": "https://localhost:8080/",
          "height": 542
        },
        "id": "kbP0Y16rJzoL",
        "outputId": "f5f314b8-7642-43af-8230-65e65772eba6"
      },
      "outputs": [
        {
          "data": {
            "text/html": [
              "<html>\n",
              "<head><meta charset=\"utf-8\" /></head>\n",
              "<body>\n",
              "    <div>            <script src=\"https://cdnjs.cloudflare.com/ajax/libs/mathjax/2.7.5/MathJax.js?config=TeX-AMS-MML_SVG\"></script><script type=\"text/javascript\">if (window.MathJax && window.MathJax.Hub && window.MathJax.Hub.Config) {window.MathJax.Hub.Config({SVG: {font: \"STIX-Web\"}});}</script>                <script type=\"text/javascript\">window.PlotlyConfig = {MathJaxConfig: 'local'};</script>\n",
              "        <script src=\"https://cdn.plot.ly/plotly-2.18.2.min.js\"></script>                <div id=\"b4fabf1d-3bde-448b-a38f-6a0cc4050cfe\" class=\"plotly-graph-div\" style=\"height:525px; width:100%;\"></div>            <script type=\"text/javascript\">                                    window.PLOTLYENV=window.PLOTLYENV || {};                                    if (document.getElementById(\"b4fabf1d-3bde-448b-a38f-6a0cc4050cfe\")) {                    Plotly.newPlot(                        \"b4fabf1d-3bde-448b-a38f-6a0cc4050cfe\",                        [{\"hovertemplate\":\"CrimeRate=%{x}<br>HousePrice=%{y}<extra></extra>\",\"legendgroup\":\"\",\"marker\":{\"color\":\"#636efa\",\"symbol\":\"circle\"},\"mode\":\"markers\",\"name\":\"\",\"orientation\":\"v\",\"showlegend\":false,\"x\":[29.7,24.1,19.5,49.4,54.1,48.6,30.8,10.8,20.2,20.4,17.3,50.3,34.2,33.7,45.7,22.3,48.1,19.4,71.9,45.1,31.3,24.9,27.2,17.7,29.0,21.4,28.6,29.3,17.5,16.5,17.8,17.3,31.2,14.5,15.7,28.6,20.8,29.3,19.3,39.5,13.0,24.1,38.0,40.1,36.1,26.6,25.1,14.6,18.2,15.3,15.2,17.4,73.3,7.1,12.5,45.8,44.9,65.0,49.9,54.8,53.5,69.9,24.6,58.6,53.2,17.4,15.5,14.5,24.1,21.2,9.8,29.9,7.2,19.4,41.1,11.2,21.2,42.8,9.4,61.7,19.4,6.6,15.9,18.8,13.2,34.5,22.1,22.1,71.9,31.9,44.6,28.6,24.0,13.8,29.9,9.9,22.6,13.0],\"xaxis\":\"x\",\"y\":[140463,113033,124186,110490,79124,92634,89246,195145,297342,264298,134342,147600,77370,170822,40642,71359,104923,190317,215512,178105,131025,149844,170556,280969,114233,74502,475112,97167,114572,436348,389302,122392,130436,272790,194435,299621,210884,112471,93738,121024,156035,185404,126160,143072,96769,94014,118214,157446,150283,153842,197214,206127,71981,169401,99843,60000,28000,60000,61800,38000,38000,42000,103087,147720,78175,92215,271804,119566,100231,95831,229711,74308,259506,159573,147176,205732,215783,116710,359112,189959,133198,242821,142811,200498,199065,93648,163001,436348,124478,168276,114157,130088,152624,174232,196515,232714,245920,130953],\"yaxis\":\"y\",\"type\":\"scatter\"}],                        {\"template\":{\"data\":{\"histogram2dcontour\":[{\"type\":\"histogram2dcontour\",\"colorbar\":{\"outlinewidth\":0,\"ticks\":\"\"},\"colorscale\":[[0.0,\"#0d0887\"],[0.1111111111111111,\"#46039f\"],[0.2222222222222222,\"#7201a8\"],[0.3333333333333333,\"#9c179e\"],[0.4444444444444444,\"#bd3786\"],[0.5555555555555556,\"#d8576b\"],[0.6666666666666666,\"#ed7953\"],[0.7777777777777778,\"#fb9f3a\"],[0.8888888888888888,\"#fdca26\"],[1.0,\"#f0f921\"]]}],\"choropleth\":[{\"type\":\"choropleth\",\"colorbar\":{\"outlinewidth\":0,\"ticks\":\"\"}}],\"histogram2d\":[{\"type\":\"histogram2d\",\"colorbar\":{\"outlinewidth\":0,\"ticks\":\"\"},\"colorscale\":[[0.0,\"#0d0887\"],[0.1111111111111111,\"#46039f\"],[0.2222222222222222,\"#7201a8\"],[0.3333333333333333,\"#9c179e\"],[0.4444444444444444,\"#bd3786\"],[0.5555555555555556,\"#d8576b\"],[0.6666666666666666,\"#ed7953\"],[0.7777777777777778,\"#fb9f3a\"],[0.8888888888888888,\"#fdca26\"],[1.0,\"#f0f921\"]]}],\"heatmap\":[{\"type\":\"heatmap\",\"colorbar\":{\"outlinewidth\":0,\"ticks\":\"\"},\"colorscale\":[[0.0,\"#0d0887\"],[0.1111111111111111,\"#46039f\"],[0.2222222222222222,\"#7201a8\"],[0.3333333333333333,\"#9c179e\"],[0.4444444444444444,\"#bd3786\"],[0.5555555555555556,\"#d8576b\"],[0.6666666666666666,\"#ed7953\"],[0.7777777777777778,\"#fb9f3a\"],[0.8888888888888888,\"#fdca26\"],[1.0,\"#f0f921\"]]}],\"heatmapgl\":[{\"type\":\"heatmapgl\",\"colorbar\":{\"outlinewidth\":0,\"ticks\":\"\"},\"colorscale\":[[0.0,\"#0d0887\"],[0.1111111111111111,\"#46039f\"],[0.2222222222222222,\"#7201a8\"],[0.3333333333333333,\"#9c179e\"],[0.4444444444444444,\"#bd3786\"],[0.5555555555555556,\"#d8576b\"],[0.6666666666666666,\"#ed7953\"],[0.7777777777777778,\"#fb9f3a\"],[0.8888888888888888,\"#fdca26\"],[1.0,\"#f0f921\"]]}],\"contourcarpet\":[{\"type\":\"contourcarpet\",\"colorbar\":{\"outlinewidth\":0,\"ticks\":\"\"}}],\"contour\":[{\"type\":\"contour\",\"colorbar\":{\"outlinewidth\":0,\"ticks\":\"\"},\"colorscale\":[[0.0,\"#0d0887\"],[0.1111111111111111,\"#46039f\"],[0.2222222222222222,\"#7201a8\"],[0.3333333333333333,\"#9c179e\"],[0.4444444444444444,\"#bd3786\"],[0.5555555555555556,\"#d8576b\"],[0.6666666666666666,\"#ed7953\"],[0.7777777777777778,\"#fb9f3a\"],[0.8888888888888888,\"#fdca26\"],[1.0,\"#f0f921\"]]}],\"surface\":[{\"type\":\"surface\",\"colorbar\":{\"outlinewidth\":0,\"ticks\":\"\"},\"colorscale\":[[0.0,\"#0d0887\"],[0.1111111111111111,\"#46039f\"],[0.2222222222222222,\"#7201a8\"],[0.3333333333333333,\"#9c179e\"],[0.4444444444444444,\"#bd3786\"],[0.5555555555555556,\"#d8576b\"],[0.6666666666666666,\"#ed7953\"],[0.7777777777777778,\"#fb9f3a\"],[0.8888888888888888,\"#fdca26\"],[1.0,\"#f0f921\"]]}],\"mesh3d\":[{\"type\":\"mesh3d\",\"colorbar\":{\"outlinewidth\":0,\"ticks\":\"\"}}],\"scatter\":[{\"fillpattern\":{\"fillmode\":\"overlay\",\"size\":10,\"solidity\":0.2},\"type\":\"scatter\"}],\"parcoords\":[{\"type\":\"parcoords\",\"line\":{\"colorbar\":{\"outlinewidth\":0,\"ticks\":\"\"}}}],\"scatterpolargl\":[{\"type\":\"scatterpolargl\",\"marker\":{\"colorbar\":{\"outlinewidth\":0,\"ticks\":\"\"}}}],\"bar\":[{\"error_x\":{\"color\":\"#2a3f5f\"},\"error_y\":{\"color\":\"#2a3f5f\"},\"marker\":{\"line\":{\"color\":\"#E5ECF6\",\"width\":0.5},\"pattern\":{\"fillmode\":\"overlay\",\"size\":10,\"solidity\":0.2}},\"type\":\"bar\"}],\"scattergeo\":[{\"type\":\"scattergeo\",\"marker\":{\"colorbar\":{\"outlinewidth\":0,\"ticks\":\"\"}}}],\"scatterpolar\":[{\"type\":\"scatterpolar\",\"marker\":{\"colorbar\":{\"outlinewidth\":0,\"ticks\":\"\"}}}],\"histogram\":[{\"marker\":{\"pattern\":{\"fillmode\":\"overlay\",\"size\":10,\"solidity\":0.2}},\"type\":\"histogram\"}],\"scattergl\":[{\"type\":\"scattergl\",\"marker\":{\"colorbar\":{\"outlinewidth\":0,\"ticks\":\"\"}}}],\"scatter3d\":[{\"type\":\"scatter3d\",\"line\":{\"colorbar\":{\"outlinewidth\":0,\"ticks\":\"\"}},\"marker\":{\"colorbar\":{\"outlinewidth\":0,\"ticks\":\"\"}}}],\"scattermapbox\":[{\"type\":\"scattermapbox\",\"marker\":{\"colorbar\":{\"outlinewidth\":0,\"ticks\":\"\"}}}],\"scatterternary\":[{\"type\":\"scatterternary\",\"marker\":{\"colorbar\":{\"outlinewidth\":0,\"ticks\":\"\"}}}],\"scattercarpet\":[{\"type\":\"scattercarpet\",\"marker\":{\"colorbar\":{\"outlinewidth\":0,\"ticks\":\"\"}}}],\"carpet\":[{\"aaxis\":{\"endlinecolor\":\"#2a3f5f\",\"gridcolor\":\"white\",\"linecolor\":\"white\",\"minorgridcolor\":\"white\",\"startlinecolor\":\"#2a3f5f\"},\"baxis\":{\"endlinecolor\":\"#2a3f5f\",\"gridcolor\":\"white\",\"linecolor\":\"white\",\"minorgridcolor\":\"white\",\"startlinecolor\":\"#2a3f5f\"},\"type\":\"carpet\"}],\"table\":[{\"cells\":{\"fill\":{\"color\":\"#EBF0F8\"},\"line\":{\"color\":\"white\"}},\"header\":{\"fill\":{\"color\":\"#C8D4E3\"},\"line\":{\"color\":\"white\"}},\"type\":\"table\"}],\"barpolar\":[{\"marker\":{\"line\":{\"color\":\"#E5ECF6\",\"width\":0.5},\"pattern\":{\"fillmode\":\"overlay\",\"size\":10,\"solidity\":0.2}},\"type\":\"barpolar\"}],\"pie\":[{\"automargin\":true,\"type\":\"pie\"}]},\"layout\":{\"autotypenumbers\":\"strict\",\"colorway\":[\"#636efa\",\"#EF553B\",\"#00cc96\",\"#ab63fa\",\"#FFA15A\",\"#19d3f3\",\"#FF6692\",\"#B6E880\",\"#FF97FF\",\"#FECB52\"],\"font\":{\"color\":\"#2a3f5f\"},\"hovermode\":\"closest\",\"hoverlabel\":{\"align\":\"left\"},\"paper_bgcolor\":\"white\",\"plot_bgcolor\":\"#E5ECF6\",\"polar\":{\"bgcolor\":\"#E5ECF6\",\"angularaxis\":{\"gridcolor\":\"white\",\"linecolor\":\"white\",\"ticks\":\"\"},\"radialaxis\":{\"gridcolor\":\"white\",\"linecolor\":\"white\",\"ticks\":\"\"}},\"ternary\":{\"bgcolor\":\"#E5ECF6\",\"aaxis\":{\"gridcolor\":\"white\",\"linecolor\":\"white\",\"ticks\":\"\"},\"baxis\":{\"gridcolor\":\"white\",\"linecolor\":\"white\",\"ticks\":\"\"},\"caxis\":{\"gridcolor\":\"white\",\"linecolor\":\"white\",\"ticks\":\"\"}},\"coloraxis\":{\"colorbar\":{\"outlinewidth\":0,\"ticks\":\"\"}},\"colorscale\":{\"sequential\":[[0.0,\"#0d0887\"],[0.1111111111111111,\"#46039f\"],[0.2222222222222222,\"#7201a8\"],[0.3333333333333333,\"#9c179e\"],[0.4444444444444444,\"#bd3786\"],[0.5555555555555556,\"#d8576b\"],[0.6666666666666666,\"#ed7953\"],[0.7777777777777778,\"#fb9f3a\"],[0.8888888888888888,\"#fdca26\"],[1.0,\"#f0f921\"]],\"sequentialminus\":[[0.0,\"#0d0887\"],[0.1111111111111111,\"#46039f\"],[0.2222222222222222,\"#7201a8\"],[0.3333333333333333,\"#9c179e\"],[0.4444444444444444,\"#bd3786\"],[0.5555555555555556,\"#d8576b\"],[0.6666666666666666,\"#ed7953\"],[0.7777777777777778,\"#fb9f3a\"],[0.8888888888888888,\"#fdca26\"],[1.0,\"#f0f921\"]],\"diverging\":[[0,\"#8e0152\"],[0.1,\"#c51b7d\"],[0.2,\"#de77ae\"],[0.3,\"#f1b6da\"],[0.4,\"#fde0ef\"],[0.5,\"#f7f7f7\"],[0.6,\"#e6f5d0\"],[0.7,\"#b8e186\"],[0.8,\"#7fbc41\"],[0.9,\"#4d9221\"],[1,\"#276419\"]]},\"xaxis\":{\"gridcolor\":\"white\",\"linecolor\":\"white\",\"ticks\":\"\",\"title\":{\"standoff\":15},\"zerolinecolor\":\"white\",\"automargin\":true,\"zerolinewidth\":2},\"yaxis\":{\"gridcolor\":\"white\",\"linecolor\":\"white\",\"ticks\":\"\",\"title\":{\"standoff\":15},\"zerolinecolor\":\"white\",\"automargin\":true,\"zerolinewidth\":2},\"scene\":{\"xaxis\":{\"backgroundcolor\":\"#E5ECF6\",\"gridcolor\":\"white\",\"linecolor\":\"white\",\"showbackground\":true,\"ticks\":\"\",\"zerolinecolor\":\"white\",\"gridwidth\":2},\"yaxis\":{\"backgroundcolor\":\"#E5ECF6\",\"gridcolor\":\"white\",\"linecolor\":\"white\",\"showbackground\":true,\"ticks\":\"\",\"zerolinecolor\":\"white\",\"gridwidth\":2},\"zaxis\":{\"backgroundcolor\":\"#E5ECF6\",\"gridcolor\":\"white\",\"linecolor\":\"white\",\"showbackground\":true,\"ticks\":\"\",\"zerolinecolor\":\"white\",\"gridwidth\":2}},\"shapedefaults\":{\"line\":{\"color\":\"#2a3f5f\"}},\"annotationdefaults\":{\"arrowcolor\":\"#2a3f5f\",\"arrowhead\":0,\"arrowwidth\":1},\"geo\":{\"bgcolor\":\"white\",\"landcolor\":\"#E5ECF6\",\"subunitcolor\":\"white\",\"showland\":true,\"showlakes\":true,\"lakecolor\":\"white\"},\"title\":{\"x\":0.05},\"mapbox\":{\"style\":\"light\"}}},\"xaxis\":{\"anchor\":\"y\",\"domain\":[0.0,1.0],\"title\":{\"text\":\"CrimeRate\"}},\"yaxis\":{\"anchor\":\"x\",\"domain\":[0.0,1.0],\"title\":{\"text\":\"HousePrice\"}},\"legend\":{\"tracegroupgap\":0},\"margin\":{\"t\":60}},                        {\"responsive\": true}                    ).then(function(){\n",
              "                            \n",
              "var gd = document.getElementById('b4fabf1d-3bde-448b-a38f-6a0cc4050cfe');\n",
              "var x = new MutationObserver(function (mutations, observer) {{\n",
              "        var display = window.getComputedStyle(gd).display;\n",
              "        if (!display || display === 'none') {{\n",
              "            console.log([gd, 'removed!']);\n",
              "            Plotly.purge(gd);\n",
              "            observer.disconnect();\n",
              "        }}\n",
              "}});\n",
              "\n",
              "// Listen for the removal of the full notebook cells\n",
              "var notebookContainer = gd.closest('#notebook-container');\n",
              "if (notebookContainer) {{\n",
              "    x.observe(notebookContainer, {childList: true});\n",
              "}}\n",
              "\n",
              "// Listen for the clearing of the current output cell\n",
              "var outputEl = gd.closest('.output');\n",
              "if (outputEl) {{\n",
              "    x.observe(outputEl, {childList: true});\n",
              "}}\n",
              "\n",
              "                        })                };                            </script>        </div>\n",
              "</body>\n",
              "</html>"
            ]
          },
          "metadata": {},
          "output_type": "display_data"
        }
      ],
      "source": [
        "fig = px.scatter(df_sales_cc, x='CrimeRate', y='HousePrice')\n",
        "fig.show()"
      ]
    },
    {
      "cell_type": "code",
      "execution_count": 13,
      "metadata": {
        "id": "uV3-Ea2LLMnd"
      },
      "outputs": [],
      "source": [
        "#Vemos que ahora los datos ya están mucho mas cercanos. "
      ]
    },
    {
      "cell_type": "markdown",
      "metadata": {
        "id": "JphOkOawLhDM"
      },
      "source": [
        "### Reentrenamos el modelo"
      ]
    },
    {
      "cell_type": "code",
      "execution_count": 14,
      "metadata": {
        "id": "Y5FhQvipLdFQ"
      },
      "outputs": [],
      "source": [
        "X = df_sales_cc.CrimeRate.values.reshape(-1,1)\n",
        "Y = df_sales_cc.HousePrice\n",
        "\n",
        "#Creamos un objeto de la clase linear_regression\n",
        "model_crime_cc = LinearRegression()\n",
        "\n",
        "#Entrenamos con el training set.\n",
        "model_crime_cc.fit(X, Y)\n",
        "\n",
        "#Predecimos la salida del modelo pasandole el conjunto de test.\n",
        "predictions_cc = model_crime_cc.predict(X)\n",
        "\n",
        "\n"
      ]
    },
    {
      "cell_type": "code",
      "execution_count": 15,
      "metadata": {
        "colab": {
          "base_uri": "https://localhost:8080/",
          "height": 465
        },
        "id": "73-2AHk3LnXT",
        "outputId": "0de3f919-0393-408f-a3ff-41f61695b73d"
      },
      "outputs": [
        {
          "data": {
            "text/plain": [
              "[<matplotlib.lines.Line2D at 0x7f10006b8370>,\n",
              " <matplotlib.lines.Line2D at 0x7f10006b8430>]"
            ]
          },
          "execution_count": 15,
          "metadata": {},
          "output_type": "execute_result"
        },
        {
          "data": {
            "image/png": "[encoded data removed]",
            "text/plain": [
              "<Figure size 640x480 with 1 Axes>"
            ]
          },
          "metadata": {},
          "output_type": "display_data"
        }
      ],
      "source": [
        "plt.plot(df_sales_cc['CrimeRate'], df_sales_cc['HousePrice'], '.',\n",
        "         df_sales_cc['CrimeRate'], predictions_cc, '-'\n",
        "         )"
      ]
    },
    {
      "cell_type": "markdown",
      "metadata": {
        "id": "1gPy1nZgL4Jm"
      },
      "source": [
        "Vemos que hay un mucho mejor ajuste del modelo a los datos. Pero para ser más explicitos, vamos a comparar los coeficientes entre los dos modelos"
      ]
    },
    {
      "cell_type": "markdown",
      "metadata": {
        "id": "nqTJ_XghMS_D"
      },
      "source": [
        "## Comparamos los coeficientes para el modelo con todos los datos y el modelo sin el valor del centro"
      ]
    },
    {
      "cell_type": "markdown",
      "metadata": {
        "id": "HGggbmwjMf8K"
      },
      "source": [
        "Visualmente, el ajuste parece diferente, pero vamos a cuantificarlo examinando los coeficientes estimados de nuestro ajuste original y el del conjunto de datos modificado con el centro de la ciudad eliminado."
      ]
    },
    {
      "cell_type": "code",
      "execution_count": 16,
      "metadata": {
        "colab": {
          "base_uri": "https://localhost:8080/"
        },
        "id": "ZKnbbLPcLv8k",
        "outputId": "779bff5b-7276-4a6d-d8a5-09996720efc9"
      },
      "outputs": [
        {
          "name": "stdout",
          "output_type": "stream",
          "text": [
            "El coeficiente para CrimeRate es:  [-576.90812768]\n",
            "El intercept value es  176629.40810695427\n"
          ]
        }
      ],
      "source": [
        "print(\"El coeficiente para CrimeRate es: \", model_crime.coef_)\n",
        "print(\"El intercept value es \", model_crime.intercept_)"
      ]
    },
    {
      "cell_type": "code",
      "execution_count": 17,
      "metadata": {
        "colab": {
          "base_uri": "https://localhost:8080/"
        },
        "id": "SwFKCmUEMmKh",
        "outputId": "4963fe8e-8f28-4ef6-ecf2-7e993574b526"
      },
      "outputs": [
        {
          "name": "stdout",
          "output_type": "stream",
          "text": [
            "El coeficiente para CrimeRate es:  [-2288.68942995]\n",
            "El intercept value es  225233.5518390038\n"
          ]
        }
      ],
      "source": [
        "print(\"El coeficiente para CrimeRate es: \", model_crime_cc.coef_)\n",
        "print(\"El intercept value es \", model_crime_cc.intercept_)"
      ]
    },
    {
      "cell_type": "markdown",
      "metadata": {
        "id": "HHL0pJW6Nk_Y"
      },
      "source": [
        "Cuando la vivienda del centro de la ciudad, teníamos que el precio de la vivienda decrece una media de 577$ por cada unidad que incrementa la tasa de crimen.- \n",
        "\n",
        "\n",
        "En cambio, cuando quitamos únicamente una observación, el precio de la viviena decrece 2287$ por cada unidad que incrementa la tasa de crimen. Es una diferencia significativa enorme por un solo punto."
      ]
    },
    {
      "cell_type": "markdown",
      "metadata": {
        "id": "MwpJKBhGOeVt"
      },
      "source": [
        "### Puntos de Gran influencia: \n",
        "\n",
        "Se dice que el centro de la ciudad es un punto de \"alto apalancamiento\" porque se encuentra en un valor extremo de x donde no hay otras observaciones.  Como resultado, recordando la solución de forma cerrada para la regresión simple, este punto tiene el *potencial* de cambiar drásticamente la línea de mínimos cuadrados ya que el centro de la masa x está fuertemente influenciado por este punto y la línea de mínimos cuadrados intentará ajustarse cerca de ese punto 'anómalo' (en x).  Si un punto de alta influencia sigue la tendencia de los otros datos, esto podría no tener mucho efecto.  Por otro lado, si este punto difiere de alguna manera, puede ser muy influyente en el ajuste resultante.\n",
        "\n",
        "### Observaciones influyentes:  \n",
        "Una observación influyente es aquella en la que la eliminación del punto cambia significativamente el ajuste.  Como se ha comentado anteriormente, los puntos de apalancamiento alto son buenos candidatos para ser observaciones influyentes, pero no tienen por qué serlo.  Otras observaciones que *no* son puntos de apalancamiento también pueden ser observaciones influyentes (por ejemplo, fuertemente periféricas en y incluso si x es un valor típico)."
      ]
    },
    {
      "cell_type": "markdown",
      "metadata": {
        "id": "BCi_qqbGH8O7"
      },
      "source": [
        "## Visualizando los dos modelos\n",
        "\n",
        "Confirmamos los cálculos anteriores observando los gráficos. La línea naranja es el modelo entrenado eliminando Center City, y la línea verde es el modelo entrenado con todos los datos. Obsérvese que la línea verde es mucho más pronunciada, ya que la caída del valor es mucho mayor según este modelo."
      ]
    },
    {
      "cell_type": "code",
      "execution_count": 18,
      "metadata": {
        "colab": {
          "base_uri": "https://localhost:8080/",
          "height": 482
        },
        "id": "gqQ7bEt0NWfv",
        "outputId": "89952cb9-ced5-47c7-ffad-61dc3c69acf4"
      },
      "outputs": [
        {
          "data": {
            "text/plain": [
              "[<matplotlib.lines.Line2D at 0x7f1000626c10>,\n",
              " <matplotlib.lines.Line2D at 0x7f1000626be0>,\n",
              " <matplotlib.lines.Line2D at 0x7f1000626df0>]"
            ]
          },
          "execution_count": 18,
          "metadata": {},
          "output_type": "execute_result"
        },
        {
          "data": {
            "image/png": "[encoded data removed]",
            "text/plain": [
              "<Figure size 640x480 with 1 Axes>"
            ]
          },
          "metadata": {},
          "output_type": "display_data"
        }
      ],
      "source": [
        "plt.plot(df_sales_cc['CrimeRate'], df_sales_cc['HousePrice'], '.',\n",
        "         df_sales_cc['CrimeRate'], model_crime.predict(df_sales_cc.CrimeRate.values.reshape(-1,1)), '-',\n",
        "         df_sales_cc['CrimeRate'], predictions_cc, '-'\n",
        "         )"
      ]
    },
    {
      "cell_type": "markdown",
      "metadata": {
        "id": "VXzyP__KMYe9"
      },
      "source": [
        "## Eliminamos los valores atípicos de los barrios de alto valor y rehacemos el análisis.\n",
        "\n",
        "Basándonos el ejemplo anterior, cabe preguntarse si las ciudades periféricas de alto valor están influyendo mucho en el ajuste.  Eliminémos los 5 valores más altos y veremos qué ocurre"
      ]
    },
    {
      "cell_type": "code",
      "execution_count": 19,
      "metadata": {
        "id": "MS9g9cLgJ3wW"
      },
      "outputs": [],
      "source": [
        "# Eliminar los barrios atípicos de alto valor y rehacer el análisis.\n",
        "\n",
        "df_sales_out = df_sales_cc[df_sales_cc['HousePrice'] < 350000]\n",
        "\n",
        "X = df_sales_out.CrimeRate.values.reshape(-1,1)\n",
        "Y = df_sales_out.HousePrice\n",
        "\n",
        "#Creamos un objeto de la clase linear_regression\n",
        "model_crime_out = LinearRegression()\n",
        "\n",
        "#Entrenamos con el training set.\n",
        "model_crime_out.fit(X, Y)\n",
        "\n",
        "#Predecimos la salida del modelo pasandole el conjunto de test.\n",
        "predictions_out = model_crime_out.predict(X)"
      ]
    },
    {
      "cell_type": "code",
      "execution_count": 22,
      "metadata": {
        "colab": {
          "base_uri": "https://localhost:8080/",
          "height": 465
        },
        "id": "g4i7yhX4R0CR",
        "outputId": "be7ae077-fc75-41e5-f523-68497b1cad53"
      },
      "outputs": [
        {
          "data": {
            "text/plain": [
              "[<matplotlib.lines.Line2D at 0x7f0fffa89b20>,\n",
              " <matplotlib.lines.Line2D at 0x7f0fffa89be0>]"
            ]
          },
          "execution_count": 22,
          "metadata": {},
          "output_type": "execute_result"
        },
        {
          "data": {
            "image/png": "[encoded data removed]",
            "text/plain": [
              "<Figure size 640x480 with 1 Axes>"
            ]
          },
          "metadata": {},
          "output_type": "display_data"
        }
      ],
      "source": [
        "plt.plot(df_sales_out['CrimeRate'], df_sales_out['HousePrice'], '.',\n",
        "         df_sales_out['CrimeRate'], predictions_out, '-'\n",
        "         )"
      ]
    },
    {
      "cell_type": "markdown",
      "metadata": {
        "id": "qZoCqpx1O4Hz"
      },
      "source": [
        "### ¿Cambian mucho los coeficientes?"
      ]
    },
    {
      "cell_type": "code",
      "execution_count": 24,
      "metadata": {
        "colab": {
          "base_uri": "https://localhost:8080/"
        },
        "id": "vk7V5askO1_i",
        "outputId": "12244554-bdad-488d-9ef6-8e01a030a07e"
      },
      "outputs": [
        {
          "name": "stdout",
          "output_type": "stream",
          "text": [
            "El coeficiente con los outliers es:  [-2288.68942995]\n",
            "El intercept con outliers es es  225233.5518390038\n",
            "El coeficiente con los outliers es:  [-1838.56264859]\n",
            "El intercept con outliers es es  199098.85266980447\n"
          ]
        }
      ],
      "source": [
        "print(\"El coeficiente con los outliers es: \", model_crime_cc.coef_)\n",
        "print(\"El intercept con outliers es es \", model_crime_cc.intercept_)\n",
        "# de out\n",
        "print(\"El coeficiente con los outliers es: \", model_crime_out.coef_)\n",
        "print(\"El intercept con outliers es es \", model_crime_out.intercept_)"
      ]
    }
  ],
  "metadata": {
    "colab": {
      "provenance": []
    },
    "kernelspec": {
      "display_name": "Python 3",
      "name": "python3"
    },
    "language_info": {
      "name": "python"
    }
  },
  "nbformat": 4,
  "nbformat_minor": 0
}
