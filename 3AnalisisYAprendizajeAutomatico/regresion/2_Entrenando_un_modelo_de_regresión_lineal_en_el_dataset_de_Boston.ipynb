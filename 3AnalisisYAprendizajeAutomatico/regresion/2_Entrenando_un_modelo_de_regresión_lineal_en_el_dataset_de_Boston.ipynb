{
  "cells": [
    {
      "cell_type": "markdown",
      "metadata": {
        "id": "mOGz2_pF9-Bj"
      },
      "source": [
        "# Predicción del precio de la Vivienda (Una variable)\n",
        "\n",
        "En el siguiente notebook utilizarás datos sobre la venta de casas en Seattle, para predecir los precios de las casas utilizando una regresión lineal simple (Una sola característica). Tendrás que hacer:\n",
        "\n",
        "\n",
        "\n",
        "*   Escribir una función en python que devuelva los parámetros de la regresión lineal simple\n",
        "*   Escribir una función para hacer predicciones (salida) dado una variable de entrada.\n",
        "*  Utilizando la regresión, predecir la entrada dada la salida.\n",
        "*  Comparar dos modelos para predecir el precio de la vivienda\n",
        "\n",
        "El dataset puedes encontrarlo aquí:\n",
        "\n",
        "https://drive.google.com/file/d/1Bx5evxrcxmLJnliTfbS0z2QmhopbboUG/view?usp=share_link\n",
        "\n",
        "Archivos:\n",
        "\n",
        "* **kc_house_data.csv**\n",
        "* **kc_house_train_data.csv**\n",
        "* **kc_house_test_data.csv**\n",
        "\n",
        "\n",
        "\n",
        "\n"
      ]
    },
    {
      "cell_type": "code",
      "execution_count": 28,
      "metadata": {
        "id": "F4latCLyjoBE"
      },
      "outputs": [],
      "source": [
        "#Importamos las librearías que vamos a necesitar\n",
        "import pandas as pd\n",
        "from sklearn.linear_model import LinearRegression\n",
        "\n"
      ]
    },
    {
      "cell_type": "markdown",
      "metadata": {
        "id": "a8dVHq6dFObY"
      },
      "source": [
        "## 1 - Carga los 3 csv utilizando pandas\n",
        "\n",
        "**IMPORTANTE**: utiliza los siguientes tipos para las columnas al importar los archivos csv. De lo contrario, es posible que no se importen correctamente: \n",
        "\n",
        "\n",
        "{'bathrooms':float, 'waterfront':int, \n",
        "              'sqft_above':int, 'sqft_living15':float, 'grade':int, \n",
        "             'yr_renovated':int, 'price':float, 'bedrooms':float, \n",
        "             'zipcode':str, 'long':float, 'sqft_lot15':float, \n",
        "             'sqft_living':float, 'floors':str, 'condition':int, 'lat':float, 'date':str, \n",
        "             'sqft_basement':int, 'yr_built':int, 'id':str, 'sqft_lot':int, 'view':int})\n",
        "\n",
        "\n",
        "\n",
        "\n"
      ]
    },
    {
      "cell_type": "code",
      "execution_count": 29,
      "metadata": {
        "id": "88uK-9WmFGOP"
      },
      "outputs": [],
      "source": [
        "## 1 - Carga los 3 csv utilizando pandas en 3 datasets distintos"
      ]
    },
    {
      "cell_type": "code",
      "execution_count": 30,
      "metadata": {
        "colab": {
          "base_uri": "https://localhost:8080/",
          "height": 487
        },
        "id": "Lm4YK_KmkknE",
        "outputId": "9987ea25-6e5a-4018-fe55-7f184b1a965f"
      },
      "outputs": [
        {
          "data": {
            "text/html": [
              "<div>\n",
              "<style scoped>\n",
              "    .dataframe tbody tr th:only-of-type {\n",
              "        vertical-align: middle;\n",
              "    }\n",
              "\n",
              "    .dataframe tbody tr th {\n",
              "        vertical-align: top;\n",
              "    }\n",
              "\n",
              "    .dataframe thead th {\n",
              "        text-align: right;\n",
              "    }\n",
              "</style>\n",
              "<table border=\"1\" class=\"dataframe\">\n",
              "  <thead>\n",
              "    <tr style=\"text-align: right;\">\n",
              "      <th></th>\n",
              "      <th>id</th>\n",
              "      <th>date</th>\n",
              "      <th>price</th>\n",
              "      <th>bedrooms</th>\n",
              "      <th>bathrooms</th>\n",
              "      <th>sqft_living</th>\n",
              "      <th>sqft_lot</th>\n",
              "      <th>floors</th>\n",
              "      <th>waterfront</th>\n",
              "      <th>view</th>\n",
              "      <th>...</th>\n",
              "      <th>grade</th>\n",
              "      <th>sqft_above</th>\n",
              "      <th>sqft_basement</th>\n",
              "      <th>yr_built</th>\n",
              "      <th>yr_renovated</th>\n",
              "      <th>zipcode</th>\n",
              "      <th>lat</th>\n",
              "      <th>long</th>\n",
              "      <th>sqft_living15</th>\n",
              "      <th>sqft_lot15</th>\n",
              "    </tr>\n",
              "  </thead>\n",
              "  <tbody>\n",
              "    <tr>\n",
              "      <th>0</th>\n",
              "      <td>7129300520</td>\n",
              "      <td>20141013T000000</td>\n",
              "      <td>221900.0</td>\n",
              "      <td>3</td>\n",
              "      <td>1.00</td>\n",
              "      <td>1180</td>\n",
              "      <td>5650</td>\n",
              "      <td>1.0</td>\n",
              "      <td>0</td>\n",
              "      <td>0</td>\n",
              "      <td>...</td>\n",
              "      <td>7</td>\n",
              "      <td>1180</td>\n",
              "      <td>0</td>\n",
              "      <td>1955</td>\n",
              "      <td>0</td>\n",
              "      <td>98178</td>\n",
              "      <td>47.5112</td>\n",
              "      <td>-122.257</td>\n",
              "      <td>1340</td>\n",
              "      <td>5650</td>\n",
              "    </tr>\n",
              "    <tr>\n",
              "      <th>1</th>\n",
              "      <td>6414100192</td>\n",
              "      <td>20141209T000000</td>\n",
              "      <td>538000.0</td>\n",
              "      <td>3</td>\n",
              "      <td>2.25</td>\n",
              "      <td>2570</td>\n",
              "      <td>7242</td>\n",
              "      <td>2.0</td>\n",
              "      <td>0</td>\n",
              "      <td>0</td>\n",
              "      <td>...</td>\n",
              "      <td>7</td>\n",
              "      <td>2170</td>\n",
              "      <td>400</td>\n",
              "      <td>1951</td>\n",
              "      <td>1991</td>\n",
              "      <td>98125</td>\n",
              "      <td>47.7210</td>\n",
              "      <td>-122.319</td>\n",
              "      <td>1690</td>\n",
              "      <td>7639</td>\n",
              "    </tr>\n",
              "    <tr>\n",
              "      <th>2</th>\n",
              "      <td>5631500400</td>\n",
              "      <td>20150225T000000</td>\n",
              "      <td>180000.0</td>\n",
              "      <td>2</td>\n",
              "      <td>1.00</td>\n",
              "      <td>770</td>\n",
              "      <td>10000</td>\n",
              "      <td>1.0</td>\n",
              "      <td>0</td>\n",
              "      <td>0</td>\n",
              "      <td>...</td>\n",
              "      <td>6</td>\n",
              "      <td>770</td>\n",
              "      <td>0</td>\n",
              "      <td>1933</td>\n",
              "      <td>0</td>\n",
              "      <td>98028</td>\n",
              "      <td>47.7379</td>\n",
              "      <td>-122.233</td>\n",
              "      <td>2720</td>\n",
              "      <td>8062</td>\n",
              "    </tr>\n",
              "    <tr>\n",
              "      <th>3</th>\n",
              "      <td>2487200875</td>\n",
              "      <td>20141209T000000</td>\n",
              "      <td>604000.0</td>\n",
              "      <td>4</td>\n",
              "      <td>3.00</td>\n",
              "      <td>1960</td>\n",
              "      <td>5000</td>\n",
              "      <td>1.0</td>\n",
              "      <td>0</td>\n",
              "      <td>0</td>\n",
              "      <td>...</td>\n",
              "      <td>7</td>\n",
              "      <td>1050</td>\n",
              "      <td>910</td>\n",
              "      <td>1965</td>\n",
              "      <td>0</td>\n",
              "      <td>98136</td>\n",
              "      <td>47.5208</td>\n",
              "      <td>-122.393</td>\n",
              "      <td>1360</td>\n",
              "      <td>5000</td>\n",
              "    </tr>\n",
              "    <tr>\n",
              "      <th>4</th>\n",
              "      <td>1954400510</td>\n",
              "      <td>20150218T000000</td>\n",
              "      <td>510000.0</td>\n",
              "      <td>3</td>\n",
              "      <td>2.00</td>\n",
              "      <td>1680</td>\n",
              "      <td>8080</td>\n",
              "      <td>1.0</td>\n",
              "      <td>0</td>\n",
              "      <td>0</td>\n",
              "      <td>...</td>\n",
              "      <td>8</td>\n",
              "      <td>1680</td>\n",
              "      <td>0</td>\n",
              "      <td>1987</td>\n",
              "      <td>0</td>\n",
              "      <td>98074</td>\n",
              "      <td>47.6168</td>\n",
              "      <td>-122.045</td>\n",
              "      <td>1800</td>\n",
              "      <td>7503</td>\n",
              "    </tr>\n",
              "    <tr>\n",
              "      <th>...</th>\n",
              "      <td>...</td>\n",
              "      <td>...</td>\n",
              "      <td>...</td>\n",
              "      <td>...</td>\n",
              "      <td>...</td>\n",
              "      <td>...</td>\n",
              "      <td>...</td>\n",
              "      <td>...</td>\n",
              "      <td>...</td>\n",
              "      <td>...</td>\n",
              "      <td>...</td>\n",
              "      <td>...</td>\n",
              "      <td>...</td>\n",
              "      <td>...</td>\n",
              "      <td>...</td>\n",
              "      <td>...</td>\n",
              "      <td>...</td>\n",
              "      <td>...</td>\n",
              "      <td>...</td>\n",
              "      <td>...</td>\n",
              "      <td>...</td>\n",
              "    </tr>\n",
              "    <tr>\n",
              "      <th>21608</th>\n",
              "      <td>263000018</td>\n",
              "      <td>20140521T000000</td>\n",
              "      <td>360000.0</td>\n",
              "      <td>3</td>\n",
              "      <td>2.50</td>\n",
              "      <td>1530</td>\n",
              "      <td>1131</td>\n",
              "      <td>3.0</td>\n",
              "      <td>0</td>\n",
              "      <td>0</td>\n",
              "      <td>...</td>\n",
              "      <td>8</td>\n",
              "      <td>1530</td>\n",
              "      <td>0</td>\n",
              "      <td>2009</td>\n",
              "      <td>0</td>\n",
              "      <td>98103</td>\n",
              "      <td>47.6993</td>\n",
              "      <td>-122.346</td>\n",
              "      <td>1530</td>\n",
              "      <td>1509</td>\n",
              "    </tr>\n",
              "    <tr>\n",
              "      <th>21609</th>\n",
              "      <td>6600060120</td>\n",
              "      <td>20150223T000000</td>\n",
              "      <td>400000.0</td>\n",
              "      <td>4</td>\n",
              "      <td>2.50</td>\n",
              "      <td>2310</td>\n",
              "      <td>5813</td>\n",
              "      <td>2.0</td>\n",
              "      <td>0</td>\n",
              "      <td>0</td>\n",
              "      <td>...</td>\n",
              "      <td>8</td>\n",
              "      <td>2310</td>\n",
              "      <td>0</td>\n",
              "      <td>2014</td>\n",
              "      <td>0</td>\n",
              "      <td>98146</td>\n",
              "      <td>47.5107</td>\n",
              "      <td>-122.362</td>\n",
              "      <td>1830</td>\n",
              "      <td>7200</td>\n",
              "    </tr>\n",
              "    <tr>\n",
              "      <th>21610</th>\n",
              "      <td>1523300141</td>\n",
              "      <td>20140623T000000</td>\n",
              "      <td>402101.0</td>\n",
              "      <td>2</td>\n",
              "      <td>0.75</td>\n",
              "      <td>1020</td>\n",
              "      <td>1350</td>\n",
              "      <td>2.0</td>\n",
              "      <td>0</td>\n",
              "      <td>0</td>\n",
              "      <td>...</td>\n",
              "      <td>7</td>\n",
              "      <td>1020</td>\n",
              "      <td>0</td>\n",
              "      <td>2009</td>\n",
              "      <td>0</td>\n",
              "      <td>98144</td>\n",
              "      <td>47.5944</td>\n",
              "      <td>-122.299</td>\n",
              "      <td>1020</td>\n",
              "      <td>2007</td>\n",
              "    </tr>\n",
              "    <tr>\n",
              "      <th>21611</th>\n",
              "      <td>291310100</td>\n",
              "      <td>20150116T000000</td>\n",
              "      <td>400000.0</td>\n",
              "      <td>3</td>\n",
              "      <td>2.50</td>\n",
              "      <td>1600</td>\n",
              "      <td>2388</td>\n",
              "      <td>2.0</td>\n",
              "      <td>0</td>\n",
              "      <td>0</td>\n",
              "      <td>...</td>\n",
              "      <td>8</td>\n",
              "      <td>1600</td>\n",
              "      <td>0</td>\n",
              "      <td>2004</td>\n",
              "      <td>0</td>\n",
              "      <td>98027</td>\n",
              "      <td>47.5345</td>\n",
              "      <td>-122.069</td>\n",
              "      <td>1410</td>\n",
              "      <td>1287</td>\n",
              "    </tr>\n",
              "    <tr>\n",
              "      <th>21612</th>\n",
              "      <td>1523300157</td>\n",
              "      <td>20141015T000000</td>\n",
              "      <td>325000.0</td>\n",
              "      <td>2</td>\n",
              "      <td>0.75</td>\n",
              "      <td>1020</td>\n",
              "      <td>1076</td>\n",
              "      <td>2.0</td>\n",
              "      <td>0</td>\n",
              "      <td>0</td>\n",
              "      <td>...</td>\n",
              "      <td>7</td>\n",
              "      <td>1020</td>\n",
              "      <td>0</td>\n",
              "      <td>2008</td>\n",
              "      <td>0</td>\n",
              "      <td>98144</td>\n",
              "      <td>47.5941</td>\n",
              "      <td>-122.299</td>\n",
              "      <td>1020</td>\n",
              "      <td>1357</td>\n",
              "    </tr>\n",
              "  </tbody>\n",
              "</table>\n",
              "<p>21613 rows × 21 columns</p>\n",
              "</div>"
            ],
            "text/plain": [
              "               id             date     price  bedrooms  bathrooms  \\\n",
              "0      7129300520  20141013T000000  221900.0         3       1.00   \n",
              "1      6414100192  20141209T000000  538000.0         3       2.25   \n",
              "2      5631500400  20150225T000000  180000.0         2       1.00   \n",
              "3      2487200875  20141209T000000  604000.0         4       3.00   \n",
              "4      1954400510  20150218T000000  510000.0         3       2.00   \n",
              "...           ...              ...       ...       ...        ...   \n",
              "21608   263000018  20140521T000000  360000.0         3       2.50   \n",
              "21609  6600060120  20150223T000000  400000.0         4       2.50   \n",
              "21610  1523300141  20140623T000000  402101.0         2       0.75   \n",
              "21611   291310100  20150116T000000  400000.0         3       2.50   \n",
              "21612  1523300157  20141015T000000  325000.0         2       0.75   \n",
              "\n",
              "       sqft_living  sqft_lot  floors  waterfront  view  ...  grade  \\\n",
              "0             1180      5650     1.0           0     0  ...      7   \n",
              "1             2570      7242     2.0           0     0  ...      7   \n",
              "2              770     10000     1.0           0     0  ...      6   \n",
              "3             1960      5000     1.0           0     0  ...      7   \n",
              "4             1680      8080     1.0           0     0  ...      8   \n",
              "...            ...       ...     ...         ...   ...  ...    ...   \n",
              "21608         1530      1131     3.0           0     0  ...      8   \n",
              "21609         2310      5813     2.0           0     0  ...      8   \n",
              "21610         1020      1350     2.0           0     0  ...      7   \n",
              "21611         1600      2388     2.0           0     0  ...      8   \n",
              "21612         1020      1076     2.0           0     0  ...      7   \n",
              "\n",
              "       sqft_above  sqft_basement  yr_built  yr_renovated  zipcode      lat  \\\n",
              "0            1180              0      1955             0    98178  47.5112   \n",
              "1            2170            400      1951          1991    98125  47.7210   \n",
              "2             770              0      1933             0    98028  47.7379   \n",
              "3            1050            910      1965             0    98136  47.5208   \n",
              "4            1680              0      1987             0    98074  47.6168   \n",
              "...           ...            ...       ...           ...      ...      ...   \n",
              "21608        1530              0      2009             0    98103  47.6993   \n",
              "21609        2310              0      2014             0    98146  47.5107   \n",
              "21610        1020              0      2009             0    98144  47.5944   \n",
              "21611        1600              0      2004             0    98027  47.5345   \n",
              "21612        1020              0      2008             0    98144  47.5941   \n",
              "\n",
              "          long  sqft_living15  sqft_lot15  \n",
              "0     -122.257           1340        5650  \n",
              "1     -122.319           1690        7639  \n",
              "2     -122.233           2720        8062  \n",
              "3     -122.393           1360        5000  \n",
              "4     -122.045           1800        7503  \n",
              "...        ...            ...         ...  \n",
              "21608 -122.346           1530        1509  \n",
              "21609 -122.362           1830        7200  \n",
              "21610 -122.299           1020        2007  \n",
              "21611 -122.069           1410        1287  \n",
              "21612 -122.299           1020        1357  \n",
              "\n",
              "[21613 rows x 21 columns]"
            ]
          },
          "execution_count": 30,
          "metadata": {},
          "output_type": "execute_result"
        }
      ],
      "source": [
        "#Cargamos los tres datasets\n",
        "\n",
        "df = pd.read_csv('datasets/kc_house_data.csv')\n",
        "df_train = pd.read_csv('datasets/kc_house_train_data.csv')\n",
        "df_test = pd.read_csv('datasets/kc_house_test_data.csv')\n",
        "\n",
        "df"
      ]
    },
    {
      "cell_type": "markdown",
      "metadata": {
        "id": "d34UNXwFFtOD"
      },
      "source": [
        "## 2 - Escribe una función que acepte una columna de entrada (input) y otra columna 'Output' y devuelva los parámetros de regresión lineal intersección (intercept) y pendiente (slope)"
      ]
    },
    {
      "cell_type": "code",
      "execution_count": 31,
      "metadata": {
        "id": "hWsEDC2kwujQ"
      },
      "outputs": [],
      "source": [
        "def simple_linear_regression(input, output):\n",
        "  X = input.values.reshape(-1,1)\n",
        "  Y = output\n",
        "\n",
        "  #Creamos un objeto de la clase linear_regression\n",
        "  model = LinearRegression()\n",
        "\n",
        "  #Entrenamos con el training set.\n",
        "  model.fit(X, Y)\n",
        "\n",
        "  #Predecimos la salida del modelo pasandole el conjunto de test.\n",
        "  predictions = model.predict(X)\n",
        "  intercept = float(model.intercept_)\n",
        "  slope = float(model.coef_)\n",
        "\n",
        "  return(intercept, slope)"
      ]
    },
    {
      "cell_type": "markdown",
      "metadata": {
        "id": "GfLkGSwUTrco"
      },
      "source": []
    },
    {
      "cell_type": "markdown",
      "metadata": {
        "id": "RW1f_eVvGbuk"
      },
      "source": [
        "### 3- Utiliza la función para calcular los coeficientes de intersección y pendiente de los datos de entrenamiento para predecir el precio 'price', dados los pies habitables 'sqft_living'"
      ]
    },
    {
      "cell_type": "code",
      "execution_count": 32,
      "metadata": {
        "colab": {
          "base_uri": "https://localhost:8080/"
        },
        "id": "M2dXuz_jx4tV",
        "outputId": "e07d1273-6353-4223-d5c5-1923b0c4f143"
      },
      "outputs": [],
      "source": [
        "intercept, slope = simple_linear_regression(df_train.sqft_living, df_train.price)"
      ]
    },
    {
      "cell_type": "code",
      "execution_count": 33,
      "metadata": {},
      "outputs": [
        {
          "name": "stdout",
          "output_type": "stream",
          "text": [
            "-47116.07907289383\n",
            "281.9588396303424\n"
          ]
        }
      ],
      "source": [
        "print(intercept)\n",
        "print(slope)"
      ]
    },
    {
      "cell_type": "markdown",
      "metadata": {
        "id": "WkPdk8kLT8_W"
      },
      "source": [
        "¡¡Almacena el valor de la pendiente y el intercepto para más tarde en diferentes variables!!"
      ]
    },
    {
      "cell_type": "markdown",
      "metadata": {
        "id": "68Pqum_7UTem"
      },
      "source": [
        "### 4 - Escribe una función que acepte como parámetros una columna de datos 'input', una pendiente 'slope' y un coeficiente intersección (intercept) que has aprendido, y que devuelva una columna de predicciones 'predicted_values' para cada entrada en la columna input"
      ]
    },
    {
      "cell_type": "code",
      "execution_count": 34,
      "metadata": {
        "id": "4JzUoQhcyeI1"
      },
      "outputs": [],
      "source": [
        "def get_regression_predictions(input, intercept, slope):\n",
        "  predicted_values = float(slope * input + intercept)\n",
        "  return(predicted_values)"
      ]
    },
    {
      "cell_type": "markdown",
      "metadata": {
        "id": "FUSOgN_yzpp0"
      },
      "source": [
        "**6. Utiliza la Pendiente y el Intercepto del punto 3, Cual es el precdio predicho para una casa de 3000 sqft?**\n",
        "\n"
      ]
    },
    {
      "cell_type": "code",
      "execution_count": 35,
      "metadata": {
        "id": "9tnoCzGCzYLo"
      },
      "outputs": [
        {
          "data": {
            "text/plain": [
              "798760.4398181335"
            ]
          },
          "execution_count": 35,
          "metadata": {},
          "output_type": "execute_result"
        }
      ],
      "source": [
        "get_regression_predictions(3000, intercept, slope)"
      ]
    },
    {
      "cell_type": "markdown",
      "metadata": {
        "id": "93_5q1EBz9di"
      },
      "source": [
        "### 7. Escribe una función que acepte las siguientes columnas: 'input', 'output' y los parámetros de regresión 'slope' e 'intercept' y devuelva la Suma del cuadrado de los resíduos (RSS)\n",
        "\n"
      ]
    },
    {
      "cell_type": "code",
      "execution_count": 36,
      "metadata": {
        "id": "bvF2IwY8z41T"
      },
      "outputs": [],
      "source": [
        "def get_residual_sum_of_squares(input, output, intercept,slope):\n",
        "    input = input.values.reshape(-1,1)\n",
        "    rss = 0\n",
        "    for i in range(len(input)):\n",
        "        predicted_output = slope * input[i] + intercept\n",
        "        rss += (output[i] - predicted_output) ** 2\n",
        "    return float(rss)"
      ]
    },
    {
      "cell_type": "markdown",
      "metadata": {
        "id": "UAdlnZQn0u_E"
      },
      "source": [
        "**8. De acuerdo a la función, el intercepto y la pendiente del punto 3, cual es el RSS para la regresión lineal simple utilizando pies cuadrados para predecir el precio en los datos de ENTRENAMIENTO?**\n",
        "\n",
        "\n"
      ]
    },
    {
      "cell_type": "code",
      "execution_count": 37,
      "metadata": {
        "id": "wBPIXKjA0ULo"
      },
      "outputs": [
        {
          "data": {
            "text/plain": [
              "1201918354177286.0"
            ]
          },
          "execution_count": 37,
          "metadata": {},
          "output_type": "execute_result"
        }
      ],
      "source": [
        "get_residual_sum_of_squares(df_train.sqft_living, df_train.price, intercept, slope)"
      ]
    },
    {
      "cell_type": "markdown",
      "metadata": {
        "id": "GtLV-fAB1ZZ-"
      },
      "source": [
        "9. Observa que, aunque hemos estimado la pendiente y el intercepto de la regresión para predecir la salida a partir de la entrada, como se trata de una relación lineal simple con sólo dos variables, ¡podemos invertir la función lineal para estimar la entrada a partir de la salida!\n",
        "\n",
        "Escriba una función que acepte una columna de datos:'output' y los parámetros de regresión 'slope' e 'intercept' y devuelva como salida la columna de datos: 'estimated_input'. Hazlo resolviendo la función lineal **output = intercept + slope*input** para la variable 'input' (es decir, queremos despejar input de la ecuación)"
      ]
    },
    {
      "cell_type": "code",
      "execution_count": 38,
      "metadata": {
        "id": "aDK3D5RN1Bu7"
      },
      "outputs": [],
      "source": [
        "def inverse_regression_predictions(output, intercept, slope):\n",
        "  estimated_input=(output-intercept)/slope\n",
        "  return(estimated_input)"
      ]
    },
    {
      "cell_type": "markdown",
      "metadata": {
        "id": "HoCj_73I2C_-"
      },
      "source": [
        "**10. Según esta función, la pendiente y el intercepto del punto 3, ¿cuáles son los pies cuadrados (sq.ft) estimados para una casa que cuesta 800.000 $?**\n"
      ]
    },
    {
      "cell_type": "code",
      "execution_count": 39,
      "metadata": {
        "id": "oH9fOZ_k1k-n"
      },
      "outputs": [
        {
          "data": {
            "text/plain": [
              "3004.396245152277"
            ]
          },
          "execution_count": 39,
          "metadata": {},
          "output_type": "execute_result"
        }
      ],
      "source": [
        "inverse_regression_predictions(800000, intercept, slope)"
      ]
    },
    {
      "cell_type": "markdown",
      "metadata": {
        "id": "I3JM1YgM2g5e"
      },
      "source": [
        "11. En lugar de utilizar \"sqft_living\" para estimar los precios, podríamos utilizar \"bedroom\" (un recuento del número de dormitorios de la vivienda) para estimar los precios. Utilizando la función del punto 3, calcula la pendiente y el intercepto de la regresión lineal simple para estimar el precio en función de las habitaciones. Guarde la pendiente y el intercepto en nuevas variables"
      ]
    },
    {
      "cell_type": "code",
      "execution_count": 40,
      "metadata": {
        "id": "P408iwTe2f8k"
      },
      "outputs": [],
      "source": [
        "bed_intercept, bed_slope = simple_linear_regression(df_train.bedrooms, df_train.price)"
      ]
    },
    {
      "cell_type": "code",
      "execution_count": 41,
      "metadata": {
        "id": "277sFWoa7CXW"
      },
      "outputs": [
        {
          "name": "stdout",
          "output_type": "stream",
          "text": [
            "109473.17762296082\n",
            "127588.95293398746\n"
          ]
        }
      ],
      "source": [
        "print(bed_intercept)\n",
        "print(bed_slope)"
      ]
    },
    {
      "cell_type": "markdown",
      "metadata": {
        "id": "luSjPYoi3D9X"
      },
      "source": [
        "12, Ahora que tenemos 2 modelos diferentes, calcule el RSS de AMBOS modelos en los datos de PRUEBA.\n"
      ]
    },
    {
      "cell_type": "code",
      "execution_count": 42,
      "metadata": {
        "id": "yF1rGmXM2f65"
      },
      "outputs": [
        {
          "data": {
            "text/plain": [
              "275402933617813.03"
            ]
          },
          "execution_count": 42,
          "metadata": {},
          "output_type": "execute_result"
        }
      ],
      "source": [
        "get_residual_sum_of_squares(df_test.sqft_living, df_test.price, intercept, slope)"
      ]
    },
    {
      "cell_type": "code",
      "execution_count": 43,
      "metadata": {
        "id": "3PwZMG7V9PEW"
      },
      "outputs": [
        {
          "data": {
            "text/plain": [
              "493364585960301.44"
            ]
          },
          "execution_count": 43,
          "metadata": {},
          "output_type": "execute_result"
        }
      ],
      "source": [
        "get_residual_sum_of_squares(df_test.bedrooms, df_test.price, bed_intercept, bed_slope)"
      ]
    },
    {
      "attachments": {},
      "cell_type": "markdown",
      "metadata": {},
      "source": [
        "#### Interpretación de los resultados\n",
        "El RSS del primero modelo es 2.754e+14 y el RSS del segundo modelo es 4.933e+14. Eso significa que el primer modelo es mejor para predecir los precios de las viviendas en los datos de prueba, ya que tiene un RSS más bajo.\n",
        "\n"
      ]
    }
  ],
  "metadata": {
    "colab": {
      "provenance": []
    },
    "kernelspec": {
      "display_name": "base",
      "language": "python",
      "name": "python3"
    },
    "language_info": {
      "codemirror_mode": {
        "name": "ipython",
        "version": 3
      },
      "file_extension": ".py",
      "mimetype": "text/x-python",
      "name": "python",
      "nbconvert_exporter": "python",
      "pygments_lexer": "ipython3",
      "version": "3.9.13"
    },
    "vscode": {
      "interpreter": {
        "hash": "f167d7208f068a761a61c7abe8a19a71cbf6c597593c47696850f64e310bbdac"
      }
    }
  },
  "nbformat": 4,
  "nbformat_minor": 0
}
