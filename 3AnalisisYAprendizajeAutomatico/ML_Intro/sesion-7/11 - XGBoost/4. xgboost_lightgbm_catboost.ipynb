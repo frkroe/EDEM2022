{
 "cells": [
  {
   "cell_type": "markdown",
   "metadata": {},
   "source": [
    "# Predicción de Exitus (fallecimiento) con XGBoost y Variantes"
   ]
  },
  {
   "cell_type": "code",
   "execution_count": 1,
   "metadata": {},
   "outputs": [],
   "source": [
    "# Load Libraries\n",
    "%matplotlib inline\n",
    "import numpy as np\n",
    "import matplotlib.pyplot as plt\n",
    "from scipy import stats\n",
    "import pandas as pd \n",
    "import multiprocessing\n",
    "import random\n",
    "\n",
    "\n",
    "\n",
    "\n",
    "from sklearn.preprocessing import scale\n",
    "from sklearn.preprocessing import OneHotEncoder\n",
    "import timeit"
   ]
  },
  {
   "cell_type": "markdown",
   "metadata": {},
   "source": [
    "## Dataset"
   ]
  },
  {
   "cell_type": "markdown",
   "metadata": {},
   "source": [
    "Leamos el dataset a utilizar."
   ]
  },
  {
   "cell_type": "code",
   "execution_count": 2,
   "metadata": {},
   "outputs": [
    {
     "data": {
      "text/plain": [
       "(32706, 10)"
      ]
     },
     "execution_count": 2,
     "metadata": {},
     "output_type": "execute_result"
    }
   ],
   "source": [
    "# Load the dataset \n",
    "X = pd.read_csv(\"../datasets/dat_sanidad.csv\", sep=';', decimal=',', encoding='latin-1')\n",
    "X.shape"
   ]
  },
  {
   "cell_type": "markdown",
   "metadata": {},
   "source": [
    "El dataset consta de:\n",
    "\n",
    "- 32706 **filas** o instancias\n",
    "- 10 **columnas** o variables.\n",
    "\n",
    "Veamos su contenido."
   ]
  },
  {
   "cell_type": "code",
   "execution_count": 3,
   "metadata": {},
   "outputs": [
    {
     "data": {
      "text/html": [
       "<div>\n",
       "<style scoped>\n",
       "    .dataframe tbody tr th:only-of-type {\n",
       "        vertical-align: middle;\n",
       "    }\n",
       "\n",
       "    .dataframe tbody tr th {\n",
       "        vertical-align: top;\n",
       "    }\n",
       "\n",
       "    .dataframe thead th {\n",
       "        text-align: right;\n",
       "    }\n",
       "</style>\n",
       "<table border=\"1\" class=\"dataframe\">\n",
       "  <thead>\n",
       "    <tr style=\"text-align: right;\">\n",
       "      <th></th>\n",
       "      <th>gravedad</th>\n",
       "      <th>pct_mortalidad_norma</th>\n",
       "      <th>edad_dias</th>\n",
       "      <th>numproc</th>\n",
       "      <th>potencial_ambul</th>\n",
       "      <th>proc</th>\n",
       "      <th>estancia_esperada</th>\n",
       "      <th>tipgrd</th>\n",
       "      <th>tiping</th>\n",
       "      <th>exitus</th>\n",
       "    </tr>\n",
       "  </thead>\n",
       "  <tbody>\n",
       "    <tr>\n",
       "      <th>0</th>\n",
       "      <td>4</td>\n",
       "      <td>0.408730</td>\n",
       "      <td>12596</td>\n",
       "      <td>21</td>\n",
       "      <td>0</td>\n",
       "      <td>1</td>\n",
       "      <td>151</td>\n",
       "      <td>Q</td>\n",
       "      <td>1</td>\n",
       "      <td>0</td>\n",
       "    </tr>\n",
       "    <tr>\n",
       "      <th>1</th>\n",
       "      <td>4</td>\n",
       "      <td>0.306931</td>\n",
       "      <td>20973</td>\n",
       "      <td>22</td>\n",
       "      <td>0</td>\n",
       "      <td>1</td>\n",
       "      <td>99</td>\n",
       "      <td>Q</td>\n",
       "      <td>1</td>\n",
       "      <td>0</td>\n",
       "    </tr>\n",
       "    <tr>\n",
       "      <th>2</th>\n",
       "      <td>4</td>\n",
       "      <td>0.278481</td>\n",
       "      <td>19611</td>\n",
       "      <td>19</td>\n",
       "      <td>0</td>\n",
       "      <td>1</td>\n",
       "      <td>87</td>\n",
       "      <td>Q</td>\n",
       "      <td>1</td>\n",
       "      <td>0</td>\n",
       "    </tr>\n",
       "    <tr>\n",
       "      <th>3</th>\n",
       "      <td>3</td>\n",
       "      <td>0.150289</td>\n",
       "      <td>13583</td>\n",
       "      <td>22</td>\n",
       "      <td>0</td>\n",
       "      <td>1</td>\n",
       "      <td>100</td>\n",
       "      <td>Q</td>\n",
       "      <td>1</td>\n",
       "      <td>0</td>\n",
       "    </tr>\n",
       "    <tr>\n",
       "      <th>4</th>\n",
       "      <td>1</td>\n",
       "      <td>0.016573</td>\n",
       "      <td>18042</td>\n",
       "      <td>2</td>\n",
       "      <td>0</td>\n",
       "      <td>1</td>\n",
       "      <td>44</td>\n",
       "      <td>Q</td>\n",
       "      <td>1</td>\n",
       "      <td>0</td>\n",
       "    </tr>\n",
       "  </tbody>\n",
       "</table>\n",
       "</div>"
      ],
      "text/plain": [
       "   gravedad  pct_mortalidad_norma  edad_dias  numproc  potencial_ambul  proc  \\\n",
       "0         4              0.408730      12596       21                0     1   \n",
       "1         4              0.306931      20973       22                0     1   \n",
       "2         4              0.278481      19611       19                0     1   \n",
       "3         3              0.150289      13583       22                0     1   \n",
       "4         1              0.016573      18042        2                0     1   \n",
       "\n",
       "   estancia_esperada tipgrd  tiping  exitus  \n",
       "0                151      Q       1       0  \n",
       "1                 99      Q       1       0  \n",
       "2                 87      Q       1       0  \n",
       "3                100      Q       1       0  \n",
       "4                 44      Q       1       0  "
      ]
     },
     "execution_count": 3,
     "metadata": {},
     "output_type": "execute_result"
    }
   ],
   "source": [
    "X.head()"
   ]
  },
  {
   "cell_type": "markdown",
   "metadata": {},
   "source": [
    "- **gravedad**: Gravedad dentro del GRD. Valores de 1 a 4.\n",
    "\n",
    "- **pct_mortalidad_norma**: Tasa de mortalidad histórica para ese GRD.\n",
    "        \n",
    "- **edad_dias**: Edad en días del paciente.\n",
    "\n",
    "- **numproc**: Número de procedimientos que se han llevado a cabo al paciente a las 24 horas.\n",
    "    \n",
    "- **potencial_ambul**: Flag (valor 0 = no / 1 = sí) que indica si el caso se ha catalogado como potencialmente ambulatorio, es decir, no requiere ingreso.\n",
    "    \n",
    "- **proc**: Procedencia del paciente.\n",
    "\n",
    "- **estancia_esperada**: Número de días que se espera que el paciente esté ingresado en el hospital por este episodio asistencial.\n",
    "\n",
    "- **tipgrd**: GRD médico (M) o de quirófano (Q).\n",
    "    \n",
    "- **tiping**: Tipo de ingreso: Programado, urgente...\n",
    "    \n",
    "- **exitus**: 1 = El paciente falleció.\n",
    "\n",
    "De estas variables, fecing la usaremos para realizar el split en train/validacion/test, exitus es el target y las 10 variables restantes serán el input de nuestro modelo."
   ]
  },
  {
   "cell_type": "markdown",
   "metadata": {},
   "source": [
    "## Pre-procesado"
   ]
  },
  {
   "cell_type": "markdown",
   "metadata": {},
   "source": [
    "### One-Hot Encoding"
   ]
  },
  {
   "cell_type": "markdown",
   "metadata": {},
   "source": [
    "Utilizaremos la técnica de one-hot encoding.\n",
    "\n",
    "<img src=\"../figures/oh.png\" width=\"50%\">"
   ]
  },
  {
   "cell_type": "markdown",
   "metadata": {},
   "source": [
    "Seleccionemos las variables categóricas en primer lugar."
   ]
  },
  {
   "cell_type": "code",
   "execution_count": 4,
   "metadata": {},
   "outputs": [],
   "source": [
    "categorical_vars = set(['gravedad', 'proc', 'tiping', 'tipgrd'])\n",
    "numerical_vars = set(X.columns) - categorical_vars\n",
    "categorical_vars = list(categorical_vars)\n",
    "numerical_vars = list(numerical_vars)"
   ]
  },
  {
   "cell_type": "code",
   "execution_count": 5,
   "metadata": {},
   "outputs": [
    {
     "name": "stdout",
     "output_type": "stream",
     "text": [
      "['tipgrd', 'proc', 'tiping', 'gravedad']\n",
      "['numproc', 'edad_dias', 'potencial_ambul', 'exitus', 'estancia_esperada', 'pct_mortalidad_norma']\n"
     ]
    }
   ],
   "source": [
    "print(categorical_vars)\n",
    "print(numerical_vars)"
   ]
  },
  {
   "cell_type": "markdown",
   "metadata": {},
   "source": [
    "Realizamos one hot encoding de las variables categoricas"
   ]
  },
  {
   "cell_type": "code",
   "execution_count": 6,
   "metadata": {},
   "outputs": [],
   "source": [
    "ohe = OneHotEncoder(sparse = False)\n",
    "ohe_fit = ohe.fit(X[categorical_vars])\n",
    "X_ohe = pd.DataFrame(ohe.fit_transform(X[categorical_vars]))\n",
    "X_ohe.columns = pd.DataFrame(ohe_fit.get_feature_names())\n"
   ]
  },
  {
   "cell_type": "markdown",
   "metadata": {},
   "source": [
    "Visualizamos los datos iniciales y los que están con one hot encoding para ver la diferencia"
   ]
  },
  {
   "cell_type": "code",
   "execution_count": 7,
   "metadata": {},
   "outputs": [
    {
     "data": {
      "text/html": [
       "<div>\n",
       "<style scoped>\n",
       "    .dataframe tbody tr th:only-of-type {\n",
       "        vertical-align: middle;\n",
       "    }\n",
       "\n",
       "    .dataframe tbody tr th {\n",
       "        vertical-align: top;\n",
       "    }\n",
       "\n",
       "    .dataframe thead th {\n",
       "        text-align: right;\n",
       "    }\n",
       "</style>\n",
       "<table border=\"1\" class=\"dataframe\">\n",
       "  <thead>\n",
       "    <tr style=\"text-align: right;\">\n",
       "      <th></th>\n",
       "      <th>tipgrd</th>\n",
       "      <th>proc</th>\n",
       "      <th>tiping</th>\n",
       "      <th>gravedad</th>\n",
       "    </tr>\n",
       "  </thead>\n",
       "  <tbody>\n",
       "    <tr>\n",
       "      <th>0</th>\n",
       "      <td>Q</td>\n",
       "      <td>1</td>\n",
       "      <td>1</td>\n",
       "      <td>4</td>\n",
       "    </tr>\n",
       "    <tr>\n",
       "      <th>1</th>\n",
       "      <td>Q</td>\n",
       "      <td>1</td>\n",
       "      <td>1</td>\n",
       "      <td>4</td>\n",
       "    </tr>\n",
       "    <tr>\n",
       "      <th>2</th>\n",
       "      <td>Q</td>\n",
       "      <td>1</td>\n",
       "      <td>1</td>\n",
       "      <td>4</td>\n",
       "    </tr>\n",
       "    <tr>\n",
       "      <th>3</th>\n",
       "      <td>Q</td>\n",
       "      <td>1</td>\n",
       "      <td>1</td>\n",
       "      <td>3</td>\n",
       "    </tr>\n",
       "    <tr>\n",
       "      <th>4</th>\n",
       "      <td>Q</td>\n",
       "      <td>1</td>\n",
       "      <td>1</td>\n",
       "      <td>1</td>\n",
       "    </tr>\n",
       "  </tbody>\n",
       "</table>\n",
       "</div>"
      ],
      "text/plain": [
       "  tipgrd  proc  tiping  gravedad\n",
       "0      Q     1       1         4\n",
       "1      Q     1       1         4\n",
       "2      Q     1       1         4\n",
       "3      Q     1       1         3\n",
       "4      Q     1       1         1"
      ]
     },
     "execution_count": 7,
     "metadata": {},
     "output_type": "execute_result"
    }
   ],
   "source": [
    "X[categorical_vars].head()"
   ]
  },
  {
   "cell_type": "code",
   "execution_count": 8,
   "metadata": {},
   "outputs": [
    {
     "data": {
      "text/html": [
       "<div>\n",
       "<style scoped>\n",
       "    .dataframe tbody tr th:only-of-type {\n",
       "        vertical-align: middle;\n",
       "    }\n",
       "\n",
       "    .dataframe tbody tr th {\n",
       "        vertical-align: top;\n",
       "    }\n",
       "\n",
       "    .dataframe thead th {\n",
       "        text-align: right;\n",
       "    }\n",
       "</style>\n",
       "<table border=\"1\" class=\"dataframe\">\n",
       "  <thead>\n",
       "    <tr style=\"text-align: right;\">\n",
       "      <th></th>\n",
       "      <th>(x0_M,)</th>\n",
       "      <th>(x0_Q,)</th>\n",
       "      <th>(x1_1,)</th>\n",
       "      <th>(x1_2,)</th>\n",
       "      <th>(x1_3,)</th>\n",
       "      <th>(x1_4,)</th>\n",
       "      <th>(x1_6,)</th>\n",
       "      <th>(x1_7,)</th>\n",
       "      <th>(x1_8,)</th>\n",
       "      <th>(x1_9,)</th>\n",
       "      <th>(x2_1,)</th>\n",
       "      <th>(x2_2,)</th>\n",
       "      <th>(x2_3,)</th>\n",
       "      <th>(x3_1,)</th>\n",
       "      <th>(x3_2,)</th>\n",
       "      <th>(x3_3,)</th>\n",
       "      <th>(x3_4,)</th>\n",
       "    </tr>\n",
       "  </thead>\n",
       "  <tbody>\n",
       "    <tr>\n",
       "      <th>0</th>\n",
       "      <td>0.0</td>\n",
       "      <td>1.0</td>\n",
       "      <td>1.0</td>\n",
       "      <td>0.0</td>\n",
       "      <td>0.0</td>\n",
       "      <td>0.0</td>\n",
       "      <td>0.0</td>\n",
       "      <td>0.0</td>\n",
       "      <td>0.0</td>\n",
       "      <td>0.0</td>\n",
       "      <td>1.0</td>\n",
       "      <td>0.0</td>\n",
       "      <td>0.0</td>\n",
       "      <td>0.0</td>\n",
       "      <td>0.0</td>\n",
       "      <td>0.0</td>\n",
       "      <td>1.0</td>\n",
       "    </tr>\n",
       "    <tr>\n",
       "      <th>1</th>\n",
       "      <td>0.0</td>\n",
       "      <td>1.0</td>\n",
       "      <td>1.0</td>\n",
       "      <td>0.0</td>\n",
       "      <td>0.0</td>\n",
       "      <td>0.0</td>\n",
       "      <td>0.0</td>\n",
       "      <td>0.0</td>\n",
       "      <td>0.0</td>\n",
       "      <td>0.0</td>\n",
       "      <td>1.0</td>\n",
       "      <td>0.0</td>\n",
       "      <td>0.0</td>\n",
       "      <td>0.0</td>\n",
       "      <td>0.0</td>\n",
       "      <td>0.0</td>\n",
       "      <td>1.0</td>\n",
       "    </tr>\n",
       "    <tr>\n",
       "      <th>2</th>\n",
       "      <td>0.0</td>\n",
       "      <td>1.0</td>\n",
       "      <td>1.0</td>\n",
       "      <td>0.0</td>\n",
       "      <td>0.0</td>\n",
       "      <td>0.0</td>\n",
       "      <td>0.0</td>\n",
       "      <td>0.0</td>\n",
       "      <td>0.0</td>\n",
       "      <td>0.0</td>\n",
       "      <td>1.0</td>\n",
       "      <td>0.0</td>\n",
       "      <td>0.0</td>\n",
       "      <td>0.0</td>\n",
       "      <td>0.0</td>\n",
       "      <td>0.0</td>\n",
       "      <td>1.0</td>\n",
       "    </tr>\n",
       "    <tr>\n",
       "      <th>3</th>\n",
       "      <td>0.0</td>\n",
       "      <td>1.0</td>\n",
       "      <td>1.0</td>\n",
       "      <td>0.0</td>\n",
       "      <td>0.0</td>\n",
       "      <td>0.0</td>\n",
       "      <td>0.0</td>\n",
       "      <td>0.0</td>\n",
       "      <td>0.0</td>\n",
       "      <td>0.0</td>\n",
       "      <td>1.0</td>\n",
       "      <td>0.0</td>\n",
       "      <td>0.0</td>\n",
       "      <td>0.0</td>\n",
       "      <td>0.0</td>\n",
       "      <td>1.0</td>\n",
       "      <td>0.0</td>\n",
       "    </tr>\n",
       "    <tr>\n",
       "      <th>4</th>\n",
       "      <td>0.0</td>\n",
       "      <td>1.0</td>\n",
       "      <td>1.0</td>\n",
       "      <td>0.0</td>\n",
       "      <td>0.0</td>\n",
       "      <td>0.0</td>\n",
       "      <td>0.0</td>\n",
       "      <td>0.0</td>\n",
       "      <td>0.0</td>\n",
       "      <td>0.0</td>\n",
       "      <td>1.0</td>\n",
       "      <td>0.0</td>\n",
       "      <td>0.0</td>\n",
       "      <td>1.0</td>\n",
       "      <td>0.0</td>\n",
       "      <td>0.0</td>\n",
       "      <td>0.0</td>\n",
       "    </tr>\n",
       "  </tbody>\n",
       "</table>\n",
       "</div>"
      ],
      "text/plain": [
       "   (x0_M,)  (x0_Q,)  (x1_1,)  (x1_2,)  (x1_3,)  (x1_4,)  (x1_6,)  (x1_7,)  \\\n",
       "0      0.0      1.0      1.0      0.0      0.0      0.0      0.0      0.0   \n",
       "1      0.0      1.0      1.0      0.0      0.0      0.0      0.0      0.0   \n",
       "2      0.0      1.0      1.0      0.0      0.0      0.0      0.0      0.0   \n",
       "3      0.0      1.0      1.0      0.0      0.0      0.0      0.0      0.0   \n",
       "4      0.0      1.0      1.0      0.0      0.0      0.0      0.0      0.0   \n",
       "\n",
       "   (x1_8,)  (x1_9,)  (x2_1,)  (x2_2,)  (x2_3,)  (x3_1,)  (x3_2,)  (x3_3,)  \\\n",
       "0      0.0      0.0      1.0      0.0      0.0      0.0      0.0      0.0   \n",
       "1      0.0      0.0      1.0      0.0      0.0      0.0      0.0      0.0   \n",
       "2      0.0      0.0      1.0      0.0      0.0      0.0      0.0      0.0   \n",
       "3      0.0      0.0      1.0      0.0      0.0      0.0      0.0      1.0   \n",
       "4      0.0      0.0      1.0      0.0      0.0      1.0      0.0      0.0   \n",
       "\n",
       "   (x3_4,)  \n",
       "0      1.0  \n",
       "1      1.0  \n",
       "2      1.0  \n",
       "3      0.0  \n",
       "4      0.0  "
      ]
     },
     "execution_count": 8,
     "metadata": {},
     "output_type": "execute_result"
    }
   ],
   "source": [
    "X_ohe.head()"
   ]
  },
  {
   "cell_type": "markdown",
   "metadata": {},
   "source": [
    "Volvemos a pegar las variables numéricas."
   ]
  },
  {
   "cell_type": "code",
   "execution_count": 9,
   "metadata": {},
   "outputs": [],
   "source": [
    "X = pd.concat((X_ohe, X[numerical_vars].reset_index()), axis=1)"
   ]
  },
  {
   "cell_type": "markdown",
   "metadata": {},
   "source": [
    "### Tipificar"
   ]
  },
  {
   "cell_type": "markdown",
   "metadata": {},
   "source": [
    "Ahora vamos a tipificar los datos, es decir, llevarlos a media 0 y desviación estándar 1."
   ]
  },
  {
   "cell_type": "markdown",
   "metadata": {},
   "source": [
    "<img src=\"../figures/tipify.png\" width=\"50%\">"
   ]
  },
  {
   "cell_type": "code",
   "execution_count": 10,
   "metadata": {},
   "outputs": [],
   "source": [
    "y = X['exitus']\n",
    "del X['exitus']"
   ]
  },
  {
   "cell_type": "code",
   "execution_count": 11,
   "metadata": {},
   "outputs": [
    {
     "name": "stdout",
     "output_type": "stream",
     "text": [
      "    (x0_M,)   (x0_Q,)   (x1_1,)   (x1_2,)   (x1_3,)   (x1_4,)   (x1_6,)  \\\n",
      "0 -1.554964  1.554964  0.589002 -0.471911 -0.128712 -0.140259 -0.118114   \n",
      "1 -1.554964  1.554964  0.589002 -0.471911 -0.128712 -0.140259 -0.118114   \n",
      "2 -1.554964  1.554964  0.589002 -0.471911 -0.128712 -0.140259 -0.118114   \n",
      "3 -1.554964  1.554964  0.589002 -0.471911 -0.128712 -0.140259 -0.118114   \n",
      "4 -1.554964  1.554964  0.589002 -0.471911 -0.128712 -0.140259 -0.118114   \n",
      "\n",
      "    (x1_7,)   (x1_8,)   (x1_9,)  ...   (x3_1,)   (x3_2,)   (x3_3,)   (x3_4,)  \\\n",
      "0 -0.009578 -0.134718 -0.090724  ... -1.322185 -0.435743 -0.417921  4.120705   \n",
      "1 -0.009578 -0.134718 -0.090724  ... -1.322185 -0.435743 -0.417921  4.120705   \n",
      "2 -0.009578 -0.134718 -0.090724  ... -1.322185 -0.435743 -0.417921  4.120705   \n",
      "3 -0.009578 -0.134718 -0.090724  ... -1.322185 -0.435743  2.392797 -0.242677   \n",
      "4 -0.009578 -0.134718 -0.090724  ...  0.756324 -0.435743 -0.417921 -0.242677   \n",
      "\n",
      "      index   numproc  edad_dias  potencial_ambul  estancia_esperada  \\\n",
      "0 -1.731998  6.002393  -0.713484        -0.258527          19.632898   \n",
      "1 -1.731892  6.357038   0.186170        -0.258527          12.641211   \n",
      "2 -1.731786  5.293102   0.039897        -0.258527          11.027745   \n",
      "3 -1.731680  6.357038  -0.607484        -0.258527          12.775667   \n",
      "4 -1.731574 -0.735868  -0.128607        -0.258527           5.246158   \n",
      "\n",
      "   pct_mortalidad_norma  \n",
      "0              5.678791  \n",
      "1              4.151382  \n",
      "2              3.724521  \n",
      "3              1.801116  \n",
      "4             -0.205167  \n",
      "\n",
      "[5 rows x 23 columns]\n"
     ]
    }
   ],
   "source": [
    "X_scale = pd.DataFrame(scale(X))\n",
    "X_scale.columns = X.columns\n",
    "X = X_scale\n",
    "X.columns = X_scale.columns\n",
    "print(X.head())"
   ]
  },
  {
   "cell_type": "markdown",
   "metadata": {},
   "source": [
    "### Split en Train/Validación/Test"
   ]
  },
  {
   "cell_type": "markdown",
   "metadata": {},
   "source": [
    "Utilizaremos a modo de ejemplo los ratios habitualmente recomendados:\n",
    "\n",
    "• Train: 70%.\n",
    "\n",
    "• Validación: 15%.\n",
    "\n",
    "• Test: 15%.\n"
   ]
  },
  {
   "cell_type": "code",
   "execution_count": 12,
   "metadata": {},
   "outputs": [],
   "source": [
    "perc_values = [0.7, 0.15, 0.15];"
   ]
  },
  {
   "cell_type": "markdown",
   "metadata": {},
   "source": [
    "Creamos los conjuntos de train, validacion y test con el tamaño seleccionado pero respetando el eje temporal."
   ]
  },
  {
   "cell_type": "code",
   "execution_count": 13,
   "metadata": {},
   "outputs": [],
   "source": [
    "# dimensiones de los conjuntos de train y test\n",
    "n_train = int(X.shape[0] * perc_values[0])\n",
    "n_val = int(X.shape[0] * perc_values[1])\n",
    "n_test = int(X.shape[0] * perc_values[2])\n",
    "\n",
    "# selección del conjunto de train\n",
    "X_train = X.iloc[:n_train]\n",
    "y_train = y.iloc[:n_train]\n",
    "\n",
    "# selección del conjunto de validación\n",
    "X_val = X.iloc[(n_train):(n_train+n_val)]\n",
    "y_val = y.iloc[(n_train):(n_train+n_val)]\n",
    "\n",
    "# selección del conjunto de test\n",
    "X_test = X.iloc[(n_train+n_val):]\n",
    "y_test = y.iloc[(n_train+n_val):]"
   ]
  },
  {
   "cell_type": "markdown",
   "metadata": {},
   "source": [
    "Visualizamos el tamaño de los 3 subdatasets"
   ]
  },
  {
   "cell_type": "code",
   "execution_count": 14,
   "metadata": {},
   "outputs": [
    {
     "name": "stdout",
     "output_type": "stream",
     "text": [
      "Train data size = (22894, 23)\n",
      "Train target size = (22894,)\n",
      "Validation data size = (4905, 23)\n",
      "Validation target size = (4905,)\n",
      "Test data size = (4907, 23)\n",
      "Test target size = (4907,)\n"
     ]
    }
   ],
   "source": [
    "print('Train data size = ' + str(X_train.shape))\n",
    "print('Train target size = ' + str(y_train.shape))\n",
    "print('Validation data size = ' + str(X_val.shape))\n",
    "print('Validation target size = ' + str(y_val.shape))\n",
    "print('Test data size = ' + str(X_test.shape))\n",
    "print('Test target size = ' + str(y_test.shape))"
   ]
  },
  {
   "cell_type": "markdown",
   "metadata": {},
   "source": [
    "\n",
    "## [1] XGBoost\n",
    "\n",
    "Vamos a aplicar ahora un modelo de XGBoost."
   ]
  },
  {
   "cell_type": "markdown",
   "metadata": {},
   "source": [
    "1) Importar modelo."
   ]
  },
  {
   "cell_type": "code",
   "execution_count": 15,
   "metadata": {},
   "outputs": [],
   "source": [
    "from xgboost import XGBClassifier as model_constructor"
   ]
  },
  {
   "cell_type": "markdown",
   "metadata": {},
   "source": [
    "2) Importar métrica"
   ]
  },
  {
   "cell_type": "code",
   "execution_count": 16,
   "metadata": {},
   "outputs": [],
   "source": [
    "from sklearn.metrics import roc_auc_score as metric"
   ]
  },
  {
   "cell_type": "markdown",
   "metadata": {},
   "source": [
    "3) Definir el método."
   ]
  },
  {
   "cell_type": "code",
   "execution_count": 17,
   "metadata": {},
   "outputs": [],
   "source": [
    "model = model_constructor(random_state = 1)"
   ]
  },
  {
   "cell_type": "markdown",
   "metadata": {},
   "source": [
    "4) Llamar al método fit para entrenar el modelo. \n",
    "\n",
    "En este caso vamos también"
   ]
  },
  {
   "cell_type": "markdown",
   "metadata": {},
   "source": [
    "\n",
    "## [1] XGBoost\n",
    "\n",
    "Vamos a aplicar ahora un modelo de XGBoost."
   ]
  },
  {
   "cell_type": "markdown",
   "metadata": {},
   "source": [
    "1) Importar modelo."
   ]
  },
  {
   "cell_type": "code",
   "execution_count": 18,
   "metadata": {},
   "outputs": [],
   "source": [
    "from xgboost import XGBClassifier as model_constructor"
   ]
  },
  {
   "cell_type": "markdown",
   "metadata": {},
   "source": [
    "2) Importar métrica"
   ]
  },
  {
   "cell_type": "code",
   "execution_count": 19,
   "metadata": {},
   "outputs": [],
   "source": [
    "from sklearn.metrics import roc_auc_score as metric"
   ]
  },
  {
   "cell_type": "markdown",
   "metadata": {},
   "source": [
    "3) Definir el método."
   ]
  },
  {
   "cell_type": "code",
   "execution_count": 20,
   "metadata": {},
   "outputs": [],
   "source": [
    "model = model_constructor(tree_method = 'hist', random_state = 14)"
   ]
  },
  {
   "cell_type": "markdown",
   "metadata": {},
   "source": [
    "4) Llamar al método fit para entrenar el modelo. "
   ]
  },
  {
   "cell_type": "markdown",
   "metadata": {},
   "source": [
    "En este caso vamos a medir también el tiempo que tarda el modelo en entrenarse."
   ]
  },
  {
   "cell_type": "code",
   "execution_count": 21,
   "metadata": {},
   "outputs": [],
   "source": [
    "import timeit"
   ]
  },
  {
   "cell_type": "code",
   "execution_count": 22,
   "metadata": {},
   "outputs": [
    {
     "name": "stdout",
     "output_type": "stream",
     "text": [
      "[0]\tvalidation_0-auc:0.89724\n",
      "[1]\tvalidation_0-auc:0.91853\n",
      "[2]\tvalidation_0-auc:0.92261\n",
      "[3]\tvalidation_0-auc:0.92769\n",
      "[4]\tvalidation_0-auc:0.92363\n",
      "[5]\tvalidation_0-auc:0.92377\n",
      "[6]\tvalidation_0-auc:0.92750\n",
      "[7]\tvalidation_0-auc:0.92128\n",
      "[8]\tvalidation_0-auc:0.92424\n",
      "[9]\tvalidation_0-auc:0.92575\n",
      "[10]\tvalidation_0-auc:0.92916\n",
      "[11]\tvalidation_0-auc:0.92980\n",
      "[12]\tvalidation_0-auc:0.93024\n",
      "[13]\tvalidation_0-auc:0.93293\n",
      "[14]\tvalidation_0-auc:0.93369\n",
      "[15]\tvalidation_0-auc:0.93374\n",
      "[16]\tvalidation_0-auc:0.93382\n",
      "[17]\tvalidation_0-auc:0.93386\n",
      "[18]\tvalidation_0-auc:0.93260\n"
     ]
    },
    {
     "name": "stderr",
     "output_type": "stream",
     "text": [
      "C:\\Users\\jesus\\anaconda3\\lib\\site-packages\\xgboost\\sklearn.py:835: UserWarning: `eval_metric` in `fit` method is deprecated for better compatibility with scikit-learn, use `eval_metric` in constructor or`set_params` instead.\n",
      "  warnings.warn(\n",
      "C:\\Users\\jesus\\anaconda3\\lib\\site-packages\\xgboost\\sklearn.py:835: UserWarning: `early_stopping_rounds` in `fit` method is deprecated for better compatibility with scikit-learn, use `early_stopping_rounds` in constructor or`set_params` instead.\n",
      "  warnings.warn(\n"
     ]
    },
    {
     "name": "stdout",
     "output_type": "stream",
     "text": [
      "[19]\tvalidation_0-auc:0.93275\n",
      "[20]\tvalidation_0-auc:0.93298\n",
      "[21]\tvalidation_0-auc:0.93305\n",
      "[22]\tvalidation_0-auc:0.93257\n",
      "[23]\tvalidation_0-auc:0.93004\n",
      "[24]\tvalidation_0-auc:0.93029\n",
      "[25]\tvalidation_0-auc:0.92991\n",
      "[26]\tvalidation_0-auc:0.92931\n"
     ]
    }
   ],
   "source": [
    "start = timeit.default_timer()\n",
    "model.fit(X_train, \n",
    "          np.array(y_train), \n",
    "          eval_metric = \"auc\", \n",
    "          eval_set=[(X_val, y_val)],\n",
    "          early_stopping_rounds = 10,\n",
    "          verbose=True)\n",
    "time = timeit.default_timer() - start"
   ]
  },
  {
   "cell_type": "markdown",
   "metadata": {},
   "source": [
    "5) Llamar al método predict para generar las predicciones."
   ]
  },
  {
   "cell_type": "code",
   "execution_count": 23,
   "metadata": {},
   "outputs": [],
   "source": [
    "pred_train_p = model.predict_proba(X_train)\n",
    "pred_val_p = model.predict_proba(X_val)\n",
    "pred_test_p = model.predict_proba(X_test) "
   ]
  },
  {
   "cell_type": "markdown",
   "metadata": {},
   "source": [
    "6) Calcular métrica usando las predicciones obtenidas en el paso anterior."
   ]
  },
  {
   "cell_type": "code",
   "execution_count": 24,
   "metadata": {},
   "outputs": [],
   "source": [
    "# Calcular métricas de evaluación\n",
    "auc_train = metric(y_train, pred_train_p[:,1]);\n",
    "auc_val = metric(y_val, pred_val_p[:,1]);\n",
    "auc_test = metric(y_test, pred_test_p[:,1]);\n",
    "results = pd.DataFrame()\n",
    "results = results.append(pd.DataFrame(data={'model':['XGBoost'],'auc_train':[auc_train],'auc_val':[auc_val],'auc_test':[auc_test], 'time': [time]}, columns=['model',  'auc_train','auc_val', 'auc_test', 'time']), ignore_index=True)"
   ]
  },
  {
   "cell_type": "code",
   "execution_count": 25,
   "metadata": {
    "scrolled": false
   },
   "outputs": [
    {
     "data": {
      "text/html": [
       "<div>\n",
       "<style scoped>\n",
       "    .dataframe tbody tr th:only-of-type {\n",
       "        vertical-align: middle;\n",
       "    }\n",
       "\n",
       "    .dataframe tbody tr th {\n",
       "        vertical-align: top;\n",
       "    }\n",
       "\n",
       "    .dataframe thead th {\n",
       "        text-align: right;\n",
       "    }\n",
       "</style>\n",
       "<table border=\"1\" class=\"dataframe\">\n",
       "  <thead>\n",
       "    <tr style=\"text-align: right;\">\n",
       "      <th></th>\n",
       "      <th>model</th>\n",
       "      <th>auc_train</th>\n",
       "      <th>auc_val</th>\n",
       "      <th>auc_test</th>\n",
       "      <th>time</th>\n",
       "    </tr>\n",
       "  </thead>\n",
       "  <tbody>\n",
       "    <tr>\n",
       "      <th>0</th>\n",
       "      <td>XGBoost</td>\n",
       "      <td>0.970494</td>\n",
       "      <td>0.933863</td>\n",
       "      <td>0.928994</td>\n",
       "      <td>0.247592</td>\n",
       "    </tr>\n",
       "  </tbody>\n",
       "</table>\n",
       "</div>"
      ],
      "text/plain": [
       "     model  auc_train   auc_val  auc_test      time\n",
       "0  XGBoost   0.970494  0.933863  0.928994  0.247592"
      ]
     },
     "execution_count": 25,
     "metadata": {},
     "output_type": "execute_result"
    }
   ],
   "source": [
    "results"
   ]
  },
  {
   "cell_type": "markdown",
   "metadata": {},
   "source": [
    "\n",
    "## [2] LightGBM\n",
    "\n",
    "Vamos a aplicar ahora un modelo de LightGBM."
   ]
  },
  {
   "cell_type": "code",
   "execution_count": 26,
   "metadata": {},
   "outputs": [
    {
     "name": "stdout",
     "output_type": "stream",
     "text": [
      "Requirement already satisfied: lightgbm in c:\\users\\jesus\\anaconda3\\lib\\site-packages (3.3.5)\n",
      "Requirement already satisfied: numpy in c:\\users\\jesus\\anaconda3\\lib\\site-packages (from lightgbm) (1.21.0)\n",
      "Requirement already satisfied: wheel in c:\\users\\jesus\\anaconda3\\lib\\site-packages (from lightgbm) (0.35.1)\n",
      "Requirement already satisfied: scikit-learn!=0.22.0 in c:\\users\\jesus\\anaconda3\\lib\\site-packages (from lightgbm) (0.24.2)\n",
      "Requirement already satisfied: scipy in c:\\users\\jesus\\anaconda3\\lib\\site-packages (from lightgbm) (1.6.3)\n",
      "Requirement already satisfied: threadpoolctl>=2.0.0 in c:\\users\\jesus\\anaconda3\\lib\\site-packages (from scikit-learn!=0.22.0->lightgbm) (2.1.0)\n",
      "Requirement already satisfied: joblib>=0.11 in c:\\users\\jesus\\anaconda3\\lib\\site-packages (from scikit-learn!=0.22.0->lightgbm) (0.17.0)\n",
      "Note: you may need to restart the kernel to use updated packages.\n"
     ]
    }
   ],
   "source": [
    "%pip install lightgbm"
   ]
  },
  {
   "cell_type": "code",
   "execution_count": 27,
   "metadata": {},
   "outputs": [],
   "source": [
    "import lightgbm as lgb"
   ]
  },
  {
   "cell_type": "markdown",
   "metadata": {},
   "source": [
    "Hay que transformar los datasets a un formato específico."
   ]
  },
  {
   "cell_type": "code",
   "execution_count": 28,
   "metadata": {},
   "outputs": [],
   "source": [
    "X_train.columns = [\"var_\" + str(x) for x in range(X.shape[1])]\n",
    "X_val.columns = [\"var_\" + str(x) for x in range(X.shape[1])]\n",
    "X_test.columns = [\"var_\" + str(x) for x in range(X.shape[1])]\n",
    "train_data = lgb.Dataset(data = X_train, label = y_train)\n",
    "validation_data = train_data.create_valid(data = X_val, label = y_val)"
   ]
  },
  {
   "cell_type": "markdown",
   "metadata": {},
   "source": [
    "Entrenamos el modelo"
   ]
  },
  {
   "cell_type": "code",
   "execution_count": 29,
   "metadata": {},
   "outputs": [
    {
     "name": "stdout",
     "output_type": "stream",
     "text": [
      "[LightGBM] [Warning] Auto-choosing row-wise multi-threading, the overhead of testing was 0.000947 seconds.\n",
      "You can set `force_row_wise=true` to remove the overhead.\n",
      "And if memory is not enough, you can set `force_col_wise=true`.\n",
      "[LightGBM] [Info] Total Bins 910\n",
      "[LightGBM] [Info] Number of data points in the train set: 22894, number of used features: 22\n",
      "[LightGBM] [Info] Start training from score 0.038656\n",
      "Training until validation scores don't improve for 10 rounds\n",
      "Early stopping, best iteration is:\n",
      "[26]\tvalid_0's auc: 0.938033\n"
     ]
    }
   ],
   "source": [
    "param = {'metric':'auc'}\n",
    "start = timeit.default_timer()\n",
    "model = lgb.train(param, train_data, valid_sets=[validation_data], callbacks=[lgb.early_stopping(stopping_rounds=10)])\n",
    "time = timeit.default_timer() - start"
   ]
  },
  {
   "cell_type": "markdown",
   "metadata": {},
   "source": [
    "5) Llamar al método predict para generar las predicciones."
   ]
  },
  {
   "cell_type": "code",
   "execution_count": 30,
   "metadata": {},
   "outputs": [],
   "source": [
    "pred_train_p = model.predict(X_train)\n",
    "pred_val_p = model.predict(X_val)\n",
    "pred_test_p = model.predict(X_test) "
   ]
  },
  {
   "cell_type": "markdown",
   "metadata": {},
   "source": [
    "6) Calcular métrica usando las predicciones obtenidas en el paso anterior."
   ]
  },
  {
   "cell_type": "code",
   "execution_count": 31,
   "metadata": {},
   "outputs": [],
   "source": [
    "# Calcular métricas de evaluación\n",
    "auc_train = metric(y_train, pred_train_p);\n",
    "auc_val = metric(y_val, pred_val_p);\n",
    "auc_test = metric(y_test, pred_test_p);\n",
    "results = results.append(pd.DataFrame(data={'model':['LightGBM'],'auc_train':[auc_train],'auc_val':[auc_val],'auc_test':[auc_test], 'time': [time]}, columns=['model',  'auc_train','auc_val', 'auc_test', 'time']), ignore_index=True)"
   ]
  },
  {
   "cell_type": "code",
   "execution_count": 32,
   "metadata": {
    "scrolled": true
   },
   "outputs": [
    {
     "data": {
      "text/html": [
       "<div>\n",
       "<style scoped>\n",
       "    .dataframe tbody tr th:only-of-type {\n",
       "        vertical-align: middle;\n",
       "    }\n",
       "\n",
       "    .dataframe tbody tr th {\n",
       "        vertical-align: top;\n",
       "    }\n",
       "\n",
       "    .dataframe thead th {\n",
       "        text-align: right;\n",
       "    }\n",
       "</style>\n",
       "<table border=\"1\" class=\"dataframe\">\n",
       "  <thead>\n",
       "    <tr style=\"text-align: right;\">\n",
       "      <th></th>\n",
       "      <th>model</th>\n",
       "      <th>auc_train</th>\n",
       "      <th>auc_val</th>\n",
       "      <th>auc_test</th>\n",
       "      <th>time</th>\n",
       "    </tr>\n",
       "  </thead>\n",
       "  <tbody>\n",
       "    <tr>\n",
       "      <th>0</th>\n",
       "      <td>XGBoost</td>\n",
       "      <td>0.970494</td>\n",
       "      <td>0.933863</td>\n",
       "      <td>0.928994</td>\n",
       "      <td>0.247592</td>\n",
       "    </tr>\n",
       "    <tr>\n",
       "      <th>1</th>\n",
       "      <td>LightGBM</td>\n",
       "      <td>0.961832</td>\n",
       "      <td>0.938033</td>\n",
       "      <td>0.935709</td>\n",
       "      <td>0.073074</td>\n",
       "    </tr>\n",
       "  </tbody>\n",
       "</table>\n",
       "</div>"
      ],
      "text/plain": [
       "      model  auc_train   auc_val  auc_test      time\n",
       "0   XGBoost   0.970494  0.933863  0.928994  0.247592\n",
       "1  LightGBM   0.961832  0.938033  0.935709  0.073074"
      ]
     },
     "execution_count": 32,
     "metadata": {},
     "output_type": "execute_result"
    }
   ],
   "source": [
    "results"
   ]
  },
  {
   "cell_type": "markdown",
   "metadata": {},
   "source": [
    "\n",
    "## [3] CatBoost\n",
    "\n",
    "Vamos a aplicar ahora un modelo de Catboost."
   ]
  },
  {
   "cell_type": "code",
   "execution_count": 33,
   "metadata": {},
   "outputs": [
    {
     "name": "stdout",
     "output_type": "stream",
     "text": [
      "Requirement already satisfied: catboost in c:\\users\\jesus\\anaconda3\\lib\\site-packages (1.1.1)\n",
      "Requirement already satisfied: graphviz in c:\\users\\jesus\\anaconda3\\lib\\site-packages (from catboost) (0.16)\n",
      "Requirement already satisfied: scipy in c:\\users\\jesus\\anaconda3\\lib\\site-packages (from catboost) (1.6.3)\n",
      "Requirement already satisfied: six in c:\\users\\jesus\\anaconda3\\lib\\site-packages (from catboost) (1.15.0)\n",
      "Requirement already satisfied: matplotlib in c:\\users\\jesus\\anaconda3\\lib\\site-packages (from catboost) (3.3.2)\n",
      "Requirement already satisfied: pandas>=0.24.0 in c:\\users\\jesus\\anaconda3\\lib\\site-packages (from catboost) (1.3.0)\n",
      "Requirement already satisfied: numpy>=1.16.0 in c:\\users\\jesus\\anaconda3\\lib\\site-packages (from catboost) (1.21.0)\n",
      "Requirement already satisfied: plotly in c:\\users\\jesus\\anaconda3\\lib\\site-packages (from catboost) (5.6.0)\n",
      "Requirement already satisfied: cycler>=0.10 in c:\\users\\jesus\\anaconda3\\lib\\site-packages (from matplotlib->catboost) (0.10.0)\n",
      "Requirement already satisfied: python-dateutil>=2.1 in c:\\users\\jesus\\anaconda3\\lib\\site-packages (from matplotlib->catboost) (2.8.1)\n",
      "Requirement already satisfied: certifi>=2020.06.20 in c:\\users\\jesus\\anaconda3\\lib\\site-packages (from matplotlib->catboost) (2020.6.20)\n",
      "Requirement already satisfied: kiwisolver>=1.0.1 in c:\\users\\jesus\\anaconda3\\lib\\site-packages (from matplotlib->catboost) (1.3.0)\n",
      "Requirement already satisfied: pillow>=6.2.0 in c:\\users\\jesus\\anaconda3\\lib\\site-packages (from matplotlib->catboost) (8.0.1)\n",
      "Requirement already satisfied: pyparsing!=2.0.4,!=2.1.2,!=2.1.6,>=2.0.3 in c:\\users\\jesus\\anaconda3\\lib\\site-packages (from matplotlib->catboost) (2.4.7)\n",
      "Requirement already satisfied: pytz>=2017.3 in c:\\users\\jesus\\anaconda3\\lib\\site-packages (from pandas>=0.24.0->catboost) (2020.1)\n",
      "Requirement already satisfied: tenacity>=6.2.0 in c:\\users\\jesus\\anaconda3\\lib\\site-packages (from plotly->catboost) (8.0.1)\n",
      "Note: you may need to restart the kernel to use updated packages.\n"
     ]
    }
   ],
   "source": [
    "%pip install catboost"
   ]
  },
  {
   "cell_type": "markdown",
   "metadata": {},
   "source": [
    "1) Importar modelo."
   ]
  },
  {
   "cell_type": "code",
   "execution_count": 34,
   "metadata": {},
   "outputs": [],
   "source": [
    "from catboost import CatBoostClassifier as model_constructor"
   ]
  },
  {
   "cell_type": "markdown",
   "metadata": {},
   "source": [
    "3) Definimos el modelo"
   ]
  },
  {
   "cell_type": "code",
   "execution_count": 35,
   "metadata": {},
   "outputs": [],
   "source": [
    "model = model_constructor(eval_metric='AUC', verbose=True)"
   ]
  },
  {
   "cell_type": "markdown",
   "metadata": {},
   "source": [
    "Entrenamos el modelo"
   ]
  },
  {
   "cell_type": "code",
   "execution_count": 36,
   "metadata": {},
   "outputs": [
    {
     "name": "stdout",
     "output_type": "stream",
     "text": [
      "Learning rate set to 0.068669\n",
      "0:\ttest: 0.9129386\tbest: 0.9129386 (0)\ttotal: 165ms\tremaining: 2m 44s\n",
      "1:\ttest: 0.9202737\tbest: 0.9202737 (1)\ttotal: 175ms\tremaining: 1m 27s\n",
      "2:\ttest: 0.9277720\tbest: 0.9277720 (2)\ttotal: 184ms\tremaining: 1m 1s\n",
      "3:\ttest: 0.9360158\tbest: 0.9360158 (3)\ttotal: 194ms\tremaining: 48.3s\n",
      "4:\ttest: 0.9366291\tbest: 0.9366291 (4)\ttotal: 201ms\tremaining: 40.1s\n",
      "5:\ttest: 0.9374164\tbest: 0.9374164 (5)\ttotal: 210ms\tremaining: 34.8s\n",
      "6:\ttest: 0.9374897\tbest: 0.9374897 (6)\ttotal: 218ms\tremaining: 30.9s\n",
      "7:\ttest: 0.9397091\tbest: 0.9397091 (7)\ttotal: 226ms\tremaining: 28s\n",
      "8:\ttest: 0.9396106\tbest: 0.9397091 (7)\ttotal: 232ms\tremaining: 25.6s\n",
      "9:\ttest: 0.9410954\tbest: 0.9410954 (9)\ttotal: 240ms\tremaining: 23.7s\n",
      "10:\ttest: 0.9415363\tbest: 0.9415363 (10)\ttotal: 247ms\tremaining: 22.2s\n",
      "11:\ttest: 0.9421896\tbest: 0.9421896 (11)\ttotal: 254ms\tremaining: 20.9s\n",
      "12:\ttest: 0.9430749\tbest: 0.9430749 (12)\ttotal: 260ms\tremaining: 19.8s\n",
      "13:\ttest: 0.9435158\tbest: 0.9435158 (13)\ttotal: 267ms\tremaining: 18.8s\n",
      "14:\ttest: 0.9434265\tbest: 0.9435158 (13)\ttotal: 274ms\tremaining: 18s\n",
      "15:\ttest: 0.9435169\tbest: 0.9435169 (15)\ttotal: 281ms\tremaining: 17.3s\n",
      "16:\ttest: 0.9443804\tbest: 0.9443804 (16)\ttotal: 288ms\tremaining: 16.7s\n",
      "17:\ttest: 0.9442464\tbest: 0.9443804 (16)\ttotal: 295ms\tremaining: 16.1s\n",
      "18:\ttest: 0.9440478\tbest: 0.9443804 (16)\ttotal: 302ms\tremaining: 15.6s\n",
      "19:\ttest: 0.9441869\tbest: 0.9443804 (16)\ttotal: 309ms\tremaining: 15.1s\n",
      "20:\ttest: 0.9441468\tbest: 0.9443804 (16)\ttotal: 315ms\tremaining: 14.7s\n",
      "21:\ttest: 0.9441085\tbest: 0.9443804 (16)\ttotal: 322ms\tremaining: 14.3s\n",
      "22:\ttest: 0.9445946\tbest: 0.9445946 (22)\ttotal: 329ms\tremaining: 14s\n",
      "23:\ttest: 0.9445139\tbest: 0.9445946 (22)\ttotal: 336ms\tremaining: 13.7s\n",
      "24:\ttest: 0.9448196\tbest: 0.9448196 (24)\ttotal: 344ms\tremaining: 13.4s\n",
      "25:\ttest: 0.9449250\tbest: 0.9449250 (25)\ttotal: 352ms\tremaining: 13.2s\n",
      "26:\ttest: 0.9450573\tbest: 0.9450573 (26)\ttotal: 359ms\tremaining: 12.9s\n",
      "27:\ttest: 0.9452554\tbest: 0.9452554 (27)\ttotal: 366ms\tremaining: 12.7s\n",
      "28:\ttest: 0.9453012\tbest: 0.9453012 (28)\ttotal: 375ms\tremaining: 12.6s\n",
      "29:\ttest: 0.9454587\tbest: 0.9454587 (29)\ttotal: 385ms\tremaining: 12.5s\n",
      "30:\ttest: 0.9455778\tbest: 0.9455778 (30)\ttotal: 395ms\tremaining: 12.3s\n",
      "31:\ttest: 0.9454386\tbest: 0.9455778 (30)\ttotal: 404ms\tremaining: 12.2s\n",
      "32:\ttest: 0.9455388\tbest: 0.9455778 (30)\ttotal: 414ms\tremaining: 12.1s\n",
      "33:\ttest: 0.9457077\tbest: 0.9457077 (33)\ttotal: 426ms\tremaining: 12.1s\n",
      "34:\ttest: 0.9458383\tbest: 0.9458383 (34)\ttotal: 436ms\tremaining: 12s\n",
      "35:\ttest: 0.9459293\tbest: 0.9459293 (35)\ttotal: 446ms\tremaining: 11.9s\n",
      "36:\ttest: 0.9460685\tbest: 0.9460685 (36)\ttotal: 456ms\tremaining: 11.9s\n",
      "37:\ttest: 0.9459322\tbest: 0.9460685 (36)\ttotal: 466ms\tremaining: 11.8s\n",
      "38:\ttest: 0.9458612\tbest: 0.9460685 (36)\ttotal: 475ms\tremaining: 11.7s\n",
      "39:\ttest: 0.9458818\tbest: 0.9460685 (36)\ttotal: 484ms\tremaining: 11.6s\n",
      "40:\ttest: 0.9460124\tbest: 0.9460685 (36)\ttotal: 493ms\tremaining: 11.5s\n",
      "41:\ttest: 0.9460994\tbest: 0.9460994 (41)\ttotal: 503ms\tremaining: 11.5s\n",
      "42:\ttest: 0.9460593\tbest: 0.9460994 (41)\ttotal: 512ms\tremaining: 11.4s\n",
      "43:\ttest: 0.9459814\tbest: 0.9460994 (41)\ttotal: 522ms\tremaining: 11.3s\n",
      "44:\ttest: 0.9461590\tbest: 0.9461590 (44)\ttotal: 532ms\tremaining: 11.3s\n",
      "45:\ttest: 0.9462678\tbest: 0.9462678 (45)\ttotal: 543ms\tremaining: 11.3s\n",
      "46:\ttest: 0.9461859\tbest: 0.9462678 (45)\ttotal: 553ms\tremaining: 11.2s\n",
      "47:\ttest: 0.9461235\tbest: 0.9462678 (45)\ttotal: 565ms\tremaining: 11.2s\n",
      "48:\ttest: 0.9458864\tbest: 0.9462678 (45)\ttotal: 575ms\tremaining: 11.2s\n",
      "49:\ttest: 0.9457306\tbest: 0.9462678 (45)\ttotal: 585ms\tremaining: 11.1s\n",
      "50:\ttest: 0.9458492\tbest: 0.9462678 (45)\ttotal: 594ms\tremaining: 11.1s\n",
      "51:\ttest: 0.9458755\tbest: 0.9462678 (45)\ttotal: 603ms\tremaining: 11s\n",
      "52:\ttest: 0.9458623\tbest: 0.9462678 (45)\ttotal: 612ms\tremaining: 10.9s\n",
      "53:\ttest: 0.9460776\tbest: 0.9462678 (45)\ttotal: 621ms\tremaining: 10.9s\n",
      "54:\ttest: 0.9460662\tbest: 0.9462678 (45)\ttotal: 630ms\tremaining: 10.8s\n",
      "55:\ttest: 0.9461452\tbest: 0.9462678 (45)\ttotal: 639ms\tremaining: 10.8s\n",
      "Stopped by overfitting detector  (10 iterations wait)\n",
      "\n",
      "bestTest = 0.9462677508\n",
      "bestIteration = 45\n",
      "\n",
      "Shrink model to first 46 iterations.\n"
     ]
    }
   ],
   "source": [
    "start = timeit.default_timer()\n",
    "model = model.fit(X_train, y_train,\n",
    "                 eval_set=(X_val, y_val), early_stopping_rounds = 10)\n",
    "time = timeit.default_timer() - start"
   ]
  },
  {
   "cell_type": "markdown",
   "metadata": {},
   "source": [
    "5) Llamar al método predict para generar las predicciones."
   ]
  },
  {
   "cell_type": "code",
   "execution_count": 37,
   "metadata": {},
   "outputs": [],
   "source": [
    "pred_train_p = model.predict_proba(X_train)\n",
    "pred_val_p = model.predict_proba(X_val)\n",
    "pred_test_p = model.predict_proba(X_test) "
   ]
  },
  {
   "cell_type": "markdown",
   "metadata": {},
   "source": [
    "6) Calcular métrica usando las predicciones obtenidas en el paso anterior."
   ]
  },
  {
   "cell_type": "code",
   "execution_count": 38,
   "metadata": {},
   "outputs": [],
   "source": [
    "# Calcular métricas de evaluación\n",
    "auc_train = metric(y_train, pred_train_p[:,1]);\n",
    "auc_val = metric(y_val, pred_val_p[:,1]);\n",
    "auc_test = metric(y_test, pred_test_p[:,1]);\n",
    "results = results.append(pd.DataFrame(data={'model':['CatBoost'],'auc_train':[auc_train],'auc_val':[auc_val],'auc_test':[auc_test], 'time': [time]}, columns=['model',  'auc_train','auc_val', 'auc_test', 'time']), ignore_index=True)"
   ]
  },
  {
   "cell_type": "code",
   "execution_count": 39,
   "metadata": {
    "scrolled": false
   },
   "outputs": [
    {
     "data": {
      "text/html": [
       "<div>\n",
       "<style scoped>\n",
       "    .dataframe tbody tr th:only-of-type {\n",
       "        vertical-align: middle;\n",
       "    }\n",
       "\n",
       "    .dataframe tbody tr th {\n",
       "        vertical-align: top;\n",
       "    }\n",
       "\n",
       "    .dataframe thead th {\n",
       "        text-align: right;\n",
       "    }\n",
       "</style>\n",
       "<table border=\"1\" class=\"dataframe\">\n",
       "  <thead>\n",
       "    <tr style=\"text-align: right;\">\n",
       "      <th></th>\n",
       "      <th>model</th>\n",
       "      <th>auc_train</th>\n",
       "      <th>auc_val</th>\n",
       "      <th>auc_test</th>\n",
       "      <th>time</th>\n",
       "    </tr>\n",
       "  </thead>\n",
       "  <tbody>\n",
       "    <tr>\n",
       "      <th>0</th>\n",
       "      <td>XGBoost</td>\n",
       "      <td>0.970494</td>\n",
       "      <td>0.933863</td>\n",
       "      <td>0.928994</td>\n",
       "      <td>0.247592</td>\n",
       "    </tr>\n",
       "    <tr>\n",
       "      <th>1</th>\n",
       "      <td>LightGBM</td>\n",
       "      <td>0.961832</td>\n",
       "      <td>0.938033</td>\n",
       "      <td>0.935709</td>\n",
       "      <td>0.073074</td>\n",
       "    </tr>\n",
       "    <tr>\n",
       "      <th>2</th>\n",
       "      <td>CatBoost</td>\n",
       "      <td>0.952849</td>\n",
       "      <td>0.946268</td>\n",
       "      <td>0.939088</td>\n",
       "      <td>0.724394</td>\n",
       "    </tr>\n",
       "  </tbody>\n",
       "</table>\n",
       "</div>"
      ],
      "text/plain": [
       "      model  auc_train   auc_val  auc_test      time\n",
       "0   XGBoost   0.970494  0.933863  0.928994  0.247592\n",
       "1  LightGBM   0.961832  0.938033  0.935709  0.073074\n",
       "2  CatBoost   0.952849  0.946268  0.939088  0.724394"
      ]
     },
     "execution_count": 39,
     "metadata": {},
     "output_type": "execute_result"
    }
   ],
   "source": [
    "results"
   ]
  },
  {
   "cell_type": "markdown",
   "metadata": {},
   "source": [
    "Conclusiones:\n",
    "- Lightgbm es el más rápido.\n",
    "- Lightgbm requiere algunos pasos extra para ejecutarse.\n",
    "- Catboost tiene una muy buena performance con los parámetros por defecto.\n",
    "- **Habría que realizar una búsqueda en rejilla para una comparación más informativa sobre el ganador final.**"
   ]
  }
 ],
 "metadata": {
  "kernelspec": {
   "display_name": "Python 3",
   "language": "python",
   "name": "python3"
  },
  "language_info": {
   "codemirror_mode": {
    "name": "ipython",
    "version": 3
   },
   "file_extension": ".py",
   "mimetype": "text/x-python",
   "name": "python",
   "nbconvert_exporter": "python",
   "pygments_lexer": "ipython3",
   "version": "3.8.5"
  }
 },
 "nbformat": 4,
 "nbformat_minor": 2
}
