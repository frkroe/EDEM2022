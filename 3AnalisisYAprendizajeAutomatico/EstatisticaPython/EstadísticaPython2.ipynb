{
  "cells": [
    {
      "cell_type": "markdown",
      "metadata": {
        "id": "I_LiVquajbb2"
      },
      "source": [
        "# Distribuciones de probabilidad\n",
        "Describe como está distribuida una variable aleatoria. Nos dice qué valores de una variable aleatoria son más probables así como cuales lo son menos."
      ]
    },
    {
      "cell_type": "code",
      "execution_count": 1,
      "metadata": {
        "id": "f1kLU-rAkGvO"
      },
      "outputs": [],
      "source": [
        "%matplotlib inline\n",
        "\n",
        "import numpy as np\n",
        "import pandas as pd\n",
        "import matplotlib.pyplot as plt\n",
        "import scipy.stats as stats\n",
        "import random"
      ]
    },
    {
      "cell_type": "markdown",
      "metadata": {
        "id": "Jh388tfzj-eW"
      },
      "source": [
        "# Distribución Uniforme"
      ]
    },
    {
      "cell_type": "code",
      "execution_count": 8,
      "metadata": {
        "id": "Zdr8EhnejWZG"
      },
      "outputs": [
        {
          "data": {
            "text/plain": [
              "array([3.75472524, 1.94653983, 3.03240086, ..., 5.41635645, 1.40432032,\n",
              "       5.01831149])"
            ]
          },
          "execution_count": 8,
          "metadata": {},
          "output_type": "execute_result"
        }
      ],
      "source": [
        "# RVS: Generate random data sample\n",
        "# The bigger the size, the more ideal is its density plot (but caution: takes a long time to load)\n",
        "uniform_data = stats.uniform.rvs(size=1000000,  # Generate 1000000 numbers\n",
        "                                 loc = 0,      # From 0 \n",
        "                                 scale=10)     # To 10\n",
        "uniform_data                         \n",
        "                                "
      ]
    },
    {
      "cell_type": "code",
      "execution_count": 9,
      "metadata": {
        "colab": {
          "base_uri": "https://localhost:8080/",
          "height": 537
        },
        "id": "TH6ADFwQkPdu",
        "outputId": "abf60bdc-6c11-4730-8058-c4fb96a2da5a"
      },
      "outputs": [
        {
          "data": {
            "image/png": "[encoded data removed]",
            "text/plain": [
              "<Figure size 648x648 with 1 Axes>"
            ]
          },
          "metadata": {
            "needs_background": "light"
          },
          "output_type": "display_data"
        }
      ],
      "source": [
        "pd.DataFrame(uniform_data).plot(kind=\"density\",  # Plot the distribution\n",
        "                               figsize=(9,9),\n",
        "                               xlim=(-1,11));"
      ]
    },
    {
      "cell_type": "markdown",
      "metadata": {
        "id": "sziPAObmkZ1E"
      },
      "source": [
        "stats.distribution.rvs() genera muestras aleatorias de una distribución concreta. Depende la distribución que estemos trabajando le tendremos que dar unos inputs o otros.\n",
        "\n",
        "tats.distribution.cdf se usa para determinar la probabilidad de que dicha distribución tome en el valor que le indicamos o uno menos (función de distribución)\n",
        "\n"
      ]
    },
    {
      "cell_type": "code",
      "execution_count": 4,
      "metadata": {
        "id": "bTqWS8KKlCvo"
      },
      "outputs": [
        {
          "data": {
            "text/plain": [
              "0.25"
            ]
          },
          "execution_count": 4,
          "metadata": {},
          "output_type": "execute_result"
        }
      ],
      "source": [
        "# CDF: Determine the probability that this distribution takes on the value you indicate or one less\n",
        "stats.uniform.cdf(x=2.5,         # Cutoff value (quantile) to check\n",
        "                  loc=0,         # Distribution start\n",
        "                  scale=10)      # Distribution end"
      ]
    },
    {
      "cell_type": "markdown",
      "metadata": {
        "id": "ZJaaa7OjlMdO"
      },
      "source": [
        "stats.distribution.ppf() es la inversa de cdf. Te devuelve el valor de la variable (cuantil) asociado a la probabilidad acumulada que le indiques."
      ]
    },
    {
      "cell_type": "code",
      "execution_count": 10,
      "metadata": {
        "id": "zcwq9ImzljvY"
      },
      "outputs": [
        {
          "data": {
            "text/plain": [
              "4.0"
            ]
          },
          "execution_count": 10,
          "metadata": {},
          "output_type": "execute_result"
        }
      ],
      "source": [
        "# PPF (inverse of CDF): return the value of the variable (quantile) associated with the cumulative probability you indicate\n",
        "stats.uniform.ppf(q=0.4,         # Probability cutoff\n",
        "                  loc=0,         # Distribution start\n",
        "                  scale=10)      # Distribution end"
      ]
    },
    {
      "cell_type": "markdown",
      "metadata": {
        "id": "P_VyDY7WmoeY"
      },
      "source": [
        "stats.distribution.pdf() nos indica la función de densidad (la altura dela función de distribución) dado un valor de x."
      ]
    },
    {
      "cell_type": "code",
      "execution_count": 11,
      "metadata": {
        "id": "io_9FJ0NnGAn"
      },
      "outputs": [
        {
          "name": "stdout",
          "output_type": "stream",
          "text": [
            "Density at x value -1\n",
            "0.0\n",
            "Density at x value 2\n",
            "0.1\n",
            "Density at x value 5\n",
            "0.1\n",
            "Density at x value 8\n",
            "0.1\n",
            "Density at x value 11\n",
            "0.0\n"
          ]
        }
      ],
      "source": [
        "# PDF: Return density at given values x\n",
        "for x in range(-1,12,3):\n",
        "    print(\"Density at x value \" + str(x))\n",
        "    print( stats.uniform.pdf(x, loc=0, scale=10) )   "
      ]
    },
    {
      "cell_type": "markdown",
      "metadata": {
        "id": "Z0lGCKHhngks"
      },
      "source": [
        "La distribución normal o gaussiana es una distribución de probabilidad continua caracterizada por una curva simétrica en forma de campana. Una distribución normal se define por su centro (media) y dispersión (desviación estándar). La mayor parte de las observaciones generadas a partir de una distribución normal se encuentran cerca de la media, que se encuentra en el centro exacto de la distribución: como regla general, alrededor del 68 % de los datos se encuentran dentro de 1 desviación estándar de la media, el 95 % se encuentra dentro de 2 desviaciones estándar y el 99,7% se encuentran dentro de 3 desviaciones estándar.\n",
        "\n",
        "La distribución normal es quizás la distribución más importante de todas las estadísticas. Resulta que muchos fenómenos del mundo real, como los puntajes de las pruebas de coeficiente intelectual y las alturas humanas, siguen aproximadamente una distribución normal, por lo que a menudo se usa para modelar variables aleatorias. Muchas pruebas estadísticas comunes asumen que las distribuciones son normales.\n",
        "\n",
        "El apodo de scipy para la distribución normal es norm. Investiguemos la distribución normal:"
      ]
    },
    {
      "cell_type": "code",
      "execution_count": 12,
      "metadata": {
        "colab": {
          "base_uri": "https://localhost:8080/"
        },
        "id": "OrF8wCBOnzQL",
        "outputId": "ef02fa83-7242-4175-cce2-5f8840ecb223"
      },
      "outputs": [
        {
          "name": "stdout",
          "output_type": "stream",
          "text": [
            "0.15865525393145707 0.15865525393145707 0.6826894921370859\n"
          ]
        }
      ],
      "source": [
        "prob_under_minus1 = stats.norm.cdf(x= -1,  \n",
        "                                loc = 0,               \n",
        "                                scale= 1)     \n",
        "\n",
        "prob_over_1 = 1 - stats.norm.cdf(x= 1,  \n",
        "                                loc = 0,               \n",
        "                                scale= 1) \n",
        "\n",
        "between_prob = 1-(prob_under_minus1+prob_over_1)\n",
        "\n",
        "print(prob_under_minus1, prob_over_1, between_prob)"
      ]
    },
    {
      "cell_type": "markdown",
      "metadata": {
        "id": "Zd-Ua3DCo2c9"
      },
      "source": [
        "El resultado muestra que aproximadamente el 16 % de los datos generados por una distribución normal con media 0 y desviación estándar 1 está por debajo de -1, el 16 % está por encima de 1 y el 68 % se encuentra entre -1 y 1, lo que concuerda con 68, 95, regla 99.7."
      ]
    },
    {
      "cell_type": "code",
      "execution_count": 16,
      "metadata": {
        "colab": {
          "base_uri": "https://localhost:8080/",
          "height": 537
        },
        "id": "whZkZy00pGsq",
        "outputId": "6e891eca-3de4-4a12-d26f-dc824f8668b4"
      },
      "outputs": [
        {
          "data": {
            "image/png": "[encoded data removed]",
            "text/plain": [
              "<Figure size 648x648 with 1 Axes>"
            ]
          },
          "metadata": {
            "needs_background": "light"
          },
          "output_type": "display_data"
        }
      ],
      "source": [
        "# Plot normal distribution areas*\n",
        "\n",
        "plt.rcParams[\"figure.figsize\"] = (9,9)\n",
        "                                  \n",
        "plt.fill_between(x=np.arange(-4,-1,0.01), \n",
        "                 y1= stats.norm.pdf(np.arange(-4,-1,0.01)) ,\n",
        "                 facecolor='red',\n",
        "                 alpha=0.35)\n",
        "\n",
        "plt.fill_between(x=np.arange(1,4,0.01), \n",
        "                 y1= stats.norm.pdf(np.arange(1,4,0.01)) ,\n",
        "                 facecolor='red',\n",
        "                 alpha=0.35)\n",
        "\n",
        "plt.fill_between(x=np.arange(-1,1,0.01), \n",
        "                 y1= stats.norm.pdf(np.arange(-1,1,0.01)) ,\n",
        "                 facecolor='blue',\n",
        "                 alpha=0.35)\n",
        "\n",
        "plt.text(x=-1.8, y=0.03, s= round(prob_under_minus1,3))\n",
        "plt.text(x=-0.2, y=0.1, s= round(between_prob,3))\n",
        "plt.text(x=1.4, y=0.03, s= round(prob_over_1,3));"
      ]
    },
    {
      "cell_type": "markdown",
      "metadata": {
        "id": "AFLHGj8Ipf3j"
      },
      "source": [
        "Encontrar cuantiles de la distribución normal es una tarea común cuando se realizan pruebas estadísticas. Puede comprobar los cuantiles de distribución normal con stats.norm.ppf():"
      ]
    },
    {
      "cell_type": "code",
      "execution_count": null,
      "metadata": {
        "id": "5HAo6bvrplIr"
      },
      "outputs": [],
      "source": [
        "print( stats.norm.ppf(q=0.025) ) # Find the quantile for the 2.5% cutoff\n",
        "\n",
        "print( stats.norm.ppf(q=0.975) ) # Find the quantile for the 97.5% cutoff"
      ]
    },
    {
      "cell_type": "markdown",
      "metadata": {
        "id": "FTrM1LWdpwUc"
      },
      "source": [
        "El resultado del cuantil anterior confirma que aproximadamente el 5 % de los datos se encuentran a más de 2 desviaciones estándar de la media."
      ]
    },
    {
      "cell_type": "markdown",
      "metadata": {
        "id": "UV-TIjhYqRuq"
      },
      "source": [
        "#Distribución Binomial"
      ]
    },
    {
      "cell_type": "markdown",
      "metadata": {
        "id": "4D-vE19sqP2K"
      },
      "source": [
        "La [distribución binomial](https://en.wikipedia.org/wiki/Binomial_distribution) es una distribución de probabilidad discreta que modela los resultados de un número dado de senderos aleatorios de algún experimento o evento. El binomio se define por dos parámetros: la probabilidad de éxito en cualquier intento y el número de intentos. La distribución binomial te dice qué tan probable es lograr un número dado de éxitos en n intentos del experimento. Por ejemplo, podríamos modelar el lanzamiento de una moneda al aire 10 veces con una distribución binomial donde el número de intentos se establece en 10 y la probabilidad de éxito se establece en 0,5. En este caso, la distribución nos diría qué tan probable es obtener cero caras, 1 cara, 2 caras y así sucesivamente.\n",
        "\n",
        "El nombre de Scipy para el binomio es binomial. Generemos e investiguemos algunos datos binomiales:"
      ]
    },
    {
      "cell_type": "code",
      "execution_count": 5,
      "metadata": {
        "colab": {
          "base_uri": "https://localhost:8080/",
          "height": 333
        },
        "id": "NAHElOlGqtXD",
        "outputId": "7ccafefa-c075-4ea0-cf28-a14ea405be9b"
      },
      "outputs": [
        {
          "name": "stdout",
          "output_type": "stream",
          "text": [
            "col_0   0   1    2     3     4     5     6     7    8    9   10\n",
            "row_0                                                          \n",
            "counts  13  97  450  1182  2049  2422  2043  1211  427  100   6\n"
          ]
        },
        {
          "data": {
            "image/png": "[encoded data removed]",
            "text/plain": [
              "<Figure size 432x288 with 1 Axes>"
            ]
          },
          "metadata": {
            "needs_background": "light"
          },
          "output_type": "display_data"
        }
      ],
      "source": [
        "fair_coin_flips = stats.binom.rvs(n=10,        # Number of flips per trial\n",
        "                                  p=0.5,       # Success probability\n",
        "                                  size=10000)  # Number of trials\n",
        "\n",
        "print( pd.crosstab(index=\"counts\", columns= fair_coin_flips))\n",
        "\n",
        "pd.DataFrame(fair_coin_flips).hist(range=(-0.5,10.5), bins=11);"
      ]
    },
    {
      "cell_type": "markdown",
      "metadata": {
        "id": "ebClcUoJq02R"
      },
      "source": [
        "Hay que tener en cuena en cuenta que dado que la distribución binomial es discreta, solo toma valores enteros, por lo que podemos resumir los datos binomiales con una tabla de frecuencia y su distribución con un histograma. El histograma nos muestra que una distribución binomial con un 50 % de probabilidad de éxito es aproximadamente simétrica, con los resultados más probables en el centro. Esto recuerda a la distribución normal, pero si alteramos la probabilidad de éxito, la distribución no será simétrica:"
      ]
    },
    {
      "cell_type": "code",
      "execution_count": 6,
      "metadata": {
        "colab": {
          "base_uri": "https://localhost:8080/",
          "height": 333
        },
        "id": "u7Su3Cufq5gP",
        "outputId": "5c201a9d-1052-4bf0-b908-32eb2ae3da02"
      },
      "outputs": [
        {
          "name": "stdout",
          "output_type": "stream",
          "text": [
            "col_0   3   4    5    6     7     8     9     10\n",
            "row_0                                           \n",
            "counts   7  54  273  844  1998  3079  2657  1088\n"
          ]
        },
        {
          "data": {
            "image/png": "[encoded data removed]",
            "text/plain": [
              "<Figure size 432x288 with 1 Axes>"
            ]
          },
          "metadata": {
            "needs_background": "light"
          },
          "output_type": "display_data"
        }
      ],
      "source": [
        "biased_coin_flips = stats.binom.rvs(n=10,      # Number of flips per trial\n",
        "                                  p=0.8,       # Success probability\n",
        "                                  size=10000)  # Number of trials\n",
        "\n",
        "# Print table of counts\n",
        "print( pd.crosstab(index=\"counts\", columns= biased_coin_flips))\n",
        "\n",
        "# Plot histogram\n",
        "pd.DataFrame(biased_coin_flips).hist(range=(-0.5,10.5), bins=11);"
      ]
    },
    {
      "cell_type": "markdown",
      "metadata": {
        "id": "B-TNfAKlrAoj"
      },
      "source": [
        "La función cdf() nos permite verificar la probabilidad de lograr una cantidad de éxitos dentro de un cierto rango:"
      ]
    },
    {
      "cell_type": "code",
      "execution_count": 7,
      "metadata": {
        "colab": {
          "base_uri": "https://localhost:8080/"
        },
        "id": "7JqCxoDzrD6h",
        "outputId": "51620bf3-6ca3-4e2c-956f-0a96c4557b55"
      },
      "outputs": [
        {
          "data": {
            "text/plain": [
              "0.03279349759999997"
            ]
          },
          "execution_count": 7,
          "metadata": {},
          "output_type": "execute_result"
        }
      ],
      "source": [
        "stats.binom.cdf(k=5,        # Probability of k = 5 successes or less\n",
        "                n=10,       # With 10 flips\n",
        "                p=0.8)      # And success probability 0.8"
      ]
    },
    {
      "cell_type": "code",
      "execution_count": null,
      "metadata": {
        "id": "DNQyBNA3rHkh"
      },
      "outputs": [],
      "source": [
        "1 - stats.binom.cdf(k=8,        # Probability of k = 9 successes or more\n",
        "                    n=10,       # With 10 flips\n",
        "                    p=0.8)      # And success probability 0.8"
      ]
    },
    {
      "cell_type": "markdown",
      "metadata": {
        "id": "X2TOIP3DrZZZ"
      },
      "source": [
        "Para funciones de densidad de probabilidad continuas, se utiliza pmf() para verificar la densidad de probabilidad en un valor x dado. Para distribuciones discretas como la binomial, se usa stats.distribution.pmf() (función de masa de probabilidad) para verificar la masa (proporción de observaciones) en un número dado de éxitos k:"
      ]
    },
    {
      "cell_type": "code",
      "execution_count": 8,
      "metadata": {
        "colab": {
          "base_uri": "https://localhost:8080/"
        },
        "id": "L0eGdVl8rktK",
        "outputId": "a1cceab0-1065-43b9-a6a2-f9535d7da4df"
      },
      "outputs": [
        {
          "data": {
            "text/plain": [
              "0.24609375000000003"
            ]
          },
          "execution_count": 8,
          "metadata": {},
          "output_type": "execute_result"
        }
      ],
      "source": [
        "stats.binom.pmf(k=5,        # Probability of k = 5 successes\n",
        "                n=10,       # With 10 flips\n",
        "                p=0.5)      # And success probability 0.5"
      ]
    },
    {
      "cell_type": "code",
      "execution_count": 9,
      "metadata": {
        "colab": {
          "base_uri": "https://localhost:8080/"
        },
        "id": "W3D-pVFvrn4x",
        "outputId": "1934f8c5-0b90-4db5-a777-145a418ed3ef"
      },
      "outputs": [
        {
          "data": {
            "text/plain": [
              "0.30198988799999993"
            ]
          },
          "execution_count": 9,
          "metadata": {},
          "output_type": "execute_result"
        }
      ],
      "source": [
        "stats.binom.pmf(k=8,        # Probability of k = 8 successes\n",
        "                n=10,       # With 10 flips\n",
        "                p=0.8)      # And success probability 0.8"
      ]
    },
    {
      "cell_type": "markdown",
      "metadata": {
        "id": "zM312hGluNap"
      },
      "source": [
        "#Distribución de Poisson"
      ]
    },
    {
      "cell_type": "markdown",
      "metadata": {
        "id": "FBI_jbeJsEt0"
      },
      "source": [
        "La distribución de Poisson modela la probabilidad de ver una cierta cantidad de éxitos dentro de un intervalo de tiempo, donde el tiempo que lleva el siguiente éxito se modela mediante una distribución exponencial. La distribución de Poisson se puede usar para modelar el tráfico, como la cantidad de llegadas que un hospital puede esperar en una hora o la cantidad de correos electrónicos que esperaría recibir en una semana.\n",
        "\n",
        "El nombre de Scipy para la distribución de Poisson es \"poisson\". Generemos y representemos algunos datos de una distribución de Poisson con una tasa de llegada de 1 por unidad de tiempo:"
      ]
    },
    {
      "cell_type": "code",
      "execution_count": 13,
      "metadata": {
        "colab": {
          "base_uri": "https://localhost:8080/",
          "height": 333
        },
        "id": "mTTlRGiSsLa7",
        "outputId": "0a585d1a-7e4f-4d5b-e0a9-b5c7dccaa561"
      },
      "outputs": [
        {
          "name": "stdout",
          "output_type": "stream",
          "text": [
            "col_0      0     1     2    3    4   5  6  7\n",
            "row_0                                       \n",
            "counts  3705  3683  1822  610  143  30  6  1\n"
          ]
        },
        {
          "data": {
            "image/png": "[encoded data removed]",
            "text/plain": [
              "<Figure size 432x288 with 1 Axes>"
            ]
          },
          "metadata": {
            "needs_background": "light"
          },
          "output_type": "display_data"
        }
      ],
      "source": [
        "random.seed(12)\n",
        "\n",
        "arrival_rate_1 = stats.poisson.rvs(size=10000,  # Generate Poisson data\n",
        "                                   mu=1 )       # Average arrival time 1\n",
        "\n",
        "# Print table of counts\n",
        "print( pd.crosstab(index=\"counts\", columns= arrival_rate_1))\n",
        "\n",
        "# Plot histogram\n",
        "pd.DataFrame(arrival_rate_1).hist(range=(-0.5,max(arrival_rate_1)+0.5)\n",
        "                                    , bins=max(arrival_rate_1)+1);"
      ]
    },
    {
      "cell_type": "markdown",
      "metadata": {
        "id": "s73Qx4BosQfY"
      },
      "source": [
        "El histograma muestra que cuando las llegadas son relativamente poco frecuentes, es raro ver más de un par de llegadas en cada período de tiempo. Cuando la tasa de llegadas es alta, se vuelve cada vez más raro ver un número bajo de llegadas y la distribución comienza a verse más simétrica:"
      ]
    },
    {
      "cell_type": "code",
      "execution_count": 14,
      "metadata": {
        "colab": {
          "base_uri": "https://localhost:8080/",
          "height": 437
        },
        "id": "eSmvGdM5sRWZ",
        "outputId": "9402b70b-0238-4fe7-e4b1-aa4c6ec0c9e0"
      },
      "outputs": [
        {
          "name": "stdout",
          "output_type": "stream",
          "text": [
            "col_0   1   2   3    4    5    6    7     8     9     10  ...   16   17  18  \\\n",
            "row_0                                                     ...                 \n",
            "counts   4  18  72  183  392  598  898  1109  1282  1258  ...  219  131  70   \n",
            "\n",
            "col_0   19  20  21  22  23  25  27  \n",
            "row_0                               \n",
            "counts  32  12  12   5   1   1   1  \n",
            "\n",
            "[1 rows x 25 columns]\n"
          ]
        },
        {
          "data": {
            "image/png": "[encoded data removed]",
            "text/plain": [
              "<Figure size 432x288 with 1 Axes>"
            ]
          },
          "metadata": {
            "needs_background": "light"
          },
          "output_type": "display_data"
        }
      ],
      "source": [
        "random.seed(12)\n",
        "\n",
        "arrival_rate_10 = stats.poisson.rvs(size=10000,  # Generate Poisson data\n",
        "                                   mu=10 )       # Average arrival time 10\n",
        "\n",
        "# Print table of counts\n",
        "print( pd.crosstab(index=\"counts\", columns= arrival_rate_10))\n",
        "\n",
        "# Plot histogram\n",
        "pd.DataFrame(arrival_rate_10).hist(range=(-0.5,max(arrival_rate_10)+0.5)\n",
        "                                    , bins=max(arrival_rate_10)+1);"
      ]
    },
    {
      "cell_type": "markdown",
      "metadata": {
        "id": "GKzp4UDisWcx"
      },
      "source": [
        "Al igual que con otras distribuciones de probabilidad discretas, podemos usar cdf() para verificar la probabilidad de lograr más o menos de un cierto número de éxitos y pmf() para verificar la probabilidad de obtener un número específico de éxitos:"
      ]
    },
    {
      "cell_type": "code",
      "execution_count": 17,
      "metadata": {
        "id": "ITpxiTnpsmIa"
      },
      "outputs": [
        {
          "data": {
            "text/plain": [
              "0.06708596287903189"
            ]
          },
          "execution_count": 17,
          "metadata": {},
          "output_type": "execute_result"
        }
      ],
      "source": [
        "stats.poisson.cdf(k=5,     # Check the probability of 5 arrivals or less\n",
        "                  mu=10)   # With arrival rate 10"
      ]
    },
    {
      "cell_type": "code",
      "execution_count": 18,
      "metadata": {
        "id": "DjfT01acsmup"
      },
      "outputs": [
        {
          "data": {
            "text/plain": [
              "0.06708596287903189"
            ]
          },
          "execution_count": 18,
          "metadata": {},
          "output_type": "execute_result"
        }
      ],
      "source": [
        "stats.poisson.cdf(k=5,     # Check the probability of 5 arrivals or less\n",
        "                  mu=10)   # With arrival rate 10"
      ]
    },
    {
      "attachments": {},
      "cell_type": "markdown",
      "metadata": {},
      "source": [
        "# Distribución exponencial\n"
      ]
    },
    {
      "cell_type": "code",
      "execution_count": 36,
      "metadata": {},
      "outputs": [],
      "source": [
        "# Crear muestra\n",
        "muestra = stats.expon.rvs(loc=0, scale=1, size=1000, random_state=None)"
      ]
    },
    {
      "cell_type": "code",
      "execution_count": 37,
      "metadata": {},
      "outputs": [
        {
          "data": {
            "text/plain": [
              "0.3934693402873666"
            ]
          },
          "execution_count": 37,
          "metadata": {},
          "output_type": "execute_result"
        }
      ],
      "source": [
        "#calcular la probabilidad acumulada de la distribución hasta el valor x\n",
        "x = 5\n",
        "stats.expon.cdf(x, loc=0, scale=10)"
      ]
    },
    {
      "cell_type": "code",
      "execution_count": 22,
      "metadata": {},
      "outputs": [
        {
          "data": {
            "text/plain": [
              "6.931471805599453"
            ]
          },
          "execution_count": 22,
          "metadata": {},
          "output_type": "execute_result"
        }
      ],
      "source": [
        "#calcular el valor de la distribución que corresponde a la probabilidad acumulada q\n",
        "q = 0.5\n",
        "stats.expon.ppf(q, loc=0, scale=10)"
      ]
    },
    {
      "cell_type": "code",
      "execution_count": 23,
      "metadata": {},
      "outputs": [
        {
          "data": {
            "text/plain": [
              "0.0740818220681718"
            ]
          },
          "execution_count": 23,
          "metadata": {},
          "output_type": "execute_result"
        }
      ],
      "source": [
        "#calcular la probabilidad de la distribución en el valor x\n",
        "x = 3\n",
        "stats.expon.pdf(x, loc=0, scale=10)"
      ]
    },
    {
      "cell_type": "code",
      "execution_count": 39,
      "metadata": {},
      "outputs": [
        {
          "data": {
            "image/png": "[encoded data removed]",
            "text/plain": [
              "<Figure size 648x648 with 1 Axes>"
            ]
          },
          "metadata": {
            "needs_background": "light"
          },
          "output_type": "display_data"
        }
      ],
      "source": [
        "# Plotear distribución exponencial:\n",
        "\n",
        "## Create empty graph\n",
        "fig, ax = plt.subplots(1, 1)\n",
        "ax.set_title('Exponential Distribution')\n",
        "ax.set_xlabel('value x')\n",
        "ax.set_ylabel('probability density')\n",
        "\n",
        "## Add distribution graph\n",
        "x = np.linspace(stats.expon.ppf(0.01),\n",
        "                stats.expon.ppf(0.99), 100)\n",
        "ax.plot(x, stats.expon.pdf(x),\n",
        "       'r-', lw=5, alpha=0.6, label='expon')\n",
        "\n",
        "## Add histogram from our sample data\n",
        "ax.hist(muestra, density=True, bins='auto', histtype='stepfilled', alpha=0.2)\n",
        "ax.set_xlim([x[0], x[-1]])\n",
        "ax.legend(loc='best', frameon=False)\n",
        "plt.show()"
      ]
    }
  ],
  "metadata": {
    "colab": {
      "provenance": []
    },
    "kernelspec": {
      "display_name": "Python 3",
      "language": "python",
      "name": "python3"
    },
    "language_info": {
      "codemirror_mode": {
        "name": "ipython",
        "version": 3
      },
      "file_extension": ".py",
      "mimetype": "text/x-python",
      "name": "python",
      "nbconvert_exporter": "python",
      "pygments_lexer": "ipython3",
      "version": "3.9.12"
    },
    "vscode": {
      "interpreter": {
        "hash": "f167d7208f068a761a61c7abe8a19a71cbf6c597593c47696850f64e310bbdac"
      }
    }
  },
  "nbformat": 4,
  "nbformat_minor": 0
}
