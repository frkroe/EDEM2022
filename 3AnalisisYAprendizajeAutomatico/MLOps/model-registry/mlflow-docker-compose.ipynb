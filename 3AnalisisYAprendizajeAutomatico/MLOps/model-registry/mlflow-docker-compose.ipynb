{
 "cells": [
  {
   "cell_type": "code",
   "execution_count": null,
   "metadata": {},
   "outputs": [],
   "source": [
    "# Tutorial for setting up MLflow with Docker Compose\n",
    "# Kudos to: https://github.com/sachua/"
   ]
  },
  {
   "cell_type": "code",
   "execution_count": null,
   "metadata": {},
   "outputs": [],
   "source": [
    "# git clone https://github.com/sachua/mlflow-docker-compose.git\n",
    "# cd mlflow-docker-compose\n",
    "# docker-compose up -d\n",
    "# docker ps\n",
    "\n",
    "# If working with WSL, you may need to follow the instructions here:\n",
    "# https://www.digitalocean.com/community/questions/how-to-fix-docker-got-permission-denied-while-trying-to-connect-to-the-docker-daemon-socket\n",
    "# To avoid restarting the shell, you can run the following command: newgrp docker\n"
   ]
  }
 ],
 "metadata": {
  "kernelspec": {
   "display_name": "Python 3",
   "language": "python",
   "name": "python3"
  },
  "language_info": {
   "name": "python",
   "version": "3.8.10 (default, Nov 14 2022, 12:59:47) \n[GCC 9.4.0]"
  },
  "orig_nbformat": 4,
  "vscode": {
   "interpreter": {
    "hash": "916dbcbb3f70747c44a77c7bcd40155683ae19c65e1c03b4aa3499c5328201f1"
   }
  }
 },
 "nbformat": 4,
 "nbformat_minor": 2
}
