{
 "cells": [
  {
   "attachments": {},
   "cell_type": "markdown",
   "metadata": {},
   "source": [
    "# Model registry: MLFlow\n",
    "\n",
    "Example on how to use the MLFlow model during the training of a model"
   ]
  },
  {
   "attachments": {},
   "cell_type": "markdown",
   "metadata": {},
   "source": [
    "## 1. Install MLFlow"
   ]
  },
  {
   "cell_type": "code",
   "execution_count": 7,
   "metadata": {},
   "outputs": [],
   "source": [
    "# !pip install mlflow\n",
    "# !pip freeze | grep mlflow"
   ]
  },
  {
   "attachments": {},
   "cell_type": "markdown",
   "metadata": {},
   "source": [
    "## 2. Setup MLFlow Tracking Server\n",
    "Run the following command in a terminal to start the MLFlow Tracking Server\n",
    "\n",
    "Configure mlflow to store all in a local directory\n",
    "\n",
    "mlflow server --backend-store-uri ./mlruns --default-artifact-root ./mlruns"
   ]
  },
  {
   "attachments": {},
   "cell_type": "markdown",
   "metadata": {},
   "source": [
    "## 3. Create a new experiment"
   ]
  },
  {
   "cell_type": "code",
   "execution_count": 1,
   "metadata": {},
   "outputs": [
    {
     "name": "stderr",
     "output_type": "stream",
     "text": [
      "2023/06/18 11:13:46 INFO mlflow.tracking.fluent: Experiment with name 'mlflow-model-training-iris' does not exist. Creating a new experiment.\n"
     ]
    },
    {
     "data": {
      "text/plain": [
       "<Experiment: artifact_location='/Users/dlri/Documents/TEACHING/mlruns/128870716038014623', creation_time=1687079626468, experiment_id='128870716038014623', last_update_time=1687079626468, lifecycle_stage='active', name='mlflow-model-training-iris', tags={}>"
      ]
     },
     "execution_count": 1,
     "metadata": {},
     "output_type": "execute_result"
    }
   ],
   "source": [
    "# This is a local tracking server. You can also use a remote tracking server. See https://mlflow.org/docs/latest/tracking.html for more details.\n",
    "# Remote tracking server will be simulated later\n",
    "\n",
    "# Uncomment if using the docker compose setup:\n",
    "# import os\n",
    "# os.environ[\"AWS_ACCESS_KEY_ID\"] = \"minio\"\n",
    "# os.environ[\"AWS_SECRET_ACCESS_KEY\"] = \"minio123\"\n",
    "# os.environ[\"MLFLOW_S3_ENDPOINT_URL\"] = f\"http://localhost:9000\"\n",
    "# os.environ[\"MYSQL_DATABASE\"] = \"mlflow_database\"\n",
    "# os.environ[\"MYSQL_USER\"] = \"mlflow_user\"\n",
    "# os.environ[\"MYSQL_PASSWORD\"] = \"mlflow\"\n",
    "# os.environ[\"MYSQL_ROOT_PASSWORD\"] = \"mysql\"\n",
    "\n",
    "\n",
    "\n",
    "import mlflow\n",
    "mlflow.set_tracking_uri(\"http://localhost:5000\")\n",
    "mlflow.set_experiment(\"mlflow-model-training-iris\")"
   ]
  },
  {
   "attachments": {},
   "cell_type": "markdown",
   "metadata": {},
   "source": [
    "## 4. Log a model experiment result"
   ]
  },
  {
   "cell_type": "code",
   "execution_count": 2,
   "metadata": {},
   "outputs": [
    {
     "name": "stderr",
     "output_type": "stream",
     "text": [
      "/Users/dlri/Documents/TEACHING/.venv/lib/python3.11/site-packages/_distutils_hack/__init__.py:33: UserWarning: Setuptools is replacing distutils.\n",
      "  warnings.warn(\"Setuptools is replacing distutils.\")\n"
     ]
    }
   ],
   "source": [
    "# Lets first create a simple function to train a model\n",
    "# The function will receive a set of hyperparameters and return the model and the accuracy\n",
    "import datetime\n",
    "\n",
    "def get_data():\n",
    "    from sklearn import datasets\n",
    "\n",
    "    # X, y = datasets.make_classification(n_samples=1000, n_features=4, n_informative=4, n_redundant=0, n_classes=3, n_clusters_per_class=1, class_sep=0.5, random_state=40)\n",
    "    # use iris dataset\n",
    "    X, y = datasets.load_iris(return_X_y=True)\n",
    "    return X, y\n",
    "\n",
    "def train_model(hyperparameters):\n",
    "    from sklearn.ensemble import RandomForestClassifier\n",
    "    from sklearn.metrics import accuracy_score\n",
    "    from sklearn.model_selection import train_test_split\n",
    "    import mlflow.sklearn\n",
    "    X, y = get_data()\n",
    "    X_train, X_test, y_train, y_test = train_test_split(X, y, test_size=0.2, random_state=40)\n",
    "    model = RandomForestClassifier(**hyperparameters)\n",
    "    model.fit(X_train, y_train)\n",
    "    y_pred = model.predict(X_test)\n",
    "    accuracy = accuracy_score(y_pred, y_test)\n",
    "    return model, accuracy\n",
    "\n",
    "# Now lets train a model with some hyperparameters\n",
    "hyperparameters = {\"n_estimators\": 10, \"max_depth\": 5}\n",
    "model, accuracy = train_model(hyperparameters)\n",
    "\n",
    "# Now lets log the model and the accuracy\n",
    "date = datetime.datetime.now().strftime(\"%Y-%m-%d-%H-%M-%S\")\n",
    "with mlflow.start_run(run_name=f\"mlflow-training-{date}\"):\n",
    "    \n",
    "    # Hyperparameters are logged as parameters\n",
    "    for hyperparameter, value in hyperparameters.items():\n",
    "        mlflow.log_param(hyperparameter, value)\n",
    "    \n",
    "    # Accuracy is logged as a metric \n",
    "    mlflow.log_metric(\"accuracy\", accuracy)\n",
    "    \n",
    "    # Model is logged as an artifact\n",
    "    mlflow.sklearn.log_model(model, \"model\")"
   ]
  },
  {
   "attachments": {},
   "cell_type": "markdown",
   "metadata": {},
   "source": [
    "## 5. Run a hyperparameter search and log the results"
   ]
  },
  {
   "cell_type": "code",
   "execution_count": 5,
   "metadata": {},
   "outputs": [
    {
     "name": "stdout",
     "output_type": "stream",
     "text": [
      "Collecting optuna\n",
      "  Downloading optuna-3.2.0-py3-none-any.whl (390 kB)\n",
      "\u001b[2K     \u001b[90m━━━━━━━━━━━━━━━━━━━━━━━━━━━━━━━━━━━━━━━\u001b[0m \u001b[32m390.6/390.6 kB\u001b[0m \u001b[31m7.5 MB/s\u001b[0m eta \u001b[36m0:00:00\u001b[0ma \u001b[36m0:00:01\u001b[0m\n",
      "\u001b[?25hRequirement already satisfied: alembic>=1.5.0 in /Users/dlri/Documents/TEACHING/.venv/lib/python3.11/site-packages (from optuna) (1.11.1)\n",
      "Collecting cmaes>=0.9.1 (from optuna)\n",
      "  Downloading cmaes-0.9.1-py3-none-any.whl (21 kB)\n",
      "Collecting colorlog (from optuna)\n",
      "  Downloading colorlog-6.7.0-py2.py3-none-any.whl (11 kB)\n",
      "Requirement already satisfied: numpy in /Users/dlri/Documents/TEACHING/.venv/lib/python3.11/site-packages (from optuna) (1.25.0)\n",
      "Requirement already satisfied: packaging>=20.0 in /Users/dlri/Documents/TEACHING/.venv/lib/python3.11/site-packages (from optuna) (23.1)\n",
      "Requirement already satisfied: sqlalchemy>=1.3.0 in /Users/dlri/Documents/TEACHING/.venv/lib/python3.11/site-packages (from optuna) (2.0.16)\n",
      "Collecting tqdm (from optuna)\n",
      "  Using cached tqdm-4.65.0-py3-none-any.whl (77 kB)\n",
      "Requirement already satisfied: PyYAML in /Users/dlri/Documents/TEACHING/.venv/lib/python3.11/site-packages (from optuna) (6.0)\n",
      "Requirement already satisfied: Mako in /Users/dlri/Documents/TEACHING/.venv/lib/python3.11/site-packages (from alembic>=1.5.0->optuna) (1.2.4)\n",
      "Requirement already satisfied: typing-extensions>=4 in /Users/dlri/Documents/TEACHING/.venv/lib/python3.11/site-packages (from alembic>=1.5.0->optuna) (4.6.3)\n",
      "Requirement already satisfied: MarkupSafe>=0.9.2 in /Users/dlri/Documents/TEACHING/.venv/lib/python3.11/site-packages (from Mako->alembic>=1.5.0->optuna) (2.1.3)\n",
      "Installing collected packages: tqdm, colorlog, cmaes, optuna\n",
      "Successfully installed cmaes-0.9.1 colorlog-6.7.0 optuna-3.2.0 tqdm-4.65.0\n"
     ]
    }
   ],
   "source": [
    "!pip install optuna==3.2.0"
   ]
  },
  {
   "cell_type": "code",
   "execution_count": 6,
   "metadata": {},
   "outputs": [
    {
     "name": "stderr",
     "output_type": "stream",
     "text": [
      "/Users/dlri/Documents/TEACHING/.venv/lib/python3.11/site-packages/tqdm/auto.py:21: TqdmWarning: IProgress not found. Please update jupyter and ipywidgets. See https://ipywidgets.readthedocs.io/en/stable/user_install.html\n",
      "  from .autonotebook import tqdm as notebook_tqdm\n",
      "[I 2023-06-18 11:17:00,931] A new study created in memory with name: no-name-34deb260-3248-4052-9810-007ea5c557e1\n",
      "[I 2023-06-18 11:17:01,124] Trial 0 finished with value: 0.9533333333333334 and parameters: {'n_estimators': 61, 'max_depth': 5, 'min_samples_split': 2, 'min_samples_leaf': 4, 'max_features': 0.7382873729535502}. Best is trial 0 with value: 0.9533333333333334.\n",
      "[I 2023-06-18 11:17:01,381] Trial 1 finished with value: 0.9666666666666668 and parameters: {'n_estimators': 97, 'max_depth': 10, 'min_samples_split': 19, 'min_samples_leaf': 1, 'max_features': 0.6576244310627135}. Best is trial 0 with value: 0.9533333333333334.\n",
      "[I 2023-06-18 11:17:01,500] Trial 2 finished with value: 0.9533333333333334 and parameters: {'n_estimators': 31, 'max_depth': 5, 'min_samples_split': 11, 'min_samples_leaf': 2, 'max_features': 0.9816136942568103}. Best is trial 0 with value: 0.9533333333333334.\n",
      "[I 2023-06-18 11:17:01,655] Trial 3 finished with value: 0.9666666666666668 and parameters: {'n_estimators': 49, 'max_depth': 8, 'min_samples_split': 10, 'min_samples_leaf': 8, 'max_features': 0.5720915030152138}. Best is trial 0 with value: 0.9533333333333334.\n",
      "[I 2023-06-18 11:17:01,815] Trial 4 finished with value: 0.9533333333333334 and parameters: {'n_estimators': 52, 'max_depth': 7, 'min_samples_split': 9, 'min_samples_leaf': 2, 'max_features': 0.3970691739281389}. Best is trial 0 with value: 0.9533333333333334.\n",
      "[I 2023-06-18 11:17:02,016] Trial 5 finished with value: 0.9466666666666665 and parameters: {'n_estimators': 76, 'max_depth': 10, 'min_samples_split': 11, 'min_samples_leaf': 19, 'max_features': 0.6087585070916399}. Best is trial 5 with value: 0.9466666666666665.\n",
      "[I 2023-06-18 11:17:02,085] Trial 6 finished with value: 0.9466666666666667 and parameters: {'n_estimators': 3, 'max_depth': 6, 'min_samples_split': 20, 'min_samples_leaf': 18, 'max_features': 0.8898180633226505}. Best is trial 5 with value: 0.9466666666666665.\n",
      "[I 2023-06-18 11:17:02,354] Trial 7 finished with value: 0.9466666666666667 and parameters: {'n_estimators': 94, 'max_depth': 3, 'min_samples_split': 7, 'min_samples_leaf': 14, 'max_features': 0.35570041880323955}. Best is trial 5 with value: 0.9466666666666665.\n",
      "[I 2023-06-18 11:17:02,488] Trial 8 finished with value: 0.9533333333333334 and parameters: {'n_estimators': 29, 'max_depth': 5, 'min_samples_split': 17, 'min_samples_leaf': 14, 'max_features': 0.7169300821573013}. Best is trial 5 with value: 0.9466666666666665.\n",
      "[I 2023-06-18 11:17:02,688] Trial 9 finished with value: 0.9466666666666665 and parameters: {'n_estimators': 71, 'max_depth': 3, 'min_samples_split': 15, 'min_samples_leaf': 5, 'max_features': 0.652180043349571}. Best is trial 5 with value: 0.9466666666666665.\n",
      "[I 2023-06-18 11:17:03,033] Trial 10 finished with value: 0.9333333333333332 and parameters: {'n_estimators': 77, 'max_depth': 10, 'min_samples_split': 5, 'min_samples_leaf': 19, 'max_features': 0.10412735780749593}. Best is trial 10 with value: 0.9333333333333332.\n",
      "[I 2023-06-18 11:17:03,249] Trial 11 finished with value: 0.9533333333333334 and parameters: {'n_estimators': 76, 'max_depth': 10, 'min_samples_split': 4, 'min_samples_leaf': 20, 'max_features': 0.11382488101870467}. Best is trial 10 with value: 0.9333333333333332.\n",
      "[I 2023-06-18 11:17:03,510] Trial 12 finished with value: 0.9533333333333334 and parameters: {'n_estimators': 80, 'max_depth': 9, 'min_samples_split': 14, 'min_samples_leaf': 16, 'max_features': 0.10555244872202246}. Best is trial 10 with value: 0.9333333333333332.\n",
      "[I 2023-06-18 11:17:03,741] Trial 13 finished with value: 0.9533333333333334 and parameters: {'n_estimators': 83, 'max_depth': 8, 'min_samples_split': 6, 'min_samples_leaf': 20, 'max_features': 0.44114773714917915}. Best is trial 10 with value: 0.9333333333333332.\n",
      "[I 2023-06-18 11:17:03,931] Trial 14 finished with value: 0.9466666666666667 and parameters: {'n_estimators': 65, 'max_depth': 10, 'min_samples_split': 13, 'min_samples_leaf': 12, 'max_features': 0.24752463579221173}. Best is trial 10 with value: 0.9333333333333332.\n",
      "[I 2023-06-18 11:17:04,176] Trial 15 finished with value: 0.9533333333333334 and parameters: {'n_estimators': 88, 'max_depth': 8, 'min_samples_split': 8, 'min_samples_leaf': 17, 'max_features': 0.48742371763106207}. Best is trial 10 with value: 0.9333333333333332.\n",
      "[I 2023-06-18 11:17:04,353] Trial 16 finished with value: 0.9400000000000001 and parameters: {'n_estimators': 46, 'max_depth': 9, 'min_samples_split': 5, 'min_samples_leaf': 9, 'max_features': 0.2812107079346702}. Best is trial 10 with value: 0.9333333333333332.\n",
      "[I 2023-06-18 11:17:04,502] Trial 17 finished with value: 0.9399999999999998 and parameters: {'n_estimators': 42, 'max_depth': 9, 'min_samples_split': 4, 'min_samples_leaf': 9, 'max_features': 0.2417581618855446}. Best is trial 10 with value: 0.9333333333333332.\n",
      "[I 2023-06-18 11:17:04,628] Trial 18 finished with value: 0.9466666666666667 and parameters: {'n_estimators': 31, 'max_depth': 7, 'min_samples_split': 2, 'min_samples_leaf': 11, 'max_features': 0.18569890695109892}. Best is trial 10 with value: 0.9333333333333332.\n",
      "[I 2023-06-18 11:17:04,719] Trial 19 finished with value: 0.9466666666666667 and parameters: {'n_estimators': 16, 'max_depth': 9, 'min_samples_split': 4, 'min_samples_leaf': 7, 'max_features': 0.28351914219643504}. Best is trial 10 with value: 0.9333333333333332.\n",
      "[I 2023-06-18 11:17:04,971] Trial 20 finished with value: 0.9266666666666665 and parameters: {'n_estimators': 42, 'max_depth': 9, 'min_samples_split': 3, 'min_samples_leaf': 13, 'max_features': 0.1850028354827224}. Best is trial 20 with value: 0.9266666666666665.\n",
      "[I 2023-06-18 11:17:05,121] Trial 21 finished with value: 0.9466666666666667 and parameters: {'n_estimators': 45, 'max_depth': 9, 'min_samples_split': 2, 'min_samples_leaf': 14, 'max_features': 0.1820520588180556}. Best is trial 20 with value: 0.9266666666666665.\n",
      "[I 2023-06-18 11:17:05,260] Trial 22 finished with value: 0.9533333333333334 and parameters: {'n_estimators': 39, 'max_depth': 7, 'min_samples_split': 4, 'min_samples_leaf': 10, 'max_features': 0.18326482485716364}. Best is trial 20 with value: 0.9266666666666665.\n",
      "[I 2023-06-18 11:17:05,432] Trial 23 finished with value: 0.9466666666666667 and parameters: {'n_estimators': 56, 'max_depth': 8, 'min_samples_split': 6, 'min_samples_leaf': 12, 'max_features': 0.33721188758912135}. Best is trial 20 with value: 0.9266666666666665.\n",
      "[I 2023-06-18 11:17:05,539] Trial 24 finished with value: 0.9533333333333334 and parameters: {'n_estimators': 23, 'max_depth': 9, 'min_samples_split': 3, 'min_samples_leaf': 7, 'max_features': 0.2326438765775753}. Best is trial 20 with value: 0.9266666666666665.\n",
      "[I 2023-06-18 11:17:05,683] Trial 25 finished with value: 0.96 and parameters: {'n_estimators': 41, 'max_depth': 10, 'min_samples_split': 7, 'min_samples_leaf': 15, 'max_features': 0.1136403661095833}. Best is trial 20 with value: 0.9266666666666665.\n",
      "[I 2023-06-18 11:17:05,877] Trial 26 finished with value: 0.96 and parameters: {'n_estimators': 65, 'max_depth': 2, 'min_samples_split': 6, 'min_samples_leaf': 11, 'max_features': 0.31698817058573436}. Best is trial 20 with value: 0.9266666666666665.\n",
      "[I 2023-06-18 11:17:06,012] Trial 27 finished with value: 0.9533333333333334 and parameters: {'n_estimators': 37, 'max_depth': 6, 'min_samples_split': 4, 'min_samples_leaf': 5, 'max_features': 0.21504490736563414}. Best is trial 20 with value: 0.9266666666666665.\n",
      "[I 2023-06-18 11:17:06,189] Trial 28 finished with value: 0.9466666666666665 and parameters: {'n_estimators': 56, 'max_depth': 9, 'min_samples_split': 5, 'min_samples_leaf': 17, 'max_features': 0.16268872052978942}. Best is trial 20 with value: 0.9266666666666665.\n",
      "[I 2023-06-18 11:17:06,291] Trial 29 finished with value: 0.9533333333333334 and parameters: {'n_estimators': 19, 'max_depth': 8, 'min_samples_split': 3, 'min_samples_leaf': 13, 'max_features': 0.26903711738354685}. Best is trial 20 with value: 0.9266666666666665.\n",
      "[I 2023-06-18 11:17:06,370] Trial 30 finished with value: 0.9666666666666668 and parameters: {'n_estimators': 9, 'max_depth': 6, 'min_samples_split': 2, 'min_samples_leaf': 8, 'max_features': 0.3856924143480275}. Best is trial 20 with value: 0.9266666666666665.\n",
      "[I 2023-06-18 11:17:06,532] Trial 31 finished with value: 0.9466666666666665 and parameters: {'n_estimators': 47, 'max_depth': 9, 'min_samples_split': 5, 'min_samples_leaf': 9, 'max_features': 0.2823224386180746}. Best is trial 20 with value: 0.9266666666666665.\n",
      "[I 2023-06-18 11:17:06,715] Trial 32 finished with value: 0.9466666666666667 and parameters: {'n_estimators': 59, 'max_depth': 10, 'min_samples_split': 8, 'min_samples_leaf': 10, 'max_features': 0.22992315899647223}. Best is trial 20 with value: 0.9266666666666665.\n",
      "[I 2023-06-18 11:17:06,938] Trial 33 finished with value: 0.9533333333333334 and parameters: {'n_estimators': 38, 'max_depth': 9, 'min_samples_split': 5, 'min_samples_leaf': 6, 'max_features': 0.14323605430306197}. Best is trial 20 with value: 0.9266666666666665.\n",
      "[I 2023-06-18 11:17:07,140] Trial 34 finished with value: 0.9533333333333334 and parameters: {'n_estimators': 52, 'max_depth': 10, 'min_samples_split': 3, 'min_samples_leaf': 9, 'max_features': 0.31835919688216746}. Best is trial 20 with value: 0.9266666666666665.\n",
      "[I 2023-06-18 11:17:07,259] Trial 35 finished with value: 0.9533333333333334 and parameters: {'n_estimators': 26, 'max_depth': 8, 'min_samples_split': 9, 'min_samples_leaf': 3, 'max_features': 0.17024009176396562}. Best is trial 20 with value: 0.9266666666666665.\n",
      "[I 2023-06-18 11:17:07,395] Trial 36 finished with value: 0.9533333333333334 and parameters: {'n_estimators': 35, 'max_depth': 7, 'min_samples_split': 11, 'min_samples_leaf': 9, 'max_features': 0.10030696247084209}. Best is trial 20 with value: 0.9266666666666665.\n",
      "[I 2023-06-18 11:17:07,555] Trial 37 finished with value: 0.9466666666666665 and parameters: {'n_estimators': 45, 'max_depth': 10, 'min_samples_split': 7, 'min_samples_leaf': 12, 'max_features': 0.22200930963113258}. Best is trial 20 with value: 0.9266666666666665.\n",
      "[I 2023-06-18 11:17:07,721] Trial 38 finished with value: 0.9333333333333332 and parameters: {'n_estimators': 51, 'max_depth': 9, 'min_samples_split': 9, 'min_samples_leaf': 7, 'max_features': 0.293626607515863}. Best is trial 20 with value: 0.9266666666666665.\n",
      "[I 2023-06-18 11:17:07,917] Trial 39 finished with value: 0.9666666666666668 and parameters: {'n_estimators': 68, 'max_depth': 8, 'min_samples_split': 10, 'min_samples_leaf': 4, 'max_features': 0.3820101950556761}. Best is trial 20 with value: 0.9266666666666665.\n",
      "[I 2023-06-18 11:17:08,085] Trial 40 finished with value: 0.9466666666666665 and parameters: {'n_estimators': 52, 'max_depth': 4, 'min_samples_split': 12, 'min_samples_leaf': 1, 'max_features': 0.4609528286959447}. Best is trial 20 with value: 0.9266666666666665.\n",
      "[I 2023-06-18 11:17:08,353] Trial 41 finished with value: 0.96 and parameters: {'n_estimators': 99, 'max_depth': 9, 'min_samples_split': 5, 'min_samples_leaf': 7, 'max_features': 0.2917886594553508}. Best is trial 20 with value: 0.9266666666666665.\n",
      "[I 2023-06-18 11:17:08,502] Trial 42 finished with value: 0.9466666666666667 and parameters: {'n_estimators': 42, 'max_depth': 9, 'min_samples_split': 8, 'min_samples_leaf': 8, 'max_features': 0.25167952341606675}. Best is trial 20 with value: 0.9266666666666665.\n",
      "[I 2023-06-18 11:17:08,635] Trial 43 finished with value: 0.9533333333333334 and parameters: {'n_estimators': 34, 'max_depth': 10, 'min_samples_split': 3, 'min_samples_leaf': 6, 'max_features': 0.14803312561984364}. Best is trial 20 with value: 0.9266666666666665.\n",
      "[I 2023-06-18 11:17:08,802] Trial 44 finished with value: 0.9466666666666667 and parameters: {'n_estimators': 49, 'max_depth': 10, 'min_samples_split': 18, 'min_samples_leaf': 19, 'max_features': 0.3490261184914474}. Best is trial 20 with value: 0.9266666666666665.\n",
      "[I 2023-06-18 11:17:09,158] Trial 45 finished with value: 0.9466666666666667 and parameters: {'n_estimators': 61, 'max_depth': 9, 'min_samples_split': 6, 'min_samples_leaf': 10, 'max_features': 0.19837268205726533}. Best is trial 20 with value: 0.9266666666666665.\n",
      "[I 2023-06-18 11:17:09,394] Trial 46 finished with value: 0.9533333333333334 and parameters: {'n_estimators': 85, 'max_depth': 8, 'min_samples_split': 9, 'min_samples_leaf': 13, 'max_features': 0.14842314077073737}. Best is trial 20 with value: 0.9266666666666665.\n",
      "[I 2023-06-18 11:17:09,608] Trial 47 finished with value: 0.9466666666666665 and parameters: {'n_estimators': 75, 'max_depth': 7, 'min_samples_split': 10, 'min_samples_leaf': 6, 'max_features': 0.2525751945290171}. Best is trial 20 with value: 0.9266666666666665.\n",
      "[I 2023-06-18 11:17:09,856] Trial 48 finished with value: 0.9466666666666665 and parameters: {'n_estimators': 92, 'max_depth': 10, 'min_samples_split': 4, 'min_samples_leaf': 16, 'max_features': 0.2974102244713872}. Best is trial 20 with value: 0.9266666666666665.\n",
      "[I 2023-06-18 11:17:10,008] Trial 49 finished with value: 0.9533333333333334 and parameters: {'n_estimators': 43, 'max_depth': 5, 'min_samples_split': 7, 'min_samples_leaf': 9, 'max_features': 0.20599518764427582}. Best is trial 20 with value: 0.9266666666666665.\n"
     ]
    }
   ],
   "source": [
    "\n",
    "import optuna\n",
    "import mlflow\n",
    "from sklearn.ensemble import RandomForestClassifier\n",
    "from sklearn.model_selection import cross_val_score\n",
    "\n",
    "X, y = get_data()\n",
    "\n",
    "def optimize_rf(trial):\n",
    "    \n",
    "    with mlflow.start_run(run_name=f\"optuna-hp-{trial.number}-{datetime.datetime.now().strftime('%Y-%m-%d-%H-%M-%S')}\"):\n",
    "        # Set the hyperparameter values that we want to optimize\n",
    "        n_estimators = trial.suggest_int('n_estimators', 1, 100)\n",
    "        max_depth = trial.suggest_int('max_depth', 2, 10)\n",
    "        min_samples_split = trial.suggest_int('min_samples_split', 2, 20)\n",
    "        min_samples_leaf = trial.suggest_int('min_samples_leaf', 1, 20)\n",
    "        max_features = trial.suggest_float('max_features', 0.1, 1.0)\n",
    "        \n",
    "        \n",
    "        # Create a random forest classifier using the suggested hyperparameters\n",
    "        rf = RandomForestClassifier(n_estimators=n_estimators, max_depth=max_depth,\n",
    "                                    min_samples_split=min_samples_split,\n",
    "                                    min_samples_leaf=min_samples_leaf,\n",
    "                                    max_features=max_features)\n",
    "        \n",
    "        # Use cross-validation to evaluate the performance of the classifier\n",
    "        scores = cross_val_score(rf, X, y, cv=5)\n",
    "        \n",
    "        # Log the hyperparameters and cross-validation scores to MLflow\n",
    "        mlflow.log_param('n_estimators', n_estimators)\n",
    "        mlflow.log_param('max_depth', max_depth)\n",
    "        mlflow.log_param('min_samples_split', min_samples_split)\n",
    "        mlflow.log_param('min_samples_leaf', min_samples_leaf)\n",
    "        mlflow.log_param('max_features', max_features)\n",
    "        mlflow.log_metric('mean_cv_score', scores.mean())\n",
    "    \n",
    "    # Return the mean of the cross-validation scores as the objective value\n",
    "    return scores.mean()\n",
    "\n",
    "# Create an Optuna study\n",
    "study = optuna.create_study()\n",
    "\n",
    "# Run the optimization loop\n",
    "study.optimize(optimize_rf, n_trials=50)\n",
    "\n",
    "# Get the best hyperparameter values\n",
    "best_params = study.best_params"
   ]
  },
  {
   "attachments": {},
   "cell_type": "markdown",
   "metadata": {},
   "source": [
    "## 6. Register a model version using the best hyperparameters"
   ]
  },
  {
   "cell_type": "code",
   "execution_count": 13,
   "metadata": {},
   "outputs": [
    {
     "name": "stderr",
     "output_type": "stream",
     "text": [
      "Registered model 'random_forest_model' already exists. Creating a new version of this model...\n",
      "2023/06/18 11:29:43 INFO mlflow.tracking._model_registry.client: Waiting up to 300 seconds for model version to finish creation. Model name: random_forest_model, version 5\n",
      "Created version '5' of model 'random_forest_model'.\n"
     ]
    }
   ],
   "source": [
    "from mlflow.models.signature import infer_signature\n",
    "\n",
    "with mlflow.start_run(run_name=f\"optuna-hp-final\"):\n",
    "    # Create the final model using the best hyperparameters\n",
    "    final_model = RandomForestClassifier(**best_params)\n",
    "\n",
    "    # Train the final model on the entire dataset\n",
    "    final_model.fit(X, y)\n",
    "\n",
    "    # Infer the model signature\n",
    "    signature = infer_signature(X, final_model.predict(X))\n",
    "\n",
    "    # Log the model to the \"Models\" section\n",
    "    mlflow.sklearn.log_model(final_model, \"random_forest_model\", registered_model_name=\"random_forest_model\", signature=signature)"
   ]
  },
  {
   "attachments": {},
   "cell_type": "markdown",
   "metadata": {},
   "source": [
    "## 7. Retrieve a model version and use it for prediction"
   ]
  },
  {
   "cell_type": "code",
   "execution_count": 9,
   "metadata": {},
   "outputs": [
    {
     "name": "stderr",
     "output_type": "stream",
     "text": [
      "2023/06/18 11:22:12 WARNING mlflow.pyfunc: Detected one or more mismatches between the model's dependencies and the current Python environment:\n",
      " - mlflow (current: 2.4.1, required: mlflow==2.4)\n",
      "To fix the mismatches, call `mlflow.pyfunc.get_model_dependencies(model_uri)` to fetch the model's environment and install dependencies using the resulting environment file.\n"
     ]
    },
    {
     "data": {
      "text/plain": [
       "array([0, 0, 0, 0, 0])"
      ]
     },
     "execution_count": 9,
     "metadata": {},
     "output_type": "execute_result"
    }
   ],
   "source": [
    "import mlflow.pyfunc\n",
    "\n",
    "model_name = \"random_forest_model\"\n",
    "model_version = 1\n",
    "\n",
    "model = mlflow.pyfunc.load_model(\n",
    "    model_uri=f\"models:/{model_name}/{model_version}\"\n",
    ")\n",
    "\n",
    "model.predict(X[:5])"
   ]
  }
 ],
 "metadata": {
  "kernelspec": {
   "display_name": "productionalization",
   "language": "python",
   "name": "python3"
  },
  "language_info": {
   "codemirror_mode": {
    "name": "ipython",
    "version": 3
   },
   "file_extension": ".py",
   "mimetype": "text/x-python",
   "name": "python",
   "nbconvert_exporter": "python",
   "pygments_lexer": "ipython3",
   "version": "3.11.3"
  },
  "orig_nbformat": 4,
  "vscode": {
   "interpreter": {
    "hash": "5ed29f95de7cc8ac0f18a32ccae5fbddd3dba9010e060d505f2ebe31fc64f080"
   }
  }
 },
 "nbformat": 4,
 "nbformat_minor": 2
}
