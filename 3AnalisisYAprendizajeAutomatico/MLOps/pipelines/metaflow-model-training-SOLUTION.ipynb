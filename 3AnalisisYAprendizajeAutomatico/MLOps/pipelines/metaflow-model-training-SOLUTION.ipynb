{
 "cells": [
  {
   "attachments": {},
   "cell_type": "markdown",
   "metadata": {},
   "source": [
    "# Pipelines: Metaflow model training"
   ]
  },
  {
   "attachments": {},
   "cell_type": "markdown",
   "metadata": {},
   "source": [
    "##  Install dependencies"
   ]
  },
  {
   "cell_type": "code",
   "execution_count": 1,
   "metadata": {},
   "outputs": [
    {
     "name": "stdout",
     "output_type": "stream",
     "text": [
      "Requirement already satisfied: metaflow==2.7.22 in /Users/dlri/Documents/TEACHING/.venv/lib/python3.11/site-packages (2.7.22)\n",
      "Requirement already satisfied: requests in /Users/dlri/Documents/TEACHING/.venv/lib/python3.11/site-packages (from metaflow==2.7.22) (2.31.0)\n",
      "Requirement already satisfied: boto3 in /Users/dlri/Documents/TEACHING/.venv/lib/python3.11/site-packages (from metaflow==2.7.22) (1.26.155)\n",
      "Requirement already satisfied: pylint in /Users/dlri/Documents/TEACHING/.venv/lib/python3.11/site-packages (from metaflow==2.7.22) (2.17.4)\n",
      "Requirement already satisfied: botocore<1.30.0,>=1.29.155 in /Users/dlri/Documents/TEACHING/.venv/lib/python3.11/site-packages (from boto3->metaflow==2.7.22) (1.29.155)\n",
      "Requirement already satisfied: jmespath<2.0.0,>=0.7.1 in /Users/dlri/Documents/TEACHING/.venv/lib/python3.11/site-packages (from boto3->metaflow==2.7.22) (1.0.1)\n",
      "Requirement already satisfied: s3transfer<0.7.0,>=0.6.0 in /Users/dlri/Documents/TEACHING/.venv/lib/python3.11/site-packages (from boto3->metaflow==2.7.22) (0.6.1)\n",
      "Requirement already satisfied: platformdirs>=2.2.0 in /Users/dlri/Documents/TEACHING/.venv/lib/python3.11/site-packages (from pylint->metaflow==2.7.22) (3.6.0)\n",
      "Requirement already satisfied: astroid<=2.17.0-dev0,>=2.15.4 in /Users/dlri/Documents/TEACHING/.venv/lib/python3.11/site-packages (from pylint->metaflow==2.7.22) (2.15.5)\n",
      "Requirement already satisfied: isort<6,>=4.2.5 in /Users/dlri/Documents/TEACHING/.venv/lib/python3.11/site-packages (from pylint->metaflow==2.7.22) (5.12.0)\n",
      "Requirement already satisfied: mccabe<0.8,>=0.6 in /Users/dlri/Documents/TEACHING/.venv/lib/python3.11/site-packages (from pylint->metaflow==2.7.22) (0.7.0)\n",
      "Requirement already satisfied: tomlkit>=0.10.1 in /Users/dlri/Documents/TEACHING/.venv/lib/python3.11/site-packages (from pylint->metaflow==2.7.22) (0.11.8)\n",
      "Requirement already satisfied: dill>=0.3.6 in /Users/dlri/Documents/TEACHING/.venv/lib/python3.11/site-packages (from pylint->metaflow==2.7.22) (0.3.6)\n",
      "Requirement already satisfied: charset-normalizer<4,>=2 in /Users/dlri/Documents/TEACHING/.venv/lib/python3.11/site-packages (from requests->metaflow==2.7.22) (3.1.0)\n",
      "Requirement already satisfied: idna<4,>=2.5 in /Users/dlri/Documents/TEACHING/.venv/lib/python3.11/site-packages (from requests->metaflow==2.7.22) (3.4)\n",
      "Requirement already satisfied: urllib3<3,>=1.21.1 in /Users/dlri/Documents/TEACHING/.venv/lib/python3.11/site-packages (from requests->metaflow==2.7.22) (1.26.16)\n",
      "Requirement already satisfied: certifi>=2017.4.17 in /Users/dlri/Documents/TEACHING/.venv/lib/python3.11/site-packages (from requests->metaflow==2.7.22) (2023.5.7)\n",
      "Requirement already satisfied: lazy-object-proxy>=1.4.0 in /Users/dlri/Documents/TEACHING/.venv/lib/python3.11/site-packages (from astroid<=2.17.0-dev0,>=2.15.4->pylint->metaflow==2.7.22) (1.9.0)\n",
      "Requirement already satisfied: wrapt<2,>=1.14 in /Users/dlri/Documents/TEACHING/.venv/lib/python3.11/site-packages (from astroid<=2.17.0-dev0,>=2.15.4->pylint->metaflow==2.7.22) (1.15.0)\n",
      "Requirement already satisfied: python-dateutil<3.0.0,>=2.1 in /Users/dlri/Documents/TEACHING/.venv/lib/python3.11/site-packages (from botocore<1.30.0,>=1.29.155->boto3->metaflow==2.7.22) (2.8.2)\n",
      "Requirement already satisfied: six>=1.5 in /Users/dlri/Documents/TEACHING/.venv/lib/python3.11/site-packages (from python-dateutil<3.0.0,>=2.1->botocore<1.30.0,>=1.29.155->boto3->metaflow==2.7.22) (1.16.0)\n",
      "Requirement already satisfied: scikit-learn==1.2.1 in /Users/dlri/Documents/TEACHING/.venv/lib/python3.11/site-packages (1.2.1)\n",
      "Requirement already satisfied: numpy>=1.17.3 in /Users/dlri/Documents/TEACHING/.venv/lib/python3.11/site-packages (from scikit-learn==1.2.1) (1.24.2)\n",
      "Requirement already satisfied: scipy>=1.3.2 in /Users/dlri/Documents/TEACHING/.venv/lib/python3.11/site-packages (from scikit-learn==1.2.1) (1.10.1)\n",
      "Requirement already satisfied: joblib>=1.1.1 in /Users/dlri/Documents/TEACHING/.venv/lib/python3.11/site-packages (from scikit-learn==1.2.1) (1.2.0)\n",
      "Requirement already satisfied: threadpoolctl>=2.0.0 in /Users/dlri/Documents/TEACHING/.venv/lib/python3.11/site-packages (from scikit-learn==1.2.1) (3.1.0)\n",
      "Requirement already satisfied: pandas==1.5.3 in /Users/dlri/Documents/TEACHING/.venv/lib/python3.11/site-packages (1.5.3)\n",
      "Requirement already satisfied: python-dateutil>=2.8.1 in /Users/dlri/Documents/TEACHING/.venv/lib/python3.11/site-packages (from pandas==1.5.3) (2.8.2)\n",
      "Requirement already satisfied: pytz>=2020.1 in /Users/dlri/Documents/TEACHING/.venv/lib/python3.11/site-packages (from pandas==1.5.3) (2023.3)\n",
      "Requirement already satisfied: numpy>=1.21.0 in /Users/dlri/Documents/TEACHING/.venv/lib/python3.11/site-packages (from pandas==1.5.3) (1.24.2)\n",
      "Requirement already satisfied: six>=1.5 in /Users/dlri/Documents/TEACHING/.venv/lib/python3.11/site-packages (from python-dateutil>=2.8.1->pandas==1.5.3) (1.16.0)\n"
     ]
    }
   ],
   "source": [
    "!pip install metaflow==2.7.22\n",
    "!pip install scikit-learn==1.2.1\n",
    "!pip install pandas==1.5.3"
   ]
  },
  {
   "attachments": {},
   "cell_type": "markdown",
   "metadata": {},
   "source": [
    "## Set username"
   ]
  },
  {
   "cell_type": "code",
   "execution_count": 2,
   "metadata": {},
   "outputs": [],
   "source": [
    "# Set username for workflows\n",
    "import os\n",
    "os.environ[\"USERNAME\"] = \"daniel\""
   ]
  },
  {
   "cell_type": "code",
   "execution_count": 3,
   "metadata": {},
   "outputs": [
    {
     "name": "stdout",
     "output_type": "stream",
     "text": [
      "Writing metaflow_trainingflow.py\n"
     ]
    }
   ],
   "source": [
    "%%writefile metaflow_trainingflow.py\n",
    "from metaflow import FlowSpec, Parameter, step\n",
    "\n",
    "class TrainingFlow(FlowSpec):\n",
    "    # Define the parameters for the flow\n",
    "    max_depth = Parameter('max_depth', default=2, help='Max depth of the random forest classifier')\n",
    "    n_estimators = Parameter('n_estimators', default=100, help='Number of estimators for the random forest classifier')\n",
    "    random_state = Parameter('random_state', default=0, help='Random state for the random forest classifier')\n",
    "    \n",
    "    @step\n",
    "    def start(self):\n",
    "        # Start the flow\n",
    "        self.next(self.ingest_data)\n",
    "        \n",
    "    @step\n",
    "    def ingest_data(self):\n",
    "        from sklearn.datasets import load_iris\n",
    "    \n",
    "        # Load the iris dataset\n",
    "        iris = load_iris()\n",
    "        \n",
    "        #pylint: disable=no-member\n",
    "        self.X = iris.data\n",
    "        self.y = iris.target\n",
    "        #pylint: enable=no-member\n",
    "        \n",
    "        self.next(self.split_data)\n",
    "\n",
    "    @step\n",
    "    def split_data(self):\n",
    "        #Split the data into train and test\n",
    "        from sklearn.model_selection import train_test_split\n",
    "        self.X_train, self.X_test, self.y_train, self.y_test = train_test_split(self.X, self.y, test_size=0.2)\n",
    "        self.next(self.train)\n",
    "\n",
    "    @step\n",
    "    def train(self):\n",
    "        from sklearn.ensemble import RandomForestClassifier\n",
    "        # Train the model\n",
    "        self.clf = RandomForestClassifier(max_depth=self.max_depth, n_estimators=self.n_estimators, random_state=self.random_state)\n",
    "        self.clf.fit(self.X_train, self.y_train)\n",
    "        self.next(self.show_metrics)\n",
    "\n",
    "    @step\n",
    "    def show_metrics(self):\n",
    "        from sklearn.metrics import classification_report, confusion_matrix\n",
    "        # Print some metrics\n",
    "        y_pred = self.clf.predict(self.X_test)\n",
    "        print(confusion_matrix(self.y_test, y_pred))\n",
    "        print(classification_report(self.y_test, y_pred))\n",
    "        self.next(self.register_model)\n",
    "        \n",
    "    @step\n",
    "    def register_model(self):\n",
    "        # Save the model\n",
    "        import pickle\n",
    "        with open('model.pkl', 'wb') as f:\n",
    "            pickle.dump(self.clf, f)\n",
    "                 \n",
    "        self.next(self.end)\n",
    "        \n",
    "    @step\n",
    "    def end(self):\n",
    "        pass\n",
    "    \n",
    "if __name__ == '__main__':\n",
    "    TrainingFlow()"
   ]
  },
  {
   "cell_type": "code",
   "execution_count": 4,
   "metadata": {},
   "outputs": [
    {
     "name": "stdout",
     "output_type": "stream",
     "text": [
      "\u001b[35m\u001b[1mMetaflow 2.7.22\u001b[0m\u001b[35m\u001b[22m executing \u001b[0m\u001b[31m\u001b[1mTrainingFlow\u001b[0m\u001b[35m\u001b[22m\u001b[0m\u001b[35m\u001b[22m for \u001b[0m\u001b[31m\u001b[1muser:daniel\u001b[0m\u001b[35m\u001b[22m\u001b[K\u001b[0m\u001b[35m\u001b[22m\u001b[0m\n",
      "\u001b[35m\u001b[22mValidating your flow...\u001b[K\u001b[0m\u001b[35m\u001b[22m\u001b[0m\n",
      "\u001b[32m\u001b[1m    The graph looks good!\u001b[K\u001b[0m\u001b[32m\u001b[1m\u001b[0m\n",
      "\u001b[35m\u001b[22mRunning pylint...\u001b[K\u001b[0m\u001b[35m\u001b[22m\u001b[0m\n",
      "\u001b[32m\u001b[1m    Pylint is happy!\u001b[K\u001b[0m\u001b[32m\u001b[1m\u001b[0m\n",
      "\u001b[35m2023-06-18 12:05:40.804 \u001b[0m\u001b[1mWorkflow starting (run-id 1687082740786328):\u001b[0m\n",
      "\u001b[35m2023-06-18 12:05:40.812 \u001b[0m\u001b[32m[1687082740786328/start/1 (pid 52825)] \u001b[0m\u001b[1mTask is starting.\u001b[0m\n",
      "\u001b[35m2023-06-18 12:05:41.220 \u001b[0m\u001b[32m[1687082740786328/start/1 (pid 52825)] \u001b[0m\u001b[1mTask finished successfully.\u001b[0m\n",
      "\u001b[35m2023-06-18 12:05:41.230 \u001b[0m\u001b[32m[1687082740786328/ingest_data/2 (pid 52828)] \u001b[0m\u001b[1mTask is starting.\u001b[0m\n",
      "\u001b[35m2023-06-18 12:05:42.600 \u001b[0m\u001b[32m[1687082740786328/ingest_data/2 (pid 52828)] \u001b[0m\u001b[1mTask finished successfully.\u001b[0m\n",
      "\u001b[35m2023-06-18 12:05:42.611 \u001b[0m\u001b[32m[1687082740786328/split_data/3 (pid 52846)] \u001b[0m\u001b[1mTask is starting.\u001b[0m\n",
      "\u001b[35m2023-06-18 12:05:43.877 \u001b[0m\u001b[32m[1687082740786328/split_data/3 (pid 52846)] \u001b[0m\u001b[1mTask finished successfully.\u001b[0m\n",
      "\u001b[35m2023-06-18 12:05:43.885 \u001b[0m\u001b[32m[1687082740786328/train/4 (pid 52849)] \u001b[0m\u001b[1mTask is starting.\u001b[0m\n",
      "\u001b[35m2023-06-18 12:05:45.305 \u001b[0m\u001b[32m[1687082740786328/train/4 (pid 52849)] \u001b[0m\u001b[1mTask finished successfully.\u001b[0m\n",
      "\u001b[35m2023-06-18 12:05:45.315 \u001b[0m\u001b[32m[1687082740786328/show_metrics/5 (pid 52867)] \u001b[0m\u001b[1mTask is starting.\u001b[0m\n",
      "\u001b[35m2023-06-18 12:05:46.781 \u001b[0m\u001b[32m[1687082740786328/show_metrics/5 (pid 52867)] \u001b[0m\u001b[22m[[10  0  0]\u001b[0m\n",
      "\u001b[35m2023-06-18 12:05:46.783 \u001b[0m\u001b[32m[1687082740786328/show_metrics/5 (pid 52867)] \u001b[0m\u001b[22m[ 0 12  2]\u001b[0m\n",
      "\u001b[35m2023-06-18 12:05:46.783 \u001b[0m\u001b[32m[1687082740786328/show_metrics/5 (pid 52867)] \u001b[0m\u001b[22m[ 0  0  6]]\u001b[0m\n",
      "\u001b[35m2023-06-18 12:05:46.783 \u001b[0m\u001b[32m[1687082740786328/show_metrics/5 (pid 52867)] \u001b[0m\u001b[22mprecision    recall  f1-score   support\u001b[0m\n",
      "\u001b[35m2023-06-18 12:05:46.863 \u001b[0m\u001b[32m[1687082740786328/show_metrics/5 (pid 52867)] \u001b[0m\u001b[22m\u001b[0m\n",
      "\u001b[35m2023-06-18 12:05:46.863 \u001b[0m\u001b[32m[1687082740786328/show_metrics/5 (pid 52867)] \u001b[0m\u001b[22m0       1.00      1.00      1.00        10\u001b[0m\n",
      "\u001b[35m2023-06-18 12:05:46.863 \u001b[0m\u001b[32m[1687082740786328/show_metrics/5 (pid 52867)] \u001b[0m\u001b[22m1       1.00      0.86      0.92        14\u001b[0m\n",
      "\u001b[35m2023-06-18 12:05:46.863 \u001b[0m\u001b[32m[1687082740786328/show_metrics/5 (pid 52867)] \u001b[0m\u001b[22m2       0.75      1.00      0.86         6\u001b[0m\n",
      "\u001b[35m2023-06-18 12:05:46.863 \u001b[0m\u001b[32m[1687082740786328/show_metrics/5 (pid 52867)] \u001b[0m\u001b[22m\u001b[0m\n",
      "\u001b[35m2023-06-18 12:05:46.863 \u001b[0m\u001b[32m[1687082740786328/show_metrics/5 (pid 52867)] \u001b[0m\u001b[22maccuracy                           0.93        30\u001b[0m\n",
      "\u001b[35m2023-06-18 12:05:46.863 \u001b[0m\u001b[32m[1687082740786328/show_metrics/5 (pid 52867)] \u001b[0m\u001b[22mmacro avg       0.92      0.95      0.93        30\u001b[0m\n",
      "\u001b[35m2023-06-18 12:05:46.863 \u001b[0m\u001b[32m[1687082740786328/show_metrics/5 (pid 52867)] \u001b[0m\u001b[22mweighted avg       0.95      0.93      0.94        30\u001b[0m\n",
      "\u001b[35m2023-06-18 12:05:46.863 \u001b[0m\u001b[32m[1687082740786328/show_metrics/5 (pid 52867)] \u001b[0m\u001b[22m\u001b[0m\n",
      "\u001b[35m2023-06-18 12:05:46.866 \u001b[0m\u001b[32m[1687082740786328/show_metrics/5 (pid 52867)] \u001b[0m\u001b[1mTask finished successfully.\u001b[0m\n",
      "\u001b[35m2023-06-18 12:05:46.876 \u001b[0m\u001b[32m[1687082740786328/register_model/6 (pid 52885)] \u001b[0m\u001b[1mTask is starting.\u001b[0m\n",
      "\u001b[35m2023-06-18 12:05:48.212 \u001b[0m\u001b[32m[1687082740786328/register_model/6 (pid 52885)] \u001b[0m\u001b[1mTask finished successfully.\u001b[0m\n",
      "\u001b[35m2023-06-18 12:05:48.225 \u001b[0m\u001b[32m[1687082740786328/end/7 (pid 52888)] \u001b[0m\u001b[1mTask is starting.\u001b[0m\n",
      "\u001b[35m2023-06-18 12:05:48.620 \u001b[0m\u001b[32m[1687082740786328/end/7 (pid 52888)] \u001b[0m\u001b[1mTask finished successfully.\u001b[0m\n",
      "\u001b[35m2023-06-18 12:05:48.621 \u001b[0m\u001b[1mDone!\u001b[0m\n"
     ]
    }
   ],
   "source": [
    "!python metaflow_trainingflow.py run --max_depth 2 --n_estimators 100 --random_state 0"
   ]
  }
 ],
 "metadata": {
  "kernelspec": {
   "display_name": "productionalization",
   "language": "python",
   "name": "python3"
  },
  "language_info": {
   "codemirror_mode": {
    "name": "ipython",
    "version": 3
   },
   "file_extension": ".py",
   "mimetype": "text/x-python",
   "name": "python",
   "nbconvert_exporter": "python",
   "pygments_lexer": "ipython3",
   "version": "3.11.3"
  },
  "orig_nbformat": 4,
  "vscode": {
   "interpreter": {
    "hash": "5ed29f95de7cc8ac0f18a32ccae5fbddd3dba9010e060d505f2ebe31fc64f080"
   }
  }
 },
 "nbformat": 4,
 "nbformat_minor": 2
}
